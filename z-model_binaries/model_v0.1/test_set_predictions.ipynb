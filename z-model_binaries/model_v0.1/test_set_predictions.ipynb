{
 "cells": [
  {
   "cell_type": "code",
   "execution_count": 1,
   "id": "fc828e5b",
   "metadata": {},
   "outputs": [],
   "source": [
    "######## Find Optimal Decision Boundary Threshold for Models\n",
    "\n",
    "# Loads model's weights\n",
    "# Using validation dataset, find optimal threshold\n",
    "# Test final accuracy on test dataset"
   ]
  },
  {
   "cell_type": "markdown",
   "id": "6b68658b",
   "metadata": {},
   "source": [
    "Import All Required Modules"
   ]
  },
  {
   "cell_type": "code",
   "execution_count": 1,
   "id": "251a0e8a-b944-4323-8731-207322906548",
   "metadata": {
    "collapsed": true,
    "jupyter": {
     "outputs_hidden": true
    }
   },
   "outputs": [
    {
     "name": "stdout",
     "output_type": "stream",
     "text": [
      "# === STEP 0: Imports: Starting ...\n"
     ]
    },
    {
     "name": "stderr",
     "output_type": "stream",
     "text": [
      "2025-01-21 16:19:38.319851: I tensorflow/core/platform/cpu_feature_guard.cc:182] This TensorFlow binary is optimized to use available CPU instructions in performance-critical operations.\n",
      "To enable the following instructions: AVX2 FMA, in other operations, rebuild TensorFlow with the appropriate compiler flags.\n"
     ]
    },
    {
     "name": "stdout",
     "output_type": "stream",
     "text": [
      "# === STEP 0: Imports: Complete\n"
     ]
    }
   ],
   "source": [
    "import sys\n",
    "\n",
    "# Manually add the project root to sys.path\n",
    "sys.path.append('/Users/joaquinuriarte/Documents/GitHub/sports-betting/')\n",
    "\n",
    "# === STEP 0: Imports\n",
    "print(\"# === STEP 0: Imports: Starting ...\")\n",
    "from modules.model_manager.trainer.trainer import Trainer\n",
    "from modules.model_manager.predictor.predictor import Predictor\n",
    "from modules.model_manager.factories.model_factory import ModelFactory\n",
    "from modules.model_manager.helpers.configuration_loader import ConfigurationLoader as MMConfigLoader\n",
    "from modules.model_manager.model_manager import ModelManager\n",
    "print(\"# === STEP 0: Imports: Complete\")"
   ]
  },
  {
   "cell_type": "code",
   "execution_count": 2,
   "id": "eef0ca8d-4980-4561-8348-6ba966b8a785",
   "metadata": {},
   "outputs": [
    {
     "name": "stdout",
     "output_type": "stream",
     "text": [
      "# === STEP 1: Dependency Instantiations And Global Variable Declarations: Starting ...\n",
      "# === STEP 1: Dependency Instantiations And Global Variable Declarations: Complete\n"
     ]
    }
   ],
   "source": [
    "# === STEP 1: Dependency Instantiations And Global Variable Declarations\n",
    "print(\"# === STEP 1: Dependency Instantiations And Global Variable Declarations: Starting ...\")\n",
    "## === MODEL MANAGER\n",
    "yaml_path0 = '/Users/joaquinuriarte/Documents/GitHub/sports-betting/configs/model_v01/model_v01_000.yaml'\n",
    "yaml_path1 = '/Users/joaquinuriarte/Documents/GitHub/sports-betting/configs/model_v01/model_v01_001.yaml'\n",
    "yaml_paths = [yaml_path0, yaml_path1]\n",
    "\n",
    "checkpoint = '/Users/joaquinuriarte/Documents/GitHub/sports-betting/models'\n",
    "trainer = Trainer(checkpoint)\n",
    "predictor = Predictor()\n",
    "model_factory = ModelFactory()\n",
    "mm_configuration_loader = MMConfigLoader()\n",
    "print(\"# === STEP 1: Dependency Instantiations And Global Variable Declarations: Complete\")"
   ]
  },
  {
   "cell_type": "markdown",
   "id": "4a1c2254",
   "metadata": {},
   "source": [
    "Load Val, and Test Datasets into Memory"
   ]
  },
  {
   "cell_type": "code",
   "execution_count": 3,
   "id": "77a23c84",
   "metadata": {},
   "outputs": [
    {
     "name": "stdout",
     "output_type": "stream",
     "text": [
      "Test dataset leaded to memory\n"
     ]
    }
   ],
   "source": [
    "import pickle\n",
    "import os\n",
    "\n",
    "# File path to load train, test, and val datasets\n",
    "train_test_val_dataset_path = \"/Users/joaquinuriarte/Documents/GitHub/sports-betting/processed_datasets/model_v01\"\n",
    "\n",
    "\n",
    "test_dataset_path = train_test_val_dataset_path + \"/test.pkl\"\n",
    "\n",
    "with open(test_dataset_path, \"rb\") as f:\n",
    "    test_dataset = pickle.load(f)\n",
    "    print(\"Test dataset leaded to memory\")"
   ]
  },
  {
   "cell_type": "markdown",
   "id": "feff0899",
   "metadata": {},
   "source": [
    "Load Models"
   ]
  },
  {
   "cell_type": "code",
   "execution_count": 4,
   "id": "20bdff71",
   "metadata": {},
   "outputs": [],
   "source": [
    "## For all YAMLS, get their model's signatures\n",
    "import yaml\n",
    "\n",
    "yaml_path_list = [yaml_path1]\n",
    "signatures = []\n",
    "\n",
    "for yaml_file in yaml_path_list:\n",
    "    with open(yaml_file, \"r\") as file:\n",
    "        config_data = yaml.safe_load(file)\n",
    "\n",
    "    # Save model signature \n",
    "    signatures.append(config_data.get(\"model\", {}).get(\"model_signature\"))\n",
    "\n",
    "## Using model's signatures, get model's weights path\n",
    "weights_paths =[]\n",
    "\n",
    "for signature in signatures:\n",
    "    base_path = '/Users/joaquinuriarte/Documents/GitHub/sports-betting/z-model_binaries/model_v0.1/models/'\n",
    "    base_file_name = '/model_weights_'\n",
    "\n",
    "    directory = base_path + signature\n",
    "    file_name = base_file_name + signature + \".pth\"\n",
    "\n",
    "    final_file_path = directory + file_name\n",
    "\n",
    "    weights_paths.append(final_file_path) "
   ]
  },
  {
   "cell_type": "code",
   "execution_count": 5,
   "id": "70a902e6",
   "metadata": {},
   "outputs": [
    {
     "name": "stdout",
     "output_type": "stream",
     "text": [
      "Models successfully loaded \n"
     ]
    }
   ],
   "source": [
    "# === STEP 4: MODEL MANAGER\n",
    "model_manager = ModelManager(trainer, predictor, model_factory, mm_configuration_loader)\n",
    "models = model_manager.load_models([yaml_path1], weights_paths)\n",
    "print(\"Models successfully loaded \")"
   ]
  },
  {
   "cell_type": "markdown",
   "id": "d48a97bf",
   "metadata": {},
   "source": [
    "Predict on Test Set"
   ]
  },
  {
   "cell_type": "code",
   "execution_count": 6,
   "id": "4d769114",
   "metadata": {},
   "outputs": [
    {
     "name": "stdout",
     "output_type": "stream",
     "text": [
      "Accuracy across all features on test dataset: 0.5789887346083311\n"
     ]
    }
   ],
   "source": [
    "predictions = []\n",
    "for model in models:\n",
    "    predictions.append(model.predict(test_dataset.examples, return_target_labels=True))\n",
    "\n",
    "total_examples = 0\n",
    "correct_predictions = 0\n",
    "\n",
    "for prediction in predictions:\n",
    "    for row in prediction.itertuples(index=False):\n",
    "        total_examples += 1\n",
    "\n",
    "        # Compare predictions and target labels for the current feature\n",
    "        if (row.final_score_A > row.final_score_B and row.target_final_score_A > row.target_final_score_B) or \\\n",
    "        (row.final_score_A < row.final_score_B and row.target_final_score_A < row.target_final_score_B):\n",
    "            correct_predictions += 1\n",
    "\n",
    "    # Calculate accuracy\n",
    "    accuracy = correct_predictions / total_examples\n",
    "    print(f\"Accuracy across all features on test dataset: {accuracy}\")"
   ]
  }
 ],
 "metadata": {
  "kernelspec": {
   "display_name": "Python 3.8.5 ('sports-betting': venv)",
   "language": "python",
   "name": "python3"
  },
  "language_info": {
   "codemirror_mode": {
    "name": "ipython",
    "version": 3
   },
   "file_extension": ".py",
   "mimetype": "text/x-python",
   "name": "python",
   "nbconvert_exporter": "python",
   "pygments_lexer": "ipython3",
   "version": "3.8.5"
  },
  "vscode": {
   "interpreter": {
    "hash": "42d1e72f09edad5b8341e1a78b673e0aa6929e61770b700654f70887e86e86ac"
   }
  }
 },
 "nbformat": 4,
 "nbformat_minor": 5
}
