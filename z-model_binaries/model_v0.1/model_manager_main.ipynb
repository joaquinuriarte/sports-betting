{
 "cells": [
  {
   "cell_type": "code",
   "execution_count": 10,
   "metadata": {},
   "outputs": [],
   "source": [
    "######## Create, Train, and Predict Models\n",
    "\n",
    "# Loads train, test, and val datasets\n",
    "# Instantiates Models\n",
    "# Trains Models\n",
    "# Predicts using Models"
   ]
  },
  {
   "cell_type": "markdown",
   "id": "6b68658b",
   "metadata": {},
   "source": [
    "Import All Required Modules"
   ]
  },
  {
   "cell_type": "code",
   "execution_count": 11,
   "id": "251a0e8a-b944-4323-8731-207322906548",
   "metadata": {
    "collapsed": true,
    "jupyter": {
     "outputs_hidden": true
    }
   },
   "outputs": [
    {
     "name": "stdout",
     "output_type": "stream",
     "text": [
      "# === STEP 0: Imports: Starting ...\n",
      "# === STEP 0: Imports: Complete\n"
     ]
    }
   ],
   "source": [
    "import sys\n",
    "\n",
    "# Manually add the project root to sys.path\n",
    "sys.path.append('/Users/joaquinuriarte/Documents/GitHub/sports-betting/')\n",
    "\n",
    "# === STEP 0: Imports\n",
    "print(\"# === STEP 0: Imports: Starting ...\")\n",
    "from modules.model_manager.trainer.trainer import Trainer\n",
    "from modules.model_manager.predictor.predictor import Predictor\n",
    "from modules.model_manager.factories.model_factory import ModelFactory\n",
    "from modules.model_manager.helpers.configuration_loader import ConfigurationLoader as MMConfigLoader\n",
    "from modules.model_manager.model_manager import ModelManager\n",
    "print(\"# === STEP 0: Imports: Complete\")"
   ]
  },
  {
   "cell_type": "code",
   "execution_count": 12,
   "id": "eef0ca8d-4980-4561-8348-6ba966b8a785",
   "metadata": {},
   "outputs": [
    {
     "name": "stdout",
     "output_type": "stream",
     "text": [
      "# === STEP 1: Dependency Instantiations And Global Variable Declarations: Starting ...\n",
      "# === STEP 1: Dependency Instantiations And Global Variable Declarations: Complete\n"
     ]
    }
   ],
   "source": [
    "# === STEP 1: Dependency Instantiations And Global Variable Declarations\n",
    "print(\"# === STEP 1: Dependency Instantiations And Global Variable Declarations: Starting ...\")\n",
    "## === MODEL MANAGER\n",
    "yaml_path0 = '/Users/joaquinuriarte/Documents/GitHub/sports-betting/configs/model_v01/model_v01_000.yaml'\n",
    "yaml_path1 = '/Users/joaquinuriarte/Documents/GitHub/sports-betting/configs/model_v01/model_v01_001.yaml'\n",
    "yaml_path2 = '/Users/joaquinuriarte/Documents/GitHub/sports-betting/configs/model_v01/model_v01_002.yaml'\n",
    "\n",
    "yaml_paths = [yaml_path0, yaml_path1]\n",
    "\n",
    "\n",
    "checkpoint = '/Users/joaquinuriarte/Documents/GitHub/sports-betting/models'\n",
    "trainer = Trainer(checkpoint)\n",
    "predictor = Predictor()\n",
    "model_factory = ModelFactory()\n",
    "mm_configuration_loader = MMConfigLoader()\n",
    "print(\"# === STEP 1: Dependency Instantiations And Global Variable Declarations: Complete\")"
   ]
  },
  {
   "cell_type": "markdown",
   "id": "4a1c2254",
   "metadata": {},
   "source": [
    "Load Train, Val, and Test Datasets into Memory"
   ]
  },
  {
   "cell_type": "code",
   "execution_count": 13,
   "id": "77a23c84",
   "metadata": {},
   "outputs": [
    {
     "name": "stdout",
     "output_type": "stream",
     "text": [
      "Train dataset leaded to memory\n",
      "Val dataset leaded to memory\n"
     ]
    }
   ],
   "source": [
    "import pickle\n",
    "import os\n",
    "\n",
    "# File path to load train, test, and val datasets\n",
    "train_test_val_dataset_path = \"/Users/joaquinuriarte/Documents/GitHub/sports-betting/processed_datasets/model_v01\"\n",
    "\n",
    "train_dataset_path = train_test_val_dataset_path + \"/train.pkl\"\n",
    "val_dataset_path = train_test_val_dataset_path + \"/val.pkl\"\n",
    "# test_dataset_path = train_test_val_dataset_path + \"/test.pkl\"\n",
    "\n",
    "with open(train_dataset_path, \"rb\") as f:\n",
    "    train_dataset = pickle.load(f)\n",
    "    print(\"Train dataset leaded to memory\")\n",
    "with open(val_dataset_path, \"rb\") as f:\n",
    "    validation_dataset = pickle.load(f)\n",
    "    print(\"Val dataset leaded to memory\")\n",
    "# with open(test_dataset_path, \"rb\") as f:\n",
    "#     test_dataset = pickle.load(f)\n",
    "#     print(\"Test dataset leaded to memory\")"
   ]
  },
  {
   "cell_type": "markdown",
   "id": "feff0899",
   "metadata": {},
   "source": [
    "Create and Train Models"
   ]
  },
  {
   "cell_type": "code",
   "execution_count": 6,
   "id": "b66b2d17-0154-4ac7-b6e4-2388aaa130eb",
   "metadata": {},
   "outputs": [
    {
     "name": "stdout",
     "output_type": "stream",
     "text": [
      "# === STEP 4: MODEL MANAGER: Starting ...\n"
     ]
    }
   ],
   "source": [
    "# === STEP 4: MODEL MANAGER\n",
    "print(\"# === STEP 4: MODEL MANAGER: Starting ...\")\n",
    "model_manager = ModelManager(trainer, predictor, model_factory, mm_configuration_loader)\n",
    "models = model_manager.create_models([yaml_path2])"
   ]
  },
  {
   "cell_type": "code",
   "execution_count": 7,
   "id": "1fec0485",
   "metadata": {},
   "outputs": [
    {
     "data": {
      "text/plain": [
       "178"
      ]
     },
     "execution_count": 7,
     "metadata": {},
     "output_type": "execute_result"
    }
   ],
   "source": [
    "train_dataset.examples[0].features\n",
    "len(train_dataset.examples[0].features) # should be 178"
   ]
  },
  {
   "cell_type": "code",
   "execution_count": 8,
   "id": "3437639c-6666-4c76-a827-706148a9fa7f",
   "metadata": {},
   "outputs": [
    {
     "name": "stderr",
     "output_type": "stream",
     "text": [
      "INFO:root:Training model '39cf74dd0ecb478f456add01f6470ccc' for 20 epochs with batch size 32.\n"
     ]
    },
    {
     "name": "stdout",
     "output_type": "stream",
     "text": [
      "Epoch 1/20\n",
      "557/557 [==============================] - 14s 22ms/step - loss: 375.9384 - mse: 375.9384 - mae: 13.7983 - val_loss: 259.9140 - val_mse: 259.9140 - val_mae: 13.1998\n",
      "Epoch 2/20\n",
      "557/557 [==============================] - 12s 21ms/step - loss: 178.2905 - mse: 178.2905 - mae: 10.6121 - val_loss: 217.0804 - val_mse: 217.0804 - val_mae: 11.7003\n",
      "Epoch 3/20\n",
      "557/557 [==============================] - 11s 20ms/step - loss: 175.1241 - mse: 175.1241 - mae: 10.5087 - val_loss: 166.8311 - val_mse: 166.8311 - val_mae: 10.2494\n",
      "Epoch 4/20\n",
      "557/557 [==============================] - 12s 21ms/step - loss: 171.6797 - mse: 171.6797 - mae: 10.4029 - val_loss: 169.0943 - val_mse: 169.0943 - val_mae: 10.3727\n",
      "Epoch 5/20\n",
      "557/557 [==============================] - 12s 21ms/step - loss: 167.0857 - mse: 167.0857 - mae: 10.2713 - val_loss: 174.4041 - val_mse: 174.4041 - val_mae: 10.5856\n",
      "Epoch 6/20\n",
      "557/557 [==============================] - 11s 19ms/step - loss: 166.3196 - mse: 166.3196 - mae: 10.2448 - val_loss: 172.8936 - val_mse: 172.8936 - val_mae: 10.5205\n",
      "Epoch 7/20\n",
      "557/557 [==============================] - 11s 19ms/step - loss: 165.0174 - mse: 165.0174 - mae: 10.2084 - val_loss: 160.8521 - val_mse: 160.8521 - val_mae: 10.1223\n",
      "Epoch 8/20\n",
      "557/557 [==============================] - 11s 19ms/step - loss: 163.5877 - mse: 163.5877 - mae: 10.1665 - val_loss: 201.0250 - val_mse: 201.0250 - val_mae: 11.4294\n",
      "Epoch 9/20\n",
      "557/557 [==============================] - 11s 19ms/step - loss: 160.6504 - mse: 160.6504 - mae: 10.0713 - val_loss: 291.4972 - val_mse: 291.4972 - val_mae: 14.1554\n",
      "Epoch 10/20\n",
      "557/557 [==============================] - 12s 21ms/step - loss: 158.8423 - mse: 158.8423 - mae: 9.9887 - val_loss: 164.9880 - val_mse: 164.9880 - val_mae: 10.1507\n",
      "Epoch 11/20\n",
      "557/557 [==============================] - 11s 19ms/step - loss: 160.3010 - mse: 160.3010 - mae: 10.0646 - val_loss: 155.9883 - val_mse: 155.9883 - val_mae: 9.9337\n",
      "Epoch 12/20\n",
      "557/557 [==============================] - 11s 19ms/step - loss: 155.1768 - mse: 155.1768 - mae: 9.8961 - val_loss: 177.4754 - val_mse: 177.4754 - val_mae: 10.5806\n",
      "Epoch 13/20\n",
      "557/557 [==============================] - 11s 19ms/step - loss: 159.7122 - mse: 159.7122 - mae: 10.0377 - val_loss: 160.2123 - val_mse: 160.2123 - val_mae: 10.0525\n",
      "Epoch 14/20\n",
      "557/557 [==============================] - 11s 19ms/step - loss: 157.0077 - mse: 157.0077 - mae: 9.9515 - val_loss: 236.7817 - val_mse: 236.7817 - val_mae: 12.3589\n",
      "Epoch 15/20\n",
      "557/557 [==============================] - 11s 20ms/step - loss: 154.9953 - mse: 154.9953 - mae: 9.8810 - val_loss: 157.6399 - val_mse: 157.6399 - val_mae: 9.9349\n",
      "Epoch 16/20\n",
      "557/557 [==============================] - 11s 20ms/step - loss: 155.0040 - mse: 155.0040 - mae: 9.8962 - val_loss: 177.0730 - val_mse: 177.0730 - val_mae: 10.6464\n",
      "Epoch 17/20\n",
      "557/557 [==============================] - 11s 19ms/step - loss: 153.7999 - mse: 153.7999 - mae: 9.8435 - val_loss: 170.5865 - val_mse: 170.5865 - val_mae: 10.4562\n",
      "Epoch 18/20\n",
      "557/557 [==============================] - 11s 19ms/step - loss: 154.1196 - mse: 154.1196 - mae: 9.8529 - val_loss: 190.7558 - val_mse: 190.7558 - val_mae: 11.0752\n",
      "Epoch 19/20\n",
      "557/557 [==============================] - 12s 21ms/step - loss: 151.8148 - mse: 151.8148 - mae: 9.7953 - val_loss: 1171.6935 - val_mse: 1171.6935 - val_mae: 31.6069\n",
      "Epoch 20/20\n",
      "557/557 [==============================] - 11s 20ms/step - loss: 153.0794 - mse: 153.0794 - mae: 9.8522 - val_loss: 155.9271 - val_mse: 155.9271 - val_mae: 9.9130\n"
     ]
    },
    {
     "name": "stderr",
     "output_type": "stream",
     "text": [
      "INFO:root:Model '39cf74dd0ecb478f456add01f6470ccc': Finished training.\n"
     ]
    },
    {
     "name": "stdout",
     "output_type": "stream",
     "text": [
      "Model saved successfully at: models/39cf74dd0ecb478f456add01f6470ccc/model_weights_39cf74dd0ecb478f456add01f6470ccc.pth\n",
      "# === STEP 4: MODEL MANAGER: Complete\n"
     ]
    }
   ],
   "source": [
    "# If no val dataset, code requires to push None instead\n",
    "val_dataset = validation_dataset if validation_dataset is not None else None\n",
    "\n",
    "model_manager.train(models, [(train_dataset, val_dataset)], save_after_training=True)\n",
    "print(\"# === STEP 4: MODEL MANAGER: Complete\")"
   ]
  },
  {
   "cell_type": "markdown",
   "id": "81026005",
   "metadata": {},
   "source": [
    "Accuracy When Predicting Game Winner"
   ]
  },
  {
   "cell_type": "code",
   "execution_count": 41,
   "id": "e247faa6",
   "metadata": {},
   "outputs": [
    {
     "name": "stdout",
     "output_type": "stream",
     "text": [
      "<modules.model_manager.implementations.tensorflow_model_v01.TensorFlowModelV01 object at 0x7f7e9d861340>\n"
     ]
    }
   ],
   "source": [
    "predictions = []\n",
    "for model in models:\n",
    "    print(model)\n",
    "    predictions.append(model.predict(validation_dataset.examples, return_target_labels=True))"
   ]
  },
  {
   "cell_type": "code",
   "execution_count": 42,
   "id": "4438f199",
   "metadata": {},
   "outputs": [
    {
     "name": "stdout",
     "output_type": "stream",
     "text": [
      "Accuracy across all features on validation dataset: 0.6038773906209065 and percent_of_b_in_total_correct_pred: 0.005206073752711497\n"
     ]
    }
   ],
   "source": [
    "total_examples = 0\n",
    "correct_predictions = 0\n",
    "correct_b_predictions = 0\n",
    "\n",
    "for row in predictions[0].itertuples(index=False):\n",
    "    total_examples += 1\n",
    "    \n",
    "    # Compare predictions and target labels for the current feature\n",
    "    if (row.final_score_A > row.final_score_B and row.target_final_score_A > row.target_final_score_B):\n",
    "        correct_predictions += 1\n",
    "    elif (row.final_score_A < row.final_score_B and row.target_final_score_A < row.target_final_score_B):\n",
    "        correct_predictions += 1\n",
    "        correct_b_predictions += 1  \n",
    "\n",
    "# Calculate accuracy\n",
    "accuracy = correct_predictions / total_examples\n",
    "percent_of_b_in_total_correct_pred = correct_b_predictions / correct_predictions\n",
    "print(f\"Accuracy across all features on validation dataset: {accuracy} and percent_of_b_in_total_correct_pred: {percent_of_b_in_total_correct_pred}\")"
   ]
  },
  {
   "cell_type": "code",
   "execution_count": 10,
   "id": "0f043d26",
   "metadata": {},
   "outputs": [
    {
     "name": "stderr",
     "output_type": "stream",
     "text": [
      "UsageError: Line magic function `%tensorboard` not found.\n"
     ]
    }
   ],
   "source": [
    "%tensorboard --logdir logs/fit/39cf74dd0ecb478f456add01f6470ccc"
   ]
  }
 ],
 "metadata": {
  "kernelspec": {
   "display_name": "Python 3.8.5 ('sports-betting': venv)",
   "language": "python",
   "name": "python3"
  },
  "language_info": {
   "codemirror_mode": {
    "name": "ipython",
    "version": 3
   },
   "file_extension": ".py",
   "mimetype": "text/x-python",
   "name": "python",
   "nbconvert_exporter": "python",
   "pygments_lexer": "ipython3",
   "version": "3.8.5"
  },
  "vscode": {
   "interpreter": {
    "hash": "42d1e72f09edad5b8341e1a78b673e0aa6929e61770b700654f70887e86e86ac"
   }
  }
 },
 "nbformat": 4,
 "nbformat_minor": 5
}
