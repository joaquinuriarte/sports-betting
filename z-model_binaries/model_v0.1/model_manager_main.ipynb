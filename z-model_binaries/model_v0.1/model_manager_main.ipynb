{
 "cells": [
  {
   "cell_type": "code",
   "execution_count": 10,
   "metadata": {},
   "outputs": [],
   "source": [
    "######## Create, Train, and Predict Models\n",
    "\n",
    "# Loads train, test, and val datasets\n",
    "# Instantiates Models\n",
    "# Trains Models\n",
    "# Predicts using Models"
   ]
  },
  {
   "cell_type": "markdown",
   "id": "6b68658b",
   "metadata": {},
   "source": [
    "Import All Required Modules"
   ]
  },
  {
   "cell_type": "code",
   "execution_count": 1,
   "id": "251a0e8a-b944-4323-8731-207322906548",
   "metadata": {
    "collapsed": true,
    "jupyter": {
     "outputs_hidden": true
    }
   },
   "outputs": [
    {
     "name": "stdout",
     "output_type": "stream",
     "text": [
      "# === STEP 0: Imports: Starting ...\n"
     ]
    },
    {
     "name": "stderr",
     "output_type": "stream",
     "text": [
      "2025-01-18 11:03:34.498472: I tensorflow/core/platform/cpu_feature_guard.cc:182] This TensorFlow binary is optimized to use available CPU instructions in performance-critical operations.\n",
      "To enable the following instructions: AVX2 FMA, in other operations, rebuild TensorFlow with the appropriate compiler flags.\n"
     ]
    },
    {
     "name": "stdout",
     "output_type": "stream",
     "text": [
      "# === STEP 0: Imports: Complete\n"
     ]
    }
   ],
   "source": [
    "import sys\n",
    "\n",
    "# Manually add the project root to sys.path\n",
    "sys.path.append('/Users/joaquinuriarte/Documents/GitHub/sports-betting/')\n",
    "\n",
    "# === STEP 0: Imports\n",
    "print(\"# === STEP 0: Imports: Starting ...\")\n",
    "from modules.model_manager.trainer.trainer import Trainer\n",
    "from modules.model_manager.predictor.predictor import Predictor\n",
    "from modules.model_manager.factories.model_factory import ModelFactory\n",
    "from modules.model_manager.helpers.configuration_loader import ConfigurationLoader as MMConfigLoader\n",
    "from modules.model_manager.model_manager import ModelManager\n",
    "print(\"# === STEP 0: Imports: Complete\")"
   ]
  },
  {
   "cell_type": "code",
   "execution_count": 2,
   "id": "eef0ca8d-4980-4561-8348-6ba966b8a785",
   "metadata": {},
   "outputs": [
    {
     "name": "stdout",
     "output_type": "stream",
     "text": [
      "# === STEP 1: Dependency Instantiations And Global Variable Declarations: Starting ...\n",
      "# === STEP 1: Dependency Instantiations And Global Variable Declarations: Complete\n"
     ]
    }
   ],
   "source": [
    "# === STEP 1: Dependency Instantiations And Global Variable Declarations\n",
    "print(\"# === STEP 1: Dependency Instantiations And Global Variable Declarations: Starting ...\")\n",
    "## === MODEL MANAGER\n",
    "yaml_path0 = '/Users/joaquinuriarte/Documents/GitHub/sports-betting/configs/model_v01/model_v01_000.yaml'\n",
    "yaml_paths = [yaml_path0]\n",
    "\n",
    "\n",
    "checkpoint = '/Users/joaquinuriarte/Documents/GitHub/sports-betting/models'\n",
    "trainer = Trainer(checkpoint)\n",
    "predictor = Predictor()\n",
    "model_factory = ModelFactory()\n",
    "mm_configuration_loader = MMConfigLoader()\n",
    "print(\"# === STEP 1: Dependency Instantiations And Global Variable Declarations: Complete\")"
   ]
  },
  {
   "cell_type": "markdown",
   "id": "4a1c2254",
   "metadata": {},
   "source": [
    "Load Train, Val, and Test Datasets into Memory"
   ]
  },
  {
   "cell_type": "code",
   "execution_count": 3,
   "id": "77a23c84",
   "metadata": {},
   "outputs": [
    {
     "name": "stdout",
     "output_type": "stream",
     "text": [
      "Train dataset leaded to memory\n",
      "Val dataset leaded to memory\n"
     ]
    }
   ],
   "source": [
    "import pickle\n",
    "import os\n",
    "\n",
    "# File path to load train, test, and val datasets\n",
    "train_test_val_dataset_path = \"/Users/joaquinuriarte/Documents/GitHub/sports-betting/processed_datasets/model_v0\"\n",
    "\n",
    "train_dataset_path = train_test_val_dataset_path + \"/train.pkl\"\n",
    "val_dataset_path = train_test_val_dataset_path + \"/val.pkl\"\n",
    "# test_dataset_path = train_test_val_dataset_path + \"/test.pkl\"\n",
    "\n",
    "with open(train_dataset_path, \"rb\") as f:\n",
    "    train_dataset = pickle.load(f)\n",
    "    print(\"Train dataset leaded to memory\")\n",
    "with open(val_dataset_path, \"rb\") as f:\n",
    "    validation_dataset = pickle.load(f)\n",
    "    print(\"Val dataset leaded to memory\")\n",
    "# with open(test_dataset_path, \"rb\") as f:\n",
    "#     test_dataset = pickle.load(f)\n",
    "#     print(\"Test dataset leaded to memory\")"
   ]
  },
  {
   "cell_type": "markdown",
   "id": "feff0899",
   "metadata": {},
   "source": [
    "Create and Train Models"
   ]
  },
  {
   "cell_type": "code",
   "execution_count": 4,
   "id": "b66b2d17-0154-4ac7-b6e4-2388aaa130eb",
   "metadata": {},
   "outputs": [
    {
     "name": "stdout",
     "output_type": "stream",
     "text": [
      "# === STEP 4: MODEL MANAGER: Starting ...\n"
     ]
    }
   ],
   "source": [
    "# === STEP 4: MODEL MANAGER\n",
    "print(\"# === STEP 4: MODEL MANAGER: Starting ...\")\n",
    "model_manager = ModelManager(trainer, predictor, model_factory, mm_configuration_loader)\n",
    "models = model_manager.create_models([yaml_path0])"
   ]
  },
  {
   "cell_type": "code",
   "execution_count": 5,
   "id": "1fec0485",
   "metadata": {},
   "outputs": [
    {
     "data": {
      "text/plain": [
       "177"
      ]
     },
     "execution_count": 5,
     "metadata": {},
     "output_type": "execute_result"
    }
   ],
   "source": [
    "train_dataset.examples[0].features\n",
    "len(train_dataset.examples[0].features) # should be 177"
   ]
  },
  {
   "cell_type": "code",
   "execution_count": 6,
   "id": "3437639c-6666-4c76-a827-706148a9fa7f",
   "metadata": {},
   "outputs": [
    {
     "name": "stderr",
     "output_type": "stream",
     "text": [
      "INFO:root:Training model '302c4118ee59d656717db73a125404ab' for 20 epochs with batch size 32.\n"
     ]
    },
    {
     "name": "stdout",
     "output_type": "stream",
     "text": [
      "Epoch 1/20\n",
      "557/557 [==============================] - 4s 4ms/step - loss: 0.6784 - accuracy: 0.4529 - val_loss: 0.6696 - val_accuracy: 0.4373\n",
      "Epoch 2/20\n",
      "557/557 [==============================] - 2s 4ms/step - loss: 0.6703 - accuracy: 0.4982 - val_loss: 0.6670 - val_accuracy: 0.5214\n",
      "Epoch 3/20\n",
      "557/557 [==============================] - 2s 4ms/step - loss: 0.6685 - accuracy: 0.5093 - val_loss: 0.6647 - val_accuracy: 0.5337\n",
      "Epoch 4/20\n",
      "557/557 [==============================] - 2s 4ms/step - loss: 0.6679 - accuracy: 0.5086 - val_loss: 0.6643 - val_accuracy: 0.5633\n",
      "Epoch 5/20\n",
      "557/557 [==============================] - 2s 4ms/step - loss: 0.6666 - accuracy: 0.5121 - val_loss: 0.6640 - val_accuracy: 0.5473\n",
      "Epoch 6/20\n",
      "557/557 [==============================] - 2s 3ms/step - loss: 0.6662 - accuracy: 0.5221 - val_loss: 0.6647 - val_accuracy: 0.5219\n",
      "Epoch 7/20\n",
      "557/557 [==============================] - 2s 4ms/step - loss: 0.6658 - accuracy: 0.5183 - val_loss: 0.6646 - val_accuracy: 0.5478\n",
      "Epoch 8/20\n",
      "557/557 [==============================] - 2s 4ms/step - loss: 0.6652 - accuracy: 0.5259 - val_loss: 0.6679 - val_accuracy: 0.5845\n",
      "Epoch 9/20\n",
      "557/557 [==============================] - 2s 3ms/step - loss: 0.6644 - accuracy: 0.5291 - val_loss: 0.6643 - val_accuracy: 0.5379\n",
      "Epoch 10/20\n",
      "557/557 [==============================] - 2s 3ms/step - loss: 0.6641 - accuracy: 0.5363 - val_loss: 0.6647 - val_accuracy: 0.5499\n",
      "Epoch 11/20\n",
      "557/557 [==============================] - 2s 3ms/step - loss: 0.6636 - accuracy: 0.5392 - val_loss: 0.6648 - val_accuracy: 0.5625\n",
      "Epoch 12/20\n",
      "557/557 [==============================] - 2s 3ms/step - loss: 0.6642 - accuracy: 0.5330 - val_loss: 0.6644 - val_accuracy: 0.5334\n",
      "Epoch 13/20\n",
      "557/557 [==============================] - 2s 3ms/step - loss: 0.6640 - accuracy: 0.5329 - val_loss: 0.6649 - val_accuracy: 0.5507\n",
      "Epoch 14/20\n",
      "557/557 [==============================] - 2s 3ms/step - loss: 0.6623 - accuracy: 0.5425 - val_loss: 0.6645 - val_accuracy: 0.5240\n",
      "Epoch 15/20\n",
      "557/557 [==============================] - 2s 3ms/step - loss: 0.6626 - accuracy: 0.5352 - val_loss: 0.6669 - val_accuracy: 0.4944\n",
      "Epoch 16/20\n",
      "557/557 [==============================] - 2s 3ms/step - loss: 0.6624 - accuracy: 0.5299 - val_loss: 0.6643 - val_accuracy: 0.5368\n",
      "Epoch 17/20\n",
      "557/557 [==============================] - 2s 3ms/step - loss: 0.6627 - accuracy: 0.5398 - val_loss: 0.6651 - val_accuracy: 0.5130\n",
      "Epoch 18/20\n",
      "557/557 [==============================] - 2s 3ms/step - loss: 0.6617 - accuracy: 0.5351 - val_loss: 0.6654 - val_accuracy: 0.4999\n",
      "Epoch 19/20\n",
      "557/557 [==============================] - 2s 3ms/step - loss: 0.6616 - accuracy: 0.5284 - val_loss: 0.6649 - val_accuracy: 0.5588\n",
      "Epoch 20/20\n",
      "557/557 [==============================] - 2s 3ms/step - loss: 0.6619 - accuracy: 0.5393 - val_loss: 0.6661 - val_accuracy: 0.5033\n"
     ]
    },
    {
     "name": "stderr",
     "output_type": "stream",
     "text": [
      "INFO:root:Model '302c4118ee59d656717db73a125404ab': Finished training.\n"
     ]
    },
    {
     "name": "stdout",
     "output_type": "stream",
     "text": [
      "Model saved successfully at: models/302c4118ee59d656717db73a125404ab/model_weights_302c4118ee59d656717db73a125404ab.pth\n",
      "# === STEP 4: MODEL MANAGER: Complete\n"
     ]
    }
   ],
   "source": [
    "# If no val dataset, code requires to push None instead\n",
    "val_dataset = validation_dataset if validation_dataset is not None else None\n",
    "\n",
    "model_manager.train(models, [(train_dataset, val_dataset)], save_after_training=True)\n",
    "print(\"# === STEP 4: MODEL MANAGER: Complete\")"
   ]
  },
  {
   "cell_type": "code",
   "execution_count": 7,
   "id": "e247faa6",
   "metadata": {},
   "outputs": [
    {
     "name": "stdout",
     "output_type": "stream",
     "text": [
      "<modules.model_manager.implementations.tensorflow_model.TensorFlowModel object at 0x7fe28f19d280>\n"
     ]
    }
   ],
   "source": [
    "predictions = []\n",
    "for model in models:\n",
    "    print(model)\n",
    "    predictions.append(model.predict(validation_dataset.examples, return_target_labels=True))"
   ]
  },
  {
   "cell_type": "code",
   "execution_count": 8,
   "id": "4438f199",
   "metadata": {},
   "outputs": [
    {
     "name": "stdout",
     "output_type": "stream",
     "text": [
      "Accuracy on validation dataset: 0.5968037725962798\n",
      "1 Predictions: 2940 and total predictions: 3817\n"
     ]
    }
   ],
   "source": [
    "for df in predictions:\n",
    "    correct_predictions = (df['predictions'] == df['target_label']).sum()\n",
    "    total_predictions = len(df)\n",
    "    accuracy = correct_predictions / total_predictions\n",
    "    print(f\"Accuracy on validation dataset: {accuracy}\")\n",
    "\n",
    "    One_predictions = (df['predictions'] == 1).sum()\n",
    "    print(f\"1 Predictions: {One_predictions} and total predictions: {total_predictions}\")\n"
   ]
  },
  {
   "cell_type": "code",
   "execution_count": 10,
   "id": "0f043d26",
   "metadata": {},
   "outputs": [
    {
     "name": "stderr",
     "output_type": "stream",
     "text": [
      "UsageError: Line magic function `%tensorboard` not found.\n"
     ]
    }
   ],
   "source": [
    "%tensorboard --logdir logs/fit/302c4118ee59d656717db73a125404ab"
   ]
  }
 ],
 "metadata": {
  "kernelspec": {
   "display_name": "Python 3.8.5 ('sports-betting': venv)",
   "language": "python",
   "name": "python3"
  },
  "language_info": {
   "codemirror_mode": {
    "name": "ipython",
    "version": 3
   },
   "file_extension": ".py",
   "mimetype": "text/x-python",
   "name": "python",
   "nbconvert_exporter": "python",
   "pygments_lexer": "ipython3",
   "version": "3.8.5"
  },
  "vscode": {
   "interpreter": {
    "hash": "42d1e72f09edad5b8341e1a78b673e0aa6929e61770b700654f70887e86e86ac"
   }
  }
 },
 "nbformat": 4,
 "nbformat_minor": 5
}
