{
 "cells": [
  {
   "cell_type": "code",
   "execution_count": 10,
   "metadata": {},
   "outputs": [],
   "source": [
    "######## Create, Train, and Predict Models\n",
    "\n",
    "# Loads train, test, and val datasets\n",
    "# Instantiates Models\n",
    "# Trains Models\n",
    "# Predicts using Models"
   ]
  },
  {
   "cell_type": "markdown",
   "id": "6b68658b",
   "metadata": {},
   "source": [
    "Import All Required Modules"
   ]
  },
  {
   "cell_type": "code",
   "execution_count": 1,
   "id": "251a0e8a-b944-4323-8731-207322906548",
   "metadata": {
    "collapsed": true,
    "jupyter": {
     "outputs_hidden": true
    }
   },
   "outputs": [
    {
     "name": "stdout",
     "output_type": "stream",
     "text": [
      "# === STEP 0: Imports: Starting ...\n"
     ]
    },
    {
     "name": "stderr",
     "output_type": "stream",
     "text": [
      "2025-01-21 09:33:21.965845: I tensorflow/core/platform/cpu_feature_guard.cc:182] This TensorFlow binary is optimized to use available CPU instructions in performance-critical operations.\n",
      "To enable the following instructions: AVX2 FMA, in other operations, rebuild TensorFlow with the appropriate compiler flags.\n"
     ]
    },
    {
     "name": "stdout",
     "output_type": "stream",
     "text": [
      "# === STEP 0: Imports: Complete\n"
     ]
    }
   ],
   "source": [
    "import sys\n",
    "\n",
    "# Manually add the project root to sys.path\n",
    "sys.path.append('/Users/joaquinuriarte/Documents/GitHub/sports-betting/')\n",
    "\n",
    "# === STEP 0: Imports\n",
    "print(\"# === STEP 0: Imports: Starting ...\")\n",
    "from modules.model_manager.trainer.trainer import Trainer\n",
    "from modules.model_manager.predictor.predictor import Predictor\n",
    "from modules.model_manager.factories.model_factory import ModelFactory\n",
    "from modules.model_manager.helpers.configuration_loader import ConfigurationLoader as MMConfigLoader\n",
    "from modules.model_manager.model_manager import ModelManager\n",
    "print(\"# === STEP 0: Imports: Complete\")"
   ]
  },
  {
   "cell_type": "code",
   "execution_count": 2,
   "id": "eef0ca8d-4980-4561-8348-6ba966b8a785",
   "metadata": {},
   "outputs": [
    {
     "name": "stdout",
     "output_type": "stream",
     "text": [
      "# === STEP 1: Dependency Instantiations And Global Variable Declarations: Starting ...\n",
      "# === STEP 1: Dependency Instantiations And Global Variable Declarations: Complete\n"
     ]
    }
   ],
   "source": [
    "# === STEP 1: Dependency Instantiations And Global Variable Declarations\n",
    "print(\"# === STEP 1: Dependency Instantiations And Global Variable Declarations: Starting ...\")\n",
    "## === MODEL MANAGER\n",
    "yaml_path0 = '/Users/joaquinuriarte/Documents/GitHub/sports-betting/configs/model_v01/model_v01_000.yaml'\n",
    "yaml_paths = [yaml_path0]\n",
    "\n",
    "\n",
    "checkpoint = '/Users/joaquinuriarte/Documents/GitHub/sports-betting/models'\n",
    "trainer = Trainer(checkpoint)\n",
    "predictor = Predictor()\n",
    "model_factory = ModelFactory()\n",
    "mm_configuration_loader = MMConfigLoader()\n",
    "print(\"# === STEP 1: Dependency Instantiations And Global Variable Declarations: Complete\")"
   ]
  },
  {
   "cell_type": "markdown",
   "id": "4a1c2254",
   "metadata": {},
   "source": [
    "Load Train, Val, and Test Datasets into Memory"
   ]
  },
  {
   "cell_type": "code",
   "execution_count": 3,
   "id": "77a23c84",
   "metadata": {},
   "outputs": [
    {
     "name": "stdout",
     "output_type": "stream",
     "text": [
      "Train dataset leaded to memory\n",
      "Val dataset leaded to memory\n"
     ]
    }
   ],
   "source": [
    "import pickle\n",
    "import os\n",
    "\n",
    "# File path to load train, test, and val datasets\n",
    "train_test_val_dataset_path = \"/Users/joaquinuriarte/Documents/GitHub/sports-betting/processed_datasets/model_v01\"\n",
    "\n",
    "train_dataset_path = train_test_val_dataset_path + \"/train.pkl\"\n",
    "val_dataset_path = train_test_val_dataset_path + \"/val.pkl\"\n",
    "# test_dataset_path = train_test_val_dataset_path + \"/test.pkl\"\n",
    "\n",
    "with open(train_dataset_path, \"rb\") as f:\n",
    "    train_dataset = pickle.load(f)\n",
    "    print(\"Train dataset leaded to memory\")\n",
    "with open(val_dataset_path, \"rb\") as f:\n",
    "    validation_dataset = pickle.load(f)\n",
    "    print(\"Val dataset leaded to memory\")\n",
    "# with open(test_dataset_path, \"rb\") as f:\n",
    "#     test_dataset = pickle.load(f)\n",
    "#     print(\"Test dataset leaded to memory\")"
   ]
  },
  {
   "cell_type": "markdown",
   "id": "feff0899",
   "metadata": {},
   "source": [
    "Create and Train Models"
   ]
  },
  {
   "cell_type": "code",
   "execution_count": 4,
   "id": "b66b2d17-0154-4ac7-b6e4-2388aaa130eb",
   "metadata": {},
   "outputs": [
    {
     "name": "stdout",
     "output_type": "stream",
     "text": [
      "# === STEP 4: MODEL MANAGER: Starting ...\n"
     ]
    }
   ],
   "source": [
    "# === STEP 4: MODEL MANAGER\n",
    "print(\"# === STEP 4: MODEL MANAGER: Starting ...\")\n",
    "model_manager = ModelManager(trainer, predictor, model_factory, mm_configuration_loader)\n",
    "models = model_manager.create_models([yaml_path0])"
   ]
  },
  {
   "cell_type": "code",
   "execution_count": 5,
   "id": "1fec0485",
   "metadata": {},
   "outputs": [
    {
     "data": {
      "text/plain": [
       "178"
      ]
     },
     "execution_count": 5,
     "metadata": {},
     "output_type": "execute_result"
    }
   ],
   "source": [
    "train_dataset.examples[0].features\n",
    "len(train_dataset.examples[0].features) # should be 178"
   ]
  },
  {
   "cell_type": "code",
   "execution_count": 6,
   "id": "3437639c-6666-4c76-a827-706148a9fa7f",
   "metadata": {},
   "outputs": [
    {
     "name": "stderr",
     "output_type": "stream",
     "text": [
      "INFO:root:Training model 'f40d19f2194bf44123fef3e3c7d48f0e' for 20 epochs with batch size 32.\n"
     ]
    },
    {
     "name": "stdout",
     "output_type": "stream",
     "text": [
      "Epoch 1/20\n",
      "557/557 [==============================] - 3s 4ms/step - loss: 3463.3567 - accuracy: 0.5346 - val_loss: 6286.8125 - val_accuracy: 0.3985\n",
      "Epoch 2/20\n",
      "557/557 [==============================] - 2s 4ms/step - loss: 711.9361 - accuracy: 0.5454 - val_loss: 4486.9121 - val_accuracy: 0.3953\n",
      "Epoch 3/20\n",
      "557/557 [==============================] - 2s 4ms/step - loss: 428.3598 - accuracy: 0.5314 - val_loss: 609.3102 - val_accuracy: 0.3953\n",
      "Epoch 4/20\n",
      "557/557 [==============================] - 3s 5ms/step - loss: 238.9464 - accuracy: 0.5497 - val_loss: 188.7646 - val_accuracy: 0.6047\n",
      "Epoch 5/20\n",
      "557/557 [==============================] - 3s 5ms/step - loss: 221.5906 - accuracy: 0.5559 - val_loss: 184.5617 - val_accuracy: 0.6047\n",
      "Epoch 6/20\n",
      "557/557 [==============================] - 2s 4ms/step - loss: 215.3961 - accuracy: 0.5537 - val_loss: 177.7046 - val_accuracy: 0.6047\n",
      "Epoch 7/20\n",
      "557/557 [==============================] - 2s 3ms/step - loss: 207.0026 - accuracy: 0.5566 - val_loss: 174.5228 - val_accuracy: 0.6047\n",
      "Epoch 8/20\n",
      "557/557 [==============================] - 2s 3ms/step - loss: 198.0362 - accuracy: 0.5666 - val_loss: 160.6722 - val_accuracy: 0.6047\n",
      "Epoch 9/20\n",
      "557/557 [==============================] - 2s 3ms/step - loss: 197.1943 - accuracy: 0.5639 - val_loss: 157.6980 - val_accuracy: 0.6047\n",
      "Epoch 10/20\n",
      "557/557 [==============================] - 2s 3ms/step - loss: 193.0007 - accuracy: 0.5658 - val_loss: 165.1748 - val_accuracy: 0.6047\n",
      "Epoch 11/20\n",
      "557/557 [==============================] - 2s 3ms/step - loss: 190.4947 - accuracy: 0.5696 - val_loss: 155.9395 - val_accuracy: 0.6047\n",
      "Epoch 12/20\n",
      "557/557 [==============================] - 2s 3ms/step - loss: 187.7390 - accuracy: 0.5731 - val_loss: 157.8062 - val_accuracy: 0.6047\n",
      "Epoch 13/20\n",
      "557/557 [==============================] - 2s 3ms/step - loss: 187.8137 - accuracy: 0.5792 - val_loss: 155.5790 - val_accuracy: 0.6047\n",
      "Epoch 14/20\n",
      "557/557 [==============================] - 2s 3ms/step - loss: 186.1157 - accuracy: 0.5824 - val_loss: 154.0402 - val_accuracy: 0.6047\n",
      "Epoch 15/20\n",
      "557/557 [==============================] - 2s 3ms/step - loss: 184.2577 - accuracy: 0.5803 - val_loss: 156.5321 - val_accuracy: 0.6047\n",
      "Epoch 16/20\n",
      "557/557 [==============================] - 2s 3ms/step - loss: 184.8284 - accuracy: 0.5812 - val_loss: 155.7576 - val_accuracy: 0.6047\n",
      "Epoch 17/20\n",
      "557/557 [==============================] - 2s 3ms/step - loss: 183.1280 - accuracy: 0.5824 - val_loss: 152.6120 - val_accuracy: 0.6047\n",
      "Epoch 18/20\n",
      "557/557 [==============================] - 2s 3ms/step - loss: 182.5590 - accuracy: 0.5869 - val_loss: 156.2647 - val_accuracy: 0.6047\n",
      "Epoch 19/20\n",
      "557/557 [==============================] - 2s 3ms/step - loss: 181.8014 - accuracy: 0.5866 - val_loss: 155.4458 - val_accuracy: 0.6047\n",
      "Epoch 20/20\n",
      "557/557 [==============================] - 2s 3ms/step - loss: 182.4906 - accuracy: 0.5877 - val_loss: 156.4679 - val_accuracy: 0.6047\n"
     ]
    },
    {
     "name": "stderr",
     "output_type": "stream",
     "text": [
      "INFO:root:Model 'f40d19f2194bf44123fef3e3c7d48f0e': Finished training.\n"
     ]
    },
    {
     "name": "stdout",
     "output_type": "stream",
     "text": [
      "Model saved successfully at: models/f40d19f2194bf44123fef3e3c7d48f0e/model_weights_f40d19f2194bf44123fef3e3c7d48f0e.pth\n",
      "# === STEP 4: MODEL MANAGER: Complete\n"
     ]
    }
   ],
   "source": [
    "# If no val dataset, code requires to push None instead\n",
    "val_dataset = validation_dataset if validation_dataset is not None else None\n",
    "\n",
    "model_manager.train(models, [(train_dataset, val_dataset)], save_after_training=True)\n",
    "print(\"# === STEP 4: MODEL MANAGER: Complete\")"
   ]
  },
  {
   "cell_type": "code",
   "execution_count": 7,
   "id": "e247faa6",
   "metadata": {},
   "outputs": [
    {
     "name": "stdout",
     "output_type": "stream",
     "text": [
      "<modules.model_manager.implementations.tensorflow_model_v01.TensorFlowModelV01 object at 0x7f9868fdd070>\n"
     ]
    }
   ],
   "source": [
    "predictions = []\n",
    "for model in models:\n",
    "    print(model)\n",
    "    predictions.append(model.predict(validation_dataset.examples, return_target_labels=True))"
   ]
  },
  {
   "cell_type": "code",
   "execution_count": 10,
   "id": "80749209",
   "metadata": {},
   "outputs": [
    {
     "data": {
      "text/html": [
       "<div>\n",
       "<style scoped>\n",
       "    .dataframe tbody tr th:only-of-type {\n",
       "        vertical-align: middle;\n",
       "    }\n",
       "\n",
       "    .dataframe tbody tr th {\n",
       "        vertical-align: top;\n",
       "    }\n",
       "\n",
       "    .dataframe thead th {\n",
       "        text-align: right;\n",
       "    }\n",
       "</style>\n",
       "<table border=\"1\" class=\"dataframe\">\n",
       "  <thead>\n",
       "    <tr style=\"text-align: right;\">\n",
       "      <th></th>\n",
       "      <th>final_score_A</th>\n",
       "      <th>final_score_B</th>\n",
       "      <th>target_final_score_A</th>\n",
       "      <th>target_final_score_B</th>\n",
       "    </tr>\n",
       "  </thead>\n",
       "  <tbody>\n",
       "    <tr>\n",
       "      <th>0</th>\n",
       "      <td>104.633408</td>\n",
       "      <td>101.997154</td>\n",
       "      <td>117.0</td>\n",
       "      <td>102.0</td>\n",
       "    </tr>\n",
       "    <tr>\n",
       "      <th>1</th>\n",
       "      <td>104.590019</td>\n",
       "      <td>101.963638</td>\n",
       "      <td>85.0</td>\n",
       "      <td>95.0</td>\n",
       "    </tr>\n",
       "    <tr>\n",
       "      <th>2</th>\n",
       "      <td>100.301682</td>\n",
       "      <td>97.563698</td>\n",
       "      <td>87.0</td>\n",
       "      <td>80.0</td>\n",
       "    </tr>\n",
       "    <tr>\n",
       "      <th>3</th>\n",
       "      <td>101.331535</td>\n",
       "      <td>98.601669</td>\n",
       "      <td>106.0</td>\n",
       "      <td>82.0</td>\n",
       "    </tr>\n",
       "    <tr>\n",
       "      <th>4</th>\n",
       "      <td>102.652214</td>\n",
       "      <td>99.951218</td>\n",
       "      <td>101.0</td>\n",
       "      <td>75.0</td>\n",
       "    </tr>\n",
       "    <tr>\n",
       "      <th>...</th>\n",
       "      <td>...</td>\n",
       "      <td>...</td>\n",
       "      <td>...</td>\n",
       "      <td>...</td>\n",
       "    </tr>\n",
       "    <tr>\n",
       "      <th>3812</th>\n",
       "      <td>102.171257</td>\n",
       "      <td>99.438766</td>\n",
       "      <td>116.0</td>\n",
       "      <td>123.0</td>\n",
       "    </tr>\n",
       "    <tr>\n",
       "      <th>3813</th>\n",
       "      <td>101.948509</td>\n",
       "      <td>99.212097</td>\n",
       "      <td>125.0</td>\n",
       "      <td>127.0</td>\n",
       "    </tr>\n",
       "    <tr>\n",
       "      <th>3814</th>\n",
       "      <td>100.462669</td>\n",
       "      <td>97.727226</td>\n",
       "      <td>85.0</td>\n",
       "      <td>96.0</td>\n",
       "    </tr>\n",
       "    <tr>\n",
       "      <th>3815</th>\n",
       "      <td>97.721458</td>\n",
       "      <td>94.996109</td>\n",
       "      <td>90.0</td>\n",
       "      <td>92.0</td>\n",
       "    </tr>\n",
       "    <tr>\n",
       "      <th>3816</th>\n",
       "      <td>101.155952</td>\n",
       "      <td>98.410828</td>\n",
       "      <td>82.0</td>\n",
       "      <td>84.0</td>\n",
       "    </tr>\n",
       "  </tbody>\n",
       "</table>\n",
       "<p>3817 rows × 4 columns</p>\n",
       "</div>"
      ],
      "text/plain": [
       "      final_score_A  final_score_B  target_final_score_A  target_final_score_B\n",
       "0        104.633408     101.997154                 117.0                 102.0\n",
       "1        104.590019     101.963638                  85.0                  95.0\n",
       "2        100.301682      97.563698                  87.0                  80.0\n",
       "3        101.331535      98.601669                 106.0                  82.0\n",
       "4        102.652214      99.951218                 101.0                  75.0\n",
       "...             ...            ...                   ...                   ...\n",
       "3812     102.171257      99.438766                 116.0                 123.0\n",
       "3813     101.948509      99.212097                 125.0                 127.0\n",
       "3814     100.462669      97.727226                  85.0                  96.0\n",
       "3815      97.721458      94.996109                  90.0                  92.0\n",
       "3816     101.155952      98.410828                  82.0                  84.0\n",
       "\n",
       "[3817 rows x 4 columns]"
      ]
     },
     "execution_count": 10,
     "metadata": {},
     "output_type": "execute_result"
    }
   ],
   "source": [
    "predictions[0]"
   ]
  },
  {
   "cell_type": "code",
   "execution_count": 12,
   "id": "4438f199",
   "metadata": {},
   "outputs": [
    {
     "name": "stdout",
     "output_type": "stream",
     "text": [
      "Accuracy across all features on validation dataset: 0.6046633481791983\n"
     ]
    }
   ],
   "source": [
    "total_examples = 0\n",
    "correct_predictions = 0\n",
    "\n",
    "for row in predictions[0].itertuples(index=False):\n",
    "    total_examples += 1\n",
    "\n",
    "    # Compare predictions and target labels for the current feature\n",
    "    if (row.final_score_A > row.final_score_B and row.target_final_score_A > row.target_final_score_B) or \\\n",
    "       (row.final_score_A < row.final_score_B and row.target_final_score_A < row.target_final_score_B):\n",
    "        correct_predictions += 1\n",
    "\n",
    "# Calculate accuracy\n",
    "accuracy = correct_predictions / total_examples\n",
    "print(f\"Accuracy across all features on validation dataset: {accuracy}\")"
   ]
  },
  {
   "cell_type": "code",
   "execution_count": 13,
   "id": "0f043d26",
   "metadata": {},
   "outputs": [
    {
     "name": "stderr",
     "output_type": "stream",
     "text": [
      "UsageError: Line magic function `%tensorboard` not found.\n"
     ]
    }
   ],
   "source": [
    "%tensorboard --logdir logs/fit/f40d19f2194bf44123fef3e3c7d48f0e"
   ]
  }
 ],
 "metadata": {
  "kernelspec": {
   "display_name": "Python 3.8.5 ('sports-betting': venv)",
   "language": "python",
   "name": "python3"
  },
  "language_info": {
   "codemirror_mode": {
    "name": "ipython",
    "version": 3
   },
   "file_extension": ".py",
   "mimetype": "text/x-python",
   "name": "python",
   "nbconvert_exporter": "python",
   "pygments_lexer": "ipython3",
   "version": "3.8.5"
  },
  "vscode": {
   "interpreter": {
    "hash": "42d1e72f09edad5b8341e1a78b673e0aa6929e61770b700654f70887e86e86ac"
   }
  }
 },
 "nbformat": 4,
 "nbformat_minor": 5
}
