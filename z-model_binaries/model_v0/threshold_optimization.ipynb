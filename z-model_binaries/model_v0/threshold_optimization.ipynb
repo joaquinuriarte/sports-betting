{
 "cells": [
  {
   "cell_type": "code",
   "execution_count": 1,
   "metadata": {},
   "outputs": [],
   "source": [
    "######## Find Optimal Decision Boundary Threshold for Models\n",
    "\n",
    "# Loads model's weights\n",
    "# Using validation dataset, find optimal threshold\n",
    "# Test final accuracy on test dataset"
   ]
  },
  {
   "cell_type": "markdown",
   "id": "6b68658b",
   "metadata": {},
   "source": [
    "Import All Required Modules"
   ]
  },
  {
   "cell_type": "code",
   "execution_count": 1,
   "id": "251a0e8a-b944-4323-8731-207322906548",
   "metadata": {
    "collapsed": true,
    "jupyter": {
     "outputs_hidden": true
    }
   },
   "outputs": [
    {
     "name": "stdout",
     "output_type": "stream",
     "text": [
      "# === STEP 0: Imports: Starting ...\n"
     ]
    },
    {
     "name": "stderr",
     "output_type": "stream",
     "text": [
      "2025-01-18 11:05:00.994478: I tensorflow/core/platform/cpu_feature_guard.cc:182] This TensorFlow binary is optimized to use available CPU instructions in performance-critical operations.\n",
      "To enable the following instructions: AVX2 FMA, in other operations, rebuild TensorFlow with the appropriate compiler flags.\n"
     ]
    },
    {
     "name": "stdout",
     "output_type": "stream",
     "text": [
      "# === STEP 0: Imports: Complete\n"
     ]
    }
   ],
   "source": [
    "import sys\n",
    "\n",
    "# Manually add the project root to sys.path\n",
    "sys.path.append('/Users/joaquinuriarte/Documents/GitHub/sports-betting/')\n",
    "\n",
    "# === STEP 0: Imports\n",
    "print(\"# === STEP 0: Imports: Starting ...\")\n",
    "from modules.model_manager.trainer.trainer import Trainer\n",
    "from modules.model_manager.predictor.predictor import Predictor\n",
    "from modules.model_manager.factories.model_factory import ModelFactory\n",
    "from modules.model_manager.helpers.configuration_loader import ConfigurationLoader as MMConfigLoader\n",
    "from modules.model_manager.model_manager import ModelManager\n",
    "print(\"# === STEP 0: Imports: Complete\")"
   ]
  },
  {
   "cell_type": "code",
   "execution_count": 2,
   "id": "eef0ca8d-4980-4561-8348-6ba966b8a785",
   "metadata": {},
   "outputs": [
    {
     "name": "stdout",
     "output_type": "stream",
     "text": [
      "# === STEP 1: Dependency Instantiations And Global Variable Declarations: Starting ...\n",
      "# === STEP 1: Dependency Instantiations And Global Variable Declarations: Complete\n"
     ]
    }
   ],
   "source": [
    "# === STEP 1: Dependency Instantiations And Global Variable Declarations\n",
    "print(\"# === STEP 1: Dependency Instantiations And Global Variable Declarations: Starting ...\")\n",
    "## === MODEL MANAGER\n",
    "yaml_path0 = '/Users/joaquinuriarte/Documents/GitHub/sports-betting/configs/model_v0/model_v0_000.yaml'\n",
    "yaml_path1 = '/Users/joaquinuriarte/Documents/GitHub/sports-betting/configs/model_v0/model_v0_001.yaml'\n",
    "yaml_path2 = '/Users/joaquinuriarte/Documents/GitHub/sports-betting/configs/model_v0/model_v0_002.yaml'\n",
    "yaml_path3 = '/Users/joaquinuriarte/Documents/GitHub/sports-betting/configs/model_v0/model_v0_003.yaml'\n",
    "yaml_path4 = '/Users/joaquinuriarte/Documents/GitHub/sports-betting/configs/model_v0/model_v0_004.yaml'\n",
    "yaml_path5 = '/Users/joaquinuriarte/Documents/GitHub/sports-betting/configs/model_v0/model_v0_005.yaml'\n",
    "yaml_path6 = '/Users/joaquinuriarte/Documents/GitHub/sports-betting/configs/model_v0/model_v0_006.yaml'\n",
    "yaml_path7 = '/Users/joaquinuriarte/Documents/GitHub/sports-betting/configs/model_v0/model_v0_007.yaml'\n",
    "yaml_path8 = '/Users/joaquinuriarte/Documents/GitHub/sports-betting/configs/model_v0/model_v0_008.yaml'\n",
    "yaml_path9 = '/Users/joaquinuriarte/Documents/GitHub/sports-betting/configs/model_v0/model_v0_009.yaml'\n",
    "yaml_path10 = '/Users/joaquinuriarte/Documents/GitHub/sports-betting/configs/model_v0/model_v0_010.yaml'\n",
    "yaml_path11 = '/Users/joaquinuriarte/Documents/GitHub/sports-betting/configs/model_v0/model_v0_011.yaml'\n",
    "yaml_path12 = '/Users/joaquinuriarte/Documents/GitHub/sports-betting/configs/model_v0/model_v0_012.yaml'\n",
    "yaml_path13 = '/Users/joaquinuriarte/Documents/GitHub/sports-betting/configs/model_v0/model_v0_013.yaml'\n",
    "yaml_path14 = '/Users/joaquinuriarte/Documents/GitHub/sports-betting/configs/model_v0/model_v0_014.yaml'\n",
    "yaml_path15 = '/Users/joaquinuriarte/Documents/GitHub/sports-betting/configs/model_v0/model_v0_015.yaml'\n",
    "yaml_path16 = '/Users/joaquinuriarte/Documents/GitHub/sports-betting/configs/model_v0/model_v0_016.yaml'\n",
    "yaml_path17 = '/Users/joaquinuriarte/Documents/GitHub/sports-betting/configs/model_v0/model_v0_017.yaml'\n",
    "yaml_paths = [yaml_path0, yaml_path1, yaml_path2, yaml_path3, yaml_path4, yaml_path5, yaml_path7, yaml_path8,\n",
    "yaml_path9, yaml_path11, yaml_path12, yaml_path13, yaml_path14, yaml_path15, yaml_path16, yaml_path17]\n",
    "\n",
    "checkpoint = '/Users/joaquinuriarte/Documents/GitHub/sports-betting/models'\n",
    "trainer = Trainer(checkpoint)\n",
    "predictor = Predictor()\n",
    "model_factory = ModelFactory()\n",
    "mm_configuration_loader = MMConfigLoader()\n",
    "print(\"# === STEP 1: Dependency Instantiations And Global Variable Declarations: Complete\")"
   ]
  },
  {
   "cell_type": "markdown",
   "id": "4a1c2254",
   "metadata": {},
   "source": [
    "Load Val, and Test Datasets into Memory"
   ]
  },
  {
   "cell_type": "code",
   "execution_count": 3,
   "id": "77a23c84",
   "metadata": {},
   "outputs": [
    {
     "name": "stdout",
     "output_type": "stream",
     "text": [
      "Val dataset leaded to memory\n",
      "Test dataset leaded to memory\n"
     ]
    }
   ],
   "source": [
    "import pickle\n",
    "import os\n",
    "\n",
    "# File path to load train, test, and val datasets\n",
    "train_test_val_dataset_path = \"/Users/joaquinuriarte/Documents/GitHub/sports-betting/processed_datasets/model_v0\"\n",
    "\n",
    "val_dataset_path = train_test_val_dataset_path + \"/val.pkl\"\n",
    "test_dataset_path = train_test_val_dataset_path + \"/test.pkl\"\n",
    "\n",
    "with open(val_dataset_path, \"rb\") as f:\n",
    "    validation_dataset = pickle.load(f)\n",
    "    print(\"Val dataset leaded to memory\")\n",
    "with open(test_dataset_path, \"rb\") as f:\n",
    "    test_dataset = pickle.load(f)\n",
    "    print(\"Test dataset leaded to memory\")"
   ]
  },
  {
   "cell_type": "markdown",
   "id": "feff0899",
   "metadata": {},
   "source": [
    "Load Models"
   ]
  },
  {
   "cell_type": "code",
   "execution_count": 4,
   "id": "20bdff71",
   "metadata": {},
   "outputs": [],
   "source": [
    "## For all YAMLS, get their model's signatures\n",
    "import yaml\n",
    "\n",
    "yaml_path_list = [yaml_path17]\n",
    "signatures = []\n",
    "\n",
    "for yaml_file in yaml_path_list:\n",
    "    with open(yaml_file, \"r\") as file:\n",
    "        config_data = yaml.safe_load(file)\n",
    "\n",
    "    # Save model signature \n",
    "    signatures.append(config_data.get(\"model\", {}).get(\"model_signature\"))\n",
    "\n",
    "## Using model's signatures, get model's weights path\n",
    "weights_paths =[]\n",
    "\n",
    "for signature in signatures:\n",
    "    base_path = '/Users/joaquinuriarte/Documents/GitHub/sports-betting/z-model_binaries/model_v0/models/'\n",
    "    base_file_name = '/model_weights_'\n",
    "\n",
    "    directory = base_path + signature\n",
    "    file_name = base_file_name + signature + \".pth\"\n",
    "\n",
    "    final_file_path = directory + file_name\n",
    "\n",
    "    weights_paths.append(final_file_path) "
   ]
  },
  {
   "cell_type": "code",
   "execution_count": 5,
   "id": "70a902e6",
   "metadata": {},
   "outputs": [
    {
     "name": "stdout",
     "output_type": "stream",
     "text": [
      "Models successfully loaded \n"
     ]
    }
   ],
   "source": [
    "# === STEP 4: MODEL MANAGER\n",
    "model_manager = ModelManager(trainer, predictor, model_factory, mm_configuration_loader)\n",
    "models = model_manager.load_models([yaml_path17], weights_paths)\n",
    "print(\"Models successfully loaded \")"
   ]
  },
  {
   "cell_type": "markdown",
   "id": "d48a97bf",
   "metadata": {},
   "source": [
    "Optimize Thresholds"
   ]
  },
  {
   "cell_type": "code",
   "execution_count": 6,
   "id": "ea8cf070",
   "metadata": {},
   "outputs": [],
   "source": [
    "import numpy as np\n",
    "import pandas as pd\n",
    "\n",
    "def calculate_accuracy(predictions_df: pd.DataFrame) -> float:\n",
    "    \"\"\"\n",
    "    Calculates accuracy from a DataFrame containing predictions and target labels.\n",
    "\n",
    "    Args:\n",
    "        predictions_df (pd.DataFrame): A DataFrame with 'predictions' and 'target_label' columns.\n",
    "\n",
    "    Returns:\n",
    "        float: The accuracy as a percentage.\n",
    "    \"\"\"\n",
    "    # Compare predictions to target labels\n",
    "    correct_predictions = predictions_df['predictions'] == predictions_df['target_label']\n",
    "    accuracy = correct_predictions.sum() / len(predictions_df)\n",
    "    return accuracy\n",
    "\n",
    "def find_optimal_threshold(model, validation_dataset, starting_threshold, ending_threshold, step):\n",
    "    # Define the range of thresholds to evaluate\n",
    "    thresholds = np.arange(starting_threshold, ending_threshold, step)\n",
    "\n",
    "    best_score = -1\n",
    "    optimal_threshold = 0.5\n",
    "\n",
    "    # Iterate through thresholds\n",
    "    for threshold in thresholds:\n",
    "        \n",
    "        # set threshold \n",
    "        model.set_prediction_threshold(threshold)\n",
    "        \n",
    "        # predict using val dataset\n",
    "        prediction_df = model.predict(validation_dataset.examples, return_target_labels=True)\n",
    "\n",
    "        # assess accuracy\n",
    "        score = calculate_accuracy(prediction_df)\n",
    "\n",
    "        # Update the best score and threshold\n",
    "        if score > best_score:\n",
    "            best_score = score\n",
    "            optimal_threshold = threshold\n",
    "    \n",
    "    return optimal_threshold, best_score"
   ]
  },
  {
   "cell_type": "code",
   "execution_count": 7,
   "id": "87eeb280",
   "metadata": {},
   "outputs": [
    {
     "name": "stdout",
     "output_type": "stream",
     "text": [
      "Starting threshold optimization loop ...\n",
      "Threshold optimization loop complete ...\n"
     ]
    }
   ],
   "source": [
    "print(\"Starting threshold optimization loop ...\")\n",
    "final_results = []\n",
    "for model in models:\n",
    "    # Optimize threshold\n",
    "    optimal_threshold, validation_accuracy = find_optimal_threshold(model, validation_dataset, 0.05, 1, .01)\n",
    "\n",
    "    # Set base threshold\n",
    "    model.set_prediction_threshold(.5)\n",
    "    # Predict using val dataset\n",
    "    base_prediction_df = model.predict(validation_dataset.examples, return_target_labels=True)\n",
    "    # Assess accuracy\n",
    "    base_accuracy = calculate_accuracy(base_prediction_df)\n",
    "\n",
    "    # Set final optimal threshold\n",
    "    model.set_prediction_threshold(optimal_threshold)\n",
    "    # Predict using val dataset\n",
    "    final_prediction_df = model.predict(validation_dataset.examples, return_target_labels=True)\n",
    "    # Assess accuracy\n",
    "    final_accuracy = calculate_accuracy(final_prediction_df)\n",
    "\n",
    "    # Get model signature\n",
    "    model_config = model.get_training_config()\n",
    "    model_name = model_config.model_signature\n",
    "\n",
    "    instance = (model_name, optimal_threshold, base_accuracy, final_accuracy)\n",
    "    final_results.append(instance)\n",
    "print(\"Threshold optimization loop complete ...\")"
   ]
  },
  {
   "cell_type": "code",
   "execution_count": 8,
   "id": "4d769114",
   "metadata": {},
   "outputs": [
    {
     "data": {
      "text/plain": [
       "('302c4118ee59d656717db73a125404ab',\n",
       " 0.4700000000000001,\n",
       " 0.5968037725962798,\n",
       " 0.6041393764736704)"
      ]
     },
     "execution_count": 8,
     "metadata": {},
     "output_type": "execute_result"
    }
   ],
   "source": [
    "final_results[0]"
   ]
  }
 ],
 "metadata": {
  "kernelspec": {
   "display_name": "Python 3.8.5 ('sports-betting': venv)",
   "language": "python",
   "name": "python3"
  },
  "language_info": {
   "codemirror_mode": {
    "name": "ipython",
    "version": 3
   },
   "file_extension": ".py",
   "mimetype": "text/x-python",
   "name": "python",
   "nbconvert_exporter": "python",
   "pygments_lexer": "ipython3",
   "version": "3.8.5"
  },
  "vscode": {
   "interpreter": {
    "hash": "42d1e72f09edad5b8341e1a78b673e0aa6929e61770b700654f70887e86e86ac"
   }
  }
 },
 "nbformat": 4,
 "nbformat_minor": 5
}
