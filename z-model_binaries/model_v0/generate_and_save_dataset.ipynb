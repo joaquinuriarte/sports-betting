{
 "cells": [
  {
   "cell_type": "code",
   "execution_count": 2,
   "id": "14be5302",
   "metadata": {},
   "outputs": [],
   "source": [
    "######## Generate and save dataset binary\n",
    "\n",
    "# Generates the processed dataset used by all model v0 candidates\n",
    "# Generates train, val, and test splits\n",
    "# Saves generated train, val, and test datasets to disk for quick loading into memory"
   ]
  },
  {
   "cell_type": "code",
   "execution_count": 6,
   "id": "251a0e8a-b944-4323-8731-207322906548",
   "metadata": {
    "collapsed": true,
    "jupyter": {
     "outputs_hidden": true
    }
   },
   "outputs": [
    {
     "ename": "AttributeError",
     "evalue": "'str' object has no attribute 'append'",
     "output_type": "error",
     "traceback": [
      "\u001b[0;31m---------------------------------------------------------------------------\u001b[0m",
      "\u001b[0;31mAttributeError\u001b[0m                            Traceback (most recent call last)",
      "Cell \u001b[0;32mIn[6], line 6\u001b[0m\n\u001b[1;32m      4\u001b[0m \u001b[38;5;66;03m# Dynamically add the project root to sys.path\u001b[39;00m\n\u001b[1;32m      5\u001b[0m project_root \u001b[38;5;241m=\u001b[39m os\u001b[38;5;241m.\u001b[39mpath\u001b[38;5;241m.\u001b[39mabspath(os\u001b[38;5;241m.\u001b[39mpath\u001b[38;5;241m.\u001b[39mjoin(os\u001b[38;5;241m.\u001b[39mgetcwd(), \u001b[38;5;124m\"\u001b[39m\u001b[38;5;124m../../../..\u001b[39m\u001b[38;5;124m\"\u001b[39m))  \u001b[38;5;66;03m# Adjust based on depth\u001b[39;00m\n\u001b[0;32m----> 6\u001b[0m \u001b[43msys\u001b[49m\u001b[38;5;241;43m.\u001b[39;49m\u001b[43mpath\u001b[49m\u001b[38;5;241;43m.\u001b[39;49m\u001b[43mappend\u001b[49m(project_root)\n\u001b[1;32m      8\u001b[0m \u001b[38;5;28mprint\u001b[39m(sys\u001b[38;5;241m.\u001b[39mpath)\n\u001b[1;32m     11\u001b[0m \u001b[38;5;66;03m# === STEP 0: Imports\u001b[39;00m\n",
      "\u001b[0;31mAttributeError\u001b[0m: 'str' object has no attribute 'append'"
     ]
    }
   ],
   "source": [
    "import sys\n",
    "import os\n",
    "\n",
    "# Dynamically add the project root to sys.path\n",
    "project_root = os.path.abspath(os.path.join(os.getcwd(), \"../../../..\"))  # Adjust based on depth\n",
    "sys.path.append(project_root)\n",
    "\n",
    "print(sys.path)\n",
    "\n",
    "\n",
    "# === STEP 0: Imports\n",
    "print(\"# === STEP 0: Imports: Starting ...\")\n",
    "from modules.dataset_generator.helpers.configuration_loader import ConfigurationLoader as DSConfigLoader\n",
    "from modules.dataset_generator.factories.data_io_factory import DataIOFactory\n",
    "from modules.dataset_generator.factories.feature_processor_factory import FeatureProcessorFactory\n",
    "from modules.dataset_generator.factories.join_factory import JoinFactory\n",
    "from modules.dataset_generator.factories.strategy_factory import StrategyFactory\n",
    "from modules.dataset_generator.dataset_generator import DatasetGenerator\n",
    "from modules.processor.helpers.configuration_loader import ConfigurationLoader as PConfigLoader\n",
    "from modules.processor.factories.split_strategy_factory import SplitStrategyFactory\n",
    "from modules.processor.processor import Processor\n",
    "print(\"# === STEP 0: Imports: Complete\")"
   ]
  },
  {
   "cell_type": "code",
   "execution_count": 2,
   "id": "eef0ca8d-4980-4561-8348-6ba966b8a785",
   "metadata": {},
   "outputs": [
    {
     "name": "stdout",
     "output_type": "stream",
     "text": [
      "# === STEP 1: Dependency Instantiations And Global Variable Declarations: Starting ...\n",
      "# === STEP 1: Dependency Instantiations And Global Variable Declarations: Complete\n"
     ]
    }
   ],
   "source": [
    "# === STEP 1: Dependency Instantiations And Global Variable Declarations\n",
    "print(\"# === STEP 1: Dependency Instantiations And Global Variable Declarations: Starting ...\")\n",
    "## === DATASET GEN\n",
    "yaml_path = '/Users/joaquinuriarte/Documents/GitHub/sports-betting/configs/model_v0/model_v0.yaml'\n",
    "ds_configuration_loader = DSConfigLoader()\n",
    "data_factory, feature_processor_factory, join_factory, strategy_factory = DataIOFactory(), FeatureProcessorFactory(), JoinFactory(), StrategyFactory()\n",
    "## === PROCESSOR\n",
    "p_configuration_loader = PConfigLoader()\n",
    "split_strategy_factory = SplitStrategyFactory()\n",
    "## === MODEL MANAGER\n",
    "checkpoint = '/Users/joaquinuriarte/Documents/GitHub/sports-betting/models'\n",
    "trainer = Trainer(checkpoint)\n",
    "predictor = Predictor()\n",
    "model_factory = ModelFactory()\n",
    "mm_configuration_loader = MMConfigLoader()\n",
    "print(\"# === STEP 1: Dependency Instantiations And Global Variable Declarations: Complete\")"
   ]
  },
  {
   "cell_type": "code",
   "execution_count": 3,
   "id": "cb5ab980-4b87-4271-afbf-f41b4250bee2",
   "metadata": {},
   "outputs": [
    {
     "name": "stdout",
     "output_type": "stream",
     "text": [
      "# === STEP 2: DATASET GEN: Starting ...\n"
     ]
    }
   ],
   "source": [
    "# === STEP 2: DATASET GEN\n",
    "print(\"# === STEP 2: DATASET GEN: Starting ...\")\n",
    "dataset_generator = DatasetGenerator(yaml_path, ds_configuration_loader, data_factory, feature_processor_factory, join_factory, strategy_factory)"
   ]
  },
  {
   "cell_type": "code",
   "execution_count": null,
   "id": "cdbf561d-25b7-4cdc-829b-f022bb4a7f47",
   "metadata": {},
   "outputs": [],
   "source": [
    "processed_dataset = dataset_generator.generate()\n",
    "print(\"# === STEP 2: DATASET GEN: Complete\")"
   ]
  },
  {
   "cell_type": "code",
   "execution_count": 4,
   "id": "d81fc9f8",
   "metadata": {},
   "outputs": [],
   "source": [
    "# File path to save and load the processed dataset\n",
    "processed_dataset_path = \"/Users/joaquinuriarte/Documents/GitHub/sports-betting/processed_datasets/processed_dataset.pkl\""
   ]
  },
  {
   "cell_type": "code",
   "execution_count": null,
   "id": "2db07225",
   "metadata": {},
   "outputs": [],
   "source": [
    "## Use to save processed dataset to disk ## \n",
    "import pickle\n",
    "import os\n",
    "\n",
    "with open(processed_dataset_path, \"wb\") as f:\n",
    "        pickle.dump(processed_dataset, f)\n",
    "        print(\"# === STEP 2: DATASET GEN: Saved to file\")"
   ]
  },
  {
   "cell_type": "code",
   "execution_count": 5,
   "id": "14a8608d",
   "metadata": {},
   "outputs": [
    {
     "name": "stdout",
     "output_type": "stream",
     "text": [
      "# === STEP 2: DATASET GEN: Loading from saved file\n"
     ]
    }
   ],
   "source": [
    "## Use to load processed dataset if computed already ## \n",
    "import pickle\n",
    "import os\n",
    "\n",
    "print(\"# === STEP 2: DATASET GEN: Loading from saved file\")\n",
    "with open(processed_dataset_path, \"rb\") as f:\n",
    "    processed_dataset = pickle.load(f)"
   ]
  },
  {
   "cell_type": "code",
   "execution_count": 6,
   "id": "0c867dcb",
   "metadata": {},
   "outputs": [
    {
     "data": {
      "text/html": [
       "<div>\n",
       "<style scoped>\n",
       "    .dataframe tbody tr th:only-of-type {\n",
       "        vertical-align: middle;\n",
       "    }\n",
       "\n",
       "    .dataframe tbody tr th {\n",
       "        vertical-align: top;\n",
       "    }\n",
       "\n",
       "    .dataframe thead th {\n",
       "        text-align: right;\n",
       "    }\n",
       "</style>\n",
       "<table border=\"1\" class=\"dataframe\">\n",
       "  <thead>\n",
       "    <tr style=\"text-align: right;\">\n",
       "      <th></th>\n",
       "      <th>A_player_1_MIN</th>\n",
       "      <th>A_player_1_PTS</th>\n",
       "      <th>A_player_1_AST</th>\n",
       "      <th>A_player_1_TO</th>\n",
       "      <th>A_player_1_PLUS_MINUS</th>\n",
       "      <th>A_player_1_OREB</th>\n",
       "      <th>A_player_1_DREB</th>\n",
       "      <th>A_player_1_PF</th>\n",
       "      <th>A_player_1_FG3_PCT</th>\n",
       "      <th>A_player_1_FG_PCT</th>\n",
       "      <th>...</th>\n",
       "      <th>B_player_8_AST</th>\n",
       "      <th>B_player_8_TO</th>\n",
       "      <th>B_player_8_PLUS_MINUS</th>\n",
       "      <th>B_player_8_OREB</th>\n",
       "      <th>B_player_8_DREB</th>\n",
       "      <th>B_player_8_PF</th>\n",
       "      <th>B_player_8_FG3_PCT</th>\n",
       "      <th>B_player_8_FG_PCT</th>\n",
       "      <th>B_player_8_FT_PCT</th>\n",
       "      <th>Team_A_Wins</th>\n",
       "    </tr>\n",
       "    <tr>\n",
       "      <th>GAME_ID</th>\n",
       "      <th></th>\n",
       "      <th></th>\n",
       "      <th></th>\n",
       "      <th></th>\n",
       "      <th></th>\n",
       "      <th></th>\n",
       "      <th></th>\n",
       "      <th></th>\n",
       "      <th></th>\n",
       "      <th></th>\n",
       "      <th></th>\n",
       "      <th></th>\n",
       "      <th></th>\n",
       "      <th></th>\n",
       "      <th></th>\n",
       "      <th></th>\n",
       "      <th></th>\n",
       "      <th></th>\n",
       "      <th></th>\n",
       "      <th></th>\n",
       "      <th></th>\n",
       "    </tr>\n",
       "  </thead>\n",
       "  <tbody>\n",
       "    <tr>\n",
       "      <th>11400001</th>\n",
       "      <td>41.266667</td>\n",
       "      <td>31.0</td>\n",
       "      <td>5.0</td>\n",
       "      <td>1.0</td>\n",
       "      <td>-16.0</td>\n",
       "      <td>1.0</td>\n",
       "      <td>9.0</td>\n",
       "      <td>1.0</td>\n",
       "      <td>0.333</td>\n",
       "      <td>0.476</td>\n",
       "      <td>...</td>\n",
       "      <td>0.0</td>\n",
       "      <td>0.0</td>\n",
       "      <td>-11.0</td>\n",
       "      <td>0.0</td>\n",
       "      <td>0.0</td>\n",
       "      <td>4.0</td>\n",
       "      <td>0.0000</td>\n",
       "      <td>0.6670</td>\n",
       "      <td>0.0</td>\n",
       "      <td>0</td>\n",
       "    </tr>\n",
       "    <tr>\n",
       "      <th>11400002</th>\n",
       "      <td>45.083333</td>\n",
       "      <td>18.0</td>\n",
       "      <td>6.0</td>\n",
       "      <td>2.0</td>\n",
       "      <td>2.0</td>\n",
       "      <td>0.0</td>\n",
       "      <td>2.0</td>\n",
       "      <td>2.0</td>\n",
       "      <td>0.500</td>\n",
       "      <td>0.417</td>\n",
       "      <td>...</td>\n",
       "      <td>4.0</td>\n",
       "      <td>2.0</td>\n",
       "      <td>5.0</td>\n",
       "      <td>0.0</td>\n",
       "      <td>0.0</td>\n",
       "      <td>2.0</td>\n",
       "      <td>0.0000</td>\n",
       "      <td>0.4000</td>\n",
       "      <td>0.0</td>\n",
       "      <td>1</td>\n",
       "    </tr>\n",
       "    <tr>\n",
       "      <th>11400004</th>\n",
       "      <td>43.200000</td>\n",
       "      <td>6.0</td>\n",
       "      <td>7.0</td>\n",
       "      <td>4.0</td>\n",
       "      <td>-1.0</td>\n",
       "      <td>2.0</td>\n",
       "      <td>16.0</td>\n",
       "      <td>1.0</td>\n",
       "      <td>0.000</td>\n",
       "      <td>0.375</td>\n",
       "      <td>...</td>\n",
       "      <td>0.0</td>\n",
       "      <td>0.0</td>\n",
       "      <td>2.0</td>\n",
       "      <td>0.0</td>\n",
       "      <td>0.0</td>\n",
       "      <td>1.0</td>\n",
       "      <td>0.0000</td>\n",
       "      <td>0.0000</td>\n",
       "      <td>0.0</td>\n",
       "      <td>0</td>\n",
       "    </tr>\n",
       "    <tr>\n",
       "      <th>11400005</th>\n",
       "      <td>36.600000</td>\n",
       "      <td>12.0</td>\n",
       "      <td>2.0</td>\n",
       "      <td>1.0</td>\n",
       "      <td>9.0</td>\n",
       "      <td>1.0</td>\n",
       "      <td>7.0</td>\n",
       "      <td>3.0</td>\n",
       "      <td>0.000</td>\n",
       "      <td>0.545</td>\n",
       "      <td>...</td>\n",
       "      <td>1.0</td>\n",
       "      <td>0.0</td>\n",
       "      <td>6.0</td>\n",
       "      <td>0.0</td>\n",
       "      <td>5.0</td>\n",
       "      <td>4.0</td>\n",
       "      <td>0.5000</td>\n",
       "      <td>0.6670</td>\n",
       "      <td>1.0</td>\n",
       "      <td>1</td>\n",
       "    </tr>\n",
       "    <tr>\n",
       "      <th>11400006</th>\n",
       "      <td>36.866667</td>\n",
       "      <td>18.0</td>\n",
       "      <td>3.0</td>\n",
       "      <td>5.0</td>\n",
       "      <td>-17.0</td>\n",
       "      <td>2.0</td>\n",
       "      <td>3.0</td>\n",
       "      <td>4.0</td>\n",
       "      <td>0.429</td>\n",
       "      <td>0.389</td>\n",
       "      <td>...</td>\n",
       "      <td>0.0</td>\n",
       "      <td>0.0</td>\n",
       "      <td>13.0</td>\n",
       "      <td>0.0</td>\n",
       "      <td>3.0</td>\n",
       "      <td>4.0</td>\n",
       "      <td>0.0000</td>\n",
       "      <td>0.6000</td>\n",
       "      <td>1.0</td>\n",
       "      <td>1</td>\n",
       "    </tr>\n",
       "    <tr>\n",
       "      <th>...</th>\n",
       "      <td>...</td>\n",
       "      <td>...</td>\n",
       "      <td>...</td>\n",
       "      <td>...</td>\n",
       "      <td>...</td>\n",
       "      <td>...</td>\n",
       "      <td>...</td>\n",
       "      <td>...</td>\n",
       "      <td>...</td>\n",
       "      <td>...</td>\n",
       "      <td>...</td>\n",
       "      <td>...</td>\n",
       "      <td>...</td>\n",
       "      <td>...</td>\n",
       "      <td>...</td>\n",
       "      <td>...</td>\n",
       "      <td>...</td>\n",
       "      <td>...</td>\n",
       "      <td>...</td>\n",
       "      <td>...</td>\n",
       "      <td>...</td>\n",
       "    </tr>\n",
       "    <tr>\n",
       "      <th>52100111</th>\n",
       "      <td>32.566667</td>\n",
       "      <td>22.0</td>\n",
       "      <td>0.0</td>\n",
       "      <td>2.0</td>\n",
       "      <td>18.0</td>\n",
       "      <td>0.0</td>\n",
       "      <td>2.0</td>\n",
       "      <td>1.0</td>\n",
       "      <td>1.000</td>\n",
       "      <td>0.538</td>\n",
       "      <td>...</td>\n",
       "      <td>0.0</td>\n",
       "      <td>0.0</td>\n",
       "      <td>-4.0</td>\n",
       "      <td>0.0</td>\n",
       "      <td>0.0</td>\n",
       "      <td>0.0</td>\n",
       "      <td>0.0000</td>\n",
       "      <td>0.0000</td>\n",
       "      <td>0.0</td>\n",
       "      <td>1</td>\n",
       "    </tr>\n",
       "    <tr>\n",
       "      <th>52100121</th>\n",
       "      <td>21.316667</td>\n",
       "      <td>13.0</td>\n",
       "      <td>2.0</td>\n",
       "      <td>0.0</td>\n",
       "      <td>-3.0</td>\n",
       "      <td>3.0</td>\n",
       "      <td>0.0</td>\n",
       "      <td>4.0</td>\n",
       "      <td>0.000</td>\n",
       "      <td>0.714</td>\n",
       "      <td>...</td>\n",
       "      <td>2.5</td>\n",
       "      <td>0.5</td>\n",
       "      <td>14.5</td>\n",
       "      <td>0.0</td>\n",
       "      <td>3.0</td>\n",
       "      <td>2.0</td>\n",
       "      <td>0.4165</td>\n",
       "      <td>0.4285</td>\n",
       "      <td>0.5</td>\n",
       "      <td>1</td>\n",
       "    </tr>\n",
       "    <tr>\n",
       "      <th>52100131</th>\n",
       "      <td>32.316667</td>\n",
       "      <td>19.0</td>\n",
       "      <td>6.0</td>\n",
       "      <td>3.0</td>\n",
       "      <td>-13.0</td>\n",
       "      <td>3.0</td>\n",
       "      <td>2.0</td>\n",
       "      <td>2.0</td>\n",
       "      <td>0.000</td>\n",
       "      <td>0.533</td>\n",
       "      <td>...</td>\n",
       "      <td>1.0</td>\n",
       "      <td>0.0</td>\n",
       "      <td>-1.0</td>\n",
       "      <td>2.0</td>\n",
       "      <td>2.0</td>\n",
       "      <td>0.0</td>\n",
       "      <td>0.0000</td>\n",
       "      <td>0.5000</td>\n",
       "      <td>1.0</td>\n",
       "      <td>1</td>\n",
       "    </tr>\n",
       "    <tr>\n",
       "      <th>52100201</th>\n",
       "      <td>40.000000</td>\n",
       "      <td>12.0</td>\n",
       "      <td>7.0</td>\n",
       "      <td>2.0</td>\n",
       "      <td>2.0</td>\n",
       "      <td>1.0</td>\n",
       "      <td>6.0</td>\n",
       "      <td>3.0</td>\n",
       "      <td>0.500</td>\n",
       "      <td>0.333</td>\n",
       "      <td>...</td>\n",
       "      <td>1.0</td>\n",
       "      <td>0.0</td>\n",
       "      <td>2.0</td>\n",
       "      <td>0.0</td>\n",
       "      <td>0.0</td>\n",
       "      <td>1.0</td>\n",
       "      <td>0.0000</td>\n",
       "      <td>1.0000</td>\n",
       "      <td>0.0</td>\n",
       "      <td>0</td>\n",
       "    </tr>\n",
       "    <tr>\n",
       "      <th>52100211</th>\n",
       "      <td>41.750000</td>\n",
       "      <td>17.0</td>\n",
       "      <td>5.0</td>\n",
       "      <td>5.0</td>\n",
       "      <td>-7.0</td>\n",
       "      <td>1.0</td>\n",
       "      <td>6.0</td>\n",
       "      <td>5.0</td>\n",
       "      <td>0.500</td>\n",
       "      <td>0.389</td>\n",
       "      <td>...</td>\n",
       "      <td>0.0</td>\n",
       "      <td>1.0</td>\n",
       "      <td>2.0</td>\n",
       "      <td>2.0</td>\n",
       "      <td>6.0</td>\n",
       "      <td>1.0</td>\n",
       "      <td>0.0000</td>\n",
       "      <td>0.0000</td>\n",
       "      <td>0.0</td>\n",
       "      <td>0</td>\n",
       "    </tr>\n",
       "  </tbody>\n",
       "</table>\n",
       "<p>25445 rows × 177 columns</p>\n",
       "</div>"
      ],
      "text/plain": [
       "          A_player_1_MIN  A_player_1_PTS  A_player_1_AST  A_player_1_TO  \\\n",
       "GAME_ID                                                                   \n",
       "11400001       41.266667            31.0             5.0            1.0   \n",
       "11400002       45.083333            18.0             6.0            2.0   \n",
       "11400004       43.200000             6.0             7.0            4.0   \n",
       "11400005       36.600000            12.0             2.0            1.0   \n",
       "11400006       36.866667            18.0             3.0            5.0   \n",
       "...                  ...             ...             ...            ...   \n",
       "52100111       32.566667            22.0             0.0            2.0   \n",
       "52100121       21.316667            13.0             2.0            0.0   \n",
       "52100131       32.316667            19.0             6.0            3.0   \n",
       "52100201       40.000000            12.0             7.0            2.0   \n",
       "52100211       41.750000            17.0             5.0            5.0   \n",
       "\n",
       "          A_player_1_PLUS_MINUS  A_player_1_OREB  A_player_1_DREB  \\\n",
       "GAME_ID                                                             \n",
       "11400001                  -16.0              1.0              9.0   \n",
       "11400002                    2.0              0.0              2.0   \n",
       "11400004                   -1.0              2.0             16.0   \n",
       "11400005                    9.0              1.0              7.0   \n",
       "11400006                  -17.0              2.0              3.0   \n",
       "...                         ...              ...              ...   \n",
       "52100111                   18.0              0.0              2.0   \n",
       "52100121                   -3.0              3.0              0.0   \n",
       "52100131                  -13.0              3.0              2.0   \n",
       "52100201                    2.0              1.0              6.0   \n",
       "52100211                   -7.0              1.0              6.0   \n",
       "\n",
       "          A_player_1_PF  A_player_1_FG3_PCT  A_player_1_FG_PCT  ...  \\\n",
       "GAME_ID                                                         ...   \n",
       "11400001            1.0               0.333              0.476  ...   \n",
       "11400002            2.0               0.500              0.417  ...   \n",
       "11400004            1.0               0.000              0.375  ...   \n",
       "11400005            3.0               0.000              0.545  ...   \n",
       "11400006            4.0               0.429              0.389  ...   \n",
       "...                 ...                 ...                ...  ...   \n",
       "52100111            1.0               1.000              0.538  ...   \n",
       "52100121            4.0               0.000              0.714  ...   \n",
       "52100131            2.0               0.000              0.533  ...   \n",
       "52100201            3.0               0.500              0.333  ...   \n",
       "52100211            5.0               0.500              0.389  ...   \n",
       "\n",
       "          B_player_8_AST  B_player_8_TO  B_player_8_PLUS_MINUS  \\\n",
       "GAME_ID                                                          \n",
       "11400001             0.0            0.0                  -11.0   \n",
       "11400002             4.0            2.0                    5.0   \n",
       "11400004             0.0            0.0                    2.0   \n",
       "11400005             1.0            0.0                    6.0   \n",
       "11400006             0.0            0.0                   13.0   \n",
       "...                  ...            ...                    ...   \n",
       "52100111             0.0            0.0                   -4.0   \n",
       "52100121             2.5            0.5                   14.5   \n",
       "52100131             1.0            0.0                   -1.0   \n",
       "52100201             1.0            0.0                    2.0   \n",
       "52100211             0.0            1.0                    2.0   \n",
       "\n",
       "          B_player_8_OREB  B_player_8_DREB  B_player_8_PF  B_player_8_FG3_PCT  \\\n",
       "GAME_ID                                                                         \n",
       "11400001              0.0              0.0            4.0              0.0000   \n",
       "11400002              0.0              0.0            2.0              0.0000   \n",
       "11400004              0.0              0.0            1.0              0.0000   \n",
       "11400005              0.0              5.0            4.0              0.5000   \n",
       "11400006              0.0              3.0            4.0              0.0000   \n",
       "...                   ...              ...            ...                 ...   \n",
       "52100111              0.0              0.0            0.0              0.0000   \n",
       "52100121              0.0              3.0            2.0              0.4165   \n",
       "52100131              2.0              2.0            0.0              0.0000   \n",
       "52100201              0.0              0.0            1.0              0.0000   \n",
       "52100211              2.0              6.0            1.0              0.0000   \n",
       "\n",
       "          B_player_8_FG_PCT  B_player_8_FT_PCT  Team_A_Wins  \n",
       "GAME_ID                                                      \n",
       "11400001             0.6670                0.0            0  \n",
       "11400002             0.4000                0.0            1  \n",
       "11400004             0.0000                0.0            0  \n",
       "11400005             0.6670                1.0            1  \n",
       "11400006             0.6000                1.0            1  \n",
       "...                     ...                ...          ...  \n",
       "52100111             0.0000                0.0            1  \n",
       "52100121             0.4285                0.5            1  \n",
       "52100131             0.5000                1.0            1  \n",
       "52100201             1.0000                0.0            0  \n",
       "52100211             0.0000                0.0            0  \n",
       "\n",
       "[25445 rows x 177 columns]"
      ]
     },
     "execution_count": 6,
     "metadata": {},
     "output_type": "execute_result"
    }
   ],
   "source": [
    "processed_dataset.features"
   ]
  },
  {
   "cell_type": "code",
   "execution_count": 6,
   "id": "7ca54e3c-f921-4d71-b0a6-857271282502",
   "metadata": {},
   "outputs": [
    {
     "name": "stdout",
     "output_type": "stream",
     "text": [
      "# === STEP 3: PROCESSOR: Starting ...\n"
     ]
    }
   ],
   "source": [
    "# === STEP 3: PROCESSOR\n",
    "print(\"# === STEP 3: PROCESSOR: Starting ...\")\n",
    "processor = Processor(yaml_path, p_configuration_loader, processed_dataset, split_strategy_factory)"
   ]
  },
  {
   "cell_type": "code",
   "execution_count": 7,
   "id": "e5e72e7a-9069-43f6-9872-8cb18519caaa",
   "metadata": {},
   "outputs": [
    {
     "name": "stdout",
     "output_type": "stream",
     "text": [
      "# === STEP 3: PROCESSOR: Complete\n"
     ]
    }
   ],
   "source": [
    "train_dataset, validation_dataset, test_dataset = processor.generate()\n",
    "print(\"# === STEP 3: PROCESSOR: Complete\")"
   ]
  },
  {
   "cell_type": "code",
   "execution_count": 8,
   "id": "eaf5a194",
   "metadata": {},
   "outputs": [
    {
     "data": {
      "text/plain": [
       "17811"
      ]
     },
     "execution_count": 8,
     "metadata": {},
     "output_type": "execute_result"
    }
   ],
   "source": [
    "len(train_dataset.examples)"
   ]
  },
  {
   "cell_type": "code",
   "execution_count": 9,
   "id": "803cc719",
   "metadata": {},
   "outputs": [
    {
     "name": "stdout",
     "output_type": "stream",
     "text": [
      "# === STEP 3.5: Assessing dataset inbalance: Starting...\n",
      "Number of 1s (Team A wins) in train: 10480 (58.84%)\n",
      "Number of 0s (Team A does not win) in train: 7331 (41.16%)\n",
      "Number of 1s (Team A wins) in val: 2255 (59.08%)\n",
      "Number of 0s (Team A does not win) in val: 1562 (40.92%)\n",
      "Number of 1s (Team A wins) in test: 2262 (59.26%)\n",
      "Number of 0s (Team A does not win) in test: 1555 (40.74%)\n",
      "# === STEP 3.5: Assessing dataset inbalance: Complete\n"
     ]
    }
   ],
   "source": [
    "print(\"# === STEP 3.5: Assessing dataset inbalance: Starting...\")\n",
    "from collections import Counter\n",
    "# Function to calculate dataset balance\n",
    "def calculate_balance(dataset, name):\n",
    "    # Extract \"Team_A_Wins\" labels\n",
    "    y_labels = [example.features[\"Team_A_Wins\"][0] for example in dataset.examples]\n",
    "\n",
    "    # Count occurrences of each label\n",
    "    label_counts = Counter(y_labels)\n",
    "    num_1s = label_counts[1]\n",
    "    num_0s = label_counts[0]\n",
    "\n",
    "    # Calculate proportions\n",
    "    total_samples = len(y_labels)\n",
    "    proportion_1s = num_1s / total_samples * 100\n",
    "    proportion_0s = num_0s / total_samples * 100\n",
    "\n",
    "    # Display results\n",
    "    print(f\"Number of 1s (Team A wins) in {name}: {num_1s} ({proportion_1s:.2f}%)\")\n",
    "    print(f\"Number of 0s (Team A does not win) in {name}: {num_0s} ({proportion_0s:.2f}%)\")\n",
    "\n",
    "# Assuming your dataset is loaded into memory as `my_dataset`\n",
    "calculate_balance(train_dataset, \"train\")\n",
    "calculate_balance(validation_dataset, \"val\")\n",
    "calculate_balance(test_dataset, \"test\")\n",
    "\n",
    "print(\"# === STEP 3.5: Assessing dataset inbalance: Complete\")"
   ]
  },
  {
   "cell_type": "code",
   "execution_count": 10,
   "id": "b66b2d17-0154-4ac7-b6e4-2388aaa130eb",
   "metadata": {},
   "outputs": [
    {
     "name": "stdout",
     "output_type": "stream",
     "text": [
      "# === STEP 4: MODEL MANAGER: Starting ...\n"
     ]
    }
   ],
   "source": [
    "# === STEP 4: MODEL MANAGER\n",
    "print(\"# === STEP 4: MODEL MANAGER: Starting ...\")\n",
    "model_manager = ModelManager(trainer, predictor, model_factory, mm_configuration_loader)\n",
    "models = model_manager.create_models([yaml_path])"
   ]
  },
  {
   "cell_type": "code",
   "execution_count": 11,
   "id": "1fec0485",
   "metadata": {},
   "outputs": [
    {
     "data": {
      "text/plain": [
       "177"
      ]
     },
     "execution_count": 11,
     "metadata": {},
     "output_type": "execute_result"
    }
   ],
   "source": [
    "train_dataset.examples[0].features\n",
    "len(train_dataset.examples[0].features) # should be 177"
   ]
  },
  {
   "cell_type": "code",
   "execution_count": 12,
   "id": "3437639c-6666-4c76-a827-706148a9fa7f",
   "metadata": {},
   "outputs": [
    {
     "name": "stderr",
     "output_type": "stream",
     "text": [
      "INFO:root:Training model '8997782287ac95361ce10ecee1af1840' for 20 epochs with batch size 32.\n",
      "INFO:root:Model '8997782287ac95361ce10ecee1af1840': Starting epoch 1/20.\n"
     ]
    },
    {
     "name": "stdout",
     "output_type": "stream",
     "text": [
      "557/557 [==============================] - 2s 2ms/step - loss: 0.7074 - accuracy: 0.5146 - val_loss: 0.7216 - val_accuracy: 0.5944\n"
     ]
    },
    {
     "name": "stderr",
     "output_type": "stream",
     "text": [
      "INFO:root:Model '8997782287ac95361ce10ecee1af1840': Starting epoch 2/20.\n"
     ]
    },
    {
     "name": "stdout",
     "output_type": "stream",
     "text": [
      "557/557 [==============================] - 1s 2ms/step - loss: 0.6715 - accuracy: 0.5269 - val_loss: 0.6690 - val_accuracy: 0.5179\n"
     ]
    },
    {
     "name": "stderr",
     "output_type": "stream",
     "text": [
      "INFO:root:Model '8997782287ac95361ce10ecee1af1840': Starting epoch 3/20.\n"
     ]
    },
    {
     "name": "stdout",
     "output_type": "stream",
     "text": [
      "557/557 [==============================] - 1s 2ms/step - loss: 0.6662 - accuracy: 0.5289 - val_loss: 0.6721 - val_accuracy: 0.5041\n"
     ]
    },
    {
     "name": "stderr",
     "output_type": "stream",
     "text": [
      "INFO:root:Model '8997782287ac95361ce10ecee1af1840': Starting epoch 4/20.\n"
     ]
    },
    {
     "name": "stdout",
     "output_type": "stream",
     "text": [
      "557/557 [==============================] - 1s 2ms/step - loss: 0.6631 - accuracy: 0.5330 - val_loss: 0.6733 - val_accuracy: 0.4742\n"
     ]
    },
    {
     "name": "stderr",
     "output_type": "stream",
     "text": [
      "INFO:root:Model '8997782287ac95361ce10ecee1af1840': Starting epoch 5/20.\n"
     ]
    },
    {
     "name": "stdout",
     "output_type": "stream",
     "text": [
      "557/557 [==============================] - 1s 2ms/step - loss: 0.6613 - accuracy: 0.5378 - val_loss: 0.6838 - val_accuracy: 0.5748\n"
     ]
    },
    {
     "name": "stderr",
     "output_type": "stream",
     "text": [
      "INFO:root:Model '8997782287ac95361ce10ecee1af1840': Starting epoch 6/20.\n"
     ]
    },
    {
     "name": "stdout",
     "output_type": "stream",
     "text": [
      "557/557 [==============================] - 1s 2ms/step - loss: 0.6594 - accuracy: 0.5492 - val_loss: 0.6800 - val_accuracy: 0.5745\n"
     ]
    },
    {
     "name": "stderr",
     "output_type": "stream",
     "text": [
      "INFO:root:Model '8997782287ac95361ce10ecee1af1840': Starting epoch 7/20.\n"
     ]
    },
    {
     "name": "stdout",
     "output_type": "stream",
     "text": [
      "557/557 [==============================] - 2s 3ms/step - loss: 0.6578 - accuracy: 0.5470 - val_loss: 0.6745 - val_accuracy: 0.5151\n"
     ]
    },
    {
     "name": "stderr",
     "output_type": "stream",
     "text": [
      "INFO:root:Model '8997782287ac95361ce10ecee1af1840': Starting epoch 8/20.\n"
     ]
    },
    {
     "name": "stdout",
     "output_type": "stream",
     "text": [
      "557/557 [==============================] - 1s 2ms/step - loss: 0.6553 - accuracy: 0.5498 - val_loss: 0.6717 - val_accuracy: 0.5276\n"
     ]
    },
    {
     "name": "stderr",
     "output_type": "stream",
     "text": [
      "INFO:root:Model '8997782287ac95361ce10ecee1af1840': Starting epoch 9/20.\n"
     ]
    },
    {
     "name": "stdout",
     "output_type": "stream",
     "text": [
      "557/557 [==============================] - 1s 2ms/step - loss: 0.6535 - accuracy: 0.5565 - val_loss: 0.6785 - val_accuracy: 0.5596\n"
     ]
    },
    {
     "name": "stderr",
     "output_type": "stream",
     "text": [
      "INFO:root:Model '8997782287ac95361ce10ecee1af1840': Starting epoch 10/20.\n"
     ]
    },
    {
     "name": "stdout",
     "output_type": "stream",
     "text": [
      "557/557 [==============================] - 1s 2ms/step - loss: 0.6484 - accuracy: 0.5634 - val_loss: 0.6853 - val_accuracy: 0.5672\n"
     ]
    },
    {
     "name": "stderr",
     "output_type": "stream",
     "text": [
      "INFO:root:Model '8997782287ac95361ce10ecee1af1840': Starting epoch 11/20.\n"
     ]
    },
    {
     "name": "stdout",
     "output_type": "stream",
     "text": [
      "557/557 [==============================] - 1s 2ms/step - loss: 0.6449 - accuracy: 0.5713 - val_loss: 0.6762 - val_accuracy: 0.5025\n"
     ]
    },
    {
     "name": "stderr",
     "output_type": "stream",
     "text": [
      "INFO:root:Model '8997782287ac95361ce10ecee1af1840': Starting epoch 12/20.\n"
     ]
    },
    {
     "name": "stdout",
     "output_type": "stream",
     "text": [
      "557/557 [==============================] - 1s 2ms/step - loss: 0.6387 - accuracy: 0.5799 - val_loss: 0.6891 - val_accuracy: 0.5090\n"
     ]
    },
    {
     "name": "stderr",
     "output_type": "stream",
     "text": [
      "INFO:root:Model '8997782287ac95361ce10ecee1af1840': Starting epoch 13/20.\n"
     ]
    },
    {
     "name": "stdout",
     "output_type": "stream",
     "text": [
      "557/557 [==============================] - 1s 2ms/step - loss: 0.6343 - accuracy: 0.5803 - val_loss: 0.7014 - val_accuracy: 0.4852\n"
     ]
    },
    {
     "name": "stderr",
     "output_type": "stream",
     "text": [
      "INFO:root:Model '8997782287ac95361ce10ecee1af1840': Starting epoch 14/20.\n"
     ]
    },
    {
     "name": "stdout",
     "output_type": "stream",
     "text": [
      "557/557 [==============================] - 1s 2ms/step - loss: 0.6254 - accuracy: 0.6010 - val_loss: 0.7054 - val_accuracy: 0.5358\n"
     ]
    },
    {
     "name": "stderr",
     "output_type": "stream",
     "text": [
      "INFO:root:Model '8997782287ac95361ce10ecee1af1840': Starting epoch 15/20.\n"
     ]
    },
    {
     "name": "stdout",
     "output_type": "stream",
     "text": [
      "557/557 [==============================] - 1s 2ms/step - loss: 0.6161 - accuracy: 0.6092 - val_loss: 0.7112 - val_accuracy: 0.5350\n"
     ]
    },
    {
     "name": "stderr",
     "output_type": "stream",
     "text": [
      "INFO:root:Model '8997782287ac95361ce10ecee1af1840': Starting epoch 16/20.\n"
     ]
    },
    {
     "name": "stdout",
     "output_type": "stream",
     "text": [
      "557/557 [==============================] - 1s 2ms/step - loss: 0.6094 - accuracy: 0.6148 - val_loss: 0.7399 - val_accuracy: 0.5434\n"
     ]
    },
    {
     "name": "stderr",
     "output_type": "stream",
     "text": [
      "INFO:root:Model '8997782287ac95361ce10ecee1af1840': Starting epoch 17/20.\n"
     ]
    },
    {
     "name": "stdout",
     "output_type": "stream",
     "text": [
      "557/557 [==============================] - 1s 2ms/step - loss: 0.5989 - accuracy: 0.6303 - val_loss: 0.7137 - val_accuracy: 0.5352\n"
     ]
    },
    {
     "name": "stderr",
     "output_type": "stream",
     "text": [
      "INFO:root:Model '8997782287ac95361ce10ecee1af1840': Starting epoch 18/20.\n"
     ]
    },
    {
     "name": "stdout",
     "output_type": "stream",
     "text": [
      "557/557 [==============================] - 1s 2ms/step - loss: 0.5886 - accuracy: 0.6415 - val_loss: 0.7363 - val_accuracy: 0.5219\n"
     ]
    },
    {
     "name": "stderr",
     "output_type": "stream",
     "text": [
      "INFO:root:Model '8997782287ac95361ce10ecee1af1840': Starting epoch 19/20.\n"
     ]
    },
    {
     "name": "stdout",
     "output_type": "stream",
     "text": [
      "557/557 [==============================] - 1s 2ms/step - loss: 0.5781 - accuracy: 0.6508 - val_loss: 0.7782 - val_accuracy: 0.5533\n"
     ]
    },
    {
     "name": "stderr",
     "output_type": "stream",
     "text": [
      "INFO:root:Model '8997782287ac95361ce10ecee1af1840': Starting epoch 20/20.\n"
     ]
    },
    {
     "name": "stdout",
     "output_type": "stream",
     "text": [
      "557/557 [==============================] - 1s 2ms/step - loss: 0.5662 - accuracy: 0.6628 - val_loss: 0.7573 - val_accuracy: 0.5250\n"
     ]
    },
    {
     "name": "stderr",
     "output_type": "stream",
     "text": [
      "INFO:root:Model '8997782287ac95361ce10ecee1af1840': Finished training.\n"
     ]
    },
    {
     "name": "stdout",
     "output_type": "stream",
     "text": [
      "Model saved successfully at: models/8997782287ac95361ce10ecee1af1840/model_weights_8997782287ac95361ce10ecee1af1840.pth\n",
      "# === STEP 4: MODEL MANAGER: Complete\n"
     ]
    }
   ],
   "source": [
    "# If no val dataset, code requires to push None instead\n",
    "val_dataset = validation_dataset if validation_dataset is not None else None\n",
    "\n",
    "model_manager.train(models, [(train_dataset, val_dataset)], save_after_training=True)\n",
    "print(\"# === STEP 4: MODEL MANAGER: Complete\")"
   ]
  },
  {
   "cell_type": "code",
   "execution_count": 13,
   "id": "e247faa6",
   "metadata": {},
   "outputs": [
    {
     "name": "stdout",
     "output_type": "stream",
     "text": [
      "<modules.model_manager.implementations.tensorflow_model.TensorFlowModel object at 0x7f8c19366d30>\n"
     ]
    }
   ],
   "source": [
    "predictions = []\n",
    "for model in models:\n",
    "    print(model)\n",
    "    predictions.append(model.predict(test_dataset.examples, return_target_labels=True))"
   ]
  },
  {
   "cell_type": "code",
   "execution_count": 14,
   "id": "4438f199",
   "metadata": {},
   "outputs": [
    {
     "name": "stdout",
     "output_type": "stream",
     "text": [
      "Accuracy on test dataset: 0.563793555148022\n"
     ]
    }
   ],
   "source": [
    "for df in predictions:\n",
    "    correct_predictions = (df['predictions'] == df['target_label']).sum()\n",
    "    total_predictions = len(df)\n",
    "    accuracy = correct_predictions / total_predictions\n",
    "    print(f\"Accuracy on test dataset: {accuracy}\")"
   ]
  },
  {
   "cell_type": "code",
   "execution_count": 15,
   "id": "0f043d26",
   "metadata": {},
   "outputs": [
    {
     "name": "stderr",
     "output_type": "stream",
     "text": [
      "UsageError: Line magic function `%tensorboard` not found.\n"
     ]
    }
   ],
   "source": [
    "%tensorboard --logdir logs/fit/8997782287ac95361ce10ecee1af1840"
   ]
  }
 ],
 "metadata": {
  "kernelspec": {
   "display_name": "Python 3.8.5 ('sports-betting': venv)",
   "language": "python",
   "name": "python3"
  },
  "language_info": {
   "codemirror_mode": {
    "name": "ipython",
    "version": 3
   },
   "file_extension": ".py",
   "mimetype": "text/x-python",
   "name": "python",
   "nbconvert_exporter": "python",
   "pygments_lexer": "ipython3",
   "version": "3.8.5"
  },
  "vscode": {
   "interpreter": {
    "hash": "42d1e72f09edad5b8341e1a78b673e0aa6929e61770b700654f70887e86e86ac"
   }
  }
 },
 "nbformat": 4,
 "nbformat_minor": 5
}
