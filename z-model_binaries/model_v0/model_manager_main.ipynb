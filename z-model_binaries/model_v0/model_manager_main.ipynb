{
 "cells": [
  {
   "cell_type": "code",
   "execution_count": 77,
   "metadata": {},
   "outputs": [],
   "source": [
    "######## Create, Train, and Predict Models\n",
    "\n",
    "# Loads train, test, and val datasets\n",
    "# Instantiates Models\n",
    "# Trains Models\n",
    "# Predicts using Models"
   ]
  },
  {
   "cell_type": "markdown",
   "id": "6b68658b",
   "metadata": {},
   "source": [
    "Import All Required Modules"
   ]
  },
  {
   "cell_type": "code",
   "execution_count": 86,
   "id": "251a0e8a-b944-4323-8731-207322906548",
   "metadata": {
    "collapsed": true,
    "jupyter": {
     "outputs_hidden": true
    }
   },
   "outputs": [
    {
     "name": "stdout",
     "output_type": "stream",
     "text": [
      "# === STEP 0: Imports: Starting ...\n",
      "# === STEP 0: Imports: Complete\n"
     ]
    }
   ],
   "source": [
    "import sys\n",
    "\n",
    "# Manually add the project root to sys.path\n",
    "sys.path.append('/Users/joaquinuriarte/Documents/GitHub/sports-betting/')\n",
    "\n",
    "# === STEP 0: Imports\n",
    "print(\"# === STEP 0: Imports: Starting ...\")\n",
    "from modules.model_manager.trainer.trainer import Trainer\n",
    "from modules.model_manager.predictor.predictor import Predictor\n",
    "from modules.model_manager.factories.model_factory import ModelFactory\n",
    "from modules.model_manager.helpers.configuration_loader import ConfigurationLoader as MMConfigLoader\n",
    "from modules.model_manager.model_manager import ModelManager\n",
    "print(\"# === STEP 0: Imports: Complete\")"
   ]
  },
  {
   "cell_type": "code",
   "execution_count": 87,
   "id": "eef0ca8d-4980-4561-8348-6ba966b8a785",
   "metadata": {},
   "outputs": [
    {
     "name": "stdout",
     "output_type": "stream",
     "text": [
      "# === STEP 1: Dependency Instantiations And Global Variable Declarations: Starting ...\n",
      "# === STEP 1: Dependency Instantiations And Global Variable Declarations: Complete\n"
     ]
    }
   ],
   "source": [
    "# === STEP 1: Dependency Instantiations And Global Variable Declarations\n",
    "print(\"# === STEP 1: Dependency Instantiations And Global Variable Declarations: Starting ...\")\n",
    "## === MODEL MANAGER\n",
    "yaml_path0 = '/Users/joaquinuriarte/Documents/GitHub/sports-betting/configs/model_v0/model_v0_000.yaml'\n",
    "yaml_path1 = '/Users/joaquinuriarte/Documents/GitHub/sports-betting/configs/model_v0/model_v0_001.yaml'\n",
    "yaml_path2 = '/Users/joaquinuriarte/Documents/GitHub/sports-betting/configs/model_v0/model_v0_002.yaml'\n",
    "yaml_path3 = '/Users/joaquinuriarte/Documents/GitHub/sports-betting/configs/model_v0/model_v0_003.yaml'\n",
    "yaml_path4 = '/Users/joaquinuriarte/Documents/GitHub/sports-betting/configs/model_v0/model_v0_004.yaml'\n",
    "yaml_path5 = '/Users/joaquinuriarte/Documents/GitHub/sports-betting/configs/model_v0/model_v0_005.yaml'\n",
    "yaml_path6 = '/Users/joaquinuriarte/Documents/GitHub/sports-betting/configs/model_v0/model_v0_006.yaml'\n",
    "yaml_path7 = '/Users/joaquinuriarte/Documents/GitHub/sports-betting/configs/model_v0/model_v0_007.yaml'\n",
    "yaml_path8 = '/Users/joaquinuriarte/Documents/GitHub/sports-betting/configs/model_v0/model_v0_008.yaml'\n",
    "yaml_path9 = '/Users/joaquinuriarte/Documents/GitHub/sports-betting/configs/model_v0/model_v0_009.yaml'\n",
    "yaml_path10 = '/Users/joaquinuriarte/Documents/GitHub/sports-betting/configs/model_v0/model_v0_010.yaml'\n",
    "yaml_path11 = '/Users/joaquinuriarte/Documents/GitHub/sports-betting/configs/model_v0/model_v0_011.yaml'\n",
    "yaml_path12 = '/Users/joaquinuriarte/Documents/GitHub/sports-betting/configs/model_v0/model_v0_012.yaml'\n",
    "yaml_path13 = '/Users/joaquinuriarte/Documents/GitHub/sports-betting/configs/model_v0/model_v0_013.yaml'\n",
    "\n",
    "\n",
    "yaml_paths = [yaml_path0, yaml_path1, yaml_path2, yaml_path3, yaml_path4, yaml_path5, yaml_path7, yaml_path8, yaml_path9, yaml_path11, yaml_path12, yaml_path13]\n",
    "\n",
    "checkpoint = '/Users/joaquinuriarte/Documents/GitHub/sports-betting/models'\n",
    "trainer = Trainer(checkpoint)\n",
    "predictor = Predictor()\n",
    "model_factory = ModelFactory()\n",
    "mm_configuration_loader = MMConfigLoader()\n",
    "print(\"# === STEP 1: Dependency Instantiations And Global Variable Declarations: Complete\")"
   ]
  },
  {
   "cell_type": "markdown",
   "id": "4a1c2254",
   "metadata": {},
   "source": [
    "Load Train, Val, and Test Datasets into Memory"
   ]
  },
  {
   "cell_type": "code",
   "execution_count": 80,
   "id": "77a23c84",
   "metadata": {},
   "outputs": [
    {
     "name": "stdout",
     "output_type": "stream",
     "text": [
      "Train dataset leaded to memory\n",
      "Val dataset leaded to memory\n",
      "Test dataset leaded to memory\n"
     ]
    }
   ],
   "source": [
    "import pickle\n",
    "import os\n",
    "\n",
    "# File path to load train, test, and val datasets\n",
    "train_test_val_dataset_path = \"/Users/joaquinuriarte/Documents/GitHub/sports-betting/processed_datasets/model_v0\"\n",
    "\n",
    "train_dataset_path = train_test_val_dataset_path + \"/train.pkl\"\n",
    "val_dataset_path = train_test_val_dataset_path + \"/val.pkl\"\n",
    "# test_dataset_path = train_test_val_dataset_path + \"/test.pkl\"\n",
    "\n",
    "with open(train_dataset_path, \"rb\") as f:\n",
    "    train_dataset = pickle.load(f)\n",
    "    print(\"Train dataset leaded to memory\")\n",
    "with open(val_dataset_path, \"rb\") as f:\n",
    "    validation_dataset = pickle.load(f)\n",
    "    print(\"Val dataset leaded to memory\")\n",
    "# with open(test_dataset_path, \"rb\") as f:\n",
    "#     test_dataset = pickle.load(f)\n",
    "#     print(\"Test dataset leaded to memory\")"
   ]
  },
  {
   "cell_type": "markdown",
   "id": "feff0899",
   "metadata": {},
   "source": [
    "Create and Train Models"
   ]
  },
  {
   "cell_type": "code",
   "execution_count": 88,
   "id": "b66b2d17-0154-4ac7-b6e4-2388aaa130eb",
   "metadata": {},
   "outputs": [
    {
     "name": "stdout",
     "output_type": "stream",
     "text": [
      "# === STEP 4: MODEL MANAGER: Starting ...\n"
     ]
    }
   ],
   "source": [
    "# === STEP 4: MODEL MANAGER\n",
    "print(\"# === STEP 4: MODEL MANAGER: Starting ...\")\n",
    "model_manager = ModelManager(trainer, predictor, model_factory, mm_configuration_loader)\n",
    "models = model_manager.create_models([yaml_path12])"
   ]
  },
  {
   "cell_type": "code",
   "execution_count": 89,
   "id": "1fec0485",
   "metadata": {},
   "outputs": [
    {
     "data": {
      "text/plain": [
       "177"
      ]
     },
     "execution_count": 89,
     "metadata": {},
     "output_type": "execute_result"
    }
   ],
   "source": [
    "train_dataset.examples[0].features\n",
    "len(train_dataset.examples[0].features) # should be 177"
   ]
  },
  {
   "cell_type": "code",
   "execution_count": 90,
   "id": "3437639c-6666-4c76-a827-706148a9fa7f",
   "metadata": {},
   "outputs": [
    {
     "name": "stderr",
     "output_type": "stream",
     "text": [
      "INFO:root:Training model 'a555b0a04ba146d698abda57d8045bcb' for 20 epochs with batch size 32.\n",
      "INFO:root:Model 'a555b0a04ba146d698abda57d8045bcb': Starting epoch 1/20.\n"
     ]
    },
    {
     "name": "stdout",
     "output_type": "stream",
     "text": [
      "557/557 [==============================] - 3s 3ms/step - loss: 0.6720 - accuracy: 0.4846 - val_loss: 0.6678 - val_accuracy: 0.5732\n"
     ]
    },
    {
     "name": "stderr",
     "output_type": "stream",
     "text": [
      "INFO:root:Model 'a555b0a04ba146d698abda57d8045bcb': Starting epoch 2/20.\n"
     ]
    },
    {
     "name": "stdout",
     "output_type": "stream",
     "text": [
      "557/557 [==============================] - 2s 4ms/step - loss: 0.6656 - accuracy: 0.5201 - val_loss: 0.6660 - val_accuracy: 0.4965\n"
     ]
    },
    {
     "name": "stderr",
     "output_type": "stream",
     "text": [
      "INFO:root:Model 'a555b0a04ba146d698abda57d8045bcb': Starting epoch 3/20.\n"
     ]
    },
    {
     "name": "stdout",
     "output_type": "stream",
     "text": [
      "557/557 [==============================] - 2s 3ms/step - loss: 0.6644 - accuracy: 0.5259 - val_loss: 0.6641 - val_accuracy: 0.5292\n"
     ]
    },
    {
     "name": "stderr",
     "output_type": "stream",
     "text": [
      "INFO:root:Model 'a555b0a04ba146d698abda57d8045bcb': Starting epoch 4/20.\n"
     ]
    },
    {
     "name": "stdout",
     "output_type": "stream",
     "text": [
      "557/557 [==============================] - 1s 3ms/step - loss: 0.6633 - accuracy: 0.5309 - val_loss: 0.6664 - val_accuracy: 0.5135\n"
     ]
    },
    {
     "name": "stderr",
     "output_type": "stream",
     "text": [
      "INFO:root:Model 'a555b0a04ba146d698abda57d8045bcb': Starting epoch 5/20.\n"
     ]
    },
    {
     "name": "stdout",
     "output_type": "stream",
     "text": [
      "557/557 [==============================] - 1s 3ms/step - loss: 0.6620 - accuracy: 0.5363 - val_loss: 0.6672 - val_accuracy: 0.5187\n"
     ]
    },
    {
     "name": "stderr",
     "output_type": "stream",
     "text": [
      "INFO:root:Model 'a555b0a04ba146d698abda57d8045bcb': Starting epoch 6/20.\n"
     ]
    },
    {
     "name": "stdout",
     "output_type": "stream",
     "text": [
      "557/557 [==============================] - 2s 3ms/step - loss: 0.6613 - accuracy: 0.5421 - val_loss: 0.6655 - val_accuracy: 0.5292\n"
     ]
    },
    {
     "name": "stderr",
     "output_type": "stream",
     "text": [
      "INFO:root:Model 'a555b0a04ba146d698abda57d8045bcb': Starting epoch 7/20.\n"
     ]
    },
    {
     "name": "stdout",
     "output_type": "stream",
     "text": [
      "557/557 [==============================] - 1s 2ms/step - loss: 0.6600 - accuracy: 0.5410 - val_loss: 0.6659 - val_accuracy: 0.5525\n"
     ]
    },
    {
     "name": "stderr",
     "output_type": "stream",
     "text": [
      "INFO:root:Model 'a555b0a04ba146d698abda57d8045bcb': Starting epoch 8/20.\n"
     ]
    },
    {
     "name": "stdout",
     "output_type": "stream",
     "text": [
      "557/557 [==============================] - 2s 3ms/step - loss: 0.6594 - accuracy: 0.5481 - val_loss: 0.6666 - val_accuracy: 0.5114\n"
     ]
    },
    {
     "name": "stderr",
     "output_type": "stream",
     "text": [
      "INFO:root:Model 'a555b0a04ba146d698abda57d8045bcb': Starting epoch 9/20.\n"
     ]
    },
    {
     "name": "stdout",
     "output_type": "stream",
     "text": [
      "557/557 [==============================] - 1s 2ms/step - loss: 0.6578 - accuracy: 0.5536 - val_loss: 0.6729 - val_accuracy: 0.4679\n"
     ]
    },
    {
     "name": "stderr",
     "output_type": "stream",
     "text": [
      "INFO:root:Model 'a555b0a04ba146d698abda57d8045bcb': Starting epoch 10/20.\n"
     ]
    },
    {
     "name": "stdout",
     "output_type": "stream",
     "text": [
      "557/557 [==============================] - 1s 3ms/step - loss: 0.6570 - accuracy: 0.5496 - val_loss: 0.6679 - val_accuracy: 0.5185\n"
     ]
    },
    {
     "name": "stderr",
     "output_type": "stream",
     "text": [
      "INFO:root:Model 'a555b0a04ba146d698abda57d8045bcb': Starting epoch 11/20.\n"
     ]
    },
    {
     "name": "stdout",
     "output_type": "stream",
     "text": [
      "557/557 [==============================] - 1s 2ms/step - loss: 0.6546 - accuracy: 0.5540 - val_loss: 0.6739 - val_accuracy: 0.5706\n"
     ]
    },
    {
     "name": "stderr",
     "output_type": "stream",
     "text": [
      "INFO:root:Model 'a555b0a04ba146d698abda57d8045bcb': Starting epoch 12/20.\n"
     ]
    },
    {
     "name": "stdout",
     "output_type": "stream",
     "text": [
      "557/557 [==============================] - 1s 2ms/step - loss: 0.6537 - accuracy: 0.5603 - val_loss: 0.6955 - val_accuracy: 0.5905\n"
     ]
    },
    {
     "name": "stderr",
     "output_type": "stream",
     "text": [
      "INFO:root:Model 'a555b0a04ba146d698abda57d8045bcb': Starting epoch 13/20.\n"
     ]
    },
    {
     "name": "stdout",
     "output_type": "stream",
     "text": [
      "557/557 [==============================] - 1s 2ms/step - loss: 0.6520 - accuracy: 0.5641 - val_loss: 0.6717 - val_accuracy: 0.5420\n"
     ]
    },
    {
     "name": "stderr",
     "output_type": "stream",
     "text": [
      "INFO:root:Model 'a555b0a04ba146d698abda57d8045bcb': Starting epoch 14/20.\n"
     ]
    },
    {
     "name": "stdout",
     "output_type": "stream",
     "text": [
      "557/557 [==============================] - 1s 2ms/step - loss: 0.6516 - accuracy: 0.5616 - val_loss: 0.6690 - val_accuracy: 0.5360\n"
     ]
    },
    {
     "name": "stderr",
     "output_type": "stream",
     "text": [
      "INFO:root:Model 'a555b0a04ba146d698abda57d8045bcb': Starting epoch 15/20.\n"
     ]
    },
    {
     "name": "stdout",
     "output_type": "stream",
     "text": [
      "557/557 [==============================] - 1s 2ms/step - loss: 0.6499 - accuracy: 0.5660 - val_loss: 0.6782 - val_accuracy: 0.5368\n"
     ]
    },
    {
     "name": "stderr",
     "output_type": "stream",
     "text": [
      "INFO:root:Model 'a555b0a04ba146d698abda57d8045bcb': Starting epoch 16/20.\n"
     ]
    },
    {
     "name": "stdout",
     "output_type": "stream",
     "text": [
      "557/557 [==============================] - 1s 2ms/step - loss: 0.6468 - accuracy: 0.5733 - val_loss: 0.6710 - val_accuracy: 0.5491\n"
     ]
    },
    {
     "name": "stderr",
     "output_type": "stream",
     "text": [
      "INFO:root:Model 'a555b0a04ba146d698abda57d8045bcb': Starting epoch 17/20.\n"
     ]
    },
    {
     "name": "stdout",
     "output_type": "stream",
     "text": [
      "557/557 [==============================] - 1s 2ms/step - loss: 0.6453 - accuracy: 0.5772 - val_loss: 0.6769 - val_accuracy: 0.5206\n"
     ]
    },
    {
     "name": "stderr",
     "output_type": "stream",
     "text": [
      "INFO:root:Model 'a555b0a04ba146d698abda57d8045bcb': Starting epoch 18/20.\n"
     ]
    },
    {
     "name": "stdout",
     "output_type": "stream",
     "text": [
      "557/557 [==============================] - 1s 2ms/step - loss: 0.6423 - accuracy: 0.5720 - val_loss: 0.6715 - val_accuracy: 0.5179\n"
     ]
    },
    {
     "name": "stderr",
     "output_type": "stream",
     "text": [
      "INFO:root:Model 'a555b0a04ba146d698abda57d8045bcb': Starting epoch 19/20.\n"
     ]
    },
    {
     "name": "stdout",
     "output_type": "stream",
     "text": [
      "557/557 [==============================] - 1s 2ms/step - loss: 0.6397 - accuracy: 0.5776 - val_loss: 0.6841 - val_accuracy: 0.5614\n"
     ]
    },
    {
     "name": "stderr",
     "output_type": "stream",
     "text": [
      "INFO:root:Model 'a555b0a04ba146d698abda57d8045bcb': Starting epoch 20/20.\n"
     ]
    },
    {
     "name": "stdout",
     "output_type": "stream",
     "text": [
      "557/557 [==============================] - 1s 3ms/step - loss: 0.6384 - accuracy: 0.5876 - val_loss: 0.6803 - val_accuracy: 0.5538\n"
     ]
    },
    {
     "name": "stderr",
     "output_type": "stream",
     "text": [
      "INFO:root:Model 'a555b0a04ba146d698abda57d8045bcb': Finished training.\n"
     ]
    },
    {
     "name": "stdout",
     "output_type": "stream",
     "text": [
      "Model saved successfully at: models/a555b0a04ba146d698abda57d8045bcb/model_weights_a555b0a04ba146d698abda57d8045bcb.pth\n",
      "# === STEP 4: MODEL MANAGER: Complete\n"
     ]
    }
   ],
   "source": [
    "# If no val dataset, code requires to push None instead\n",
    "val_dataset = validation_dataset if validation_dataset is not None else None\n",
    "\n",
    "model_manager.train(models, [(train_dataset, val_dataset)], save_after_training=True)\n",
    "print(\"# === STEP 4: MODEL MANAGER: Complete\")"
   ]
  },
  {
   "cell_type": "code",
   "execution_count": 91,
   "id": "e247faa6",
   "metadata": {},
   "outputs": [
    {
     "name": "stdout",
     "output_type": "stream",
     "text": [
      "<modules.model_manager.implementations.tensorflow_model.TensorFlowModel object at 0x7f9f7e402f40>\n"
     ]
    }
   ],
   "source": [
    "predictions = []\n",
    "for model in models:\n",
    "    print(model)\n",
    "    predictions.append(model.predict(validation_dataset.examples, return_target_labels=True))"
   ]
  },
  {
   "cell_type": "code",
   "execution_count": 92,
   "id": "4438f199",
   "metadata": {},
   "outputs": [
    {
     "name": "stdout",
     "output_type": "stream",
     "text": [
      "Accuracy on validation dataset: 0.6012575320932669\n"
     ]
    }
   ],
   "source": [
    "for df in predictions:\n",
    "    correct_predictions = (df['predictions'] == df['target_label']).sum()\n",
    "    total_predictions = len(df)\n",
    "    accuracy = correct_predictions / total_predictions\n",
    "    print(f\"Accuracy on validation dataset: {accuracy}\")"
   ]
  },
  {
   "cell_type": "code",
   "execution_count": 11,
   "id": "0f043d26",
   "metadata": {},
   "outputs": [
    {
     "name": "stderr",
     "output_type": "stream",
     "text": [
      "UsageError: Line magic function `%tensorboard` not found.\n"
     ]
    }
   ],
   "source": [
    "%tensorboard --logdir logs/fit/8997782287ac95361ce10ecee1af1840"
   ]
  }
 ],
 "metadata": {
  "kernelspec": {
   "display_name": "Python 3.8.5 ('sports-betting': venv)",
   "language": "python",
   "name": "python3"
  },
  "language_info": {
   "codemirror_mode": {
    "name": "ipython",
    "version": 3
   },
   "file_extension": ".py",
   "mimetype": "text/x-python",
   "name": "python",
   "nbconvert_exporter": "python",
   "pygments_lexer": "ipython3",
   "version": "3.8.5"
  },
  "vscode": {
   "interpreter": {
    "hash": "42d1e72f09edad5b8341e1a78b673e0aa6929e61770b700654f70887e86e86ac"
   }
  }
 },
 "nbformat": 4,
 "nbformat_minor": 5
}
