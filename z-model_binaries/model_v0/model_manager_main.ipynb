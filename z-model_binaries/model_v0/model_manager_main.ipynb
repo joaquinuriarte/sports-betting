{
 "cells": [
  {
   "cell_type": "code",
   "execution_count": 77,
   "metadata": {},
   "outputs": [],
   "source": [
    "######## Create, Train, and Predict Models\n",
    "\n",
    "# Loads train, test, and val datasets\n",
    "# Instantiates Models\n",
    "# Trains Models\n",
    "# Predicts using Models"
   ]
  },
  {
   "cell_type": "markdown",
   "id": "6b68658b",
   "metadata": {},
   "source": [
    "Import All Required Modules"
   ]
  },
  {
   "cell_type": "code",
   "execution_count": 10,
   "id": "251a0e8a-b944-4323-8731-207322906548",
   "metadata": {
    "collapsed": true,
    "jupyter": {
     "outputs_hidden": true
    }
   },
   "outputs": [
    {
     "name": "stdout",
     "output_type": "stream",
     "text": [
      "# === STEP 0: Imports: Starting ...\n",
      "# === STEP 0: Imports: Complete\n"
     ]
    }
   ],
   "source": [
    "import sys\n",
    "\n",
    "# Manually add the project root to sys.path\n",
    "sys.path.append('/Users/joaquinuriarte/Documents/GitHub/sports-betting/')\n",
    "\n",
    "# === STEP 0: Imports\n",
    "print(\"# === STEP 0: Imports: Starting ...\")\n",
    "from modules.model_manager.trainer.trainer import Trainer\n",
    "from modules.model_manager.predictor.predictor import Predictor\n",
    "from modules.model_manager.factories.model_factory import ModelFactory\n",
    "from modules.model_manager.helpers.configuration_loader import ConfigurationLoader as MMConfigLoader\n",
    "from modules.model_manager.model_manager import ModelManager\n",
    "print(\"# === STEP 0: Imports: Complete\")"
   ]
  },
  {
   "cell_type": "code",
   "execution_count": 16,
   "id": "eef0ca8d-4980-4561-8348-6ba966b8a785",
   "metadata": {},
   "outputs": [
    {
     "name": "stdout",
     "output_type": "stream",
     "text": [
      "# === STEP 1: Dependency Instantiations And Global Variable Declarations: Starting ...\n",
      "# === STEP 1: Dependency Instantiations And Global Variable Declarations: Complete\n"
     ]
    }
   ],
   "source": [
    "# === STEP 1: Dependency Instantiations And Global Variable Declarations\n",
    "print(\"# === STEP 1: Dependency Instantiations And Global Variable Declarations: Starting ...\")\n",
    "## === MODEL MANAGER\n",
    "yaml_path0 = '/Users/joaquinuriarte/Documents/GitHub/sports-betting/configs/model_v0/model_v0_000.yaml'\n",
    "yaml_path1 = '/Users/joaquinuriarte/Documents/GitHub/sports-betting/configs/model_v0/model_v0_001.yaml'\n",
    "yaml_path2 = '/Users/joaquinuriarte/Documents/GitHub/sports-betting/configs/model_v0/model_v0_002.yaml'\n",
    "yaml_path3 = '/Users/joaquinuriarte/Documents/GitHub/sports-betting/configs/model_v0/model_v0_003.yaml'\n",
    "yaml_path4 = '/Users/joaquinuriarte/Documents/GitHub/sports-betting/configs/model_v0/model_v0_004.yaml'\n",
    "yaml_path5 = '/Users/joaquinuriarte/Documents/GitHub/sports-betting/configs/model_v0/model_v0_005.yaml'\n",
    "yaml_path6 = '/Users/joaquinuriarte/Documents/GitHub/sports-betting/configs/model_v0/model_v0_006.yaml'\n",
    "yaml_path7 = '/Users/joaquinuriarte/Documents/GitHub/sports-betting/configs/model_v0/model_v0_007.yaml'\n",
    "yaml_path8 = '/Users/joaquinuriarte/Documents/GitHub/sports-betting/configs/model_v0/model_v0_008.yaml'\n",
    "yaml_path9 = '/Users/joaquinuriarte/Documents/GitHub/sports-betting/configs/model_v0/model_v0_009.yaml'\n",
    "yaml_path10 = '/Users/joaquinuriarte/Documents/GitHub/sports-betting/configs/model_v0/model_v0_010.yaml'\n",
    "yaml_path11 = '/Users/joaquinuriarte/Documents/GitHub/sports-betting/configs/model_v0/model_v0_011.yaml'\n",
    "yaml_path12 = '/Users/joaquinuriarte/Documents/GitHub/sports-betting/configs/model_v0/model_v0_012.yaml'\n",
    "yaml_path13 = '/Users/joaquinuriarte/Documents/GitHub/sports-betting/configs/model_v0/model_v0_013.yaml'\n",
    "yaml_path14 = '/Users/joaquinuriarte/Documents/GitHub/sports-betting/configs/model_v0/model_v0_014.yaml'\n",
    "yaml_path15 = '/Users/joaquinuriarte/Documents/GitHub/sports-betting/configs/model_v0/model_v0_015.yaml'\n",
    "yaml_path16 = '/Users/joaquinuriarte/Documents/GitHub/sports-betting/configs/model_v0/model_v0_016.yaml'\n",
    "yaml_paths = [yaml_path0, yaml_path1, yaml_path2, yaml_path3, yaml_path4, yaml_path5, yaml_path7, yaml_path8, yaml_path9, yaml_path11, yaml_path12, yaml_path13, yaml_path14, yaml_path15, yaml_path16]\n",
    "\n",
    "\n",
    "checkpoint = '/Users/joaquinuriarte/Documents/GitHub/sports-betting/models'\n",
    "trainer = Trainer(checkpoint)\n",
    "predictor = Predictor()\n",
    "model_factory = ModelFactory()\n",
    "mm_configuration_loader = MMConfigLoader()\n",
    "print(\"# === STEP 1: Dependency Instantiations And Global Variable Declarations: Complete\")"
   ]
  },
  {
   "cell_type": "markdown",
   "id": "4a1c2254",
   "metadata": {},
   "source": [
    "Load Train, Val, and Test Datasets into Memory"
   ]
  },
  {
   "cell_type": "code",
   "execution_count": 17,
   "id": "77a23c84",
   "metadata": {},
   "outputs": [
    {
     "name": "stdout",
     "output_type": "stream",
     "text": [
      "Train dataset leaded to memory\n",
      "Val dataset leaded to memory\n"
     ]
    }
   ],
   "source": [
    "import pickle\n",
    "import os\n",
    "\n",
    "# File path to load train, test, and val datasets\n",
    "train_test_val_dataset_path = \"/Users/joaquinuriarte/Documents/GitHub/sports-betting/processed_datasets/model_v0\"\n",
    "\n",
    "train_dataset_path = train_test_val_dataset_path + \"/train.pkl\"\n",
    "val_dataset_path = train_test_val_dataset_path + \"/val.pkl\"\n",
    "# test_dataset_path = train_test_val_dataset_path + \"/test.pkl\"\n",
    "\n",
    "with open(train_dataset_path, \"rb\") as f:\n",
    "    train_dataset = pickle.load(f)\n",
    "    print(\"Train dataset leaded to memory\")\n",
    "with open(val_dataset_path, \"rb\") as f:\n",
    "    validation_dataset = pickle.load(f)\n",
    "    print(\"Val dataset leaded to memory\")\n",
    "# with open(test_dataset_path, \"rb\") as f:\n",
    "#     test_dataset = pickle.load(f)\n",
    "#     print(\"Test dataset leaded to memory\")"
   ]
  },
  {
   "cell_type": "markdown",
   "id": "feff0899",
   "metadata": {},
   "source": [
    "Create and Train Models"
   ]
  },
  {
   "cell_type": "code",
   "execution_count": 18,
   "id": "b66b2d17-0154-4ac7-b6e4-2388aaa130eb",
   "metadata": {},
   "outputs": [
    {
     "name": "stdout",
     "output_type": "stream",
     "text": [
      "# === STEP 4: MODEL MANAGER: Starting ...\n"
     ]
    }
   ],
   "source": [
    "# === STEP 4: MODEL MANAGER\n",
    "print(\"# === STEP 4: MODEL MANAGER: Starting ...\")\n",
    "model_manager = ModelManager(trainer, predictor, model_factory, mm_configuration_loader)\n",
    "models = model_manager.create_models([yaml_path16])"
   ]
  },
  {
   "cell_type": "code",
   "execution_count": 19,
   "id": "1fec0485",
   "metadata": {},
   "outputs": [
    {
     "data": {
      "text/plain": [
       "177"
      ]
     },
     "execution_count": 19,
     "metadata": {},
     "output_type": "execute_result"
    }
   ],
   "source": [
    "train_dataset.examples[0].features\n",
    "len(train_dataset.examples[0].features) # should be 177"
   ]
  },
  {
   "cell_type": "code",
   "execution_count": 20,
   "id": "3437639c-6666-4c76-a827-706148a9fa7f",
   "metadata": {},
   "outputs": [
    {
     "name": "stderr",
     "output_type": "stream",
     "text": [
      "INFO:root:Training model '39fcd8e4156a4f341f5bbd6bd6b76648' for 20 epochs with batch size 8.\n",
      "INFO:root:Model '39fcd8e4156a4f341f5bbd6bd6b76648': Starting epoch 1/20.\n"
     ]
    },
    {
     "name": "stdout",
     "output_type": "stream",
     "text": [
      "2227/2227 [==============================] - 6s 2ms/step - loss: 0.6937 - accuracy: 0.4878 - val_loss: 0.6738 - val_accuracy: 0.4312\n"
     ]
    },
    {
     "name": "stderr",
     "output_type": "stream",
     "text": [
      "INFO:root:Model '39fcd8e4156a4f341f5bbd6bd6b76648': Starting epoch 2/20.\n"
     ]
    },
    {
     "name": "stdout",
     "output_type": "stream",
     "text": [
      "2227/2227 [==============================] - 4s 2ms/step - loss: 0.6748 - accuracy: 0.4954 - val_loss: 0.6691 - val_accuracy: 0.4611\n"
     ]
    },
    {
     "name": "stderr",
     "output_type": "stream",
     "text": [
      "INFO:root:Model '39fcd8e4156a4f341f5bbd6bd6b76648': Starting epoch 3/20.\n"
     ]
    },
    {
     "name": "stdout",
     "output_type": "stream",
     "text": [
      "2227/2227 [==============================] - 4s 2ms/step - loss: 0.6724 - accuracy: 0.4904 - val_loss: 0.6682 - val_accuracy: 0.4763\n"
     ]
    },
    {
     "name": "stderr",
     "output_type": "stream",
     "text": [
      "INFO:root:Model '39fcd8e4156a4f341f5bbd6bd6b76648': Starting epoch 4/20.\n"
     ]
    },
    {
     "name": "stdout",
     "output_type": "stream",
     "text": [
      "2227/2227 [==============================] - 5s 2ms/step - loss: 0.6707 - accuracy: 0.4985 - val_loss: 0.6707 - val_accuracy: 0.4265\n"
     ]
    },
    {
     "name": "stderr",
     "output_type": "stream",
     "text": [
      "INFO:root:Model '39fcd8e4156a4f341f5bbd6bd6b76648': Starting epoch 5/20.\n"
     ]
    },
    {
     "name": "stdout",
     "output_type": "stream",
     "text": [
      "2227/2227 [==============================] - 5s 2ms/step - loss: 0.6687 - accuracy: 0.5031 - val_loss: 0.6686 - val_accuracy: 0.4386\n"
     ]
    },
    {
     "name": "stderr",
     "output_type": "stream",
     "text": [
      "INFO:root:Model '39fcd8e4156a4f341f5bbd6bd6b76648': Starting epoch 6/20.\n"
     ]
    },
    {
     "name": "stdout",
     "output_type": "stream",
     "text": [
      "2227/2227 [==============================] - 5s 2ms/step - loss: 0.6676 - accuracy: 0.5101 - val_loss: 0.6674 - val_accuracy: 0.4674\n"
     ]
    },
    {
     "name": "stderr",
     "output_type": "stream",
     "text": [
      "INFO:root:Model '39fcd8e4156a4f341f5bbd6bd6b76648': Starting epoch 7/20.\n"
     ]
    },
    {
     "name": "stdout",
     "output_type": "stream",
     "text": [
      "2227/2227 [==============================] - 6s 3ms/step - loss: 0.6678 - accuracy: 0.5097 - val_loss: 0.6680 - val_accuracy: 0.4781\n"
     ]
    },
    {
     "name": "stderr",
     "output_type": "stream",
     "text": [
      "INFO:root:Model '39fcd8e4156a4f341f5bbd6bd6b76648': Starting epoch 8/20.\n"
     ]
    },
    {
     "name": "stdout",
     "output_type": "stream",
     "text": [
      "2227/2227 [==============================] - 4s 2ms/step - loss: 0.6671 - accuracy: 0.5088 - val_loss: 0.6675 - val_accuracy: 0.4941\n"
     ]
    },
    {
     "name": "stderr",
     "output_type": "stream",
     "text": [
      "INFO:root:Model '39fcd8e4156a4f341f5bbd6bd6b76648': Starting epoch 9/20.\n"
     ]
    },
    {
     "name": "stdout",
     "output_type": "stream",
     "text": [
      "2227/2227 [==============================] - 4s 2ms/step - loss: 0.6660 - accuracy: 0.5181 - val_loss: 0.6688 - val_accuracy: 0.4545\n"
     ]
    },
    {
     "name": "stderr",
     "output_type": "stream",
     "text": [
      "INFO:root:Model '39fcd8e4156a4f341f5bbd6bd6b76648': Starting epoch 10/20.\n"
     ]
    },
    {
     "name": "stdout",
     "output_type": "stream",
     "text": [
      "2227/2227 [==============================] - 5s 2ms/step - loss: 0.6659 - accuracy: 0.5160 - val_loss: 0.6677 - val_accuracy: 0.4655\n"
     ]
    },
    {
     "name": "stderr",
     "output_type": "stream",
     "text": [
      "INFO:root:Model '39fcd8e4156a4f341f5bbd6bd6b76648': Starting epoch 11/20.\n"
     ]
    },
    {
     "name": "stdout",
     "output_type": "stream",
     "text": [
      "2227/2227 [==============================] - 5s 2ms/step - loss: 0.6652 - accuracy: 0.5309 - val_loss: 0.6677 - val_accuracy: 0.5117\n"
     ]
    },
    {
     "name": "stderr",
     "output_type": "stream",
     "text": [
      "INFO:root:Model '39fcd8e4156a4f341f5bbd6bd6b76648': Starting epoch 12/20.\n"
     ]
    },
    {
     "name": "stdout",
     "output_type": "stream",
     "text": [
      "2227/2227 [==============================] - 5s 2ms/step - loss: 0.6664 - accuracy: 0.5168 - val_loss: 0.6669 - val_accuracy: 0.5069\n"
     ]
    },
    {
     "name": "stderr",
     "output_type": "stream",
     "text": [
      "INFO:root:Model '39fcd8e4156a4f341f5bbd6bd6b76648': Starting epoch 13/20.\n"
     ]
    },
    {
     "name": "stdout",
     "output_type": "stream",
     "text": [
      "2227/2227 [==============================] - 5s 2ms/step - loss: 0.6659 - accuracy: 0.5197 - val_loss: 0.6661 - val_accuracy: 0.5135\n"
     ]
    },
    {
     "name": "stderr",
     "output_type": "stream",
     "text": [
      "INFO:root:Model '39fcd8e4156a4f341f5bbd6bd6b76648': Starting epoch 14/20.\n"
     ]
    },
    {
     "name": "stdout",
     "output_type": "stream",
     "text": [
      "2227/2227 [==============================] - 5s 2ms/step - loss: 0.6652 - accuracy: 0.5202 - val_loss: 0.6679 - val_accuracy: 0.4711\n"
     ]
    },
    {
     "name": "stderr",
     "output_type": "stream",
     "text": [
      "INFO:root:Model '39fcd8e4156a4f341f5bbd6bd6b76648': Starting epoch 15/20.\n"
     ]
    },
    {
     "name": "stdout",
     "output_type": "stream",
     "text": [
      "2227/2227 [==============================] - 5s 2ms/step - loss: 0.6644 - accuracy: 0.5201 - val_loss: 0.6665 - val_accuracy: 0.5132\n"
     ]
    },
    {
     "name": "stderr",
     "output_type": "stream",
     "text": [
      "INFO:root:Model '39fcd8e4156a4f341f5bbd6bd6b76648': Starting epoch 16/20.\n"
     ]
    },
    {
     "name": "stdout",
     "output_type": "stream",
     "text": [
      "2227/2227 [==============================] - 4s 2ms/step - loss: 0.6625 - accuracy: 0.5255 - val_loss: 0.6657 - val_accuracy: 0.5043\n"
     ]
    },
    {
     "name": "stderr",
     "output_type": "stream",
     "text": [
      "INFO:root:Model '39fcd8e4156a4f341f5bbd6bd6b76648': Starting epoch 17/20.\n"
     ]
    },
    {
     "name": "stdout",
     "output_type": "stream",
     "text": [
      "2227/2227 [==============================] - 5s 2ms/step - loss: 0.6632 - accuracy: 0.5397 - val_loss: 0.6687 - val_accuracy: 0.4883\n"
     ]
    },
    {
     "name": "stderr",
     "output_type": "stream",
     "text": [
      "INFO:root:Model '39fcd8e4156a4f341f5bbd6bd6b76648': Starting epoch 18/20.\n"
     ]
    },
    {
     "name": "stdout",
     "output_type": "stream",
     "text": [
      "2227/2227 [==============================] - 5s 2ms/step - loss: 0.6628 - accuracy: 0.5307 - val_loss: 0.6683 - val_accuracy: 0.5282\n"
     ]
    },
    {
     "name": "stderr",
     "output_type": "stream",
     "text": [
      "INFO:root:Model '39fcd8e4156a4f341f5bbd6bd6b76648': Starting epoch 19/20.\n"
     ]
    },
    {
     "name": "stdout",
     "output_type": "stream",
     "text": [
      "2227/2227 [==============================] - 5s 2ms/step - loss: 0.6640 - accuracy: 0.5223 - val_loss: 0.6673 - val_accuracy: 0.5059\n"
     ]
    },
    {
     "name": "stderr",
     "output_type": "stream",
     "text": [
      "INFO:root:Model '39fcd8e4156a4f341f5bbd6bd6b76648': Starting epoch 20/20.\n"
     ]
    },
    {
     "name": "stdout",
     "output_type": "stream",
     "text": [
      "2227/2227 [==============================] - 5s 2ms/step - loss: 0.6618 - accuracy: 0.5302 - val_loss: 0.6681 - val_accuracy: 0.4952\n"
     ]
    },
    {
     "name": "stderr",
     "output_type": "stream",
     "text": [
      "INFO:root:Model '39fcd8e4156a4f341f5bbd6bd6b76648': Finished training.\n"
     ]
    },
    {
     "name": "stdout",
     "output_type": "stream",
     "text": [
      "Model saved successfully at: models/39fcd8e4156a4f341f5bbd6bd6b76648/model_weights_39fcd8e4156a4f341f5bbd6bd6b76648.pth\n",
      "# === STEP 4: MODEL MANAGER: Complete\n"
     ]
    }
   ],
   "source": [
    "# If no val dataset, code requires to push None instead\n",
    "val_dataset = validation_dataset if validation_dataset is not None else None\n",
    "\n",
    "model_manager.train(models, [(train_dataset, val_dataset)], save_after_training=True)\n",
    "print(\"# === STEP 4: MODEL MANAGER: Complete\")"
   ]
  },
  {
   "cell_type": "code",
   "execution_count": 21,
   "id": "e247faa6",
   "metadata": {},
   "outputs": [
    {
     "name": "stdout",
     "output_type": "stream",
     "text": [
      "<modules.model_manager.implementations.tensorflow_model.TensorFlowModel object at 0x7f84a9b619a0>\n"
     ]
    }
   ],
   "source": [
    "predictions = []\n",
    "for model in models:\n",
    "    print(model)\n",
    "    predictions.append(model.predict(validation_dataset.examples, return_target_labels=True))"
   ]
  },
  {
   "cell_type": "code",
   "execution_count": 22,
   "id": "4438f199",
   "metadata": {},
   "outputs": [
    {
     "name": "stdout",
     "output_type": "stream",
     "text": [
      "Accuracy on validation dataset: 0.5897301545716531\n"
     ]
    }
   ],
   "source": [
    "for df in predictions:\n",
    "    correct_predictions = (df['predictions'] == df['target_label']).sum()\n",
    "    total_predictions = len(df)\n",
    "    accuracy = correct_predictions / total_predictions\n",
    "    print(f\"Accuracy on validation dataset: {accuracy}\")"
   ]
  },
  {
   "cell_type": "code",
   "execution_count": 11,
   "id": "0f043d26",
   "metadata": {},
   "outputs": [
    {
     "name": "stderr",
     "output_type": "stream",
     "text": [
      "UsageError: Line magic function `%tensorboard` not found.\n"
     ]
    }
   ],
   "source": [
    "%tensorboard --logdir logs/fit/8997782287ac95361ce10ecee1af1840"
   ]
  }
 ],
 "metadata": {
  "kernelspec": {
   "display_name": "Python 3.8.5 ('sports-betting': venv)",
   "language": "python",
   "name": "python3"
  },
  "language_info": {
   "codemirror_mode": {
    "name": "ipython",
    "version": 3
   },
   "file_extension": ".py",
   "mimetype": "text/x-python",
   "name": "python",
   "nbconvert_exporter": "python",
   "pygments_lexer": "ipython3",
   "version": "3.8.5"
  },
  "vscode": {
   "interpreter": {
    "hash": "42d1e72f09edad5b8341e1a78b673e0aa6929e61770b700654f70887e86e86ac"
   }
  }
 },
 "nbformat": 4,
 "nbformat_minor": 5
}
