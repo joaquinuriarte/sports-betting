{
 "cells": [
  {
   "cell_type": "code",
   "execution_count": 10,
   "metadata": {},
   "outputs": [],
   "source": [
    "######## Create, Train, and Predict Models\n",
    "\n",
    "# Loads train, test, and val datasets\n",
    "# Instantiates Models\n",
    "# Trains Models\n",
    "# Predicts using Models"
   ]
  },
  {
   "cell_type": "markdown",
   "id": "6b68658b",
   "metadata": {},
   "source": [
    "Import All Required Modules"
   ]
  },
  {
   "cell_type": "code",
   "execution_count": 1,
   "id": "251a0e8a-b944-4323-8731-207322906548",
   "metadata": {
    "collapsed": true,
    "jupyter": {
     "outputs_hidden": true
    }
   },
   "outputs": [
    {
     "name": "stdout",
     "output_type": "stream",
     "text": [
      "# === STEP 0: Imports: Starting ...\n"
     ]
    },
    {
     "name": "stderr",
     "output_type": "stream",
     "text": [
      "2025-01-18 11:00:45.076141: I tensorflow/core/platform/cpu_feature_guard.cc:182] This TensorFlow binary is optimized to use available CPU instructions in performance-critical operations.\n",
      "To enable the following instructions: AVX2 FMA, in other operations, rebuild TensorFlow with the appropriate compiler flags.\n"
     ]
    },
    {
     "name": "stdout",
     "output_type": "stream",
     "text": [
      "# === STEP 0: Imports: Complete\n"
     ]
    }
   ],
   "source": [
    "import sys\n",
    "\n",
    "# Manually add the project root to sys.path\n",
    "sys.path.append('/Users/joaquinuriarte/Documents/GitHub/sports-betting/')\n",
    "\n",
    "# === STEP 0: Imports\n",
    "print(\"# === STEP 0: Imports: Starting ...\")\n",
    "from modules.model_manager.trainer.trainer import Trainer\n",
    "from modules.model_manager.predictor.predictor import Predictor\n",
    "from modules.model_manager.factories.model_factory import ModelFactory\n",
    "from modules.model_manager.helpers.configuration_loader import ConfigurationLoader as MMConfigLoader\n",
    "from modules.model_manager.model_manager import ModelManager\n",
    "print(\"# === STEP 0: Imports: Complete\")"
   ]
  },
  {
   "cell_type": "code",
   "execution_count": 2,
   "id": "eef0ca8d-4980-4561-8348-6ba966b8a785",
   "metadata": {},
   "outputs": [
    {
     "name": "stdout",
     "output_type": "stream",
     "text": [
      "# === STEP 1: Dependency Instantiations And Global Variable Declarations: Starting ...\n",
      "# === STEP 1: Dependency Instantiations And Global Variable Declarations: Complete\n"
     ]
    }
   ],
   "source": [
    "# === STEP 1: Dependency Instantiations And Global Variable Declarations\n",
    "print(\"# === STEP 1: Dependency Instantiations And Global Variable Declarations: Starting ...\")\n",
    "## === MODEL MANAGER\n",
    "yaml_path0 = '/Users/joaquinuriarte/Documents/GitHub/sports-betting/configs/model_v0/model_v0_000.yaml'\n",
    "yaml_path1 = '/Users/joaquinuriarte/Documents/GitHub/sports-betting/configs/model_v0/model_v0_001.yaml'\n",
    "yaml_path2 = '/Users/joaquinuriarte/Documents/GitHub/sports-betting/configs/model_v0/model_v0_002.yaml'\n",
    "yaml_path3 = '/Users/joaquinuriarte/Documents/GitHub/sports-betting/configs/model_v0/model_v0_003.yaml'\n",
    "yaml_path4 = '/Users/joaquinuriarte/Documents/GitHub/sports-betting/configs/model_v0/model_v0_004.yaml'\n",
    "yaml_path5 = '/Users/joaquinuriarte/Documents/GitHub/sports-betting/configs/model_v0/model_v0_005.yaml'\n",
    "yaml_path6 = '/Users/joaquinuriarte/Documents/GitHub/sports-betting/configs/model_v0/model_v0_006.yaml'\n",
    "yaml_path7 = '/Users/joaquinuriarte/Documents/GitHub/sports-betting/configs/model_v0/model_v0_007.yaml'\n",
    "yaml_path8 = '/Users/joaquinuriarte/Documents/GitHub/sports-betting/configs/model_v0/model_v0_008.yaml'\n",
    "yaml_path9 = '/Users/joaquinuriarte/Documents/GitHub/sports-betting/configs/model_v0/model_v0_009.yaml'\n",
    "yaml_path10 = '/Users/joaquinuriarte/Documents/GitHub/sports-betting/configs/model_v0/model_v0_010.yaml'\n",
    "yaml_path11 = '/Users/joaquinuriarte/Documents/GitHub/sports-betting/configs/model_v0/model_v0_011.yaml'\n",
    "yaml_path12 = '/Users/joaquinuriarte/Documents/GitHub/sports-betting/configs/model_v0/model_v0_012.yaml'\n",
    "yaml_path13 = '/Users/joaquinuriarte/Documents/GitHub/sports-betting/configs/model_v0/model_v0_013.yaml'\n",
    "yaml_path14 = '/Users/joaquinuriarte/Documents/GitHub/sports-betting/configs/model_v0/model_v0_014.yaml'\n",
    "yaml_path15 = '/Users/joaquinuriarte/Documents/GitHub/sports-betting/configs/model_v0/model_v0_015.yaml'\n",
    "yaml_path16 = '/Users/joaquinuriarte/Documents/GitHub/sports-betting/configs/model_v0/model_v0_016.yaml'\n",
    "yaml_path17 = '/Users/joaquinuriarte/Documents/GitHub/sports-betting/configs/model_v0/model_v0_017.yaml'\n",
    "yaml_paths = [yaml_path0, yaml_path1, yaml_path2, yaml_path3, yaml_path4, yaml_path5, yaml_path7, yaml_path8,\n",
    "yaml_path9, yaml_path11, yaml_path12, yaml_path13, yaml_path14, yaml_path15, yaml_path16, yaml_path17]\n",
    "\n",
    "\n",
    "checkpoint = '/Users/joaquinuriarte/Documents/GitHub/sports-betting/models'\n",
    "trainer = Trainer(checkpoint)\n",
    "predictor = Predictor()\n",
    "model_factory = ModelFactory()\n",
    "mm_configuration_loader = MMConfigLoader()\n",
    "print(\"# === STEP 1: Dependency Instantiations And Global Variable Declarations: Complete\")"
   ]
  },
  {
   "cell_type": "markdown",
   "id": "4a1c2254",
   "metadata": {},
   "source": [
    "Load Train, Val, and Test Datasets into Memory"
   ]
  },
  {
   "cell_type": "code",
   "execution_count": 3,
   "id": "77a23c84",
   "metadata": {},
   "outputs": [
    {
     "name": "stdout",
     "output_type": "stream",
     "text": [
      "Train dataset leaded to memory\n",
      "Val dataset leaded to memory\n"
     ]
    }
   ],
   "source": [
    "import pickle\n",
    "import os\n",
    "\n",
    "# File path to load train, test, and val datasets\n",
    "train_test_val_dataset_path = \"/Users/joaquinuriarte/Documents/GitHub/sports-betting/processed_datasets/model_v0\"\n",
    "\n",
    "train_dataset_path = train_test_val_dataset_path + \"/train.pkl\"\n",
    "val_dataset_path = train_test_val_dataset_path + \"/val.pkl\"\n",
    "# test_dataset_path = train_test_val_dataset_path + \"/test.pkl\"\n",
    "\n",
    "with open(train_dataset_path, \"rb\") as f:\n",
    "    train_dataset = pickle.load(f)\n",
    "    print(\"Train dataset leaded to memory\")\n",
    "with open(val_dataset_path, \"rb\") as f:\n",
    "    validation_dataset = pickle.load(f)\n",
    "    print(\"Val dataset leaded to memory\")\n",
    "# with open(test_dataset_path, \"rb\") as f:\n",
    "#     test_dataset = pickle.load(f)\n",
    "#     print(\"Test dataset leaded to memory\")"
   ]
  },
  {
   "cell_type": "markdown",
   "id": "feff0899",
   "metadata": {},
   "source": [
    "Create and Train Models"
   ]
  },
  {
   "cell_type": "code",
   "execution_count": 4,
   "id": "b66b2d17-0154-4ac7-b6e4-2388aaa130eb",
   "metadata": {},
   "outputs": [
    {
     "name": "stdout",
     "output_type": "stream",
     "text": [
      "# === STEP 4: MODEL MANAGER: Starting ...\n"
     ]
    }
   ],
   "source": [
    "# === STEP 4: MODEL MANAGER\n",
    "print(\"# === STEP 4: MODEL MANAGER: Starting ...\")\n",
    "model_manager = ModelManager(trainer, predictor, model_factory, mm_configuration_loader)\n",
    "models = model_manager.create_models([yaml_path16])"
   ]
  },
  {
   "cell_type": "code",
   "execution_count": 5,
   "id": "1fec0485",
   "metadata": {},
   "outputs": [
    {
     "data": {
      "text/plain": [
       "177"
      ]
     },
     "execution_count": 5,
     "metadata": {},
     "output_type": "execute_result"
    }
   ],
   "source": [
    "train_dataset.examples[0].features\n",
    "len(train_dataset.examples[0].features) # should be 177"
   ]
  },
  {
   "cell_type": "code",
   "execution_count": 6,
   "id": "3437639c-6666-4c76-a827-706148a9fa7f",
   "metadata": {},
   "outputs": [
    {
     "name": "stderr",
     "output_type": "stream",
     "text": [
      "INFO:root:Training model '39fcd8e4156a4f341f5bbd6bd6b76648' for 20 epochs with batch size 8.\n",
      "INFO:root:Model '39fcd8e4156a4f341f5bbd6bd6b76648': Starting epoch 21/20.\n"
     ]
    },
    {
     "name": "stdout",
     "output_type": "stream",
     "text": [
      "Epoch 1/20\n",
      "2227/2227 [==============================] - 6s 2ms/step - loss: 0.6796 - accuracy: 0.4803 - val_loss: 0.6692 - val_accuracy: 0.4504\n",
      "Epoch 2/20\n",
      "2227/2227 [==============================] - 5s 2ms/step - loss: 0.6713 - accuracy: 0.4942 - val_loss: 0.6669 - val_accuracy: 0.4742\n",
      "Epoch 3/20\n",
      "2227/2227 [==============================] - 5s 2ms/step - loss: 0.6695 - accuracy: 0.5035 - val_loss: 0.6671 - val_accuracy: 0.4834\n",
      "Epoch 4/20\n",
      "2227/2227 [==============================] - 5s 2ms/step - loss: 0.6682 - accuracy: 0.5154 - val_loss: 0.6668 - val_accuracy: 0.4739\n",
      "Epoch 5/20\n",
      "2227/2227 [==============================] - 4s 2ms/step - loss: 0.6674 - accuracy: 0.5111 - val_loss: 0.6666 - val_accuracy: 0.4904\n",
      "Epoch 6/20\n",
      "2227/2227 [==============================] - 5s 2ms/step - loss: 0.6671 - accuracy: 0.5172 - val_loss: 0.6652 - val_accuracy: 0.5227\n",
      "Epoch 7/20\n",
      "2227/2227 [==============================] - 5s 2ms/step - loss: 0.6666 - accuracy: 0.5169 - val_loss: 0.6656 - val_accuracy: 0.4949\n",
      "Epoch 8/20\n",
      "2227/2227 [==============================] - 4s 2ms/step - loss: 0.6667 - accuracy: 0.5113 - val_loss: 0.6662 - val_accuracy: 0.5043\n",
      "Epoch 9/20\n",
      "2227/2227 [==============================] - 5s 2ms/step - loss: 0.6654 - accuracy: 0.5213 - val_loss: 0.6649 - val_accuracy: 0.5206\n",
      "Epoch 10/20\n",
      "2227/2227 [==============================] - 5s 2ms/step - loss: 0.6653 - accuracy: 0.5269 - val_loss: 0.6657 - val_accuracy: 0.5012\n",
      "Epoch 11/20\n",
      "2227/2227 [==============================] - 4s 2ms/step - loss: 0.6653 - accuracy: 0.5227 - val_loss: 0.6647 - val_accuracy: 0.5386\n",
      "Epoch 12/20\n",
      "2227/2227 [==============================] - 5s 2ms/step - loss: 0.6654 - accuracy: 0.5165 - val_loss: 0.6671 - val_accuracy: 0.4697\n",
      "Epoch 13/20\n",
      "2227/2227 [==============================] - 5s 2ms/step - loss: 0.6649 - accuracy: 0.5252 - val_loss: 0.6659 - val_accuracy: 0.4991\n",
      "Epoch 14/20\n",
      "2227/2227 [==============================] - 5s 2ms/step - loss: 0.6647 - accuracy: 0.5223 - val_loss: 0.6686 - val_accuracy: 0.4669\n",
      "Epoch 15/20\n",
      "2227/2227 [==============================] - 4s 2ms/step - loss: 0.6642 - accuracy: 0.5231 - val_loss: 0.6667 - val_accuracy: 0.5187\n",
      "Epoch 16/20\n",
      "2227/2227 [==============================] - 5s 2ms/step - loss: 0.6627 - accuracy: 0.5338 - val_loss: 0.6661 - val_accuracy: 0.5122\n",
      "Epoch 17/20\n",
      "2227/2227 [==============================] - 4s 2ms/step - loss: 0.6642 - accuracy: 0.5270 - val_loss: 0.6669 - val_accuracy: 0.4944\n",
      "Epoch 18/20\n",
      "2227/2227 [==============================] - 4s 2ms/step - loss: 0.6637 - accuracy: 0.5278 - val_loss: 0.6666 - val_accuracy: 0.5119\n",
      "Epoch 19/20\n",
      "2227/2227 [==============================] - 4s 2ms/step - loss: 0.6634 - accuracy: 0.5300 - val_loss: 0.6665 - val_accuracy: 0.4925\n",
      "Epoch 20/20\n",
      "2227/2227 [==============================] - 4s 2ms/step - loss: 0.6630 - accuracy: 0.5258 - val_loss: 0.6668 - val_accuracy: 0.4988\n"
     ]
    },
    {
     "name": "stderr",
     "output_type": "stream",
     "text": [
      "INFO:root:Model '39fcd8e4156a4f341f5bbd6bd6b76648': Finished training.\n"
     ]
    },
    {
     "name": "stdout",
     "output_type": "stream",
     "text": [
      "Model saved successfully at: models/39fcd8e4156a4f341f5bbd6bd6b76648/model_weights_39fcd8e4156a4f341f5bbd6bd6b76648.pth\n",
      "# === STEP 4: MODEL MANAGER: Complete\n"
     ]
    }
   ],
   "source": [
    "# If no val dataset, code requires to push None instead\n",
    "val_dataset = validation_dataset if validation_dataset is not None else None\n",
    "\n",
    "model_manager.train(models, [(train_dataset, val_dataset)], save_after_training=True)\n",
    "print(\"# === STEP 4: MODEL MANAGER: Complete\")"
   ]
  },
  {
   "cell_type": "code",
   "execution_count": 7,
   "id": "1a869009",
   "metadata": {},
   "outputs": [
    {
     "name": "stdout",
     "output_type": "stream",
     "text": [
      "{'loss': [0.6795780658721924, 0.6713406443595886, 0.6694619059562683, 0.6681613326072693, 0.6674442291259766, 0.6670903563499451, 0.6665798425674438, 0.6667328476905823, 0.6654422879219055, 0.6652560234069824, 0.6653168797492981, 0.6654006242752075, 0.6649323105812073, 0.6647467017173767, 0.6642040014266968, 0.6627286076545715, 0.6642470955848694, 0.6637008190155029, 0.6633579730987549, 0.6629897952079773], 'accuracy': [0.4802649915218353, 0.49418899416923523, 0.5034528970718384, 0.5153557062149048, 0.5111448168754578, 0.517208456993103, 0.5169277191162109, 0.511313259601593, 0.5212509036064148, 0.5269215703010559, 0.5227106809616089, 0.5165347456932068, 0.5252372026443481, 0.52231764793396, 0.5231037139892578, 0.5338274240493774, 0.5269777178764343, 0.5277637243270874, 0.5299534201622009, 0.5257986783981323], 'val_loss': [0.6691566705703735, 0.6669020056724548, 0.6671023368835449, 0.666804850101471, 0.6666191816329956, 0.665155291557312, 0.6656157970428467, 0.6661653518676758, 0.6648816466331482, 0.6656641364097595, 0.664711058139801, 0.6670963764190674, 0.6659067273139954, 0.6686041355133057, 0.6666753888130188, 0.6661412715911865, 0.6668727993965149, 0.6666399240493774, 0.6665242910385132, 0.6667953133583069], 'val_accuracy': [0.4503536820411682, 0.47419440746307373, 0.48336389660835266, 0.4739324152469635, 0.49043750762939453, 0.5226618051528931, 0.49489128589630127, 0.5043227672576904, 0.5205658674240112, 0.5011789202690125, 0.538642942905426, 0.469740629196167, 0.4990830421447754, 0.46685880422592163, 0.5187320113182068, 0.512182354927063, 0.4943673014640808, 0.5119203329086304, 0.492533415555954, 0.49882104992866516]}\n"
     ]
    },
    {
     "data": {
      "image/png": "[encoded data removed]",
      "text/plain": [
       "<Figure size 640x480 with 1 Axes>"
      ]
     },
     "metadata": {},
     "output_type": "display_data"
    }
   ],
   "source": [
    "from matplotlib import pyplot as plt\n",
    "\n",
    "# Assuming `models[0].get_training_history()` returns a dictionary\n",
    "history = models[0].get_training_history()\n",
    "print(history)\n",
    "# Plot training and validation loss\n",
    "plt.plot(history['loss'], label='Training Loss')\n",
    "plt.plot(history['val_loss'], label='Validation Loss')\n",
    "plt.xlabel('Epochs')\n",
    "plt.ylabel('Loss')\n",
    "plt.title('Training and Validation Loss')\n",
    "plt.legend()\n",
    "plt.show()\n"
   ]
  },
  {
   "cell_type": "code",
   "execution_count": 8,
   "id": "e247faa6",
   "metadata": {},
   "outputs": [
    {
     "name": "stdout",
     "output_type": "stream",
     "text": [
      "<modules.model_manager.implementations.tensorflow_model.TensorFlowModel object at 0x7fcaeace7190>\n"
     ]
    }
   ],
   "source": [
    "predictions = []\n",
    "for model in models:\n",
    "    print(model)\n",
    "    predictions.append(model.predict(validation_dataset.examples, return_target_labels=True))"
   ]
  },
  {
   "cell_type": "code",
   "execution_count": 9,
   "id": "4438f199",
   "metadata": {},
   "outputs": [
    {
     "name": "stdout",
     "output_type": "stream",
     "text": [
      "Accuracy on validation dataset: 0.5952318574796961\n",
      "1 Predictions: 3492 and total predictions: 3817\n"
     ]
    }
   ],
   "source": [
    "for df in predictions:\n",
    "    correct_predictions = (df['predictions'] == df['target_label']).sum()\n",
    "    total_predictions = len(df)\n",
    "    accuracy = correct_predictions / total_predictions\n",
    "    print(f\"Accuracy on validation dataset: {accuracy}\")\n",
    "\n",
    "    One_predictions = (df['predictions'] == 1).sum()\n",
    "    print(f\"1 Predictions: {One_predictions} and total predictions: {total_predictions}\")\n"
   ]
  },
  {
   "cell_type": "code",
   "execution_count": 10,
   "id": "0f043d26",
   "metadata": {},
   "outputs": [
    {
     "name": "stderr",
     "output_type": "stream",
     "text": [
      "UsageError: Line magic function `%tensorboard` not found.\n"
     ]
    }
   ],
   "source": [
    "%tensorboard --logdir logs/fit/39fcd8e4156a4f341f5bbd6bd6b76648"
   ]
  }
 ],
 "metadata": {
  "kernelspec": {
   "display_name": "Python 3.8.5 ('sports-betting': venv)",
   "language": "python",
   "name": "python3"
  },
  "language_info": {
   "codemirror_mode": {
    "name": "ipython",
    "version": 3
   },
   "file_extension": ".py",
   "mimetype": "text/x-python",
   "name": "python",
   "nbconvert_exporter": "python",
   "pygments_lexer": "ipython3",
   "version": "3.8.5"
  },
  "vscode": {
   "interpreter": {
    "hash": "42d1e72f09edad5b8341e1a78b673e0aa6929e61770b700654f70887e86e86ac"
   }
  }
 },
 "nbformat": 4,
 "nbformat_minor": 5
}
