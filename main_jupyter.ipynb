{
 "cells": [
  {
   "cell_type": "code",
   "execution_count": 1,
   "id": "251a0e8a-b944-4323-8731-207322906548",
   "metadata": {
    "collapsed": true,
    "jupyter": {
     "outputs_hidden": true
    }
   },
   "outputs": [
    {
     "name": "stdout",
     "output_type": "stream",
     "text": [
      "# === STEP 0: Imports: Starting ...\n"
     ]
    },
    {
     "name": "stderr",
     "output_type": "stream",
     "text": [
      "2025-01-12 11:31:17.998805: I tensorflow/core/platform/cpu_feature_guard.cc:182] This TensorFlow binary is optimized to use available CPU instructions in performance-critical operations.\n",
      "To enable the following instructions: AVX2 FMA, in other operations, rebuild TensorFlow with the appropriate compiler flags.\n"
     ]
    },
    {
     "name": "stdout",
     "output_type": "stream",
     "text": [
      "# === STEP 0: Imports: Complete\n"
     ]
    }
   ],
   "source": [
    "# Main file\n",
    "# Use case: Pilot test, \"integration test\"\n",
    "\n",
    "# === STEP 0: Imports\n",
    "print(\"# === STEP 0: Imports: Starting ...\")\n",
    "from modules.dataset_generator.helpers.configuration_loader import ConfigurationLoader as DSConfigLoader\n",
    "from modules.dataset_generator.factories.data_io_factory import DataIOFactory\n",
    "from modules.dataset_generator.factories.feature_processor_factory import FeatureProcessorFactory\n",
    "from modules.dataset_generator.factories.join_factory import JoinFactory\n",
    "from modules.dataset_generator.factories.strategy_factory import StrategyFactory\n",
    "from modules.dataset_generator.dataset_generator import DatasetGenerator\n",
    "from modules.processor.helpers.configuration_loader import ConfigurationLoader as PConfigLoader\n",
    "from modules.processor.factories.split_strategy_factory import SplitStrategyFactory\n",
    "from modules.processor.processor import Processor\n",
    "from modules.model_manager.trainer.trainer import Trainer\n",
    "from modules.model_manager.predictor.predictor import Predictor\n",
    "from modules.model_manager.factories.model_factory import ModelFactory\n",
    "from modules.model_manager.helpers.configuration_loader import ConfigurationLoader as MMConfigLoader\n",
    "from modules.model_manager.model_manager import ModelManager\n",
    "print(\"# === STEP 0: Imports: Complete\")"
   ]
  },
  {
   "cell_type": "code",
   "execution_count": 2,
   "id": "eef0ca8d-4980-4561-8348-6ba966b8a785",
   "metadata": {},
   "outputs": [
    {
     "name": "stdout",
     "output_type": "stream",
     "text": [
      "# === STEP 1: Dependency Instantiations And Global Variable Declarations: Starting ...\n",
      "# === STEP 1: Dependency Instantiations And Global Variable Declarations: Complete\n"
     ]
    }
   ],
   "source": [
    "# === STEP 1: Dependency Instantiations And Global Variable Declarations\n",
    "print(\"# === STEP 1: Dependency Instantiations And Global Variable Declarations: Starting ...\")\n",
    "## === DATASET GEN\n",
    "yaml_path = '/Users/joaquinuriarte/Documents/GitHub/sports-betting/configs/model_v0.yaml'\n",
    "ds_configuration_loader = DSConfigLoader()\n",
    "data_factory, feature_processor_factory, join_factory, strategy_factory = DataIOFactory(), FeatureProcessorFactory(), JoinFactory(), StrategyFactory()\n",
    "## === PROCESSOR\n",
    "p_configuration_loader = PConfigLoader()\n",
    "split_strategy_factory = SplitStrategyFactory()\n",
    "## === MODEL MANAGER\n",
    "checkpoint = '/Users/joaquinuriarte/Documents/GitHub/sports-betting/models'\n",
    "trainer = Trainer(checkpoint)\n",
    "predictor = Predictor()\n",
    "model_factory = ModelFactory()\n",
    "mm_configuration_loader = MMConfigLoader()\n",
    "print(\"# === STEP 1: Dependency Instantiations And Global Variable Declarations: Complete\")"
   ]
  },
  {
   "cell_type": "code",
   "execution_count": 3,
   "id": "cb5ab980-4b87-4271-afbf-f41b4250bee2",
   "metadata": {},
   "outputs": [
    {
     "name": "stdout",
     "output_type": "stream",
     "text": [
      "# === STEP 2: DATASET GEN: Starting ...\n"
     ]
    }
   ],
   "source": [
    "# === STEP 2: DATASET GEN\n",
    "print(\"# === STEP 2: DATASET GEN: Starting ...\")\n",
    "dataset_generator = DatasetGenerator(yaml_path, ds_configuration_loader, data_factory, feature_processor_factory, join_factory, strategy_factory)"
   ]
  },
  {
   "cell_type": "code",
   "execution_count": null,
   "id": "cdbf561d-25b7-4cdc-829b-f022bb4a7f47",
   "metadata": {},
   "outputs": [],
   "source": [
    "processed_dataset = dataset_generator.generate()\n",
    "print(\"# === STEP 2: DATASET GEN: Complete\")"
   ]
  },
  {
   "cell_type": "code",
   "execution_count": 4,
   "id": "d81fc9f8",
   "metadata": {},
   "outputs": [],
   "source": [
    "# File path to save and load the processed dataset\n",
    "processed_dataset_path = \"/Users/joaquinuriarte/Documents/GitHub/sports-betting/processed_datasets/processed_dataset.pkl\""
   ]
  },
  {
   "cell_type": "code",
   "execution_count": null,
   "id": "2db07225",
   "metadata": {},
   "outputs": [],
   "source": [
    "## Use to save processed dataset to disk ## \n",
    "import pickle\n",
    "import os\n",
    "\n",
    "with open(processed_dataset_path, \"wb\") as f:\n",
    "        pickle.dump(processed_dataset, f)\n",
    "        print(\"# === STEP 2: DATASET GEN: Saved to file\")"
   ]
  },
  {
   "cell_type": "code",
   "execution_count": 5,
   "id": "14a8608d",
   "metadata": {},
   "outputs": [
    {
     "name": "stdout",
     "output_type": "stream",
     "text": [
      "# === STEP 2: DATASET GEN: Loading from saved file\n"
     ]
    }
   ],
   "source": [
    "## Use to load processed dataset if computed already ## \n",
    "import pickle\n",
    "import os\n",
    "\n",
    "print(\"# === STEP 2: DATASET GEN: Loading from saved file\")\n",
    "with open(processed_dataset_path, \"rb\") as f:\n",
    "    processed_dataset = pickle.load(f)"
   ]
  },
  {
   "cell_type": "code",
   "execution_count": 6,
   "id": "0c867dcb",
   "metadata": {},
   "outputs": [
    {
     "data": {
      "text/html": [
       "<div>\n",
       "<style scoped>\n",
       "    .dataframe tbody tr th:only-of-type {\n",
       "        vertical-align: middle;\n",
       "    }\n",
       "\n",
       "    .dataframe tbody tr th {\n",
       "        vertical-align: top;\n",
       "    }\n",
       "\n",
       "    .dataframe thead th {\n",
       "        text-align: right;\n",
       "    }\n",
       "</style>\n",
       "<table border=\"1\" class=\"dataframe\">\n",
       "  <thead>\n",
       "    <tr style=\"text-align: right;\">\n",
       "      <th></th>\n",
       "      <th>A_player_1_MIN</th>\n",
       "      <th>A_player_1_PTS</th>\n",
       "      <th>A_player_1_AST</th>\n",
       "      <th>A_player_1_TO</th>\n",
       "      <th>A_player_1_PLUS_MINUS</th>\n",
       "      <th>A_player_1_OREB</th>\n",
       "      <th>A_player_1_DREB</th>\n",
       "      <th>A_player_1_PF</th>\n",
       "      <th>A_player_1_FG3_PCT</th>\n",
       "      <th>A_player_1_FG_PCT</th>\n",
       "      <th>...</th>\n",
       "      <th>B_player_8_AST</th>\n",
       "      <th>B_player_8_TO</th>\n",
       "      <th>B_player_8_PLUS_MINUS</th>\n",
       "      <th>B_player_8_OREB</th>\n",
       "      <th>B_player_8_DREB</th>\n",
       "      <th>B_player_8_PF</th>\n",
       "      <th>B_player_8_FG3_PCT</th>\n",
       "      <th>B_player_8_FG_PCT</th>\n",
       "      <th>B_player_8_FT_PCT</th>\n",
       "      <th>Team_A_Wins</th>\n",
       "    </tr>\n",
       "    <tr>\n",
       "      <th>GAME_ID</th>\n",
       "      <th></th>\n",
       "      <th></th>\n",
       "      <th></th>\n",
       "      <th></th>\n",
       "      <th></th>\n",
       "      <th></th>\n",
       "      <th></th>\n",
       "      <th></th>\n",
       "      <th></th>\n",
       "      <th></th>\n",
       "      <th></th>\n",
       "      <th></th>\n",
       "      <th></th>\n",
       "      <th></th>\n",
       "      <th></th>\n",
       "      <th></th>\n",
       "      <th></th>\n",
       "      <th></th>\n",
       "      <th></th>\n",
       "      <th></th>\n",
       "      <th></th>\n",
       "    </tr>\n",
       "  </thead>\n",
       "  <tbody>\n",
       "    <tr>\n",
       "      <th>11400001</th>\n",
       "      <td>41.266667</td>\n",
       "      <td>31.0</td>\n",
       "      <td>5.0</td>\n",
       "      <td>1.0</td>\n",
       "      <td>-16.0</td>\n",
       "      <td>1.0</td>\n",
       "      <td>9.0</td>\n",
       "      <td>1.0</td>\n",
       "      <td>0.333</td>\n",
       "      <td>0.476</td>\n",
       "      <td>...</td>\n",
       "      <td>0.0</td>\n",
       "      <td>0.0</td>\n",
       "      <td>-11.0</td>\n",
       "      <td>0.0</td>\n",
       "      <td>0.0</td>\n",
       "      <td>4.0</td>\n",
       "      <td>0.0000</td>\n",
       "      <td>0.6670</td>\n",
       "      <td>0.0</td>\n",
       "      <td>0</td>\n",
       "    </tr>\n",
       "    <tr>\n",
       "      <th>11400002</th>\n",
       "      <td>45.083333</td>\n",
       "      <td>18.0</td>\n",
       "      <td>6.0</td>\n",
       "      <td>2.0</td>\n",
       "      <td>2.0</td>\n",
       "      <td>0.0</td>\n",
       "      <td>2.0</td>\n",
       "      <td>2.0</td>\n",
       "      <td>0.500</td>\n",
       "      <td>0.417</td>\n",
       "      <td>...</td>\n",
       "      <td>4.0</td>\n",
       "      <td>2.0</td>\n",
       "      <td>5.0</td>\n",
       "      <td>0.0</td>\n",
       "      <td>0.0</td>\n",
       "      <td>2.0</td>\n",
       "      <td>0.0000</td>\n",
       "      <td>0.4000</td>\n",
       "      <td>0.0</td>\n",
       "      <td>1</td>\n",
       "    </tr>\n",
       "    <tr>\n",
       "      <th>11400004</th>\n",
       "      <td>43.200000</td>\n",
       "      <td>6.0</td>\n",
       "      <td>7.0</td>\n",
       "      <td>4.0</td>\n",
       "      <td>-1.0</td>\n",
       "      <td>2.0</td>\n",
       "      <td>16.0</td>\n",
       "      <td>1.0</td>\n",
       "      <td>0.000</td>\n",
       "      <td>0.375</td>\n",
       "      <td>...</td>\n",
       "      <td>0.0</td>\n",
       "      <td>0.0</td>\n",
       "      <td>2.0</td>\n",
       "      <td>0.0</td>\n",
       "      <td>0.0</td>\n",
       "      <td>1.0</td>\n",
       "      <td>0.0000</td>\n",
       "      <td>0.0000</td>\n",
       "      <td>0.0</td>\n",
       "      <td>0</td>\n",
       "    </tr>\n",
       "    <tr>\n",
       "      <th>11400005</th>\n",
       "      <td>36.600000</td>\n",
       "      <td>12.0</td>\n",
       "      <td>2.0</td>\n",
       "      <td>1.0</td>\n",
       "      <td>9.0</td>\n",
       "      <td>1.0</td>\n",
       "      <td>7.0</td>\n",
       "      <td>3.0</td>\n",
       "      <td>0.000</td>\n",
       "      <td>0.545</td>\n",
       "      <td>...</td>\n",
       "      <td>1.0</td>\n",
       "      <td>0.0</td>\n",
       "      <td>6.0</td>\n",
       "      <td>0.0</td>\n",
       "      <td>5.0</td>\n",
       "      <td>4.0</td>\n",
       "      <td>0.5000</td>\n",
       "      <td>0.6670</td>\n",
       "      <td>1.0</td>\n",
       "      <td>1</td>\n",
       "    </tr>\n",
       "    <tr>\n",
       "      <th>11400006</th>\n",
       "      <td>36.866667</td>\n",
       "      <td>18.0</td>\n",
       "      <td>3.0</td>\n",
       "      <td>5.0</td>\n",
       "      <td>-17.0</td>\n",
       "      <td>2.0</td>\n",
       "      <td>3.0</td>\n",
       "      <td>4.0</td>\n",
       "      <td>0.429</td>\n",
       "      <td>0.389</td>\n",
       "      <td>...</td>\n",
       "      <td>0.0</td>\n",
       "      <td>0.0</td>\n",
       "      <td>13.0</td>\n",
       "      <td>0.0</td>\n",
       "      <td>3.0</td>\n",
       "      <td>4.0</td>\n",
       "      <td>0.0000</td>\n",
       "      <td>0.6000</td>\n",
       "      <td>1.0</td>\n",
       "      <td>1</td>\n",
       "    </tr>\n",
       "    <tr>\n",
       "      <th>...</th>\n",
       "      <td>...</td>\n",
       "      <td>...</td>\n",
       "      <td>...</td>\n",
       "      <td>...</td>\n",
       "      <td>...</td>\n",
       "      <td>...</td>\n",
       "      <td>...</td>\n",
       "      <td>...</td>\n",
       "      <td>...</td>\n",
       "      <td>...</td>\n",
       "      <td>...</td>\n",
       "      <td>...</td>\n",
       "      <td>...</td>\n",
       "      <td>...</td>\n",
       "      <td>...</td>\n",
       "      <td>...</td>\n",
       "      <td>...</td>\n",
       "      <td>...</td>\n",
       "      <td>...</td>\n",
       "      <td>...</td>\n",
       "      <td>...</td>\n",
       "    </tr>\n",
       "    <tr>\n",
       "      <th>52100111</th>\n",
       "      <td>32.566667</td>\n",
       "      <td>22.0</td>\n",
       "      <td>0.0</td>\n",
       "      <td>2.0</td>\n",
       "      <td>18.0</td>\n",
       "      <td>0.0</td>\n",
       "      <td>2.0</td>\n",
       "      <td>1.0</td>\n",
       "      <td>1.000</td>\n",
       "      <td>0.538</td>\n",
       "      <td>...</td>\n",
       "      <td>0.0</td>\n",
       "      <td>0.0</td>\n",
       "      <td>-4.0</td>\n",
       "      <td>0.0</td>\n",
       "      <td>0.0</td>\n",
       "      <td>0.0</td>\n",
       "      <td>0.0000</td>\n",
       "      <td>0.0000</td>\n",
       "      <td>0.0</td>\n",
       "      <td>1</td>\n",
       "    </tr>\n",
       "    <tr>\n",
       "      <th>52100121</th>\n",
       "      <td>21.316667</td>\n",
       "      <td>13.0</td>\n",
       "      <td>2.0</td>\n",
       "      <td>0.0</td>\n",
       "      <td>-3.0</td>\n",
       "      <td>3.0</td>\n",
       "      <td>0.0</td>\n",
       "      <td>4.0</td>\n",
       "      <td>0.000</td>\n",
       "      <td>0.714</td>\n",
       "      <td>...</td>\n",
       "      <td>2.5</td>\n",
       "      <td>0.5</td>\n",
       "      <td>14.5</td>\n",
       "      <td>0.0</td>\n",
       "      <td>3.0</td>\n",
       "      <td>2.0</td>\n",
       "      <td>0.4165</td>\n",
       "      <td>0.4285</td>\n",
       "      <td>0.5</td>\n",
       "      <td>1</td>\n",
       "    </tr>\n",
       "    <tr>\n",
       "      <th>52100131</th>\n",
       "      <td>32.316667</td>\n",
       "      <td>19.0</td>\n",
       "      <td>6.0</td>\n",
       "      <td>3.0</td>\n",
       "      <td>-13.0</td>\n",
       "      <td>3.0</td>\n",
       "      <td>2.0</td>\n",
       "      <td>2.0</td>\n",
       "      <td>0.000</td>\n",
       "      <td>0.533</td>\n",
       "      <td>...</td>\n",
       "      <td>1.0</td>\n",
       "      <td>0.0</td>\n",
       "      <td>-1.0</td>\n",
       "      <td>2.0</td>\n",
       "      <td>2.0</td>\n",
       "      <td>0.0</td>\n",
       "      <td>0.0000</td>\n",
       "      <td>0.5000</td>\n",
       "      <td>1.0</td>\n",
       "      <td>1</td>\n",
       "    </tr>\n",
       "    <tr>\n",
       "      <th>52100201</th>\n",
       "      <td>40.000000</td>\n",
       "      <td>12.0</td>\n",
       "      <td>7.0</td>\n",
       "      <td>2.0</td>\n",
       "      <td>2.0</td>\n",
       "      <td>1.0</td>\n",
       "      <td>6.0</td>\n",
       "      <td>3.0</td>\n",
       "      <td>0.500</td>\n",
       "      <td>0.333</td>\n",
       "      <td>...</td>\n",
       "      <td>1.0</td>\n",
       "      <td>0.0</td>\n",
       "      <td>2.0</td>\n",
       "      <td>0.0</td>\n",
       "      <td>0.0</td>\n",
       "      <td>1.0</td>\n",
       "      <td>0.0000</td>\n",
       "      <td>1.0000</td>\n",
       "      <td>0.0</td>\n",
       "      <td>0</td>\n",
       "    </tr>\n",
       "    <tr>\n",
       "      <th>52100211</th>\n",
       "      <td>41.750000</td>\n",
       "      <td>17.0</td>\n",
       "      <td>5.0</td>\n",
       "      <td>5.0</td>\n",
       "      <td>-7.0</td>\n",
       "      <td>1.0</td>\n",
       "      <td>6.0</td>\n",
       "      <td>5.0</td>\n",
       "      <td>0.500</td>\n",
       "      <td>0.389</td>\n",
       "      <td>...</td>\n",
       "      <td>0.0</td>\n",
       "      <td>1.0</td>\n",
       "      <td>2.0</td>\n",
       "      <td>2.0</td>\n",
       "      <td>6.0</td>\n",
       "      <td>1.0</td>\n",
       "      <td>0.0000</td>\n",
       "      <td>0.0000</td>\n",
       "      <td>0.0</td>\n",
       "      <td>0</td>\n",
       "    </tr>\n",
       "  </tbody>\n",
       "</table>\n",
       "<p>25445 rows × 177 columns</p>\n",
       "</div>"
      ],
      "text/plain": [
       "          A_player_1_MIN  A_player_1_PTS  A_player_1_AST  A_player_1_TO  \\\n",
       "GAME_ID                                                                   \n",
       "11400001       41.266667            31.0             5.0            1.0   \n",
       "11400002       45.083333            18.0             6.0            2.0   \n",
       "11400004       43.200000             6.0             7.0            4.0   \n",
       "11400005       36.600000            12.0             2.0            1.0   \n",
       "11400006       36.866667            18.0             3.0            5.0   \n",
       "...                  ...             ...             ...            ...   \n",
       "52100111       32.566667            22.0             0.0            2.0   \n",
       "52100121       21.316667            13.0             2.0            0.0   \n",
       "52100131       32.316667            19.0             6.0            3.0   \n",
       "52100201       40.000000            12.0             7.0            2.0   \n",
       "52100211       41.750000            17.0             5.0            5.0   \n",
       "\n",
       "          A_player_1_PLUS_MINUS  A_player_1_OREB  A_player_1_DREB  \\\n",
       "GAME_ID                                                             \n",
       "11400001                  -16.0              1.0              9.0   \n",
       "11400002                    2.0              0.0              2.0   \n",
       "11400004                   -1.0              2.0             16.0   \n",
       "11400005                    9.0              1.0              7.0   \n",
       "11400006                  -17.0              2.0              3.0   \n",
       "...                         ...              ...              ...   \n",
       "52100111                   18.0              0.0              2.0   \n",
       "52100121                   -3.0              3.0              0.0   \n",
       "52100131                  -13.0              3.0              2.0   \n",
       "52100201                    2.0              1.0              6.0   \n",
       "52100211                   -7.0              1.0              6.0   \n",
       "\n",
       "          A_player_1_PF  A_player_1_FG3_PCT  A_player_1_FG_PCT  ...  \\\n",
       "GAME_ID                                                         ...   \n",
       "11400001            1.0               0.333              0.476  ...   \n",
       "11400002            2.0               0.500              0.417  ...   \n",
       "11400004            1.0               0.000              0.375  ...   \n",
       "11400005            3.0               0.000              0.545  ...   \n",
       "11400006            4.0               0.429              0.389  ...   \n",
       "...                 ...                 ...                ...  ...   \n",
       "52100111            1.0               1.000              0.538  ...   \n",
       "52100121            4.0               0.000              0.714  ...   \n",
       "52100131            2.0               0.000              0.533  ...   \n",
       "52100201            3.0               0.500              0.333  ...   \n",
       "52100211            5.0               0.500              0.389  ...   \n",
       "\n",
       "          B_player_8_AST  B_player_8_TO  B_player_8_PLUS_MINUS  \\\n",
       "GAME_ID                                                          \n",
       "11400001             0.0            0.0                  -11.0   \n",
       "11400002             4.0            2.0                    5.0   \n",
       "11400004             0.0            0.0                    2.0   \n",
       "11400005             1.0            0.0                    6.0   \n",
       "11400006             0.0            0.0                   13.0   \n",
       "...                  ...            ...                    ...   \n",
       "52100111             0.0            0.0                   -4.0   \n",
       "52100121             2.5            0.5                   14.5   \n",
       "52100131             1.0            0.0                   -1.0   \n",
       "52100201             1.0            0.0                    2.0   \n",
       "52100211             0.0            1.0                    2.0   \n",
       "\n",
       "          B_player_8_OREB  B_player_8_DREB  B_player_8_PF  B_player_8_FG3_PCT  \\\n",
       "GAME_ID                                                                         \n",
       "11400001              0.0              0.0            4.0              0.0000   \n",
       "11400002              0.0              0.0            2.0              0.0000   \n",
       "11400004              0.0              0.0            1.0              0.0000   \n",
       "11400005              0.0              5.0            4.0              0.5000   \n",
       "11400006              0.0              3.0            4.0              0.0000   \n",
       "...                   ...              ...            ...                 ...   \n",
       "52100111              0.0              0.0            0.0              0.0000   \n",
       "52100121              0.0              3.0            2.0              0.4165   \n",
       "52100131              2.0              2.0            0.0              0.0000   \n",
       "52100201              0.0              0.0            1.0              0.0000   \n",
       "52100211              2.0              6.0            1.0              0.0000   \n",
       "\n",
       "          B_player_8_FG_PCT  B_player_8_FT_PCT  Team_A_Wins  \n",
       "GAME_ID                                                      \n",
       "11400001             0.6670                0.0            0  \n",
       "11400002             0.4000                0.0            1  \n",
       "11400004             0.0000                0.0            0  \n",
       "11400005             0.6670                1.0            1  \n",
       "11400006             0.6000                1.0            1  \n",
       "...                     ...                ...          ...  \n",
       "52100111             0.0000                0.0            1  \n",
       "52100121             0.4285                0.5            1  \n",
       "52100131             0.5000                1.0            1  \n",
       "52100201             1.0000                0.0            0  \n",
       "52100211             0.0000                0.0            0  \n",
       "\n",
       "[25445 rows x 177 columns]"
      ]
     },
     "execution_count": 6,
     "metadata": {},
     "output_type": "execute_result"
    }
   ],
   "source": [
    "processed_dataset.features"
   ]
  },
  {
   "cell_type": "code",
   "execution_count": 7,
   "id": "7ca54e3c-f921-4d71-b0a6-857271282502",
   "metadata": {},
   "outputs": [
    {
     "name": "stdout",
     "output_type": "stream",
     "text": [
      "# === STEP 3: PROCESSOR: Starting ...\n"
     ]
    }
   ],
   "source": [
    "# === STEP 3: PROCESSOR\n",
    "print(\"# === STEP 3: PROCESSOR: Starting ...\")\n",
    "processor = Processor(yaml_path, p_configuration_loader, processed_dataset, split_strategy_factory)"
   ]
  },
  {
   "cell_type": "code",
   "execution_count": 12,
   "id": "e5e72e7a-9069-43f6-9872-8cb18519caaa",
   "metadata": {},
   "outputs": [
    {
     "name": "stdout",
     "output_type": "stream",
     "text": [
      "# === STEP 3: PROCESSOR: Complete\n"
     ]
    }
   ],
   "source": [
    "train_dataset, validation_dataset, test_dataset = processor.generate()\n",
    "print(\"# === STEP 3: PROCESSOR: Complete\")"
   ]
  },
  {
   "cell_type": "code",
   "execution_count": 9,
   "id": "b66b2d17-0154-4ac7-b6e4-2388aaa130eb",
   "metadata": {},
   "outputs": [
    {
     "name": "stdout",
     "output_type": "stream",
     "text": [
      "# === STEP 4: MODEL MANAGER: Starting ...\n"
     ]
    }
   ],
   "source": [
    "# === STEP 4: MODEL MANAGER\n",
    "print(\"# === STEP 4: MODEL MANAGER: Starting ...\")\n",
    "model_manager = ModelManager(trainer, predictor, model_factory, mm_configuration_loader)\n",
    "models = model_manager.create_models([yaml_path])"
   ]
  },
  {
   "cell_type": "code",
   "execution_count": 10,
   "id": "1fec0485",
   "metadata": {},
   "outputs": [
    {
     "data": {
      "text/plain": [
       "177"
      ]
     },
     "execution_count": 10,
     "metadata": {},
     "output_type": "execute_result"
    }
   ],
   "source": [
    "train_dataset.examples[0].features\n",
    "len(train_dataset.examples[0].features) # should be 177"
   ]
  },
  {
   "cell_type": "code",
   "execution_count": 14,
   "id": "3437639c-6666-4c76-a827-706148a9fa7f",
   "metadata": {},
   "outputs": [
    {
     "name": "stderr",
     "output_type": "stream",
     "text": [
      "INFO:root:Training model '8997782287ac95361ce10ecee1af1840' for 20 epochs with batch size 32.\n",
      "INFO:root:Model '8997782287ac95361ce10ecee1af1840': Starting epoch 1/20.\n",
      "/Users/joaquinuriarte/Documents/GitHub/sports-betting/sports-betting/lib/python3.8/site-packages/keras/src/backend.py:5805: UserWarning: \"`binary_crossentropy` received `from_logits=True`, but the `output` argument was produced by a Sigmoid activation and thus does not represent logits. Was this intended?\n",
      "  output, from_logits = _get_logits(\n"
     ]
    },
    {
     "name": "stdout",
     "output_type": "stream",
     "text": [
      "6/6 [==============================] - 1s 59ms/step - loss: 0.9765 - accuracy: 0.4607 - val_loss: 0.7449 - val_accuracy: 0.5873\n"
     ]
    },
    {
     "name": "stderr",
     "output_type": "stream",
     "text": [
      "INFO:root:Model '8997782287ac95361ce10ecee1af1840': Starting epoch 2/20.\n"
     ]
    },
    {
     "name": "stdout",
     "output_type": "stream",
     "text": [
      "6/6 [==============================] - 0s 20ms/step - loss: 0.7398 - accuracy: 0.5955 - val_loss: 0.7736 - val_accuracy: 0.5238\n"
     ]
    },
    {
     "name": "stderr",
     "output_type": "stream",
     "text": [
      "INFO:root:Model '8997782287ac95361ce10ecee1af1840': Starting epoch 3/20.\n"
     ]
    },
    {
     "name": "stdout",
     "output_type": "stream",
     "text": [
      "6/6 [==============================] - 0s 30ms/step - loss: 0.6461 - accuracy: 0.6124 - val_loss: 0.7561 - val_accuracy: 0.5556\n"
     ]
    },
    {
     "name": "stderr",
     "output_type": "stream",
     "text": [
      "INFO:root:Model '8997782287ac95361ce10ecee1af1840': Starting epoch 4/20.\n"
     ]
    },
    {
     "name": "stdout",
     "output_type": "stream",
     "text": [
      "6/6 [==============================] - 0s 20ms/step - loss: 0.5969 - accuracy: 0.6854 - val_loss: 0.7409 - val_accuracy: 0.5238\n"
     ]
    },
    {
     "name": "stderr",
     "output_type": "stream",
     "text": [
      "INFO:root:Model '8997782287ac95361ce10ecee1af1840': Starting epoch 5/20.\n"
     ]
    },
    {
     "name": "stdout",
     "output_type": "stream",
     "text": [
      "6/6 [==============================] - 0s 20ms/step - loss: 0.5413 - accuracy: 0.7135 - val_loss: 0.7350 - val_accuracy: 0.5238\n"
     ]
    },
    {
     "name": "stderr",
     "output_type": "stream",
     "text": [
      "INFO:root:Model '8997782287ac95361ce10ecee1af1840': Starting epoch 6/20.\n"
     ]
    },
    {
     "name": "stdout",
     "output_type": "stream",
     "text": [
      "6/6 [==============================] - 0s 21ms/step - loss: 0.4910 - accuracy: 0.7528 - val_loss: 0.7436 - val_accuracy: 0.5397\n"
     ]
    },
    {
     "name": "stderr",
     "output_type": "stream",
     "text": [
      "INFO:root:Model '8997782287ac95361ce10ecee1af1840': Starting epoch 7/20.\n"
     ]
    },
    {
     "name": "stdout",
     "output_type": "stream",
     "text": [
      "6/6 [==============================] - 0s 20ms/step - loss: 0.4306 - accuracy: 0.8652 - val_loss: 0.7607 - val_accuracy: 0.4683\n"
     ]
    },
    {
     "name": "stderr",
     "output_type": "stream",
     "text": [
      "INFO:root:Model '8997782287ac95361ce10ecee1af1840': Starting epoch 8/20.\n"
     ]
    },
    {
     "name": "stdout",
     "output_type": "stream",
     "text": [
      "6/6 [==============================] - 0s 21ms/step - loss: 0.4078 - accuracy: 0.8539 - val_loss: 0.7701 - val_accuracy: 0.5000\n"
     ]
    },
    {
     "name": "stderr",
     "output_type": "stream",
     "text": [
      "INFO:root:Model '8997782287ac95361ce10ecee1af1840': Starting epoch 9/20.\n"
     ]
    },
    {
     "name": "stdout",
     "output_type": "stream",
     "text": [
      "6/6 [==============================] - 0s 23ms/step - loss: 0.3720 - accuracy: 0.8989 - val_loss: 0.7684 - val_accuracy: 0.5159\n"
     ]
    },
    {
     "name": "stderr",
     "output_type": "stream",
     "text": [
      "INFO:root:Model '8997782287ac95361ce10ecee1af1840': Starting epoch 10/20.\n"
     ]
    },
    {
     "name": "stdout",
     "output_type": "stream",
     "text": [
      "6/6 [==============================] - 0s 20ms/step - loss: 0.3420 - accuracy: 0.9213 - val_loss: 0.7756 - val_accuracy: 0.5238\n"
     ]
    },
    {
     "name": "stderr",
     "output_type": "stream",
     "text": [
      "INFO:root:Model '8997782287ac95361ce10ecee1af1840': Starting epoch 11/20.\n"
     ]
    },
    {
     "name": "stdout",
     "output_type": "stream",
     "text": [
      "6/6 [==============================] - 0s 20ms/step - loss: 0.3069 - accuracy: 0.9494 - val_loss: 0.8103 - val_accuracy: 0.5476\n"
     ]
    },
    {
     "name": "stderr",
     "output_type": "stream",
     "text": [
      "INFO:root:Model '8997782287ac95361ce10ecee1af1840': Starting epoch 12/20.\n"
     ]
    },
    {
     "name": "stdout",
     "output_type": "stream",
     "text": [
      "6/6 [==============================] - 0s 21ms/step - loss: 0.2837 - accuracy: 0.9438 - val_loss: 0.8099 - val_accuracy: 0.4683\n"
     ]
    },
    {
     "name": "stderr",
     "output_type": "stream",
     "text": [
      "INFO:root:Model '8997782287ac95361ce10ecee1af1840': Starting epoch 13/20.\n"
     ]
    },
    {
     "name": "stdout",
     "output_type": "stream",
     "text": [
      "6/6 [==============================] - 0s 21ms/step - loss: 0.2517 - accuracy: 0.9663 - val_loss: 0.8185 - val_accuracy: 0.5476\n"
     ]
    },
    {
     "name": "stderr",
     "output_type": "stream",
     "text": [
      "INFO:root:Model '8997782287ac95361ce10ecee1af1840': Starting epoch 14/20.\n"
     ]
    },
    {
     "name": "stdout",
     "output_type": "stream",
     "text": [
      "6/6 [==============================] - 0s 21ms/step - loss: 0.2334 - accuracy: 0.9775 - val_loss: 0.8157 - val_accuracy: 0.5238\n"
     ]
    },
    {
     "name": "stderr",
     "output_type": "stream",
     "text": [
      "INFO:root:Model '8997782287ac95361ce10ecee1af1840': Starting epoch 15/20.\n"
     ]
    },
    {
     "name": "stdout",
     "output_type": "stream",
     "text": [
      "6/6 [==============================] - 0s 24ms/step - loss: 0.1914 - accuracy: 0.9944 - val_loss: 0.8365 - val_accuracy: 0.5317\n"
     ]
    },
    {
     "name": "stderr",
     "output_type": "stream",
     "text": [
      "INFO:root:Model '8997782287ac95361ce10ecee1af1840': Starting epoch 16/20.\n"
     ]
    },
    {
     "name": "stdout",
     "output_type": "stream",
     "text": [
      "6/6 [==============================] - 0s 21ms/step - loss: 0.1750 - accuracy: 0.9944 - val_loss: 0.8583 - val_accuracy: 0.4762\n"
     ]
    },
    {
     "name": "stderr",
     "output_type": "stream",
     "text": [
      "INFO:root:Model '8997782287ac95361ce10ecee1af1840': Starting epoch 17/20.\n"
     ]
    },
    {
     "name": "stdout",
     "output_type": "stream",
     "text": [
      "6/6 [==============================] - 0s 19ms/step - loss: 0.1486 - accuracy: 0.9944 - val_loss: 0.9012 - val_accuracy: 0.5238\n"
     ]
    },
    {
     "name": "stderr",
     "output_type": "stream",
     "text": [
      "INFO:root:Model '8997782287ac95361ce10ecee1af1840': Starting epoch 18/20.\n"
     ]
    },
    {
     "name": "stdout",
     "output_type": "stream",
     "text": [
      "6/6 [==============================] - 0s 20ms/step - loss: 0.1328 - accuracy: 0.9944 - val_loss: 0.9141 - val_accuracy: 0.5000\n"
     ]
    },
    {
     "name": "stderr",
     "output_type": "stream",
     "text": [
      "INFO:root:Model '8997782287ac95361ce10ecee1af1840': Starting epoch 19/20.\n"
     ]
    },
    {
     "name": "stdout",
     "output_type": "stream",
     "text": [
      "6/6 [==============================] - 0s 24ms/step - loss: 0.1129 - accuracy: 0.9944 - val_loss: 0.9143 - val_accuracy: 0.4762\n"
     ]
    },
    {
     "name": "stderr",
     "output_type": "stream",
     "text": [
      "INFO:root:Model '8997782287ac95361ce10ecee1af1840': Starting epoch 20/20.\n"
     ]
    },
    {
     "name": "stdout",
     "output_type": "stream",
     "text": [
      "6/6 [==============================] - 0s 21ms/step - loss: 0.0943 - accuracy: 0.9944 - val_loss: 0.9258 - val_accuracy: 0.4762\n"
     ]
    },
    {
     "name": "stderr",
     "output_type": "stream",
     "text": [
      "INFO:root:Model '8997782287ac95361ce10ecee1af1840': Finished training.\n"
     ]
    },
    {
     "name": "stdout",
     "output_type": "stream",
     "text": [
      "Model saved successfully at: models/8997782287ac95361ce10ecee1af1840/model_weights_8997782287ac95361ce10ecee1af1840.pth\n",
      "# === STEP 4: MODEL MANAGER: Complete\n"
     ]
    }
   ],
   "source": [
    "# If no val dataset, code requires to push None instead\n",
    "val_dataset = validation_dataset if validation_dataset is not None else None\n",
    "\n",
    "model_manager.train(models, [(train_dataset, val_dataset)], save_after_training=True)\n",
    "print(\"# === STEP 4: MODEL MANAGER: Complete\")"
   ]
  },
  {
   "cell_type": "code",
   "execution_count": 21,
   "id": "e247faa6",
   "metadata": {},
   "outputs": [
    {
     "name": "stdout",
     "output_type": "stream",
     "text": [
      "<modules.model_manager.implementations.tensorflow_model.TensorFlowModel object at 0x7f7eb06ef070>\n"
     ]
    }
   ],
   "source": [
    "predictions = []\n",
    "for model in models:\n",
    "    print(model)\n",
    "    predictions.append(model.predict(test_dataset.examples, return_target_labels=True))"
   ]
  },
  {
   "cell_type": "code",
   "execution_count": 26,
   "id": "4438f199",
   "metadata": {},
   "outputs": [
    {
     "name": "stdout",
     "output_type": "stream",
     "text": [
      "Accuracy on test dataset: 0.5897537886321149\n"
     ]
    }
   ],
   "source": [
    "for df in predictions:\n",
    "    correct_predictions = (df['predictions'] == df['target_label']).sum()\n",
    "    total_predictions = len(df)\n",
    "    accuracy = correct_predictions / total_predictions\n",
    "    print(f\"Accuracy on test dataset: {accuracy}\")"
   ]
  }
 ],
 "metadata": {
  "kernelspec": {
   "display_name": "Python 3.8.5 ('sports-betting': venv)",
   "language": "python",
   "name": "python3"
  },
  "language_info": {
   "codemirror_mode": {
    "name": "ipython",
    "version": 3
   },
   "file_extension": ".py",
   "mimetype": "text/x-python",
   "name": "python",
   "nbconvert_exporter": "python",
   "pygments_lexer": "ipython3",
   "version": "3.8.5"
  },
  "vscode": {
   "interpreter": {
    "hash": "42d1e72f09edad5b8341e1a78b673e0aa6929e61770b700654f70887e86e86ac"
   }
  }
 },
 "nbformat": 4,
 "nbformat_minor": 5
}
