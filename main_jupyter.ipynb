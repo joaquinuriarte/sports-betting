{
 "cells": [
  {
   "cell_type": "code",
   "execution_count": 26,
   "id": "251a0e8a-b944-4323-8731-207322906548",
   "metadata": {
    "collapsed": true,
    "jupyter": {
     "outputs_hidden": true
    }
   },
   "outputs": [
    {
     "name": "stdout",
     "output_type": "stream",
     "text": [
      "# === STEP 0: Imports: Starting ...\n",
      "# === STEP 0: Imports: Complete\n"
     ]
    }
   ],
   "source": [
    "# Main file\n",
    "# Use case: Pilot test, \"integration test\"\n",
    "\n",
    "# === STEP 0: Imports\n",
    "print(\"# === STEP 0: Imports: Starting ...\")\n",
    "from modules.dataset_generator.helpers.configuration_loader import ConfigurationLoader as DSConfigLoader\n",
    "from modules.dataset_generator.factories.data_io_factory import DataIOFactory\n",
    "from modules.dataset_generator.factories.feature_processor_factory import FeatureProcessorFactory\n",
    "from modules.dataset_generator.factories.join_factory import JoinFactory\n",
    "from modules.dataset_generator.factories.strategy_factory import StrategyFactory\n",
    "from modules.dataset_generator.dataset_generator import DatasetGenerator\n",
    "from modules.processor.helpers.configuration_loader import ConfigurationLoader as PConfigLoader\n",
    "from modules.processor.factories.split_strategy_factory import SplitStrategyFactory\n",
    "from modules.processor.processor import Processor\n",
    "from modules.model_manager.trainer.trainer import Trainer\n",
    "from modules.model_manager.predictor.predictor import Predictor\n",
    "from modules.model_manager.factories.model_factory import ModelFactory\n",
    "from modules.model_manager.helpers.configuration_loader import ConfigurationLoader as MMConfigLoader\n",
    "from modules.model_manager.model_manager import ModelManager\n",
    "print(\"# === STEP 0: Imports: Complete\")"
   ]
  },
  {
   "cell_type": "code",
   "execution_count": 27,
   "id": "eef0ca8d-4980-4561-8348-6ba966b8a785",
   "metadata": {},
   "outputs": [
    {
     "name": "stdout",
     "output_type": "stream",
     "text": [
      "# === STEP 1: Dependency Instantiations And Global Variable Declarations: Starting ...\n",
      "# === STEP 1: Dependency Instantiations And Global Variable Declarations: Complete\n"
     ]
    }
   ],
   "source": [
    "# === STEP 1: Dependency Instantiations And Global Variable Declarations\n",
    "print(\"# === STEP 1: Dependency Instantiations And Global Variable Declarations: Starting ...\")\n",
    "## === DATASET GEN\n",
    "yaml_path = '/Users/joaquinuriarte/Documents/GitHub/sports-betting/configs/model_v0.yaml'\n",
    "ds_configuration_loader = DSConfigLoader()\n",
    "data_factory, feature_processor_factory, join_factory, strategy_factory = DataIOFactory(), FeatureProcessorFactory(), JoinFactory(), StrategyFactory()\n",
    "## === PROCESSOR\n",
    "p_configuration_loader = PConfigLoader()\n",
    "split_strategy_factory = SplitStrategyFactory()\n",
    "## === MODEL MANAGER\n",
    "checkpoint = '/Users/joaquinuriarte/Documents/GitHub/sports-betting/models'\n",
    "trainer = Trainer(checkpoint)\n",
    "predictor = Predictor()\n",
    "model_factory = ModelFactory()\n",
    "mm_configuration_loader = MMConfigLoader()\n",
    "print(\"# === STEP 1: Dependency Instantiations And Global Variable Declarations: Complete\")"
   ]
  },
  {
   "cell_type": "code",
   "execution_count": 5,
   "id": "cb5ab980-4b87-4271-afbf-f41b4250bee2",
   "metadata": {},
   "outputs": [
    {
     "name": "stdout",
     "output_type": "stream",
     "text": [
      "# === STEP 2: DATASET GEN: Starting ...\n"
     ]
    }
   ],
   "source": [
    "# === STEP 2: DATASET GEN\n",
    "print(\"# === STEP 2: DATASET GEN: Starting ...\")\n",
    "dataset_generator = DatasetGenerator(yaml_path, ds_configuration_loader, data_factory, feature_processor_factory, join_factory, strategy_factory)"
   ]
  },
  {
   "cell_type": "code",
   "execution_count": null,
   "id": "cdbf561d-25b7-4cdc-829b-f022bb4a7f47",
   "metadata": {},
   "outputs": [],
   "source": [
    "processed_dataset = dataset_generator.generate()\n",
    "print(\"# === STEP 2: DATASET GEN: Complete\")"
   ]
  },
  {
   "cell_type": "code",
   "execution_count": null,
   "id": "2db07225",
   "metadata": {},
   "outputs": [],
   "source": [
    "## Use to save processed dataset to disk ## \n",
    "import pickle\n",
    "import os\n",
    "\n",
    "# File path to save and load the processed dataset\n",
    "processed_dataset_path = \"/Users/joaquinuriarte/Documents/GitHub/sports-betting/processed_datasets/processed_dataset.pkl\"\n",
    "\n",
    "with open(processed_dataset_path, \"wb\") as f:\n",
    "        pickle.dump(processed_dataset, f)\n",
    "        print(\"# === STEP 2: DATASET GEN: Saved to file\")"
   ]
  },
  {
   "cell_type": "code",
   "execution_count": null,
   "id": "14a8608d",
   "metadata": {},
   "outputs": [],
   "source": [
    "## Use to load processed dataset if computed already ## \n",
    "import pickle\n",
    "import os\n",
    "\n",
    "print(\"# === STEP 2: DATASET GEN: Loading from saved file\")\n",
    "with open(processed_dataset_path, \"rb\") as f:\n",
    "    processed_dataset = pickle.load(f)"
   ]
  },
  {
   "cell_type": "code",
   "execution_count": null,
   "id": "0c867dcb",
   "metadata": {},
   "outputs": [],
   "source": [
    "processed_dataset.features"
   ]
  },
  {
   "cell_type": "code",
   "execution_count": 29,
   "id": "7ca54e3c-f921-4d71-b0a6-857271282502",
   "metadata": {},
   "outputs": [
    {
     "name": "stdout",
     "output_type": "stream",
     "text": [
      "# === STEP 3: PROCESSOR: Starting ...\n"
     ]
    }
   ],
   "source": [
    "# === STEP 3: PROCESSOR\n",
    "print(\"# === STEP 3: PROCESSOR: Starting ...\")\n",
    "processor = Processor(yaml_path, p_configuration_loader, processed_dataset, split_strategy_factory)"
   ]
  },
  {
   "cell_type": "code",
   "execution_count": 30,
   "id": "e5e72e7a-9069-43f6-9872-8cb18519caaa",
   "metadata": {},
   "outputs": [
    {
     "name": "stdout",
     "output_type": "stream",
     "text": [
      "# === STEP 3: PROCESSOR: Complete\n"
     ]
    }
   ],
   "source": [
    "train_dataset, validation_dataset, test_dataset = processor.generate()\n",
    "print(\"# === STEP 3: PROCESSOR: Complete\")"
   ]
  },
  {
   "cell_type": "code",
   "execution_count": 36,
   "id": "b66b2d17-0154-4ac7-b6e4-2388aaa130eb",
   "metadata": {},
   "outputs": [
    {
     "name": "stdout",
     "output_type": "stream",
     "text": [
      "# === STEP 4: MODEL MANAGER: Starting ...\n"
     ]
    }
   ],
   "source": [
    "# === STEP 4: MODEL MANAGER\n",
    "print(\"# === STEP 4: MODEL MANAGER: Starting ...\")\n",
    "model_manager = ModelManager(trainer, predictor, model_factory, mm_configuration_loader)\n",
    "models = model_manager.create_models([yaml_path])"
   ]
  },
  {
   "cell_type": "code",
   "execution_count": 37,
   "id": "1fec0485",
   "metadata": {},
   "outputs": [
    {
     "data": {
      "text/plain": [
       "177"
      ]
     },
     "execution_count": 37,
     "metadata": {},
     "output_type": "execute_result"
    }
   ],
   "source": [
    "train_dataset.examples[0].features\n",
    "len(train_dataset.examples[0].features) # should be 177"
   ]
  },
  {
   "cell_type": "code",
   "execution_count": null,
   "id": "3437639c-6666-4c76-a827-706148a9fa7f",
   "metadata": {},
   "outputs": [],
   "source": [
    "accuracies = model_manager.train([models], [(train_dataset, validation_dataset)], save_after_training=True)\n",
    "print(\"# === STEP 4: MODEL MANAGER: Complete\")"
   ]
  },
  {
   "cell_type": "code",
   "execution_count": null,
   "id": "e247faa6",
   "metadata": {},
   "outputs": [],
   "source": [
    "## Using test_dataset find model accuracy\n",
    "## Can use model.predict but would need to calculate accuracy "
   ]
  },
  {
   "cell_type": "code",
   "execution_count": null,
   "id": "172b0f6c",
   "metadata": {},
   "outputs": [],
   "source": [
    "print(\"# === STEP 5: Model Outcome & Evaluation: Starting ...\")\n",
    "import matplotlib.pyplot as plt\n",
    "# Unpack and graph accuracies\n",
    "for i, (train_accuracies, val_accuracies) in enumerate(accuracies):\n",
    "    model_signature = models[i].get_training_config().model_signature\n",
    "\n",
    "    # Prepare the x-axis (epochs)\n",
    "    epochs = range(1, len(train_accuracies) + 1)\n",
    "\n",
    "    # Create a plot\n",
    "    plt.figure(figsize=(8, 6))\n",
    "    plt.plot(epochs, train_accuracies, label=\"Training Accuracy\", color=\"blue\")\n",
    "    if val_accuracies is not None:\n",
    "        plt.plot(epochs, val_accuracies, label=\"Validation Accuracy\", color=\"orange\")\n",
    "\n",
    "    # Add labels, title, and legend\n",
    "    plt.xlabel(\"Epochs\")\n",
    "    plt.ylabel(\"Accuracy\")\n",
    "    plt.title(f\"Training and Validation Accuracy - {model_signature}\")\n",
    "    plt.legend()\n",
    "\n",
    "    plt.show()\n",
    "\n",
    "    print(f\"Accuracy plot saved for model: {model_signature}\")\n",
    "print(\"# === STEP 5: Model Outcome & Evaluation: Complete\")"
   ]
  }
 ],
 "metadata": {
  "kernelspec": {
   "display_name": "Python 3.8.5 ('sports-betting': venv)",
   "language": "python",
   "name": "python3"
  },
  "language_info": {
   "codemirror_mode": {
    "name": "ipython",
    "version": 3
   },
   "file_extension": ".py",
   "mimetype": "text/x-python",
   "name": "python",
   "nbconvert_exporter": "python",
   "pygments_lexer": "ipython3",
   "version": "3.8.5"
  },
  "vscode": {
   "interpreter": {
    "hash": "42d1e72f09edad5b8341e1a78b673e0aa6929e61770b700654f70887e86e86ac"
   }
  }
 },
 "nbformat": 4,
 "nbformat_minor": 5
}
