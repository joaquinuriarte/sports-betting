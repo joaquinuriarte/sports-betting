{
 "cells": [
  {
   "cell_type": "code",
   "execution_count": 10,
   "metadata": {},
   "outputs": [],
   "source": [
    "######## Create, Train, and Predict Models\n",
    "\n",
    "# Loads train, test, and val datasets\n",
    "# Instantiates Models\n",
    "# Trains Models\n",
    "# Predicts using Models"
   ]
  },
  {
   "cell_type": "markdown",
   "id": "6b68658b",
   "metadata": {},
   "source": [
    "Import All Required Modules"
   ]
  },
  {
   "cell_type": "code",
   "execution_count": 1,
   "id": "251a0e8a-b944-4323-8731-207322906548",
   "metadata": {
    "collapsed": true,
    "jupyter": {
     "outputs_hidden": true
    }
   },
   "outputs": [
    {
     "name": "stderr",
     "output_type": "stream",
     "text": [
      "2025-01-30 09:11:03.725629: I tensorflow/core/platform/cpu_feature_guard.cc:182] This TensorFlow binary is optimized to use available CPU instructions in performance-critical operations.\n",
      "To enable the following instructions: AVX2 FMA, in other operations, rebuild TensorFlow with the appropriate compiler flags.\n"
     ]
    }
   ],
   "source": [
    "import sys\n",
    "\n",
    "# Manually add the project root to sys.path\n",
    "sys.path.append('/Users/joaquinuriarte/Documents/GitHub/sports-betting/')\n",
    "\n",
    "# === STEP 0: Imports\n",
    "from modules.model_manager.trainer.trainer import Trainer\n",
    "from modules.model_manager.predictor.predictor import Predictor\n",
    "from modules.model_manager.factories.model_factory import ModelFactory\n",
    "from modules.model_manager.helpers.configuration_loader import ConfigurationLoader as MMConfigLoader\n",
    "from modules.model_manager.model_manager import ModelManager\n",
    "from sklearn.model_selection import KFold\n",
    "from modules.data_structures.model_dataset import ModelDataset\n",
    "from model_binaries.utils.binary_utils import save_entity, load_entity, cross_val_train, compute_f1, graph_entity, evaluate_modelV01_predictions"
   ]
  },
  {
   "cell_type": "code",
   "execution_count": 2,
   "id": "eef0ca8d-4980-4561-8348-6ba966b8a785",
   "metadata": {},
   "outputs": [],
   "source": [
    "# === STEP 1: Dependency Instantiations And Global Variable Declarations\n",
    "\n",
    "## === MODEL MANAGER\n",
    "yaml_path0 = '/Users/joaquinuriarte/Documents/GitHub/sports-betting/configs/model_v01/model_v01_000.yaml'\n",
    "yaml_path1 = '/Users/joaquinuriarte/Documents/GitHub/sports-betting/configs/model_v01/model_v01_001.yaml'\n",
    "yaml_path2 = '/Users/joaquinuriarte/Documents/GitHub/sports-betting/configs/model_v01/model_v01_002.yaml'\n",
    "yaml_path3 = '/Users/joaquinuriarte/Documents/GitHub/sports-betting/configs/model_v01/model_v01_003.yaml'\n",
    "\n",
    "\n",
    "yaml_paths = [yaml_path0, yaml_path1, yaml_path3]\n",
    "\n",
    "\n",
    "checkpoint = '/Users/joaquinuriarte/Documents/GitHub/sports-betting/models'\n",
    "trainer = Trainer(checkpoint)\n",
    "predictor = Predictor()\n",
    "model_factory = ModelFactory()\n",
    "mm_configuration_loader = MMConfigLoader()"
   ]
  },
  {
   "cell_type": "markdown",
   "id": "4a1c2254",
   "metadata": {},
   "source": [
    "Load Train Datasets into Memory"
   ]
  },
  {
   "cell_type": "code",
   "execution_count": 3,
   "id": "3bfa2836",
   "metadata": {},
   "outputs": [],
   "source": [
    "# File path to load train, test, and val datasets\n",
    "train_test_val_folder_path = \"/Users/joaquinuriarte/Documents/GitHub/sports-betting/processed_datasets/model_v01\""
   ]
  },
  {
   "cell_type": "code",
   "execution_count": 4,
   "id": "77a23c84",
   "metadata": {},
   "outputs": [],
   "source": [
    "train_dataset = load_entity(train_test_val_folder_path, \"train.pkl\")\n",
    "validation_dataset = load_entity(train_test_val_folder_path, \"val.pkl\")"
   ]
  },
  {
   "cell_type": "markdown",
   "id": "9360d358",
   "metadata": {},
   "source": [
    "Load & Train on predefined trained and val datasets"
   ]
  },
  {
   "cell_type": "code",
   "execution_count": 5,
   "id": "1519f6a5",
   "metadata": {},
   "outputs": [],
   "source": [
    "# === STEP 4: MODEL MANAGER\n",
    "yamls = [yaml_path3]\n",
    "model_manager = ModelManager(trainer, predictor, model_factory, mm_configuration_loader)"
   ]
  },
  {
   "cell_type": "code",
   "execution_count": 6,
   "id": "94cd3e75",
   "metadata": {},
   "outputs": [
    {
     "name": "stderr",
     "output_type": "stream",
     "text": [
      "INFO:root:Training model '43834563003bc611e0b4eb44ff245a3c' for 20 epochs with batch size 32.\n"
     ]
    },
    {
     "name": "stdout",
     "output_type": "stream",
     "text": [
      "Epoch 1/20\n",
      "637/637 [==============================] - 16s 22ms/step - loss: 353.7422 - mse: 353.7422 - mae: 13.3475 - val_loss: 280.8993 - val_mse: 280.8993 - val_mae: 13.5919\n",
      "Epoch 2/20\n",
      "637/637 [==============================] - 15s 24ms/step - loss: 180.7775 - mse: 180.7775 - mae: 10.6604 - val_loss: 158.1165 - val_mse: 158.1165 - val_mae: 10.0338\n",
      "Epoch 3/20\n",
      "637/637 [==============================] - 13s 21ms/step - loss: 175.1431 - mse: 175.1431 - mae: 10.4912 - val_loss: 174.6031 - val_mse: 174.6031 - val_mae: 10.5174\n",
      "Epoch 4/20\n",
      "637/637 [==============================] - 15s 24ms/step - loss: 169.7074 - mse: 169.7074 - mae: 10.3553 - val_loss: 174.9150 - val_mse: 174.9150 - val_mae: 10.5896\n",
      "Epoch 5/20\n",
      "637/637 [==============================] - 16s 26ms/step - loss: 168.1547 - mse: 168.1547 - mae: 10.3031 - val_loss: 304.9839 - val_mse: 304.9839 - val_mae: 14.1282\n",
      "Epoch 6/20\n",
      "637/637 [==============================] - 15s 24ms/step - loss: 165.0939 - mse: 165.0939 - mae: 10.2251 - val_loss: 160.9876 - val_mse: 160.9876 - val_mae: 10.1340\n",
      "Epoch 7/20\n",
      "637/637 [==============================] - 15s 23ms/step - loss: 161.0266 - mse: 161.0266 - mae: 10.0736 - val_loss: 161.1879 - val_mse: 161.1879 - val_mae: 10.1051\n",
      "Epoch 8/20\n",
      "626/637 [============================>.] - ETA: 0s - loss: 159.3944 - mse: 159.3944 - mae: 10.0235"
     ]
    }
   ],
   "source": [
    "models = model_manager.create_models(yamls)\n",
    "\n",
    "# If no val dataset, code requires to push None instead\n",
    "val_dataset = validation_dataset if validation_dataset is not None else None\n",
    "\n",
    "model_manager.train(models, [(train_dataset, val_dataset)], save_after_training=True)"
   ]
  },
  {
   "cell_type": "markdown",
   "id": "b9bb8d84",
   "metadata": {},
   "source": [
    "Assess Performance"
   ]
  },
  {
   "cell_type": "code",
   "execution_count": 29,
   "id": "cca30c2b",
   "metadata": {},
   "outputs": [],
   "source": [
    "predictions = models[0].predict(validation_dataset.examples, return_target_labels=True)"
   ]
  },
  {
   "cell_type": "code",
   "execution_count": null,
   "id": "bbf730cb",
   "metadata": {},
   "outputs": [],
   "source": [
    "# Get all metrics for trained model on val dataset predictions\n",
    "metrics = evaluate_modelV01_predictions(predictions)\n",
    "metrics"
   ]
  },
  {
   "cell_type": "code",
   "execution_count": null,
   "id": "47310e43",
   "metadata": {},
   "outputs": [],
   "source": [
    "# Graph distribution of predictions against labels \n",
    "graph_entity(predictions=predictions,bins=50)"
   ]
  },
  {
   "cell_type": "code",
   "execution_count": null,
   "id": "0eb20f60",
   "metadata": {},
   "outputs": [],
   "source": [
    "# Print actual predictions against labels\n",
    "predictions"
   ]
  },
  {
   "cell_type": "markdown",
   "id": "167876ad",
   "metadata": {},
   "source": [
    "Launch Tensorboard"
   ]
  },
  {
   "cell_type": "code",
   "execution_count": null,
   "id": "9dac7561",
   "metadata": {},
   "outputs": [],
   "source": [
    "%tensorboard --logdir=./logs"
   ]
  },
  {
   "cell_type": "markdown",
   "id": "66627c38",
   "metadata": {},
   "source": [
    "CROSS VALIDATION ALTERNATIVE"
   ]
  },
  {
   "cell_type": "markdown",
   "id": "feff0899",
   "metadata": {},
   "source": [
    "Create and Train Models Using KFold Cross Validation"
   ]
  },
  {
   "cell_type": "code",
   "execution_count": 24,
   "id": "b66b2d17-0154-4ac7-b6e4-2388aaa130eb",
   "metadata": {},
   "outputs": [],
   "source": [
    "# === STEP 4: MODEL MANAGER\n",
    "yamls = [yaml_path3]\n",
    "model_manager = ModelManager(trainer, predictor, model_factory, mm_configuration_loader)"
   ]
  },
  {
   "cell_type": "markdown",
   "id": "81026005",
   "metadata": {},
   "source": [
    "Get Averaged Metrics for KFold"
   ]
  },
  {
   "cell_type": "code",
   "execution_count": null,
   "id": "3437639c-6666-4c76-a827-706148a9fa7f",
   "metadata": {},
   "outputs": [],
   "source": [
    "avg_metrics = cross_val_train(model_manager=model_manager, yamls=yamls, train_dataset=train_dataset, n_splits=5)\n",
    "f1 = compute_f1(avg_metrics[\"val_precision\"], avg_metrics[\"val_recall\"])\n",
    "print(avg_metrics)\n",
    "print(f1)"
   ]
  }
 ],
 "metadata": {
  "kernelspec": {
   "display_name": "Python 3.8.5 ('sports-betting': venv)",
   "language": "python",
   "name": "python3"
  },
  "language_info": {
   "codemirror_mode": {
    "name": "ipython",
    "version": 3
   },
   "file_extension": ".py",
   "mimetype": "text/x-python",
   "name": "python",
   "nbconvert_exporter": "python",
   "pygments_lexer": "ipython3",
   "version": "3.8.5"
  },
  "vscode": {
   "interpreter": {
    "hash": "42d1e72f09edad5b8341e1a78b673e0aa6929e61770b700654f70887e86e86ac"
   }
  }
 },
 "nbformat": 4,
 "nbformat_minor": 5
}
