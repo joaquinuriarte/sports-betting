{
 "cells": [
  {
   "cell_type": "code",
   "execution_count": 10,
   "metadata": {},
   "outputs": [],
   "source": [
    "######## Create, Train, and Predict Models\n",
    "\n",
    "# Loads train, test, and val datasets\n",
    "# Instantiates Models\n",
    "# Trains Models\n",
    "# Predicts using Models"
   ]
  },
  {
   "cell_type": "markdown",
   "id": "6b68658b",
   "metadata": {},
   "source": [
    "Import All Required Modules"
   ]
  },
  {
   "cell_type": "code",
   "execution_count": 1,
   "id": "251a0e8a-b944-4323-8731-207322906548",
   "metadata": {
    "collapsed": true,
    "jupyter": {
     "outputs_hidden": true
    }
   },
   "outputs": [
    {
     "name": "stderr",
     "output_type": "stream",
     "text": [
      "2025-01-28 17:58:15.855045: I tensorflow/core/platform/cpu_feature_guard.cc:182] This TensorFlow binary is optimized to use available CPU instructions in performance-critical operations.\n",
      "To enable the following instructions: AVX2 FMA, in other operations, rebuild TensorFlow with the appropriate compiler flags.\n"
     ]
    }
   ],
   "source": [
    "import sys\n",
    "\n",
    "# Manually add the project root to sys.path\n",
    "sys.path.append('/Users/joaquinuriarte/Documents/GitHub/sports-betting/')\n",
    "\n",
    "# === STEP 0: Imports\n",
    "from modules.model_manager.trainer.trainer import Trainer\n",
    "from modules.model_manager.predictor.predictor import Predictor\n",
    "from modules.model_manager.factories.model_factory import ModelFactory\n",
    "from modules.model_manager.helpers.configuration_loader import ConfigurationLoader as MMConfigLoader\n",
    "from modules.model_manager.model_manager import ModelManager\n",
    "from model_binaries.utils.binary_utils import save_entity, load_entity, graph_entity"
   ]
  },
  {
   "cell_type": "code",
   "execution_count": 2,
   "id": "eef0ca8d-4980-4561-8348-6ba966b8a785",
   "metadata": {},
   "outputs": [],
   "source": [
    "# === STEP 1: Dependency Instantiations And Global Variable Declarations\n",
    "\n",
    "## === MODEL MANAGER\n",
    "yaml_path0 = '/Users/joaquinuriarte/Documents/GitHub/sports-betting/configs/model_v01/model_v01_000.yaml'\n",
    "yaml_path1 = '/Users/joaquinuriarte/Documents/GitHub/sports-betting/configs/model_v01/model_v01_001.yaml'\n",
    "yaml_path2 = '/Users/joaquinuriarte/Documents/GitHub/sports-betting/configs/model_v01/model_v01_002.yaml'\n",
    "\n",
    "yaml_paths = [yaml_path0, yaml_path1]\n",
    "\n",
    "\n",
    "checkpoint = '/Users/joaquinuriarte/Documents/GitHub/sports-betting/models'\n",
    "trainer = Trainer(checkpoint)\n",
    "predictor = Predictor()\n",
    "model_factory = ModelFactory()\n",
    "mm_configuration_loader = MMConfigLoader()"
   ]
  },
  {
   "cell_type": "markdown",
   "id": "4a1c2254",
   "metadata": {},
   "source": [
    "Load Train, Val, and Test Datasets into Memory"
   ]
  },
  {
   "cell_type": "code",
   "execution_count": 10,
   "id": "3bfa2836",
   "metadata": {},
   "outputs": [],
   "source": [
    "# File path to load train, test, and val datasets\n",
    "train_test_val_folder_path = \"/Users/joaquinuriarte/Documents/GitHub/sports-betting/processed_datasets/model_v01/scaler\""
   ]
  },
  {
   "cell_type": "code",
   "execution_count": 11,
   "id": "77a23c84",
   "metadata": {},
   "outputs": [],
   "source": [
    "train_dataset = load_entity(train_test_val_folder_path, \"scaled_train.pkl\")\n",
    "validation_dataset = load_entity(train_test_val_folder_path, \"scaled_val.pkl\")"
   ]
  },
  {
   "cell_type": "markdown",
   "id": "feff0899",
   "metadata": {},
   "source": [
    "Create and Train Models"
   ]
  },
  {
   "cell_type": "code",
   "execution_count": 12,
   "id": "b66b2d17-0154-4ac7-b6e4-2388aaa130eb",
   "metadata": {},
   "outputs": [],
   "source": [
    "# === STEP 4: MODEL MANAGER\n",
    "yamls = [yaml_path2]\n",
    "model_manager = ModelManager(trainer, predictor, model_factory, mm_configuration_loader)\n",
    "models = model_manager.create_models(yamls)"
   ]
  },
  {
   "cell_type": "code",
   "execution_count": 13,
   "id": "3437639c-6666-4c76-a827-706148a9fa7f",
   "metadata": {},
   "outputs": [
    {
     "name": "stderr",
     "output_type": "stream",
     "text": [
      "INFO:root:Training model '39cf74dd0ecb478f456add01f6470ccc' for 20 epochs with batch size 32.\n"
     ]
    },
    {
     "name": "stdout",
     "output_type": "stream",
     "text": [
      "Epoch 1/20\n",
      "557/557 [==============================] - 13s 21ms/step - loss: 408.3091 - mse: 408.3091 - mae: 14.3721 - val_loss: 774.2276 - val_mse: 774.2276 - val_mae: 24.7217\n",
      "Epoch 2/20\n",
      "557/557 [==============================] - 11s 19ms/step - loss: 180.6594 - mse: 180.6594 - mae: 10.6998 - val_loss: 252.2025 - val_mse: 252.2025 - val_mae: 12.8261\n",
      "Epoch 3/20\n",
      "557/557 [==============================] - 11s 20ms/step - loss: 175.1027 - mse: 175.1027 - mae: 10.5371 - val_loss: 301.8908 - val_mse: 301.8908 - val_mae: 14.1614\n",
      "Epoch 4/20\n",
      "557/557 [==============================] - 11s 20ms/step - loss: 170.0709 - mse: 170.0709 - mae: 10.3679 - val_loss: 335.6109 - val_mse: 335.6109 - val_mae: 15.1293\n",
      "Epoch 5/20\n",
      "557/557 [==============================] - 11s 19ms/step - loss: 168.8610 - mse: 168.8610 - mae: 10.3373 - val_loss: 242.1084 - val_mse: 242.1084 - val_mae: 12.6600\n",
      "Epoch 6/20\n",
      "557/557 [==============================] - 11s 19ms/step - loss: 163.2223 - mse: 163.2223 - mae: 10.1459 - val_loss: 416.9298 - val_mse: 416.9298 - val_mae: 17.2500\n",
      "Epoch 7/20\n",
      "557/557 [==============================] - 11s 19ms/step - loss: 163.6538 - mse: 163.6538 - mae: 10.1536 - val_loss: 245.5514 - val_mse: 245.5514 - val_mae: 12.6495\n",
      "Epoch 8/20\n",
      "557/557 [==============================] - 11s 19ms/step - loss: 159.2655 - mse: 159.2655 - mae: 10.0265 - val_loss: 182.3905 - val_mse: 182.3905 - val_mae: 10.7643\n",
      "Epoch 9/20\n",
      "557/557 [==============================] - 11s 21ms/step - loss: 157.9156 - mse: 157.9156 - mae: 9.9858 - val_loss: 424.1081 - val_mse: 424.1081 - val_mae: 17.5595\n",
      "Epoch 10/20\n",
      "557/557 [==============================] - 11s 20ms/step - loss: 157.7419 - mse: 157.7419 - mae: 9.9753 - val_loss: 337.8080 - val_mse: 337.8080 - val_mae: 15.1637\n",
      "Epoch 11/20\n",
      "557/557 [==============================] - 11s 20ms/step - loss: 158.2709 - mse: 158.2709 - mae: 10.0018 - val_loss: 182.5148 - val_mse: 182.5148 - val_mae: 10.6777\n",
      "Epoch 12/20\n",
      "557/557 [==============================] - 11s 20ms/step - loss: 155.7677 - mse: 155.7677 - mae: 9.9408 - val_loss: 249.8241 - val_mse: 249.8241 - val_mae: 12.6919\n",
      "Epoch 13/20\n",
      "557/557 [==============================] - 11s 20ms/step - loss: 156.2722 - mse: 156.2722 - mae: 9.9394 - val_loss: 163.5032 - val_mse: 163.5032 - val_mae: 10.1211\n",
      "Epoch 14/20\n",
      "557/557 [==============================] - 11s 20ms/step - loss: 156.8963 - mse: 156.8963 - mae: 9.9663 - val_loss: 292.0387 - val_mse: 292.0387 - val_mae: 13.8642\n",
      "Epoch 15/20\n",
      "557/557 [==============================] - 11s 20ms/step - loss: 151.5600 - mse: 151.5600 - mae: 9.7809 - val_loss: 240.5681 - val_mse: 240.5681 - val_mae: 12.5601\n",
      "Epoch 16/20\n",
      "557/557 [==============================] - 11s 20ms/step - loss: 150.4055 - mse: 150.4055 - mae: 9.7531 - val_loss: 274.0248 - val_mse: 274.0248 - val_mae: 13.4763\n",
      "Epoch 17/20\n",
      "557/557 [==============================] - 11s 20ms/step - loss: 148.7784 - mse: 148.7784 - mae: 9.7116 - val_loss: 201.1839 - val_mse: 201.1839 - val_mae: 11.2959\n",
      "Epoch 18/20\n",
      "557/557 [==============================] - 11s 20ms/step - loss: 148.5218 - mse: 148.5218 - mae: 9.6852 - val_loss: 176.3437 - val_mse: 176.3437 - val_mae: 10.5426\n",
      "Epoch 19/20\n",
      "557/557 [==============================] - 11s 20ms/step - loss: 146.6301 - mse: 146.6301 - mae: 9.6319 - val_loss: 221.0204 - val_mse: 221.0204 - val_mae: 11.9604\n",
      "Epoch 20/20\n",
      "557/557 [==============================] - 11s 20ms/step - loss: 144.9170 - mse: 144.9170 - mae: 9.5718 - val_loss: 289.2581 - val_mse: 289.2581 - val_mae: 13.8746\n"
     ]
    },
    {
     "name": "stderr",
     "output_type": "stream",
     "text": [
      "INFO:root:Model '39cf74dd0ecb478f456add01f6470ccc': Finished training.\n"
     ]
    },
    {
     "name": "stdout",
     "output_type": "stream",
     "text": [
      "Model saved successfully at: models/39cf74dd0ecb478f456add01f6470ccc/model_weights_39cf74dd0ecb478f456add01f6470ccc.pth\n"
     ]
    }
   ],
   "source": [
    "# If no val dataset, code requires to push None instead\n",
    "val_dataset = validation_dataset if validation_dataset is not None else None\n",
    "\n",
    "model_manager.train(models, [(train_dataset, val_dataset)], save_after_training=True)"
   ]
  },
  {
   "cell_type": "markdown",
   "id": "81026005",
   "metadata": {},
   "source": [
    "Get Metrics on Validation Dataset"
   ]
  },
  {
   "cell_type": "code",
   "execution_count": 14,
   "id": "e247faa6",
   "metadata": {},
   "outputs": [],
   "source": [
    "for model in models:\n",
    "    prediction = model.predict(validation_dataset.examples, return_target_labels=True)"
   ]
  },
  {
   "cell_type": "code",
   "execution_count": null,
   "id": "d1059c30",
   "metadata": {},
   "outputs": [],
   "source": [
    "graph_entity(predictions=prediction, bins=50)"
   ]
  },
  {
   "cell_type": "markdown",
   "id": "167876ad",
   "metadata": {},
   "source": [
    "Launch Tensorboard"
   ]
  },
  {
   "cell_type": "code",
   "execution_count": null,
   "id": "0f043d26",
   "metadata": {},
   "outputs": [],
   "source": [
    "%tensorboard --logdir logs/fit/39cf74dd0ecb478f456add01f6470ccc"
   ]
  }
 ],
 "metadata": {
  "kernelspec": {
   "display_name": "Python 3.8.5 ('sports-betting': venv)",
   "language": "python",
   "name": "python3"
  },
  "language_info": {
   "codemirror_mode": {
    "name": "ipython",
    "version": 3
   },
   "file_extension": ".py",
   "mimetype": "text/x-python",
   "name": "python",
   "nbconvert_exporter": "python",
   "pygments_lexer": "ipython3",
   "version": "3.8.5"
  },
  "vscode": {
   "interpreter": {
    "hash": "42d1e72f09edad5b8341e1a78b673e0aa6929e61770b700654f70887e86e86ac"
   }
  }
 },
 "nbformat": 4,
 "nbformat_minor": 5
}
