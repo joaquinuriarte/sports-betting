{
 "cells": [
  {
   "cell_type": "code",
   "execution_count": 10,
   "metadata": {},
   "outputs": [],
   "source": [
    "######## Create, Train, and Predict Models\n",
    "\n",
    "# Loads train, test, and val datasets\n",
    "# Instantiates Models\n",
    "# Trains Models\n",
    "# Predicts using Models"
   ]
  },
  {
   "cell_type": "markdown",
   "id": "6b68658b",
   "metadata": {},
   "source": [
    "Import All Required Modules"
   ]
  },
  {
   "cell_type": "code",
   "execution_count": 1,
   "id": "251a0e8a-b944-4323-8731-207322906548",
   "metadata": {
    "collapsed": true,
    "jupyter": {
     "outputs_hidden": true
    }
   },
   "outputs": [
    {
     "name": "stderr",
     "output_type": "stream",
     "text": [
      "2025-01-30 09:11:03.725629: I tensorflow/core/platform/cpu_feature_guard.cc:182] This TensorFlow binary is optimized to use available CPU instructions in performance-critical operations.\n",
      "To enable the following instructions: AVX2 FMA, in other operations, rebuild TensorFlow with the appropriate compiler flags.\n"
     ]
    }
   ],
   "source": [
    "import sys\n",
    "\n",
    "# Manually add the project root to sys.path\n",
    "sys.path.append('/Users/joaquinuriarte/Documents/GitHub/sports-betting/')\n",
    "\n",
    "# === STEP 0: Imports\n",
    "from modules.model_manager.trainer.trainer import Trainer\n",
    "from modules.model_manager.predictor.predictor import Predictor\n",
    "from modules.model_manager.factories.model_factory import ModelFactory\n",
    "from modules.model_manager.helpers.configuration_loader import ConfigurationLoader as MMConfigLoader\n",
    "from modules.model_manager.model_manager import ModelManager\n",
    "from sklearn.model_selection import KFold\n",
    "from modules.data_structures.model_dataset import ModelDataset\n",
    "from model_binaries.utils.binary_utils import save_entity, load_entity, cross_val_train, compute_f1, graph_entity, evaluate_modelV01_predictions"
   ]
  },
  {
   "cell_type": "code",
   "execution_count": 2,
   "id": "eef0ca8d-4980-4561-8348-6ba966b8a785",
   "metadata": {},
   "outputs": [],
   "source": [
    "# === STEP 1: Dependency Instantiations And Global Variable Declarations\n",
    "\n",
    "## === MODEL MANAGER\n",
    "yaml_path0 = '/Users/joaquinuriarte/Documents/GitHub/sports-betting/configs/model_v01/model_v01_000.yaml'\n",
    "yaml_path1 = '/Users/joaquinuriarte/Documents/GitHub/sports-betting/configs/model_v01/model_v01_001.yaml'\n",
    "yaml_path2 = '/Users/joaquinuriarte/Documents/GitHub/sports-betting/configs/model_v01/model_v01_002.yaml'\n",
    "yaml_path3 = '/Users/joaquinuriarte/Documents/GitHub/sports-betting/configs/model_v01/model_v01_003.yaml'\n",
    "\n",
    "\n",
    "yaml_paths = [yaml_path0, yaml_path1, yaml_path3]\n",
    "\n",
    "\n",
    "checkpoint = '/Users/joaquinuriarte/Documents/GitHub/sports-betting/models'\n",
    "trainer = Trainer(checkpoint)\n",
    "predictor = Predictor()\n",
    "model_factory = ModelFactory()\n",
    "mm_configuration_loader = MMConfigLoader()"
   ]
  },
  {
   "cell_type": "markdown",
   "id": "4a1c2254",
   "metadata": {},
   "source": [
    "Load Train Datasets into Memory"
   ]
  },
  {
   "cell_type": "code",
   "execution_count": 3,
   "id": "3bfa2836",
   "metadata": {},
   "outputs": [],
   "source": [
    "# File path to load train, test, and val datasets\n",
    "train_test_val_folder_path = \"/Users/joaquinuriarte/Documents/GitHub/sports-betting/processed_datasets/model_v01\""
   ]
  },
  {
   "cell_type": "code",
   "execution_count": 4,
   "id": "77a23c84",
   "metadata": {},
   "outputs": [],
   "source": [
    "train_dataset = load_entity(train_test_val_folder_path, \"train.pkl\")\n",
    "validation_dataset = load_entity(train_test_val_folder_path, \"val.pkl\")"
   ]
  },
  {
   "cell_type": "markdown",
   "id": "9360d358",
   "metadata": {},
   "source": [
    "Load & Train on predefined trained and val datasets"
   ]
  },
  {
   "cell_type": "code",
   "execution_count": 5,
   "id": "1519f6a5",
   "metadata": {},
   "outputs": [],
   "source": [
    "# === STEP 4: MODEL MANAGER\n",
    "yamls = [yaml_path3]\n",
    "model_manager = ModelManager(trainer, predictor, model_factory, mm_configuration_loader)"
   ]
  },
  {
   "cell_type": "code",
   "execution_count": 6,
   "id": "94cd3e75",
   "metadata": {},
   "outputs": [
    {
     "name": "stderr",
     "output_type": "stream",
     "text": [
      "INFO:root:Training model '43834563003bc611e0b4eb44ff245a3c' for 20 epochs with batch size 32.\n"
     ]
    },
    {
     "name": "stdout",
     "output_type": "stream",
     "text": [
      "Epoch 1/20\n",
      "637/637 [==============================] - 16s 22ms/step - loss: 353.7422 - mse: 353.7422 - mae: 13.3475 - val_loss: 280.8993 - val_mse: 280.8993 - val_mae: 13.5919\n",
      "Epoch 2/20\n",
      "637/637 [==============================] - 15s 24ms/step - loss: 180.7775 - mse: 180.7775 - mae: 10.6604 - val_loss: 158.1165 - val_mse: 158.1165 - val_mae: 10.0338\n",
      "Epoch 3/20\n",
      "637/637 [==============================] - 13s 21ms/step - loss: 175.1431 - mse: 175.1431 - mae: 10.4912 - val_loss: 174.6031 - val_mse: 174.6031 - val_mae: 10.5174\n",
      "Epoch 4/20\n",
      "637/637 [==============================] - 15s 24ms/step - loss: 169.7074 - mse: 169.7074 - mae: 10.3553 - val_loss: 174.9150 - val_mse: 174.9150 - val_mae: 10.5896\n",
      "Epoch 5/20\n",
      "637/637 [==============================] - 16s 26ms/step - loss: 168.1547 - mse: 168.1547 - mae: 10.3031 - val_loss: 304.9839 - val_mse: 304.9839 - val_mae: 14.1282\n",
      "Epoch 6/20\n",
      "637/637 [==============================] - 15s 24ms/step - loss: 165.0939 - mse: 165.0939 - mae: 10.2251 - val_loss: 160.9876 - val_mse: 160.9876 - val_mae: 10.1340\n",
      "Epoch 7/20\n",
      "637/637 [==============================] - 15s 23ms/step - loss: 161.0266 - mse: 161.0266 - mae: 10.0736 - val_loss: 161.1879 - val_mse: 161.1879 - val_mae: 10.1051\n",
      "Epoch 8/20\n",
      "637/637 [==============================] - 14s 22ms/step - loss: 159.3942 - mse: 159.3942 - mae: 10.0220 - val_loss: 164.4765 - val_mse: 164.4765 - val_mae: 10.1650\n",
      "Epoch 9/20\n",
      "637/637 [==============================] - 16s 24ms/step - loss: 158.1776 - mse: 158.1776 - mae: 9.9788 - val_loss: 186.4741 - val_mse: 186.4741 - val_mae: 10.8197\n",
      "Epoch 10/20\n",
      "637/637 [==============================] - 13s 21ms/step - loss: 158.7051 - mse: 158.7051 - mae: 10.0093 - val_loss: 159.1127 - val_mse: 159.1127 - val_mae: 10.0611\n",
      "Epoch 11/20\n",
      "637/637 [==============================] - 14s 23ms/step - loss: 157.5070 - mse: 157.5070 - mae: 9.9552 - val_loss: 158.1500 - val_mse: 158.1500 - val_mae: 10.0286\n",
      "Epoch 12/20\n",
      "637/637 [==============================] - 14s 22ms/step - loss: 156.1591 - mse: 156.1591 - mae: 9.9305 - val_loss: 211.2662 - val_mse: 211.2662 - val_mae: 11.7305\n",
      "Epoch 13/20\n",
      "637/637 [==============================] - 15s 23ms/step - loss: 153.8559 - mse: 153.8559 - mae: 9.8479 - val_loss: 161.0173 - val_mse: 161.0173 - val_mae: 10.1523\n",
      "Epoch 14/20\n",
      "637/637 [==============================] - 14s 22ms/step - loss: 155.4372 - mse: 155.4372 - mae: 9.9051 - val_loss: 506.3274 - val_mse: 506.3274 - val_mae: 18.5594\n",
      "Epoch 15/20\n",
      "637/637 [==============================] - 17s 27ms/step - loss: 156.0525 - mse: 156.0525 - mae: 9.9311 - val_loss: 206.8969 - val_mse: 206.8969 - val_mae: 11.6256\n",
      "Epoch 16/20\n",
      "637/637 [==============================] - 16s 25ms/step - loss: 153.4721 - mse: 153.4721 - mae: 9.8433 - val_loss: 171.2074 - val_mse: 171.2074 - val_mae: 10.4908\n",
      "Epoch 17/20\n",
      "637/637 [==============================] - 16s 25ms/step - loss: 151.7710 - mse: 151.7710 - mae: 9.7852 - val_loss: 164.5750 - val_mse: 164.5750 - val_mae: 10.1566\n",
      "Epoch 18/20\n",
      "637/637 [==============================] - 16s 25ms/step - loss: 150.5851 - mse: 150.5851 - mae: 9.7442 - val_loss: 169.1676 - val_mse: 169.1676 - val_mae: 10.3351\n",
      "Epoch 19/20\n",
      "637/637 [==============================] - 15s 24ms/step - loss: 152.3490 - mse: 152.3490 - mae: 9.7954 - val_loss: 178.0379 - val_mse: 178.0379 - val_mae: 10.5656\n",
      "Epoch 20/20\n",
      "637/637 [==============================] - 16s 25ms/step - loss: 150.6786 - mse: 150.6786 - mae: 9.7489 - val_loss: 162.8028 - val_mse: 162.8028 - val_mae: 10.1676\n"
     ]
    },
    {
     "name": "stderr",
     "output_type": "stream",
     "text": [
      "INFO:root:Model '43834563003bc611e0b4eb44ff245a3c': Finished training.\n"
     ]
    },
    {
     "name": "stdout",
     "output_type": "stream",
     "text": [
      "Model saved successfully at: models/43834563003bc611e0b4eb44ff245a3c/model_weights_43834563003bc611e0b4eb44ff245a3c.pth\n"
     ]
    }
   ],
   "source": [
    "models = model_manager.create_models(yamls)\n",
    "\n",
    "# If no val dataset, code requires to push None instead\n",
    "val_dataset = validation_dataset if validation_dataset is not None else None\n",
    "\n",
    "model_manager.train(models, [(train_dataset, val_dataset)], save_after_training=True)"
   ]
  },
  {
   "cell_type": "markdown",
   "id": "b9bb8d84",
   "metadata": {},
   "source": [
    "Assess Performance"
   ]
  },
  {
   "cell_type": "code",
   "execution_count": 8,
   "id": "cca30c2b",
   "metadata": {},
   "outputs": [],
   "source": [
    "predictions = models[0].predict(validation_dataset.examples, return_target_labels=True)"
   ]
  },
  {
   "cell_type": "code",
   "execution_count": 9,
   "id": "bbf730cb",
   "metadata": {},
   "outputs": [
    {
     "ename": "KeyError",
     "evalue": "'actual_A'",
     "output_type": "error",
     "traceback": [
      "\u001b[0;31m---------------------------------------------------------------------------\u001b[0m",
      "\u001b[0;31mKeyError\u001b[0m                                  Traceback (most recent call last)",
      "File \u001b[0;32m~/Documents/GitHub/sports-betting/sports-betting/lib/python3.8/site-packages/pandas/core/indexes/base.py:3653\u001b[0m, in \u001b[0;36mIndex.get_loc\u001b[0;34m(self, key)\u001b[0m\n\u001b[1;32m   3652\u001b[0m \u001b[39mtry\u001b[39;00m:\n\u001b[0;32m-> 3653\u001b[0m     \u001b[39mreturn\u001b[39;00m \u001b[39mself\u001b[39;49m\u001b[39m.\u001b[39;49m_engine\u001b[39m.\u001b[39;49mget_loc(casted_key)\n\u001b[1;32m   3654\u001b[0m \u001b[39mexcept\u001b[39;00m \u001b[39mKeyError\u001b[39;00m \u001b[39mas\u001b[39;00m err:\n",
      "File \u001b[0;32m~/Documents/GitHub/sports-betting/sports-betting/lib/python3.8/site-packages/pandas/_libs/index.pyx:147\u001b[0m, in \u001b[0;36mpandas._libs.index.IndexEngine.get_loc\u001b[0;34m()\u001b[0m\n",
      "File \u001b[0;32m~/Documents/GitHub/sports-betting/sports-betting/lib/python3.8/site-packages/pandas/_libs/index.pyx:176\u001b[0m, in \u001b[0;36mpandas._libs.index.IndexEngine.get_loc\u001b[0;34m()\u001b[0m\n",
      "File \u001b[0;32mpandas/_libs/hashtable_class_helper.pxi:7080\u001b[0m, in \u001b[0;36mpandas._libs.hashtable.PyObjectHashTable.get_item\u001b[0;34m()\u001b[0m\n",
      "File \u001b[0;32mpandas/_libs/hashtable_class_helper.pxi:7088\u001b[0m, in \u001b[0;36mpandas._libs.hashtable.PyObjectHashTable.get_item\u001b[0;34m()\u001b[0m\n",
      "\u001b[0;31mKeyError\u001b[0m: 'actual_A'",
      "\nThe above exception was the direct cause of the following exception:\n",
      "\u001b[0;31mKeyError\u001b[0m                                  Traceback (most recent call last)",
      "Cell \u001b[0;32mIn[9], line 2\u001b[0m\n\u001b[1;32m      1\u001b[0m \u001b[38;5;66;03m# Get all metrics for trained model on val dataset predictions\u001b[39;00m\n\u001b[0;32m----> 2\u001b[0m metrics \u001b[38;5;241m=\u001b[39m \u001b[43mevaluate_modelV01_predictions\u001b[49m\u001b[43m(\u001b[49m\u001b[43mpredictions\u001b[49m\u001b[43m)\u001b[49m\n\u001b[1;32m      3\u001b[0m metrics\n",
      "File \u001b[0;32m~/Documents/GitHub/sports-betting/model_binaries/utils/binary_utils.py:382\u001b[0m, in \u001b[0;36mevaluate_modelV01_predictions\u001b[0;34m(predictions)\u001b[0m\n\u001b[1;32m    365\u001b[0m \u001b[39m\u001b[39m\u001b[39m\"\"\"\u001b[39;00m\n\u001b[1;32m    366\u001b[0m \u001b[39mComputes regression metrics (MSE, MAE) for predicting final scores,\u001b[39;00m\n\u001b[1;32m    367\u001b[0m \u001b[39mand classification metrics (accuracy, precision, recall, F1) \u001b[39;00m\n\u001b[0;32m   (...)\u001b[0m\n\u001b[1;32m    378\u001b[0m \u001b[39m    'mse', 'mae', 'accuracy', 'precision', 'recall', 'f1'\u001b[39;00m\n\u001b[1;32m    379\u001b[0m \u001b[39m\"\"\"\u001b[39;00m\n\u001b[1;32m    381\u001b[0m \u001b[39m# 1) Compute regression metrics: MSE and MAE\u001b[39;00m\n\u001b[0;32m--> 382\u001b[0m mse_A \u001b[39m=\u001b[39m mean_squared_error(predictions[\u001b[39m\"\u001b[39;49m\u001b[39mactual_A\u001b[39;49m\u001b[39m\"\u001b[39;49m], predictions[\u001b[39m\"\u001b[39m\u001b[39mpred_A\u001b[39m\u001b[39m\"\u001b[39m])\n\u001b[1;32m    383\u001b[0m mse_B \u001b[39m=\u001b[39m mean_squared_error(predictions[\u001b[39m\"\u001b[39m\u001b[39mactual_B\u001b[39m\u001b[39m\"\u001b[39m], predictions[\u001b[39m\"\u001b[39m\u001b[39mpred_B\u001b[39m\u001b[39m\"\u001b[39m])\n\u001b[1;32m    384\u001b[0m mae_A \u001b[39m=\u001b[39m mean_absolute_error(predictions[\u001b[39m\"\u001b[39m\u001b[39mactual_A\u001b[39m\u001b[39m\"\u001b[39m], predictions[\u001b[39m\"\u001b[39m\u001b[39mpred_A\u001b[39m\u001b[39m\"\u001b[39m])\n",
      "File \u001b[0;32m~/Documents/GitHub/sports-betting/sports-betting/lib/python3.8/site-packages/pandas/core/frame.py:3761\u001b[0m, in \u001b[0;36mDataFrame.__getitem__\u001b[0;34m(self, key)\u001b[0m\n\u001b[1;32m   3759\u001b[0m \u001b[39mif\u001b[39;00m \u001b[39mself\u001b[39m\u001b[39m.\u001b[39mcolumns\u001b[39m.\u001b[39mnlevels \u001b[39m>\u001b[39m \u001b[39m1\u001b[39m:\n\u001b[1;32m   3760\u001b[0m     \u001b[39mreturn\u001b[39;00m \u001b[39mself\u001b[39m\u001b[39m.\u001b[39m_getitem_multilevel(key)\n\u001b[0;32m-> 3761\u001b[0m indexer \u001b[39m=\u001b[39m \u001b[39mself\u001b[39;49m\u001b[39m.\u001b[39;49mcolumns\u001b[39m.\u001b[39;49mget_loc(key)\n\u001b[1;32m   3762\u001b[0m \u001b[39mif\u001b[39;00m is_integer(indexer):\n\u001b[1;32m   3763\u001b[0m     indexer \u001b[39m=\u001b[39m [indexer]\n",
      "File \u001b[0;32m~/Documents/GitHub/sports-betting/sports-betting/lib/python3.8/site-packages/pandas/core/indexes/base.py:3655\u001b[0m, in \u001b[0;36mIndex.get_loc\u001b[0;34m(self, key)\u001b[0m\n\u001b[1;32m   3653\u001b[0m     \u001b[39mreturn\u001b[39;00m \u001b[39mself\u001b[39m\u001b[39m.\u001b[39m_engine\u001b[39m.\u001b[39mget_loc(casted_key)\n\u001b[1;32m   3654\u001b[0m \u001b[39mexcept\u001b[39;00m \u001b[39mKeyError\u001b[39;00m \u001b[39mas\u001b[39;00m err:\n\u001b[0;32m-> 3655\u001b[0m     \u001b[39mraise\u001b[39;00m \u001b[39mKeyError\u001b[39;00m(key) \u001b[39mfrom\u001b[39;00m \u001b[39merr\u001b[39;00m\n\u001b[1;32m   3656\u001b[0m \u001b[39mexcept\u001b[39;00m \u001b[39mTypeError\u001b[39;00m:\n\u001b[1;32m   3657\u001b[0m     \u001b[39m# If we have a listlike key, _check_indexing_error will raise\u001b[39;00m\n\u001b[1;32m   3658\u001b[0m     \u001b[39m#  InvalidIndexError. Otherwise we fall through and re-raise\u001b[39;00m\n\u001b[1;32m   3659\u001b[0m     \u001b[39m#  the TypeError.\u001b[39;00m\n\u001b[1;32m   3660\u001b[0m     \u001b[39mself\u001b[39m\u001b[39m.\u001b[39m_check_indexing_error(key)\n",
      "\u001b[0;31mKeyError\u001b[0m: 'actual_A'"
     ]
    }
   ],
   "source": [
    "# Get all metrics for trained model on val dataset predictions\n",
    "metrics = evaluate_modelV01_predictions(predictions, \"final_score_A\", \"final_score_B\", \"target_final_score_A\", \"target_final_score_B\")\n",
    "metrics"
   ]
  },
  {
   "cell_type": "code",
   "execution_count": null,
   "id": "47310e43",
   "metadata": {},
   "outputs": [],
   "source": [
    "# Graph distribution of predictions against labels \n",
    "graph_entity(predictions=predictions,bins=50)"
   ]
  },
  {
   "cell_type": "code",
   "execution_count": 10,
   "id": "0eb20f60",
   "metadata": {},
   "outputs": [
    {
     "data": {
      "text/html": [
       "<div>\n",
       "<style scoped>\n",
       "    .dataframe tbody tr th:only-of-type {\n",
       "        vertical-align: middle;\n",
       "    }\n",
       "\n",
       "    .dataframe tbody tr th {\n",
       "        vertical-align: top;\n",
       "    }\n",
       "\n",
       "    .dataframe thead th {\n",
       "        text-align: right;\n",
       "    }\n",
       "</style>\n",
       "<table border=\"1\" class=\"dataframe\">\n",
       "  <thead>\n",
       "    <tr style=\"text-align: right;\">\n",
       "      <th></th>\n",
       "      <th>final_score_A</th>\n",
       "      <th>final_score_B</th>\n",
       "      <th>target_final_score_A</th>\n",
       "      <th>target_final_score_B</th>\n",
       "    </tr>\n",
       "  </thead>\n",
       "  <tbody>\n",
       "    <tr>\n",
       "      <th>0</th>\n",
       "      <td>114.103958</td>\n",
       "      <td>108.657242</td>\n",
       "      <td>100.0</td>\n",
       "      <td>90.0</td>\n",
       "    </tr>\n",
       "    <tr>\n",
       "      <th>1</th>\n",
       "      <td>98.552681</td>\n",
       "      <td>92.435143</td>\n",
       "      <td>113.0</td>\n",
       "      <td>85.0</td>\n",
       "    </tr>\n",
       "    <tr>\n",
       "      <th>2</th>\n",
       "      <td>101.859909</td>\n",
       "      <td>102.382309</td>\n",
       "      <td>92.0</td>\n",
       "      <td>84.0</td>\n",
       "    </tr>\n",
       "    <tr>\n",
       "      <th>3</th>\n",
       "      <td>110.537834</td>\n",
       "      <td>102.760582</td>\n",
       "      <td>100.0</td>\n",
       "      <td>89.0</td>\n",
       "    </tr>\n",
       "    <tr>\n",
       "      <th>4</th>\n",
       "      <td>112.125984</td>\n",
       "      <td>112.536713</td>\n",
       "      <td>105.0</td>\n",
       "      <td>113.0</td>\n",
       "    </tr>\n",
       "    <tr>\n",
       "      <th>...</th>\n",
       "      <td>...</td>\n",
       "      <td>...</td>\n",
       "      <td>...</td>\n",
       "      <td>...</td>\n",
       "    </tr>\n",
       "    <tr>\n",
       "      <th>2541</th>\n",
       "      <td>100.233932</td>\n",
       "      <td>99.834160</td>\n",
       "      <td>101.0</td>\n",
       "      <td>112.0</td>\n",
       "    </tr>\n",
       "    <tr>\n",
       "      <th>2542</th>\n",
       "      <td>103.362671</td>\n",
       "      <td>98.408669</td>\n",
       "      <td>95.0</td>\n",
       "      <td>98.0</td>\n",
       "    </tr>\n",
       "    <tr>\n",
       "      <th>2543</th>\n",
       "      <td>96.118019</td>\n",
       "      <td>96.558937</td>\n",
       "      <td>99.0</td>\n",
       "      <td>100.0</td>\n",
       "    </tr>\n",
       "    <tr>\n",
       "      <th>2544</th>\n",
       "      <td>104.148605</td>\n",
       "      <td>97.709427</td>\n",
       "      <td>124.0</td>\n",
       "      <td>105.0</td>\n",
       "    </tr>\n",
       "    <tr>\n",
       "      <th>2545</th>\n",
       "      <td>101.472038</td>\n",
       "      <td>102.603180</td>\n",
       "      <td>119.0</td>\n",
       "      <td>100.0</td>\n",
       "    </tr>\n",
       "  </tbody>\n",
       "</table>\n",
       "<p>2546 rows × 4 columns</p>\n",
       "</div>"
      ],
      "text/plain": [
       "      final_score_A  final_score_B  target_final_score_A  target_final_score_B\n",
       "0        114.103958     108.657242                 100.0                  90.0\n",
       "1         98.552681      92.435143                 113.0                  85.0\n",
       "2        101.859909     102.382309                  92.0                  84.0\n",
       "3        110.537834     102.760582                 100.0                  89.0\n",
       "4        112.125984     112.536713                 105.0                 113.0\n",
       "...             ...            ...                   ...                   ...\n",
       "2541     100.233932      99.834160                 101.0                 112.0\n",
       "2542     103.362671      98.408669                  95.0                  98.0\n",
       "2543      96.118019      96.558937                  99.0                 100.0\n",
       "2544     104.148605      97.709427                 124.0                 105.0\n",
       "2545     101.472038     102.603180                 119.0                 100.0\n",
       "\n",
       "[2546 rows x 4 columns]"
      ]
     },
     "execution_count": 10,
     "metadata": {},
     "output_type": "execute_result"
    }
   ],
   "source": [
    "# Print actual predictions against labels\n",
    "predictions"
   ]
  },
  {
   "cell_type": "markdown",
   "id": "167876ad",
   "metadata": {},
   "source": [
    "Launch Tensorboard"
   ]
  },
  {
   "cell_type": "code",
   "execution_count": null,
   "id": "9dac7561",
   "metadata": {},
   "outputs": [],
   "source": [
    "%tensorboard --logdir=./logs"
   ]
  },
  {
   "cell_type": "markdown",
   "id": "66627c38",
   "metadata": {},
   "source": [
    "CROSS VALIDATION ALTERNATIVE"
   ]
  },
  {
   "cell_type": "markdown",
   "id": "feff0899",
   "metadata": {},
   "source": [
    "Create and Train Models Using KFold Cross Validation"
   ]
  },
  {
   "cell_type": "code",
   "execution_count": 24,
   "id": "b66b2d17-0154-4ac7-b6e4-2388aaa130eb",
   "metadata": {},
   "outputs": [],
   "source": [
    "# === STEP 4: MODEL MANAGER\n",
    "yamls = [yaml_path3]\n",
    "model_manager = ModelManager(trainer, predictor, model_factory, mm_configuration_loader)"
   ]
  },
  {
   "cell_type": "markdown",
   "id": "81026005",
   "metadata": {},
   "source": [
    "Get Averaged Metrics for KFold"
   ]
  },
  {
   "cell_type": "code",
   "execution_count": null,
   "id": "3437639c-6666-4c76-a827-706148a9fa7f",
   "metadata": {},
   "outputs": [],
   "source": [
    "avg_metrics = cross_val_train(model_manager=model_manager, yamls=yamls, train_dataset=train_dataset, n_splits=5)\n",
    "f1 = compute_f1(avg_metrics[\"val_precision\"], avg_metrics[\"val_recall\"])\n",
    "print(avg_metrics)\n",
    "print(f1)"
   ]
  }
 ],
 "metadata": {
  "kernelspec": {
   "display_name": "Python 3.8.5 ('sports-betting': venv)",
   "language": "python",
   "name": "python3"
  },
  "language_info": {
   "codemirror_mode": {
    "name": "ipython",
    "version": 3
   },
   "file_extension": ".py",
   "mimetype": "text/x-python",
   "name": "python",
   "nbconvert_exporter": "python",
   "pygments_lexer": "ipython3",
   "version": "3.8.5"
  },
  "vscode": {
   "interpreter": {
    "hash": "42d1e72f09edad5b8341e1a78b673e0aa6929e61770b700654f70887e86e86ac"
   }
  }
 },
 "nbformat": 4,
 "nbformat_minor": 5
}
