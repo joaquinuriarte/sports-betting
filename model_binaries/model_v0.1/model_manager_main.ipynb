{
 "cells": [
  {
   "cell_type": "code",
   "execution_count": 10,
   "metadata": {},
   "outputs": [],
   "source": [
    "######## Create, Train, and Predict Models\n",
    "\n",
    "# Loads train, test, and val datasets\n",
    "# Instantiates Models\n",
    "# Trains Models\n",
    "# Predicts using Models"
   ]
  },
  {
   "cell_type": "markdown",
   "id": "6b68658b",
   "metadata": {},
   "source": [
    "Import All Required Modules"
   ]
  },
  {
   "cell_type": "code",
   "execution_count": 2,
   "id": "251a0e8a-b944-4323-8731-207322906548",
   "metadata": {
    "collapsed": true,
    "jupyter": {
     "outputs_hidden": true
    }
   },
   "outputs": [
    {
     "name": "stdout",
     "output_type": "stream",
     "text": [
      "# === STEP 0: Imports: Starting ...\n"
     ]
    },
    {
     "name": "stderr",
     "output_type": "stream",
     "text": [
      "2025-01-27 15:24:04.889966: I tensorflow/core/platform/cpu_feature_guard.cc:182] This TensorFlow binary is optimized to use available CPU instructions in performance-critical operations.\n",
      "To enable the following instructions: AVX2 FMA, in other operations, rebuild TensorFlow with the appropriate compiler flags.\n"
     ]
    },
    {
     "name": "stdout",
     "output_type": "stream",
     "text": [
      "# === STEP 0: Imports: Complete\n"
     ]
    }
   ],
   "source": [
    "import sys\n",
    "\n",
    "# Manually add the project root to sys.path\n",
    "sys.path.append('/Users/joaquinuriarte/Documents/GitHub/sports-betting/')\n",
    "\n",
    "# === STEP 0: Imports\n",
    "print(\"# === STEP 0: Imports: Starting ...\")\n",
    "from modules.model_manager.trainer.trainer import Trainer\n",
    "from modules.model_manager.predictor.predictor import Predictor\n",
    "from modules.model_manager.factories.model_factory import ModelFactory\n",
    "from modules.model_manager.helpers.configuration_loader import ConfigurationLoader as MMConfigLoader\n",
    "from modules.model_manager.model_manager import ModelManager\n",
    "print(\"# === STEP 0: Imports: Complete\")"
   ]
  },
  {
   "cell_type": "code",
   "execution_count": 5,
   "id": "eef0ca8d-4980-4561-8348-6ba966b8a785",
   "metadata": {},
   "outputs": [
    {
     "name": "stdout",
     "output_type": "stream",
     "text": [
      "# === STEP 1: Dependency Instantiations And Global Variable Declarations: Starting ...\n",
      "# === STEP 1: Dependency Instantiations And Global Variable Declarations: Complete\n"
     ]
    }
   ],
   "source": [
    "# === STEP 1: Dependency Instantiations And Global Variable Declarations\n",
    "print(\"# === STEP 1: Dependency Instantiations And Global Variable Declarations: Starting ...\")\n",
    "## === MODEL MANAGER\n",
    "yaml_path0 = '/Users/joaquinuriarte/Documents/GitHub/sports-betting/configs/model_v01/model_v01_000.yaml'\n",
    "yaml_path1 = '/Users/joaquinuriarte/Documents/GitHub/sports-betting/configs/model_v01/model_v01_001.yaml'\n",
    "yaml_path2 = '/Users/joaquinuriarte/Documents/GitHub/sports-betting/configs/model_v01/model_v01_002.yaml'\n",
    "\n",
    "yaml_paths = [yaml_path0, yaml_path1]\n",
    "\n",
    "\n",
    "checkpoint = '/Users/joaquinuriarte/Documents/GitHub/sports-betting/models'\n",
    "trainer = Trainer(checkpoint)\n",
    "predictor = Predictor()\n",
    "model_factory = ModelFactory()\n",
    "mm_configuration_loader = MMConfigLoader()\n",
    "print(\"# === STEP 1: Dependency Instantiations And Global Variable Declarations: Complete\")"
   ]
  },
  {
   "cell_type": "markdown",
   "id": "4a1c2254",
   "metadata": {},
   "source": [
    "Load Train, Val, and Test Datasets into Memory"
   ]
  },
  {
   "cell_type": "code",
   "execution_count": 7,
   "id": "77a23c84",
   "metadata": {},
   "outputs": [
    {
     "name": "stdout",
     "output_type": "stream",
     "text": [
      "Train dataset leaded to memory\n",
      "Val dataset leaded to memory\n"
     ]
    }
   ],
   "source": [
    "import pickle\n",
    "import os\n",
    "\n",
    "# File path to load train, test, and val datasets\n",
    "train_test_val_dataset_path = \"/Users/joaquinuriarte/Documents/GitHub/sports-betting/processed_datasets/model_v01\"\n",
    "\n",
    "train_dataset_path = train_test_val_dataset_path + \"/train.pkl\"\n",
    "val_dataset_path = train_test_val_dataset_path + \"/val.pkl\"\n",
    "# test_dataset_path = train_test_val_dataset_path + \"/test.pkl\"\n",
    "\n",
    "with open(train_dataset_path, \"rb\") as f:\n",
    "    train_dataset = pickle.load(f)\n",
    "    print(\"Train dataset leaded to memory\")\n",
    "with open(val_dataset_path, \"rb\") as f:\n",
    "    validation_dataset = pickle.load(f)\n",
    "    print(\"Val dataset leaded to memory\")\n",
    "# with open(test_dataset_path, \"rb\") as f:\n",
    "#     test_dataset = pickle.load(f)\n",
    "#     print(\"Test dataset leaded to memory\")"
   ]
  },
  {
   "cell_type": "markdown",
   "id": "feff0899",
   "metadata": {},
   "source": [
    "Create and Train Models"
   ]
  },
  {
   "cell_type": "code",
   "execution_count": 8,
   "id": "b66b2d17-0154-4ac7-b6e4-2388aaa130eb",
   "metadata": {},
   "outputs": [
    {
     "name": "stdout",
     "output_type": "stream",
     "text": [
      "# === STEP 4: MODEL MANAGER: Starting ...\n"
     ]
    }
   ],
   "source": [
    "# === STEP 4: MODEL MANAGER\n",
    "print(\"# === STEP 4: MODEL MANAGER: Starting ...\")\n",
    "model_manager = ModelManager(trainer, predictor, model_factory, mm_configuration_loader)\n",
    "models = model_manager.create_models([yaml_path0])"
   ]
  },
  {
   "cell_type": "code",
   "execution_count": 9,
   "id": "1fec0485",
   "metadata": {},
   "outputs": [
    {
     "data": {
      "text/plain": [
       "178"
      ]
     },
     "execution_count": 9,
     "metadata": {},
     "output_type": "execute_result"
    }
   ],
   "source": [
    "train_dataset.examples[0].features\n",
    "len(train_dataset.examples[0].features) # should be 178"
   ]
  },
  {
   "cell_type": "code",
   "execution_count": 10,
   "id": "3437639c-6666-4c76-a827-706148a9fa7f",
   "metadata": {},
   "outputs": [
    {
     "name": "stderr",
     "output_type": "stream",
     "text": [
      "INFO:root:Training model 'e318559d1275b9459efbc58b5363fbe9' for 20 epochs with batch size 32.\n"
     ]
    },
    {
     "name": "stdout",
     "output_type": "stream",
     "text": [
      "Epoch 1/20\n",
      "557/557 [==============================] - 6s 8ms/step - loss: 3413.9866 - mse: 3413.9866 - mae: 45.9491 - val_loss: 4174.7715 - val_mse: 4174.7715 - val_mae: 63.1986\n",
      "Epoch 2/20\n",
      "557/557 [==============================] - 2s 4ms/step - loss: 412.6510 - mse: 412.6510 - mae: 16.0211 - val_loss: 1012.0045 - val_mse: 1012.0045 - val_mae: 28.9775\n",
      "Epoch 3/20\n",
      "557/557 [==============================] - 2s 4ms/step - loss: 264.3955 - mse: 264.3955 - mae: 12.9088 - val_loss: 218.5742 - val_mse: 218.5742 - val_mae: 11.6637\n",
      "Epoch 4/20\n",
      "557/557 [==============================] - 3s 5ms/step - loss: 232.8006 - mse: 232.8006 - mae: 12.1361 - val_loss: 206.2176 - val_mse: 206.2176 - val_mae: 11.3258\n",
      "Epoch 5/20\n",
      "557/557 [==============================] - 2s 4ms/step - loss: 226.1146 - mse: 226.1146 - mae: 11.9325 - val_loss: 205.3823 - val_mse: 205.3823 - val_mae: 11.3010\n",
      "Epoch 6/20\n",
      "557/557 [==============================] - 2s 4ms/step - loss: 215.6276 - mse: 215.6276 - mae: 11.6565 - val_loss: 195.7771 - val_mse: 195.7771 - val_mae: 11.0427\n",
      "Epoch 7/20\n",
      "557/557 [==============================] - 2s 4ms/step - loss: 205.5406 - mse: 205.5406 - mae: 11.3908 - val_loss: 205.0211 - val_mse: 205.0211 - val_mae: 11.2996\n",
      "Epoch 8/20\n",
      "557/557 [==============================] - 2s 4ms/step - loss: 202.0894 - mse: 202.0894 - mae: 11.2879 - val_loss: 184.2445 - val_mse: 184.2445 - val_mae: 10.7182\n",
      "Epoch 9/20\n",
      "557/557 [==============================] - 3s 4ms/step - loss: 199.2678 - mse: 199.2678 - mae: 11.2123 - val_loss: 168.5589 - val_mse: 168.5589 - val_mae: 10.2493\n",
      "Epoch 10/20\n",
      "557/557 [==============================] - 3s 5ms/step - loss: 196.8508 - mse: 196.8508 - mae: 11.1772 - val_loss: 160.7705 - val_mse: 160.7705 - val_mae: 10.0313\n",
      "Epoch 11/20\n",
      "557/557 [==============================] - 3s 5ms/step - loss: 191.9314 - mse: 191.9314 - mae: 11.0018 - val_loss: 171.1461 - val_mse: 171.1461 - val_mae: 10.3289\n",
      "Epoch 12/20\n",
      "557/557 [==============================] - 2s 4ms/step - loss: 190.8194 - mse: 190.8194 - mae: 10.9627 - val_loss: 176.9099 - val_mse: 176.9099 - val_mae: 10.5058\n",
      "Epoch 13/20\n",
      "557/557 [==============================] - 2s 4ms/step - loss: 189.1180 - mse: 189.1180 - mae: 10.9231 - val_loss: 174.1116 - val_mse: 174.1116 - val_mae: 10.4252\n",
      "Epoch 14/20\n",
      "557/557 [==============================] - 3s 5ms/step - loss: 187.6152 - mse: 187.6152 - mae: 10.8826 - val_loss: 164.1450 - val_mse: 164.1450 - val_mae: 10.1262\n",
      "Epoch 15/20\n",
      "557/557 [==============================] - 2s 4ms/step - loss: 184.1020 - mse: 184.1020 - mae: 10.7818 - val_loss: 160.8078 - val_mse: 160.8078 - val_mae: 10.0197\n",
      "Epoch 16/20\n",
      "557/557 [==============================] - 2s 4ms/step - loss: 185.8126 - mse: 185.8126 - mae: 10.8339 - val_loss: 179.1004 - val_mse: 179.1004 - val_mae: 10.5660\n",
      "Epoch 17/20\n",
      "557/557 [==============================] - 4s 6ms/step - loss: 185.0655 - mse: 185.0655 - mae: 10.7873 - val_loss: 178.1700 - val_mse: 178.1700 - val_mae: 10.5322\n",
      "Epoch 18/20\n",
      "557/557 [==============================] - 4s 7ms/step - loss: 185.2027 - mse: 185.2027 - mae: 10.8142 - val_loss: 169.2572 - val_mse: 169.2572 - val_mae: 10.2716\n",
      "Epoch 19/20\n",
      "557/557 [==============================] - 3s 5ms/step - loss: 182.1556 - mse: 182.1556 - mae: 10.7281 - val_loss: 172.9376 - val_mse: 172.9376 - val_mae: 10.3826\n",
      "Epoch 20/20\n",
      "557/557 [==============================] - 3s 6ms/step - loss: 180.7546 - mse: 180.7546 - mae: 10.6833 - val_loss: 161.9791 - val_mse: 161.9791 - val_mae: 10.0491\n"
     ]
    },
    {
     "name": "stderr",
     "output_type": "stream",
     "text": [
      "INFO:root:Model 'e318559d1275b9459efbc58b5363fbe9': Finished training.\n"
     ]
    },
    {
     "name": "stdout",
     "output_type": "stream",
     "text": [
      "Model saved successfully at: models/e318559d1275b9459efbc58b5363fbe9/model_weights_e318559d1275b9459efbc58b5363fbe9.pth\n",
      "# === STEP 4: MODEL MANAGER: Complete\n"
     ]
    }
   ],
   "source": [
    "# If no val dataset, code requires to push None instead\n",
    "val_dataset = validation_dataset if validation_dataset is not None else None\n",
    "\n",
    "model_manager.train(models, [(train_dataset, val_dataset)], save_after_training=True)\n",
    "print(\"# === STEP 4: MODEL MANAGER: Complete\")"
   ]
  },
  {
   "cell_type": "markdown",
   "id": "81026005",
   "metadata": {},
   "source": [
    "Accuracy When Predicting Game Winner"
   ]
  },
  {
   "cell_type": "code",
   "execution_count": 11,
   "id": "e247faa6",
   "metadata": {},
   "outputs": [
    {
     "name": "stdout",
     "output_type": "stream",
     "text": [
      "<modules.model_manager.implementations.tensorflow_model_v01.TensorFlowModelV01 object at 0x7f96b8353a90>\n"
     ]
    }
   ],
   "source": [
    "predictions = []\n",
    "for model in models:\n",
    "    print(model)\n",
    "    predictions.append(model.predict(validation_dataset.examples, return_target_labels=True))"
   ]
  },
  {
   "cell_type": "code",
   "execution_count": 12,
   "id": "4438f199",
   "metadata": {},
   "outputs": [
    {
     "name": "stdout",
     "output_type": "stream",
     "text": [
      "Accuracy across all features on validation dataset: 0.6046633481791983 and percent_of_b_in_total_correct_pred: 0.0\n"
     ]
    }
   ],
   "source": [
    "total_examples = 0\n",
    "correct_predictions = 0\n",
    "correct_b_predictions = 0\n",
    "\n",
    "for row in predictions[0].itertuples(index=False):\n",
    "    total_examples += 1\n",
    "    \n",
    "    # Compare predictions and target labels for the current feature\n",
    "    if (row.final_score_A > row.final_score_B and row.target_final_score_A > row.target_final_score_B):\n",
    "        correct_predictions += 1\n",
    "    elif (row.final_score_A < row.final_score_B and row.target_final_score_A < row.target_final_score_B):\n",
    "        correct_predictions += 1\n",
    "        correct_b_predictions += 1  \n",
    "\n",
    "# Calculate accuracy\n",
    "accuracy = correct_predictions / total_examples\n",
    "percent_of_b_in_total_correct_pred = correct_b_predictions / correct_predictions\n",
    "print(f\"Accuracy across all features on validation dataset: {accuracy} and percent_of_b_in_total_correct_pred: {percent_of_b_in_total_correct_pred}\")"
   ]
  },
  {
   "cell_type": "code",
   "execution_count": 10,
   "id": "0f043d26",
   "metadata": {},
   "outputs": [
    {
     "name": "stderr",
     "output_type": "stream",
     "text": [
      "UsageError: Line magic function `%tensorboard` not found.\n"
     ]
    }
   ],
   "source": [
    "%tensorboard --logdir logs/fit/39cf74dd0ecb478f456add01f6470ccc"
   ]
  }
 ],
 "metadata": {
  "kernelspec": {
   "display_name": "Python 3.8.5 ('sports-betting': venv)",
   "language": "python",
   "name": "python3"
  },
  "language_info": {
   "codemirror_mode": {
    "name": "ipython",
    "version": 3
   },
   "file_extension": ".py",
   "mimetype": "text/x-python",
   "name": "python",
   "nbconvert_exporter": "python",
   "pygments_lexer": "ipython3",
   "version": "3.8.5"
  },
  "vscode": {
   "interpreter": {
    "hash": "42d1e72f09edad5b8341e1a78b673e0aa6929e61770b700654f70887e86e86ac"
   }
  }
 },
 "nbformat": 4,
 "nbformat_minor": 5
}
