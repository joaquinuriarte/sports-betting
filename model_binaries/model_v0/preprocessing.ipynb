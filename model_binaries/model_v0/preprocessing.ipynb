{
 "cells": [
  {
   "cell_type": "code",
   "execution_count": 13,
   "id": "14be5302",
   "metadata": {},
   "outputs": [],
   "source": [
    "######## Generate and save dataset\n",
    "    # Generates the processed dataset used by all model v0 candidates\n",
    "    # Generates train, val, and test splits\n",
    "    # Saves generated train, val, and test datasets to disk for quick loading into memory\n",
    "\n",
    "######## Preprocess final dataset if necessary\n",
    "    # Scale datasets\n",
    "    # Saves scaled datasets and scalers to disk"
   ]
  },
  {
   "cell_type": "markdown",
   "id": "8539b084",
   "metadata": {},
   "source": [
    "Import & Instantiate All Required Modules"
   ]
  },
  {
   "cell_type": "code",
   "execution_count": 1,
   "id": "251a0e8a-b944-4323-8731-207322906548",
   "metadata": {
    "collapsed": true,
    "jupyter": {
     "outputs_hidden": true
    }
   },
   "outputs": [],
   "source": [
    "import sys\n",
    "\n",
    "# Manually add the project root to sys.path\n",
    "sys.path.append('/Users/joaquinuriarte/Documents/GitHub/sports-betting/')\n",
    "\n",
    "\n",
    "# === STEP 0: Imports\n",
    "from modules.dataset_generator.helpers.configuration_loader import ConfigurationLoader as DSConfigLoader\n",
    "from modules.dataset_generator.factories.data_io_factory import DataIOFactory\n",
    "from modules.dataset_generator.factories.feature_processor_factory import FeatureProcessorFactory\n",
    "from modules.dataset_generator.factories.join_factory import JoinFactory\n",
    "from modules.dataset_generator.factories.strategy_factory import StrategyFactory\n",
    "from modules.dataset_generator.dataset_generator import DatasetGenerator\n",
    "from modules.processor.helpers.configuration_loader import ConfigurationLoader as PConfigLoader\n",
    "from modules.processor.factories.split_strategy_factory import SplitStrategyFactory\n",
    "from modules.processor.processor import Processor\n",
    "from model_binaries.utils.binary_utils import save_entity, load_entity, assess_dataset_balance, scale_features\n"
   ]
  },
  {
   "cell_type": "code",
   "execution_count": 2,
   "id": "eef0ca8d-4980-4561-8348-6ba966b8a785",
   "metadata": {},
   "outputs": [],
   "source": [
    "# === STEP 1: Dependency Instantiations And Global Variable Declarations\n",
    "\n",
    "## === DATASET GEN\n",
    "yaml_path = '/Users/joaquinuriarte/Documents/GitHub/sports-betting/configs/model_v0/model_v0_000.yaml'\n",
    "ds_configuration_loader = DSConfigLoader()\n",
    "data_factory, feature_processor_factory, join_factory, strategy_factory = DataIOFactory(), FeatureProcessorFactory(), JoinFactory(), StrategyFactory()\n",
    "## === PROCESSOR\n",
    "p_configuration_loader = PConfigLoader()\n",
    "split_strategy_factory = SplitStrategyFactory()"
   ]
  },
  {
   "cell_type": "markdown",
   "id": "badf165e",
   "metadata": {},
   "source": [
    "Create Dataset Generator & Generate Processed Dataset"
   ]
  },
  {
   "cell_type": "code",
   "execution_count": 3,
   "id": "cb5ab980-4b87-4271-afbf-f41b4250bee2",
   "metadata": {},
   "outputs": [],
   "source": [
    "# === STEP 2: DATASET GEN\n",
    "dataset_generator = DatasetGenerator(yaml_path, ds_configuration_loader, data_factory, feature_processor_factory, join_factory, strategy_factory)"
   ]
  },
  {
   "cell_type": "code",
   "execution_count": null,
   "id": "cdbf561d-25b7-4cdc-829b-f022bb4a7f47",
   "metadata": {},
   "outputs": [],
   "source": [
    "processed_dataset = dataset_generator.generate()"
   ]
  },
  {
   "cell_type": "markdown",
   "id": "9a51e311",
   "metadata": {},
   "source": [
    "Save/Load Processed Dataset to Disk"
   ]
  },
  {
   "cell_type": "code",
   "execution_count": 4,
   "id": "d81fc9f8",
   "metadata": {},
   "outputs": [],
   "source": [
    "# Folder path to save and load the processed dataset\n",
    "processed_dataset_folder_path = \"/Users/joaquinuriarte/Documents/GitHub/sports-betting/processed_datasets/model_v0\""
   ]
  },
  {
   "cell_type": "code",
   "execution_count": null,
   "id": "2db07225",
   "metadata": {},
   "outputs": [],
   "source": [
    "## Use to save processed dataset to disk ## \n",
    "save_entity(processed_dataset_folder_path, \"processed_dataset.pkl\", processed_dataset)"
   ]
  },
  {
   "cell_type": "code",
   "execution_count": 5,
   "id": "14a8608d",
   "metadata": {},
   "outputs": [],
   "source": [
    "## Use to load processed dataset if computed already ## \n",
    "processed_dataset = load_entity(processed_dataset_folder_path, \"processed_dataset.pkl\")"
   ]
  },
  {
   "cell_type": "markdown",
   "id": "ae80a05c",
   "metadata": {},
   "source": [
    "Processed Dataset Peek"
   ]
  },
  {
   "cell_type": "code",
   "execution_count": null,
   "id": "0c867dcb",
   "metadata": {},
   "outputs": [],
   "source": [
    "processed_dataset.features"
   ]
  },
  {
   "cell_type": "markdown",
   "id": "77c7ca80",
   "metadata": {},
   "source": [
    "Create Processor & Generate Train, Val, and Test Datasets"
   ]
  },
  {
   "cell_type": "code",
   "execution_count": 10,
   "id": "7ca54e3c-f921-4d71-b0a6-857271282502",
   "metadata": {},
   "outputs": [],
   "source": [
    "# === STEP 3: PROCESSOR\n",
    "processor = Processor(yaml_path, p_configuration_loader, processed_dataset, split_strategy_factory)"
   ]
  },
  {
   "cell_type": "code",
   "execution_count": 11,
   "id": "e5e72e7a-9069-43f6-9872-8cb18519caaa",
   "metadata": {},
   "outputs": [],
   "source": [
    "train_dataset, validation_dataset, test_dataset = processor.generate()"
   ]
  },
  {
   "cell_type": "markdown",
   "id": "4811b9f0",
   "metadata": {},
   "source": [
    "Save/Load Train, Val, Test DS"
   ]
  },
  {
   "cell_type": "code",
   "execution_count": 12,
   "id": "eaf5a194",
   "metadata": {},
   "outputs": [],
   "source": [
    "# File path to save and load train, test, and val datasets\n",
    "train_test_val_folder_path = \"/Users/joaquinuriarte/Documents/GitHub/sports-betting/processed_datasets/model_v0\""
   ]
  },
  {
   "cell_type": "code",
   "execution_count": 13,
   "id": "775b1180",
   "metadata": {},
   "outputs": [],
   "source": [
    "## Use to save train, test, and val datasets to disk ## \n",
    "save_entity(train_test_val_folder_path, \"train.pkl\", train_dataset)\n",
    "save_entity(train_test_val_folder_path, \"val.pkl\", validation_dataset)\n",
    "save_entity(train_test_val_folder_path, \"test.pkl\", test_dataset)"
   ]
  },
  {
   "cell_type": "code",
   "execution_count": 14,
   "id": "fc68e7fb",
   "metadata": {},
   "outputs": [],
   "source": [
    "## Use to load train, test, and val datasets if computed already ## \n",
    "train_dataset = load_entity(train_test_val_folder_path, \"train.pkl\")\n",
    "validation_dataset = load_entity(train_test_val_folder_path, \"val.pkl\")\n",
    "test_dataset = load_entity(train_test_val_folder_path, \"test.pkl\")"
   ]
  },
  {
   "cell_type": "markdown",
   "id": "5e03b25e",
   "metadata": {},
   "source": [
    "Assess Datasets Inbalance"
   ]
  },
  {
   "cell_type": "code",
   "execution_count": 15,
   "id": "84c47ca5",
   "metadata": {},
   "outputs": [
    {
     "name": "stdout",
     "output_type": "stream",
     "text": [
      "\n",
      "Column: 'Team_A_Wins'\n",
      "  - Number of 0.0s: 7290 (40.93%)\n",
      "  - Number of 1.0s: 10521 (59.07%)\n",
      "\n",
      "Column: 'Team_A_Wins'\n",
      "  - Number of 1.0s: 2225 (58.29%)\n",
      "  - Number of 0.0s: 1592 (41.71%)\n",
      "\n",
      "Column: 'Team_A_Wins'\n",
      "  - Number of 1.0s: 2251 (58.97%)\n",
      "  - Number of 0.0s: 1566 (41.03%)\n"
     ]
    }
   ],
   "source": [
    "assess_dataset_balance(train_dataset, [\"Team_A_Wins\"])\n",
    "assess_dataset_balance(validation_dataset, [\"Team_A_Wins\"])\n",
    "assess_dataset_balance(test_dataset, [\"Team_A_Wins\"])"
   ]
  },
  {
   "cell_type": "markdown",
   "id": "b7c7629f",
   "metadata": {},
   "source": [
    "Preprocess Features"
   ]
  },
  {
   "cell_type": "code",
   "execution_count": 21,
   "id": "16c15bd4",
   "metadata": {},
   "outputs": [],
   "source": [
    "scaled_training_dataset, training_scaler = scale_features(train_dataset, return_scaler=True)\n",
    "scaled_validation_dataset, val_scaler = scale_features(validation_dataset, return_scaler=True)\n",
    "scaled_test_dataset, test_scaler = scale_features(test_dataset, return_scaler=True)"
   ]
  },
  {
   "cell_type": "markdown",
   "id": "17727a81",
   "metadata": {},
   "source": [
    "Save Scaled Datasets and Scalers"
   ]
  },
  {
   "cell_type": "code",
   "execution_count": 22,
   "id": "f44f1ab9",
   "metadata": {},
   "outputs": [],
   "source": [
    "# File path to save and load scaled train, test, and val datasets & scaler\n",
    "scaled_train_test_val_folder_path = \"/Users/joaquinuriarte/Documents/GitHub/sports-betting/processed_datasets/model_v0/scaler\""
   ]
  },
  {
   "cell_type": "code",
   "execution_count": 23,
   "id": "d984b9a6",
   "metadata": {},
   "outputs": [],
   "source": [
    "# Save scaled datasets and scaler\n",
    "save_entity(scaled_train_test_val_folder_path, \"scaled_train.pkl\", scaled_training_dataset)\n",
    "save_entity(scaled_train_test_val_folder_path, \"train_scaler.pkl\", training_scaler)\n",
    "\n",
    "save_entity(scaled_train_test_val_folder_path, \"scaled_val.pkl\", scaled_validation_dataset)\n",
    "save_entity(scaled_train_test_val_folder_path, \"val_scaler.pkl\", val_scaler)\n",
    "\n",
    "save_entity(scaled_train_test_val_folder_path, \"scaled_test.pkl\", scaled_test_dataset)\n",
    "save_entity(scaled_train_test_val_folder_path, \"test_scaler.pkl\", test_scaler)"
   ]
  },
  {
   "cell_type": "code",
   "execution_count": 24,
   "id": "2bc6342e",
   "metadata": {},
   "outputs": [],
   "source": [
    "# Load scaled datasets and scaler\n",
    "scaled_training_dataset, training_scaler = load_entity(scaled_train_test_val_folder_path, \"scaled_train.pkl\"), load_entity(scaled_train_test_val_folder_path, \"train_scaler.pkl\")\n",
    "scaled_validation_dataset, val_scaler = load_entity(scaled_train_test_val_folder_path, \"scaled_val.pkl\"), load_entity(scaled_train_test_val_folder_path, \"val_scaler.pkl\")\n",
    "scaled_test_dataset, test_scaler = load_entity(scaled_train_test_val_folder_path, \"scaled_test.pkl\"), load_entity(scaled_train_test_val_folder_path, \"test_scaler.pkl\")"
   ]
  }
 ],
 "metadata": {
  "kernelspec": {
   "display_name": "Python 3.8.5 ('sports-betting': venv)",
   "language": "python",
   "name": "python3"
  },
  "language_info": {
   "codemirror_mode": {
    "name": "ipython",
    "version": 3
   },
   "file_extension": ".py",
   "mimetype": "text/x-python",
   "name": "python",
   "nbconvert_exporter": "python",
   "pygments_lexer": "ipython3",
   "version": "3.8.5"
  },
  "vscode": {
   "interpreter": {
    "hash": "42d1e72f09edad5b8341e1a78b673e0aa6929e61770b700654f70887e86e86ac"
   }
  }
 },
 "nbformat": 4,
 "nbformat_minor": 5
}
