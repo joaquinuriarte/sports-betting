{
 "cells": [
  {
   "cell_type": "code",
   "execution_count": 10,
   "metadata": {},
   "outputs": [],
   "source": [
    "######## Create, Train, and Predict Models\n",
    "\n",
    "# Loads train, test, and val datasets\n",
    "# Instantiates Models\n",
    "# Trains Models\n",
    "# Predicts using Models"
   ]
  },
  {
   "cell_type": "markdown",
   "id": "6b68658b",
   "metadata": {},
   "source": [
    "Import All Required Modules"
   ]
  },
  {
   "cell_type": "code",
   "execution_count": 3,
   "id": "251a0e8a-b944-4323-8731-207322906548",
   "metadata": {
    "collapsed": true,
    "jupyter": {
     "outputs_hidden": true
    }
   },
   "outputs": [],
   "source": [
    "import sys\n",
    "\n",
    "# Manually add the project root to sys.path\n",
    "sys.path.append('/Users/joaquinuriarte/Documents/GitHub/sports-betting/')\n",
    "\n",
    "# === STEP 0: Imports\n",
    "from modules.model_manager.trainer.trainer import Trainer\n",
    "from modules.model_manager.predictor.predictor import Predictor\n",
    "from modules.model_manager.factories.model_factory import ModelFactory\n",
    "from modules.model_manager.helpers.configuration_loader import ConfigurationLoader as MMConfigLoader\n",
    "from modules.model_manager.model_manager import ModelManager\n",
    "from model_binaries.utils.binary_utils import save_entity, load_entity"
   ]
  },
  {
   "cell_type": "code",
   "execution_count": 4,
   "id": "eef0ca8d-4980-4561-8348-6ba966b8a785",
   "metadata": {},
   "outputs": [],
   "source": [
    "# === STEP 1: Dependency Instantiations And Global Variable Declarations\n",
    "\n",
    "## === MODEL MANAGER\n",
    "yaml_path0 = '/Users/joaquinuriarte/Documents/GitHub/sports-betting/configs/model_v0/model_v0_000.yaml'\n",
    "yaml_path1 = '/Users/joaquinuriarte/Documents/GitHub/sports-betting/configs/model_v0/model_v0_001.yaml'\n",
    "yaml_path2 = '/Users/joaquinuriarte/Documents/GitHub/sports-betting/configs/model_v0/model_v0_002.yaml'\n",
    "yaml_path3 = '/Users/joaquinuriarte/Documents/GitHub/sports-betting/configs/model_v0/model_v0_003.yaml'\n",
    "yaml_path4 = '/Users/joaquinuriarte/Documents/GitHub/sports-betting/configs/model_v0/model_v0_004.yaml'\n",
    "yaml_path5 = '/Users/joaquinuriarte/Documents/GitHub/sports-betting/configs/model_v0/model_v0_005.yaml'\n",
    "yaml_path6 = '/Users/joaquinuriarte/Documents/GitHub/sports-betting/configs/model_v0/model_v0_006.yaml'\n",
    "yaml_path7 = '/Users/joaquinuriarte/Documents/GitHub/sports-betting/configs/model_v0/model_v0_007.yaml'\n",
    "yaml_path8 = '/Users/joaquinuriarte/Documents/GitHub/sports-betting/configs/model_v0/model_v0_008.yaml'\n",
    "yaml_path9 = '/Users/joaquinuriarte/Documents/GitHub/sports-betting/configs/model_v0/model_v0_009.yaml'\n",
    "yaml_path10 = '/Users/joaquinuriarte/Documents/GitHub/sports-betting/configs/model_v0/model_v0_010.yaml'\n",
    "yaml_path11 = '/Users/joaquinuriarte/Documents/GitHub/sports-betting/configs/model_v0/model_v0_011.yaml'\n",
    "yaml_path12 = '/Users/joaquinuriarte/Documents/GitHub/sports-betting/configs/model_v0/model_v0_012.yaml'\n",
    "yaml_path13 = '/Users/joaquinuriarte/Documents/GitHub/sports-betting/configs/model_v0/model_v0_013.yaml'\n",
    "yaml_path14 = '/Users/joaquinuriarte/Documents/GitHub/sports-betting/configs/model_v0/model_v0_014.yaml'\n",
    "yaml_path15 = '/Users/joaquinuriarte/Documents/GitHub/sports-betting/configs/model_v0/model_v0_015.yaml'\n",
    "yaml_path16 = '/Users/joaquinuriarte/Documents/GitHub/sports-betting/configs/model_v0/model_v0_016.yaml'\n",
    "yaml_path17 = '/Users/joaquinuriarte/Documents/GitHub/sports-betting/configs/model_v0/model_v0_017.yaml'\n",
    "yaml_paths = [yaml_path0, yaml_path1, yaml_path2, yaml_path3, yaml_path4, yaml_path5, yaml_path7, yaml_path8,\n",
    "yaml_path9, yaml_path11, yaml_path12, yaml_path13, yaml_path14, yaml_path15, yaml_path16, yaml_path17]\n",
    "\n",
    "\n",
    "checkpoint = '/Users/joaquinuriarte/Documents/GitHub/sports-betting/models'\n",
    "trainer = Trainer(checkpoint)\n",
    "predictor = Predictor()\n",
    "model_factory = ModelFactory()\n",
    "mm_configuration_loader = MMConfigLoader()"
   ]
  },
  {
   "cell_type": "markdown",
   "id": "4a1c2254",
   "metadata": {},
   "source": [
    "Load Train & Val Datasets into Memory"
   ]
  },
  {
   "cell_type": "code",
   "execution_count": 6,
   "id": "fce64e6e",
   "metadata": {},
   "outputs": [],
   "source": [
    "# File path to load train, test, and val datasets\n",
    "train_test_val_folder_path = \"/Users/joaquinuriarte/Documents/GitHub/sports-betting/processed_datasets/model_v0/scaler\""
   ]
  },
  {
   "cell_type": "code",
   "execution_count": 8,
   "id": "77a23c84",
   "metadata": {},
   "outputs": [],
   "source": [
    "train_dataset = load_entity(train_test_val_folder_path, \"scaled_train.pkl\")\n",
    "validation_dataset = load_entity(train_test_val_folder_path, \"scaled_val.pkl\")"
   ]
  },
  {
   "cell_type": "markdown",
   "id": "feff0899",
   "metadata": {},
   "source": [
    "Create and Train Models"
   ]
  },
  {
   "cell_type": "code",
   "execution_count": 9,
   "id": "b66b2d17-0154-4ac7-b6e4-2388aaa130eb",
   "metadata": {},
   "outputs": [],
   "source": [
    "# === STEP 4: MODEL MANAGER\n",
    "yamls = [yaml_path17]\n",
    "model_manager = ModelManager(trainer, predictor, model_factory, mm_configuration_loader)\n",
    "models = model_manager.create_models(yamls)"
   ]
  },
  {
   "cell_type": "code",
   "execution_count": null,
   "id": "3437639c-6666-4c76-a827-706148a9fa7f",
   "metadata": {},
   "outputs": [],
   "source": [
    "# If no val dataset, code requires to push None instead\n",
    "val_dataset = validation_dataset if validation_dataset is not None else None\n",
    "\n",
    "model_manager.train(models, [(train_dataset, val_dataset)], save_after_training=True)"
   ]
  },
  {
   "cell_type": "markdown",
   "id": "1a36082f",
   "metadata": {},
   "source": [
    "Get Metrics on Validation Dataset"
   ]
  },
  {
   "cell_type": "code",
   "execution_count": 13,
   "id": "e247faa6",
   "metadata": {},
   "outputs": [],
   "source": [
    "for model in models:\n",
    "    prediction = model.predict(validation_dataset.examples, return_target_labels=True)"
   ]
  },
  {
   "cell_type": "markdown",
   "id": "4b0c318c",
   "metadata": {},
   "source": [
    "Launch Tensorboard"
   ]
  },
  {
   "cell_type": "code",
   "execution_count": 10,
   "id": "0f043d26",
   "metadata": {},
   "outputs": [
    {
     "name": "stderr",
     "output_type": "stream",
     "text": [
      "UsageError: Line magic function `%tensorboard` not found.\n"
     ]
    }
   ],
   "source": [
    "%tensorboard --logdir logs/fit/a141223cdff8e65162f8bbc75c6c3d96"
   ]
  }
 ],
 "metadata": {
  "kernelspec": {
   "display_name": "Python 3.8.5 ('sports-betting': venv)",
   "language": "python",
   "name": "python3"
  },
  "language_info": {
   "codemirror_mode": {
    "name": "ipython",
    "version": 3
   },
   "file_extension": ".py",
   "mimetype": "text/x-python",
   "name": "python",
   "nbconvert_exporter": "python",
   "pygments_lexer": "ipython3",
   "version": "3.8.5"
  },
  "vscode": {
   "interpreter": {
    "hash": "42d1e72f09edad5b8341e1a78b673e0aa6929e61770b700654f70887e86e86ac"
   }
  }
 },
 "nbformat": 4,
 "nbformat_minor": 5
}
