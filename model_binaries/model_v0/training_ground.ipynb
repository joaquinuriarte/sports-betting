{
 "cells": [
  {
   "cell_type": "code",
   "execution_count": 10,
   "metadata": {},
   "outputs": [],
   "source": [
    "######## Create, Train, and Predict Models\n",
    "\n",
    "# Loads train, test, and val datasets\n",
    "# Instantiates Models\n",
    "# Trains Models\n",
    "# Predicts using Models"
   ]
  },
  {
   "cell_type": "markdown",
   "id": "6b68658b",
   "metadata": {},
   "source": [
    "Import All Required Modules"
   ]
  },
  {
   "cell_type": "code",
   "execution_count": 5,
   "id": "251a0e8a-b944-4323-8731-207322906548",
   "metadata": {
    "collapsed": true,
    "jupyter": {
     "outputs_hidden": true
    }
   },
   "outputs": [],
   "source": [
    "import sys\n",
    "\n",
    "# Manually add the project root to sys.path\n",
    "sys.path.append('/Users/joaquinuriarte/Documents/GitHub/sports-betting/')\n",
    "\n",
    "# === STEP 0: Imports\n",
    "from modules.model_manager.trainer.trainer import Trainer\n",
    "from modules.model_manager.predictor.predictor import Predictor\n",
    "from modules.model_manager.factories.model_factory import ModelFactory\n",
    "from modules.model_manager.helpers.configuration_loader import ConfigurationLoader as MMConfigLoader\n",
    "from modules.model_manager.model_manager import ModelManager\n",
    "from sklearn.model_selection import KFold\n",
    "from modules.data_structures.model_dataset import ModelDataset\n",
    "from model_binaries.utils.binary_utils import save_entity, load_entity, cross_val_train, compute_f1"
   ]
  },
  {
   "cell_type": "code",
   "execution_count": 6,
   "id": "eef0ca8d-4980-4561-8348-6ba966b8a785",
   "metadata": {},
   "outputs": [],
   "source": [
    "# === STEP 1: Dependency Instantiations And Global Variable Declarations\n",
    "\n",
    "## === MODEL MANAGER\n",
    "yaml_path0 = '/Users/joaquinuriarte/Documents/GitHub/sports-betting/configs/model_v0/model_v0_000.yaml'\n",
    "yaml_paths = [yaml_path0]\n",
    "\n",
    "\n",
    "checkpoint = '/Users/joaquinuriarte/Documents/GitHub/sports-betting/models'\n",
    "trainer = Trainer(checkpoint)\n",
    "predictor = Predictor()\n",
    "model_factory = ModelFactory()\n",
    "mm_configuration_loader = MMConfigLoader()"
   ]
  },
  {
   "cell_type": "markdown",
   "id": "4a1c2254",
   "metadata": {},
   "source": [
    "Load Train into Memory"
   ]
  },
  {
   "cell_type": "code",
   "execution_count": 7,
   "id": "fce64e6e",
   "metadata": {},
   "outputs": [],
   "source": [
    "# File path to load train, test, and val datasets\n",
    "train_test_val_folder_path = \"/Users/joaquinuriarte/Documents/GitHub/sports-betting/processed_datasets/model_v0/scaler\""
   ]
  },
  {
   "cell_type": "code",
   "execution_count": 8,
   "id": "77a23c84",
   "metadata": {},
   "outputs": [],
   "source": [
    "train_dataset = load_entity(train_test_val_folder_path, \"scaled_train.pkl\")"
   ]
  },
  {
   "cell_type": "markdown",
   "id": "feff0899",
   "metadata": {},
   "source": [
    "Create and Train Models Using KFold Cross Validation"
   ]
  },
  {
   "cell_type": "code",
   "execution_count": 9,
   "id": "ad93a13b",
   "metadata": {},
   "outputs": [],
   "source": [
    "# === STEP 4: MODEL MANAGER\n",
    "yamls = [yaml_path0]\n",
    "model_manager = ModelManager(trainer, predictor, model_factory, mm_configuration_loader)"
   ]
  },
  {
   "cell_type": "code",
   "execution_count": 13,
   "id": "da8e6904",
   "metadata": {},
   "outputs": [
    {
     "name": "stderr",
     "output_type": "stream",
     "text": [
      "INFO:root:Training model '0c03eef430f4878e2d1dcca4e08bbffe' for 20 epochs with batch size 32.\n"
     ]
    },
    {
     "name": "stdout",
     "output_type": "stream",
     "text": [
      "Epoch 1/20\n",
      "478/478 [==============================] - 3s 3ms/step - loss: 0.6766 - accuracy: 0.4770 - precision: 0.6234 - recall: 0.2986 - auc: 0.5267 - val_loss: 0.6739 - val_accuracy: 0.5403 - val_precision: 0.6486 - val_recall: 0.4674 - val_auc: 0.5749\n",
      "Epoch 2/20\n",
      "478/478 [==============================] - 1s 3ms/step - loss: 0.6705 - accuracy: 0.5007 - precision: 0.6507 - recall: 0.3413 - auc: 0.5604 - val_loss: 0.6689 - val_accuracy: 0.5334 - val_precision: 0.6582 - val_recall: 0.4209 - val_auc: 0.5866\n",
      "Epoch 3/20\n",
      "478/478 [==============================] - 1s 3ms/step - loss: 0.6681 - accuracy: 0.5185 - precision: 0.6618 - recall: 0.3848 - auc: 0.5726 - val_loss: 0.6687 - val_accuracy: 0.4781 - val_precision: 0.6982 - val_recall: 0.1900 - val_auc: 0.5905\n",
      "Epoch 4/20\n",
      "478/478 [==============================] - 2s 4ms/step - loss: 0.6663 - accuracy: 0.5192 - precision: 0.6626 - recall: 0.3861 - auc: 0.5809 - val_loss: 0.6679 - val_accuracy: 0.5355 - val_precision: 0.6662 - val_recall: 0.4126 - val_auc: 0.5910\n",
      "Epoch 5/20\n",
      "478/478 [==============================] - 2s 4ms/step - loss: 0.6644 - accuracy: 0.5315 - precision: 0.6657 - recall: 0.4221 - auc: 0.5866 - val_loss: 0.6695 - val_accuracy: 0.5678 - val_precision: 0.6400 - val_recall: 0.5970 - val_auc: 0.5927\n",
      "Epoch 6/20\n",
      "478/478 [==============================] - 1s 3ms/step - loss: 0.6619 - accuracy: 0.5380 - precision: 0.6716 - recall: 0.4325 - auc: 0.5952 - val_loss: 0.6661 - val_accuracy: 0.5219 - val_precision: 0.6866 - val_recall: 0.3359 - val_auc: 0.5918\n",
      "Epoch 7/20\n",
      "478/478 [==============================] - 1s 3ms/step - loss: 0.6603 - accuracy: 0.5430 - precision: 0.6807 - recall: 0.4322 - auc: 0.6019 - val_loss: 0.6712 - val_accuracy: 0.5757 - val_precision: 0.6407 - val_recall: 0.6252 - val_auc: 0.5914\n",
      "Epoch 8/20\n",
      "478/478 [==============================] - 2s 3ms/step - loss: 0.6599 - accuracy: 0.5443 - precision: 0.6765 - recall: 0.4441 - auc: 0.6017 - val_loss: 0.6681 - val_accuracy: 0.5060 - val_precision: 0.6811 - val_recall: 0.2925 - val_auc: 0.5862\n",
      "Epoch 9/20\n",
      "478/478 [==============================] - 1s 3ms/step - loss: 0.6570 - accuracy: 0.5465 - precision: 0.6805 - recall: 0.4438 - auc: 0.6080 - val_loss: 0.6771 - val_accuracy: 0.5806 - val_precision: 0.6338 - val_recall: 0.6704 - val_auc: 0.5861\n",
      "Epoch 10/20\n",
      "478/478 [==============================] - 1s 3ms/step - loss: 0.6549 - accuracy: 0.5567 - precision: 0.6873 - recall: 0.4637 - auc: 0.6129 - val_loss: 0.6692 - val_accuracy: 0.5118 - val_precision: 0.6749 - val_recall: 0.3191 - val_auc: 0.5792\n",
      "Epoch 11/20\n",
      "478/478 [==============================] - 1s 3ms/step - loss: 0.6525 - accuracy: 0.5626 - precision: 0.6942 - recall: 0.4694 - auc: 0.6217 - val_loss: 0.6729 - val_accuracy: 0.5627 - val_precision: 0.6471 - val_recall: 0.5552 - val_auc: 0.5846\n",
      "Epoch 12/20\n",
      "478/478 [==============================] - 1s 3ms/step - loss: 0.6484 - accuracy: 0.5720 - precision: 0.6995 - recall: 0.4881 - auc: 0.6307 - val_loss: 0.6796 - val_accuracy: 0.5741 - val_precision: 0.6290 - val_recall: 0.6630 - val_auc: 0.5795\n",
      "Epoch 13/20\n",
      "478/478 [==============================] - 1s 3ms/step - loss: 0.6435 - accuracy: 0.5818 - precision: 0.7048 - recall: 0.5074 - auc: 0.6396 - val_loss: 0.6754 - val_accuracy: 0.5194 - val_precision: 0.6699 - val_recall: 0.3515 - val_auc: 0.5799\n",
      "Epoch 14/20\n",
      "478/478 [==============================] - 2s 5ms/step - loss: 0.6388 - accuracy: 0.5840 - precision: 0.7106 - recall: 0.5040 - auc: 0.6477 - val_loss: 0.6874 - val_accuracy: 0.5686 - val_precision: 0.6250 - val_recall: 0.6561 - val_auc: 0.5662\n",
      "Epoch 15/20\n",
      "478/478 [==============================] - 1s 3ms/step - loss: 0.6308 - accuracy: 0.6030 - precision: 0.7176 - recall: 0.5452 - auc: 0.6641 - val_loss: 0.6897 - val_accuracy: 0.4724 - val_precision: 0.6339 - val_recall: 0.2320 - val_auc: 0.5448\n",
      "Epoch 16/20\n",
      "478/478 [==============================] - 1s 3ms/step - loss: 0.6259 - accuracy: 0.6101 - precision: 0.7271 - recall: 0.5484 - auc: 0.6705 - val_loss: 0.7019 - val_accuracy: 0.4849 - val_precision: 0.6563 - val_recall: 0.2508 - val_auc: 0.5586\n",
      "Epoch 17/20\n",
      "478/478 [==============================] - 1s 3ms/step - loss: 0.6200 - accuracy: 0.6198 - precision: 0.7330 - recall: 0.5648 - auc: 0.6786 - val_loss: 0.6893 - val_accuracy: 0.5414 - val_precision: 0.6419 - val_recall: 0.4885 - val_auc: 0.5716\n",
      "Epoch 18/20\n",
      "478/478 [==============================] - 2s 4ms/step - loss: 0.6116 - accuracy: 0.6312 - precision: 0.7405 - recall: 0.5823 - auc: 0.6910 - val_loss: 0.6978 - val_accuracy: 0.5281 - val_precision: 0.6283 - val_recall: 0.4733 - val_auc: 0.5556\n",
      "Epoch 19/20\n",
      "478/478 [==============================] - 1s 3ms/step - loss: 0.6044 - accuracy: 0.6360 - precision: 0.7463 - recall: 0.5853 - auc: 0.6989 - val_loss: 0.7061 - val_accuracy: 0.5157 - val_precision: 0.6219 - val_recall: 0.4390 - val_auc: 0.5473\n",
      "Epoch 20/20\n",
      "478/478 [==============================] - 1s 3ms/step - loss: 0.5971 - accuracy: 0.6503 - precision: 0.7541 - recall: 0.6091 - auc: 0.7077 - val_loss: 0.7046 - val_accuracy: 0.5141 - val_precision: 0.6347 - val_recall: 0.3990 - val_auc: 0.5578\n"
     ]
    },
    {
     "name": "stderr",
     "output_type": "stream",
     "text": [
      "INFO:root:Model '0c03eef430f4878e2d1dcca4e08bbffe': Finished training.\n",
      "INFO:root:Training model '0c03eef430f4878e2d1dcca4e08bbffe' for 20 epochs with batch size 32.\n"
     ]
    },
    {
     "name": "stdout",
     "output_type": "stream",
     "text": [
      "Model saved successfully at: models/0c03eef430f4878e2d1dcca4e08bbffe/model_weights_0c03eef430f4878e2d1dcca4e08bbffe.pth\n",
      "Epoch 1/20\n",
      "478/478 [==============================] - 2s 3ms/step - loss: 0.6768 - accuracy: 0.4753 - precision: 0.6196 - recall: 0.2832 - auc: 0.5389 - val_loss: 0.6701 - val_accuracy: 0.5388 - val_precision: 0.6491 - val_recall: 0.4839 - val_auc: 0.5746\n",
      "Epoch 2/20\n",
      "478/478 [==============================] - 1s 3ms/step - loss: 0.6696 - accuracy: 0.5071 - precision: 0.6513 - recall: 0.3515 - auc: 0.5712 - val_loss: 0.6706 - val_accuracy: 0.4430 - val_precision: 0.7025 - val_recall: 0.1053 - val_auc: 0.5745\n",
      "Epoch 3/20\n",
      "478/478 [==============================] - 1s 3ms/step - loss: 0.6662 - accuracy: 0.5246 - precision: 0.6681 - recall: 0.3835 - auc: 0.5861 - val_loss: 0.6666 - val_accuracy: 0.5519 - val_precision: 0.6569 - val_recall: 0.5115 - val_auc: 0.5814\n",
      "Epoch 4/20\n",
      "478/478 [==============================] - 1s 3ms/step - loss: 0.6640 - accuracy: 0.5350 - precision: 0.6722 - recall: 0.4111 - auc: 0.5936 - val_loss: 0.6697 - val_accuracy: 0.4608 - val_precision: 0.7025 - val_recall: 0.1574 - val_auc: 0.5759\n",
      "Epoch 5/20\n",
      "478/478 [==============================] - 1s 3ms/step - loss: 0.6628 - accuracy: 0.5362 - precision: 0.6775 - recall: 0.4061 - auc: 0.5981 - val_loss: 0.6697 - val_accuracy: 0.5585 - val_precision: 0.6486 - val_recall: 0.5574 - val_auc: 0.5787\n",
      "Epoch 6/20\n",
      "478/478 [==============================] - 2s 4ms/step - loss: 0.6605 - accuracy: 0.5423 - precision: 0.6779 - recall: 0.4251 - auc: 0.6045 - val_loss: 0.6709 - val_accuracy: 0.5071 - val_precision: 0.6767 - val_recall: 0.3234 - val_auc: 0.5745\n",
      "Epoch 7/20\n",
      "478/478 [==============================] - 2s 4ms/step - loss: 0.6587 - accuracy: 0.5502 - precision: 0.6886 - recall: 0.4317 - auc: 0.6105 - val_loss: 0.6681 - val_accuracy: 0.5494 - val_precision: 0.6532 - val_recall: 0.5121 - val_auc: 0.5776\n",
      "Epoch 8/20\n",
      "478/478 [==============================] - 1s 3ms/step - loss: 0.6589 - accuracy: 0.5504 - precision: 0.6875 - recall: 0.4342 - auc: 0.6076 - val_loss: 0.6720 - val_accuracy: 0.4841 - val_precision: 0.6824 - val_recall: 0.2433 - val_auc: 0.5721\n",
      "Epoch 9/20\n",
      "478/478 [==============================] - 1s 3ms/step - loss: 0.6553 - accuracy: 0.5559 - precision: 0.6892 - recall: 0.4483 - auc: 0.6176 - val_loss: 0.6735 - val_accuracy: 0.5701 - val_precision: 0.6315 - val_recall: 0.6605 - val_auc: 0.5754\n",
      "Epoch 10/20\n",
      "478/478 [==============================] - 1s 3ms/step - loss: 0.6522 - accuracy: 0.5707 - precision: 0.6971 - recall: 0.4798 - auc: 0.6262 - val_loss: 0.6704 - val_accuracy: 0.5467 - val_precision: 0.6375 - val_recall: 0.5459 - val_auc: 0.5718\n",
      "Epoch 11/20\n",
      "478/478 [==============================] - 1s 3ms/step - loss: 0.6486 - accuracy: 0.5718 - precision: 0.7025 - recall: 0.4736 - auc: 0.6337 - val_loss: 0.6789 - val_accuracy: 0.4825 - val_precision: 0.6818 - val_recall: 0.2389 - val_auc: 0.5629\n",
      "Epoch 12/20\n",
      "478/478 [==============================] - 1s 3ms/step - loss: 0.6438 - accuracy: 0.5810 - precision: 0.7107 - recall: 0.4871 - auc: 0.6439 - val_loss: 0.6831 - val_accuracy: 0.5026 - val_precision: 0.6712 - val_recall: 0.3159 - val_auc: 0.5663\n",
      "Epoch 13/20\n",
      "478/478 [==============================] - 2s 3ms/step - loss: 0.6395 - accuracy: 0.5900 - precision: 0.7116 - recall: 0.5111 - auc: 0.6501 - val_loss: 0.6793 - val_accuracy: 0.5104 - val_precision: 0.6405 - val_recall: 0.3976 - val_auc: 0.5591\n",
      "Epoch 14/20\n",
      "478/478 [==============================] - 1s 3ms/step - loss: 0.6353 - accuracy: 0.5942 - precision: 0.7210 - recall: 0.5076 - auc: 0.6582 - val_loss: 0.6862 - val_accuracy: 0.4977 - val_precision: 0.6438 - val_recall: 0.3424 - val_auc: 0.5574\n",
      "Epoch 15/20\n",
      "478/478 [==============================] - 2s 3ms/step - loss: 0.6286 - accuracy: 0.6006 - precision: 0.7264 - recall: 0.5165 - auc: 0.6677 - val_loss: 0.6958 - val_accuracy: 0.5115 - val_precision: 0.6345 - val_recall: 0.4155 - val_auc: 0.5482\n",
      "Epoch 16/20\n",
      "478/478 [==============================] - 1s 3ms/step - loss: 0.6210 - accuracy: 0.6128 - precision: 0.7330 - recall: 0.5392 - auc: 0.6788 - val_loss: 0.6887 - val_accuracy: 0.5361 - val_precision: 0.6350 - val_recall: 0.5119 - val_auc: 0.5576\n",
      "Epoch 17/20\n",
      "478/478 [==============================] - 1s 3ms/step - loss: 0.6129 - accuracy: 0.6265 - precision: 0.7432 - recall: 0.5593 - auc: 0.6908 - val_loss: 0.7034 - val_accuracy: 0.5225 - val_precision: 0.6369 - val_recall: 0.4530 - val_auc: 0.5520\n",
      "Epoch 18/20\n",
      "478/478 [==============================] - 1s 3ms/step - loss: 0.6045 - accuracy: 0.6385 - precision: 0.7497 - recall: 0.5798 - auc: 0.6999 - val_loss: 0.7263 - val_accuracy: 0.5139 - val_precision: 0.6376 - val_recall: 0.4179 - val_auc: 0.5424\n",
      "Epoch 19/20\n",
      "478/478 [==============================] - 1s 3ms/step - loss: 0.5933 - accuracy: 0.6522 - precision: 0.7617 - recall: 0.5962 - auc: 0.7137 - val_loss: 0.7254 - val_accuracy: 0.5138 - val_precision: 0.6330 - val_recall: 0.4287 - val_auc: 0.5481\n",
      "Epoch 20/20\n",
      "478/478 [==============================] - 2s 4ms/step - loss: 0.5850 - accuracy: 0.6604 - precision: 0.7673 - recall: 0.6078 - auc: 0.7230 - val_loss: 0.7324 - val_accuracy: 0.5056 - val_precision: 0.6356 - val_recall: 0.3896 - val_auc: 0.5437\n"
     ]
    },
    {
     "name": "stderr",
     "output_type": "stream",
     "text": [
      "INFO:root:Model '0c03eef430f4878e2d1dcca4e08bbffe': Finished training.\n",
      "INFO:root:Training model '0c03eef430f4878e2d1dcca4e08bbffe' for 20 epochs with batch size 32.\n"
     ]
    },
    {
     "name": "stdout",
     "output_type": "stream",
     "text": [
      "Model saved successfully at: models/0c03eef430f4878e2d1dcca4e08bbffe/model_weights_0c03eef430f4878e2d1dcca4e08bbffe.pth\n",
      "Epoch 1/20\n",
      "478/478 [==============================] - 2s 3ms/step - loss: 0.6769 - accuracy: 0.4803 - precision: 0.6312 - recall: 0.2831 - auc: 0.5365 - val_loss: 0.6693 - val_accuracy: 0.4976 - val_precision: 0.6659 - val_recall: 0.3074 - val_auc: 0.5722\n",
      "Epoch 2/20\n",
      "478/478 [==============================] - 1s 3ms/step - loss: 0.6685 - accuracy: 0.5152 - precision: 0.6599 - recall: 0.3650 - auc: 0.5750 - val_loss: 0.6679 - val_accuracy: 0.5311 - val_precision: 0.6551 - val_recall: 0.4426 - val_auc: 0.5741\n",
      "Epoch 3/20\n",
      "478/478 [==============================] - 2s 3ms/step - loss: 0.6658 - accuracy: 0.5314 - precision: 0.6690 - recall: 0.4045 - auc: 0.5867 - val_loss: 0.6682 - val_accuracy: 0.5493 - val_precision: 0.6509 - val_recall: 0.5183 - val_auc: 0.5762\n",
      "Epoch 4/20\n",
      "478/478 [==============================] - 1s 3ms/step - loss: 0.6643 - accuracy: 0.5320 - precision: 0.6700 - recall: 0.4046 - auc: 0.5911 - val_loss: 0.6712 - val_accuracy: 0.5719 - val_precision: 0.6394 - val_recall: 0.6388 - val_auc: 0.5796\n",
      "Epoch 5/20\n",
      "478/478 [==============================] - 2s 4ms/step - loss: 0.6620 - accuracy: 0.5381 - precision: 0.6724 - recall: 0.4206 - auc: 0.5993 - val_loss: 0.6701 - val_accuracy: 0.4739 - val_precision: 0.6780 - val_recall: 0.2156 - val_auc: 0.5765\n",
      "Epoch 6/20\n",
      "478/478 [==============================] - 1s 3ms/step - loss: 0.6603 - accuracy: 0.5437 - precision: 0.6799 - recall: 0.4257 - auc: 0.6033 - val_loss: 0.6697 - val_accuracy: 0.5268 - val_precision: 0.6601 - val_recall: 0.4170 - val_auc: 0.5751\n",
      "Epoch 7/20\n",
      "478/478 [==============================] - 1s 3ms/step - loss: 0.6595 - accuracy: 0.5438 - precision: 0.6830 - recall: 0.4207 - auc: 0.6060 - val_loss: 0.6698 - val_accuracy: 0.5113 - val_precision: 0.6715 - val_recall: 0.3451 - val_auc: 0.5765\n",
      "Epoch 8/20\n",
      "478/478 [==============================] - 1s 3ms/step - loss: 0.6570 - accuracy: 0.5496 - precision: 0.6855 - recall: 0.4349 - auc: 0.6122 - val_loss: 0.6709 - val_accuracy: 0.5189 - val_precision: 0.6632 - val_recall: 0.3842 - val_auc: 0.5750\n",
      "Epoch 9/20\n",
      "478/478 [==============================] - 29s 61ms/step - loss: 0.6554 - accuracy: 0.5549 - precision: 0.6913 - recall: 0.4415 - auc: 0.6169 - val_loss: 0.6710 - val_accuracy: 0.5518 - val_precision: 0.6466 - val_recall: 0.5393 - val_auc: 0.5761\n",
      "Epoch 10/20\n",
      "478/478 [==============================] - 1s 3ms/step - loss: 0.6535 - accuracy: 0.5593 - precision: 0.6996 - recall: 0.4413 - auc: 0.6203 - val_loss: 0.6718 - val_accuracy: 0.5086 - val_precision: 0.6594 - val_recall: 0.3550 - val_auc: 0.5686\n",
      "Epoch 11/20\n",
      "478/478 [==============================] - 1s 3ms/step - loss: 0.6509 - accuracy: 0.5653 - precision: 0.7025 - recall: 0.4543 - auc: 0.6264 - val_loss: 0.6712 - val_accuracy: 0.5315 - val_precision: 0.6534 - val_recall: 0.4479 - val_auc: 0.5678\n",
      "Epoch 12/20\n",
      "478/478 [==============================] - 2s 4ms/step - loss: 0.6465 - accuracy: 0.5741 - precision: 0.7100 - recall: 0.4681 - auc: 0.6368 - val_loss: 0.6753 - val_accuracy: 0.5073 - val_precision: 0.6467 - val_recall: 0.3736 - val_auc: 0.5657\n",
      "Epoch 13/20\n",
      "478/478 [==============================] - 2s 3ms/step - loss: 0.6421 - accuracy: 0.5771 - precision: 0.7148 - recall: 0.4693 - auc: 0.6434 - val_loss: 0.6872 - val_accuracy: 0.5565 - val_precision: 0.6346 - val_recall: 0.5951 - val_auc: 0.5603\n",
      "Epoch 14/20\n",
      "478/478 [==============================] - 1s 3ms/step - loss: 0.6371 - accuracy: 0.5896 - precision: 0.7175 - recall: 0.5003 - auc: 0.6512 - val_loss: 0.6885 - val_accuracy: 0.5020 - val_precision: 0.6465 - val_recall: 0.3544 - val_auc: 0.5556\n",
      "Epoch 15/20\n",
      "478/478 [==============================] - 1s 3ms/step - loss: 0.6309 - accuracy: 0.6013 - precision: 0.7360 - recall: 0.5039 - auc: 0.6643 - val_loss: 0.7155 - val_accuracy: 0.5599 - val_precision: 0.6293 - val_recall: 0.6284 - val_auc: 0.5549\n",
      "Epoch 16/20\n",
      "478/478 [==============================] - 1s 3ms/step - loss: 0.6232 - accuracy: 0.6112 - precision: 0.7348 - recall: 0.5317 - auc: 0.6761 - val_loss: 0.6932 - val_accuracy: 0.5188 - val_precision: 0.6453 - val_recall: 0.4195 - val_auc: 0.5526\n",
      "Epoch 17/20\n",
      "478/478 [==============================] - 1s 3ms/step - loss: 0.6161 - accuracy: 0.6188 - precision: 0.7426 - recall: 0.5399 - auc: 0.6846 - val_loss: 0.7045 - val_accuracy: 0.4998 - val_precision: 0.6409 - val_recall: 0.3568 - val_auc: 0.5497\n",
      "Epoch 18/20\n",
      "478/478 [==============================] - 2s 3ms/step - loss: 0.6061 - accuracy: 0.6357 - precision: 0.7579 - recall: 0.5605 - auc: 0.7012 - val_loss: 0.7102 - val_accuracy: 0.5065 - val_precision: 0.6373 - val_recall: 0.3901 - val_auc: 0.5447\n",
      "Epoch 19/20\n",
      "478/478 [==============================] - 1s 3ms/step - loss: 0.5962 - accuracy: 0.6437 - precision: 0.7624 - recall: 0.5738 - auc: 0.7099 - val_loss: 0.7201 - val_accuracy: 0.5370 - val_precision: 0.6123 - val_recall: 0.5986 - val_auc: 0.5326\n",
      "Epoch 20/20\n",
      "478/478 [==============================] - 1s 3ms/step - loss: 0.5876 - accuracy: 0.6533 - precision: 0.7699 - recall: 0.5867 - auc: 0.7181 - val_loss: 0.7557 - val_accuracy: 0.5380 - val_precision: 0.6261 - val_recall: 0.5494 - val_auc: 0.5449\n"
     ]
    },
    {
     "name": "stderr",
     "output_type": "stream",
     "text": [
      "INFO:root:Model '0c03eef430f4878e2d1dcca4e08bbffe': Finished training.\n"
     ]
    },
    {
     "name": "stdout",
     "output_type": "stream",
     "text": [
      "Model saved successfully at: models/0c03eef430f4878e2d1dcca4e08bbffe/model_weights_0c03eef430f4878e2d1dcca4e08bbffe.pth\n"
     ]
    }
   ],
   "source": [
    "avg_metrics = cross_val_train(model_manager=model_manager, yamls=yamls, train_dataset=train_dataset, n_splits=3)"
   ]
  },
  {
   "cell_type": "markdown",
   "id": "1a36082f",
   "metadata": {},
   "source": [
    "Get Averaged Metrics for KFold"
   ]
  },
  {
   "cell_type": "code",
   "execution_count": 11,
   "id": "2b67caa5",
   "metadata": {},
   "outputs": [
    {
     "data": {
      "text/plain": [
       "{'loss': 0.5785547693570455,\n",
       " 'accuracy': 0.6602016886075338,\n",
       " 'precision': 0.7738299171129862,\n",
       " 'recall': 0.5997647047042847,\n",
       " 'auc': 0.7269717454910278,\n",
       " 'val_loss': 0.7379618485768636,\n",
       " 'val_accuracy': 0.5158827900886536,\n",
       " 'val_precision': 0.6355118354161581,\n",
       " 'val_recall': 0.42402753233909607,\n",
       " 'val_auc': 0.5447559356689453}"
      ]
     },
     "execution_count": 11,
     "metadata": {},
     "output_type": "execute_result"
    }
   ],
   "source": [
    "avg_metrics"
   ]
  },
  {
   "cell_type": "code",
   "execution_count": 12,
   "id": "2d09be7b",
   "metadata": {},
   "outputs": [
    {
     "name": "stdout",
     "output_type": "stream",
     "text": [
      "0.5086635259522512\n"
     ]
    }
   ],
   "source": [
    "f1 = compute_f1(avg_metrics[\"val_precision\"], avg_metrics[\"val_recall\"])\n",
    "print(f1)"
   ]
  },
  {
   "cell_type": "markdown",
   "id": "4b0c318c",
   "metadata": {},
   "source": [
    "Launch Tensorboard"
   ]
  },
  {
   "cell_type": "code",
   "execution_count": null,
   "id": "0f043d26",
   "metadata": {},
   "outputs": [],
   "source": [
    "%tensorboard --logdir=./logs"
   ]
  }
 ],
 "metadata": {
  "kernelspec": {
   "display_name": "Python 3.8.5 ('sports-betting': venv)",
   "language": "python",
   "name": "python3"
  },
  "language_info": {
   "codemirror_mode": {
    "name": "ipython",
    "version": 3
   },
   "file_extension": ".py",
   "mimetype": "text/x-python",
   "name": "python",
   "nbconvert_exporter": "python",
   "pygments_lexer": "ipython3",
   "version": "3.8.5"
  },
  "vscode": {
   "interpreter": {
    "hash": "42d1e72f09edad5b8341e1a78b673e0aa6929e61770b700654f70887e86e86ac"
   }
  }
 },
 "nbformat": 4,
 "nbformat_minor": 5
}
