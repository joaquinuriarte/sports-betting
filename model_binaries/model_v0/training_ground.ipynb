{
 "cells": [
  {
   "cell_type": "code",
   "execution_count": 10,
   "metadata": {},
   "outputs": [],
   "source": [
    "######## Create, Train, and Predict Models\n",
    "\n",
    "# Loads train, test, and val datasets\n",
    "# Instantiates Models\n",
    "# Trains Models\n",
    "# Predicts using Models"
   ]
  },
  {
   "cell_type": "markdown",
   "id": "6b68658b",
   "metadata": {},
   "source": [
    "Import All Required Modules"
   ]
  },
  {
   "cell_type": "code",
   "execution_count": 30,
   "id": "251a0e8a-b944-4323-8731-207322906548",
   "metadata": {
    "collapsed": true,
    "jupyter": {
     "outputs_hidden": true
    }
   },
   "outputs": [],
   "source": [
    "import sys\n",
    "\n",
    "# Manually add the project root to sys.path\n",
    "sys.path.append('/Users/joaquinuriarte/Documents/GitHub/sports-betting/')\n",
    "\n",
    "# === STEP 0: Imports\n",
    "from modules.model_manager.trainer.trainer import Trainer\n",
    "from modules.model_manager.predictor.predictor import Predictor\n",
    "from modules.model_manager.factories.model_factory import ModelFactory\n",
    "from modules.model_manager.helpers.configuration_loader import ConfigurationLoader as MMConfigLoader\n",
    "from modules.model_manager.model_manager import ModelManager\n",
    "from sklearn.model_selection import KFold\n",
    "from modules.data_structures.model_dataset import ModelDataset\n",
    "from model_binaries.utils.binary_utils import save_entity, load_entity"
   ]
  },
  {
   "cell_type": "code",
   "execution_count": 19,
   "id": "eef0ca8d-4980-4561-8348-6ba966b8a785",
   "metadata": {},
   "outputs": [],
   "source": [
    "# === STEP 1: Dependency Instantiations And Global Variable Declarations\n",
    "\n",
    "## === MODEL MANAGER\n",
    "yaml_path0 = '/Users/joaquinuriarte/Documents/GitHub/sports-betting/configs/model_v0/model_v0_000.yaml'\n",
    "yaml_paths = [yaml_path0]\n",
    "\n",
    "\n",
    "checkpoint = '/Users/joaquinuriarte/Documents/GitHub/sports-betting/models'\n",
    "trainer = Trainer(checkpoint)\n",
    "predictor = Predictor()\n",
    "model_factory = ModelFactory()\n",
    "mm_configuration_loader = MMConfigLoader()"
   ]
  },
  {
   "cell_type": "markdown",
   "id": "4a1c2254",
   "metadata": {},
   "source": [
    "Load Train into Memory"
   ]
  },
  {
   "cell_type": "code",
   "execution_count": 16,
   "id": "fce64e6e",
   "metadata": {},
   "outputs": [],
   "source": [
    "# File path to load train, test, and val datasets\n",
    "train_test_val_folder_path = \"/Users/joaquinuriarte/Documents/GitHub/sports-betting/processed_datasets/model_v0/scaler\""
   ]
  },
  {
   "cell_type": "code",
   "execution_count": 17,
   "id": "77a23c84",
   "metadata": {},
   "outputs": [],
   "source": [
    "train_dataset = load_entity(train_test_val_folder_path, \"scaled_train.pkl\")"
   ]
  },
  {
   "cell_type": "markdown",
   "id": "feff0899",
   "metadata": {},
   "source": [
    "Create and Train Models Using KFold Cross Validation"
   ]
  },
  {
   "cell_type": "code",
   "execution_count": 21,
   "id": "ad93a13b",
   "metadata": {},
   "outputs": [],
   "source": [
    "# === STEP 4: MODEL MANAGER\n",
    "yamls = [yaml_path0]\n",
    "model_manager = ModelManager(trainer, predictor, model_factory, mm_configuration_loader)"
   ]
  },
  {
   "cell_type": "code",
   "execution_count": null,
   "id": "da8e6904",
   "metadata": {},
   "outputs": [],
   "source": [
    "n_splits = 2\n",
    "kf = KFold(n_splits=n_splits, shuffle=True, random_state=42)\n",
    "\n",
    "fold_results = []\n",
    "\n",
    "# Split over the indices of train_dataset.examples\n",
    "num_examples = len(train_dataset.examples)\n",
    "indices = range(num_examples)\n",
    "\n",
    "for train_index, val_index in kf.split(indices):\n",
    "    # Create list of examples for each fold\n",
    "    train_examples = [train_dataset.examples[i] for i in train_index]\n",
    "    val_examples   = [train_dataset.examples[i] for i in val_index]\n",
    "    \n",
    "    # Wrap them again as ModelDataset objects\n",
    "    train_fold = ModelDataset(train_examples)\n",
    "    val_fold   = ModelDataset(val_examples)\n",
    "    \n",
    "    # Create model\n",
    "    models = model_manager.create_models(yamls)\n",
    "\n",
    "    # Train on this fold’s train/val\n",
    "    metrics = model_manager.train(\n",
    "        models, \n",
    "        [(train_fold, val_fold)], \n",
    "        save_after_training=True\n",
    "    )\n",
    "\n",
    "    fold_results.append(metrics)\n",
    "\n",
    "# Aggregate fold_results (average, standard deviation, etc.)"
   ]
  },
  {
   "cell_type": "code",
   "execution_count": 32,
   "id": "3437639c-6666-4c76-a827-706148a9fa7f",
   "metadata": {},
   "outputs": [],
   "source": [
    "### Tenemos que set metrics infra y considerar meterlo en tensor board and return it pa poder hacer esto bien. \n",
    "### si, return for cross val purposes and consider adding tags to tensorboard logs pa que puedas verlos ahi si quieres\n",
    "    ### creo que new param para train model bool flag que diga si es cross val pa que anada en path i for i cross val trainings \n",
    "\n",
    "### remember que desp de kfold pa tune hyper params entrenas chosen model en entire train dataset and then predict on test pa get real accuracies. Maybe esto ya entonces es otro file"
   ]
  },
  {
   "cell_type": "code",
   "execution_count": null,
   "id": "49b04d55",
   "metadata": {},
   "outputs": [],
   "source": [
    "from sklearn.model_selection import KFold\n",
    "import numpy as np\n",
    "\n",
    "def cross_val_train(model_manager, yaml, train_dataset, n_splits):\n",
    "    n_splits = n_splits\n",
    "    kf = KFold(n_splits=n_splits, shuffle=True)\n",
    "    \n",
    "    fold_results = []\n",
    "\n",
    "    # Split over the indices of train_dataset.examples\n",
    "    num_examples = len(train_dataset.examples)\n",
    "    indices = range(num_examples)\n",
    "    \n",
    "    for train_index, val_index in kf.split(indices):\n",
    "        # Create list of examples for each fold\n",
    "        train_examples = [train_dataset.examples[i] for i in train_index]\n",
    "        val_examples   = [train_dataset.examples[i] for i in val_index]\n",
    "            \n",
    "        # Wrap them again as ModelDataset objects\n",
    "        train_fold = ModelDataset(train_examples)\n",
    "        val_fold   = ModelDataset(val_examples)\n",
    "        \n",
    "        # Create model\n",
    "        if len(yamls) > 1: \n",
    "            raise ValueError(\n",
    "                    f\"Cross_val_train only supports one model at a time. Yamls length should be 1 but got {len(yamls)}\"\n",
    "                )\n",
    "        model = model_manager.create_models(yamls)\n",
    "\n",
    "        # override log_dir for each fold\n",
    "        fold_log_dir = f\"logs/fit/{model_config.model_signature}/fold_{fold_idx}\"\n",
    "        \n",
    "        # train\n",
    "        model.train(\n",
    "            training_examples=train_data,\n",
    "            epochs=model_config.training[\"epochs\"],\n",
    "            batch_size=model_config.training[\"batch_size\"],\n",
    "            validation_examples=val_data,\n",
    "            # pass fold_log_dir or something if needed\n",
    "        )\n",
    "        \n",
    "        # get final val metrics for this fold\n",
    "        history = model.training_history.history\n",
    "        final_acc = history[\"val_accuracy\"][-1]  # or whichever metrics exist\n",
    "        fold_results.append(final_acc)\n",
    "    \n",
    "    avg_val_acc = np.mean(fold_results)\n",
    "    print(\"Cross-Val Accuracy:\", avg_val_acc)\n",
    "    \n",
    "    return avg_val_acc"
   ]
  },
  {
   "cell_type": "markdown",
   "id": "1a36082f",
   "metadata": {},
   "source": [
    "Get Averaged Metrics for KFold"
   ]
  },
  {
   "cell_type": "code",
   "execution_count": 27,
   "id": "e247faa6",
   "metadata": {},
   "outputs": [],
   "source": [
    "# Average Kfold Metrics"
   ]
  },
  {
   "cell_type": "markdown",
   "id": "4b0c318c",
   "metadata": {},
   "source": [
    "Launch Tensorboard"
   ]
  },
  {
   "cell_type": "code",
   "execution_count": 10,
   "id": "0f043d26",
   "metadata": {},
   "outputs": [
    {
     "name": "stderr",
     "output_type": "stream",
     "text": [
      "UsageError: Line magic function `%tensorboard` not found.\n"
     ]
    }
   ],
   "source": [
    "%tensorboard --logdir logs/fit/a141223cdff8e65162f8bbc75c6c3d96"
   ]
  }
 ],
 "metadata": {
  "kernelspec": {
   "display_name": "Python 3.8.5 ('sports-betting': venv)",
   "language": "python",
   "name": "python3"
  },
  "language_info": {
   "codemirror_mode": {
    "name": "ipython",
    "version": 3
   },
   "file_extension": ".py",
   "mimetype": "text/x-python",
   "name": "python",
   "nbconvert_exporter": "python",
   "pygments_lexer": "ipython3",
   "version": "3.8.5"
  },
  "vscode": {
   "interpreter": {
    "hash": "42d1e72f09edad5b8341e1a78b673e0aa6929e61770b700654f70887e86e86ac"
   }
  }
 },
 "nbformat": 4,
 "nbformat_minor": 5
}
