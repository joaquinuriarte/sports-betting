{
 "cells": [
  {
   "cell_type": "code",
   "execution_count": 10,
   "metadata": {},
   "outputs": [],
   "source": [
    "######## Create, Train, and Predict Models\n",
    "\n",
    "# Loads train, test, and val datasets\n",
    "# Instantiates Models\n",
    "# Trains Models\n",
    "# Predicts using Models"
   ]
  },
  {
   "cell_type": "markdown",
   "id": "6b68658b",
   "metadata": {},
   "source": [
    "Import All Required Modules"
   ]
  },
  {
   "cell_type": "code",
   "execution_count": 1,
   "id": "251a0e8a-b944-4323-8731-207322906548",
   "metadata": {
    "collapsed": true,
    "jupyter": {
     "outputs_hidden": true
    }
   },
   "outputs": [
    {
     "name": "stderr",
     "output_type": "stream",
     "text": [
      "2025-01-29 09:16:24.851178: I tensorflow/core/platform/cpu_feature_guard.cc:182] This TensorFlow binary is optimized to use available CPU instructions in performance-critical operations.\n",
      "To enable the following instructions: AVX2 FMA, in other operations, rebuild TensorFlow with the appropriate compiler flags.\n"
     ]
    }
   ],
   "source": [
    "import sys\n",
    "\n",
    "# Manually add the project root to sys.path\n",
    "sys.path.append('/Users/joaquinuriarte/Documents/GitHub/sports-betting/')\n",
    "\n",
    "# === STEP 0: Imports\n",
    "from modules.model_manager.trainer.trainer import Trainer\n",
    "from modules.model_manager.predictor.predictor import Predictor\n",
    "from modules.model_manager.factories.model_factory import ModelFactory\n",
    "from modules.model_manager.helpers.configuration_loader import ConfigurationLoader as MMConfigLoader\n",
    "from modules.model_manager.model_manager import ModelManager\n",
    "from sklearn.model_selection import KFold\n",
    "from modules.data_structures.model_dataset import ModelDataset\n",
    "from model_binaries.utils.binary_utils import save_entity, load_entity, cross_val_train"
   ]
  },
  {
   "cell_type": "code",
   "execution_count": 2,
   "id": "eef0ca8d-4980-4561-8348-6ba966b8a785",
   "metadata": {},
   "outputs": [],
   "source": [
    "# === STEP 1: Dependency Instantiations And Global Variable Declarations\n",
    "\n",
    "## === MODEL MANAGER\n",
    "yaml_path0 = '/Users/joaquinuriarte/Documents/GitHub/sports-betting/configs/model_v0/model_v0_000.yaml'\n",
    "yaml_paths = [yaml_path0]\n",
    "\n",
    "\n",
    "checkpoint = '/Users/joaquinuriarte/Documents/GitHub/sports-betting/models'\n",
    "trainer = Trainer(checkpoint)\n",
    "predictor = Predictor()\n",
    "model_factory = ModelFactory()\n",
    "mm_configuration_loader = MMConfigLoader()"
   ]
  },
  {
   "cell_type": "markdown",
   "id": "4a1c2254",
   "metadata": {},
   "source": [
    "Load Train into Memory"
   ]
  },
  {
   "cell_type": "code",
   "execution_count": 3,
   "id": "fce64e6e",
   "metadata": {},
   "outputs": [],
   "source": [
    "# File path to load train, test, and val datasets\n",
    "train_test_val_folder_path = \"/Users/joaquinuriarte/Documents/GitHub/sports-betting/processed_datasets/model_v0/scaler\""
   ]
  },
  {
   "cell_type": "code",
   "execution_count": 4,
   "id": "77a23c84",
   "metadata": {},
   "outputs": [],
   "source": [
    "train_dataset = load_entity(train_test_val_folder_path, \"scaled_train.pkl\")"
   ]
  },
  {
   "cell_type": "markdown",
   "id": "feff0899",
   "metadata": {},
   "source": [
    "Create and Train Models Using KFold Cross Validation"
   ]
  },
  {
   "cell_type": "code",
   "execution_count": 5,
   "id": "ad93a13b",
   "metadata": {},
   "outputs": [],
   "source": [
    "# === STEP 4: MODEL MANAGER\n",
    "yamls = [yaml_path0]\n",
    "model_manager = ModelManager(trainer, predictor, model_factory, mm_configuration_loader)"
   ]
  },
  {
   "cell_type": "code",
   "execution_count": 6,
   "id": "da8e6904",
   "metadata": {},
   "outputs": [
    {
     "name": "stderr",
     "output_type": "stream",
     "text": [
      "INFO:root:Training model '0c03eef430f4878e2d1dcca4e08bbffe' for 20 epochs with batch size 32.\n"
     ]
    },
    {
     "name": "stdout",
     "output_type": "stream",
     "text": [
      "Epoch 1/20\n",
      "478/478 [==============================] - 4s 5ms/step - loss: 0.6768 - accuracy: 0.4662 - precision: 0.6168 - recall: 0.2643 - auc: 0.5235 - val_loss: 0.6757 - val_accuracy: 0.5531 - val_precision: 0.6337 - val_recall: 0.5594 - val_auc: 0.5681\n",
      "Epoch 2/20\n",
      "478/478 [==============================] - 2s 4ms/step - loss: 0.6698 - accuracy: 0.5027 - precision: 0.6485 - recall: 0.3527 - auc: 0.5636 - val_loss: 0.6973 - val_accuracy: 0.5912 - val_precision: 0.5914 - val_recall: 0.9745 - val_auc: 0.5801\n",
      "Epoch 3/20\n",
      "478/478 [==============================] - 2s 4ms/step - loss: 0.6677 - accuracy: 0.5160 - precision: 0.6573 - recall: 0.3846 - auc: 0.5726 - val_loss: 0.6661 - val_accuracy: 0.5268 - val_precision: 0.6733 - val_recall: 0.3712 - val_auc: 0.5921\n",
      "Epoch 4/20\n",
      "478/478 [==============================] - 3s 6ms/step - loss: 0.6645 - accuracy: 0.5331 - precision: 0.6660 - recall: 0.4268 - auc: 0.5865 - val_loss: 0.6688 - val_accuracy: 0.4698 - val_precision: 0.7354 - val_recall: 0.1461 - val_auc: 0.5944\n",
      "Epoch 5/20\n",
      "478/478 [==============================] - 2s 4ms/step - loss: 0.6638 - accuracy: 0.5322 - precision: 0.6697 - recall: 0.4170 - auc: 0.5875 - val_loss: 0.6654 - val_accuracy: 0.5466 - val_precision: 0.6661 - val_recall: 0.4509 - val_auc: 0.5953\n",
      "Epoch 6/20\n",
      "478/478 [==============================] - 2s 4ms/step - loss: 0.6620 - accuracy: 0.5411 - precision: 0.6722 - recall: 0.4417 - auc: 0.5944 - val_loss: 0.6734 - val_accuracy: 0.5826 - val_precision: 0.6271 - val_recall: 0.7066 - val_auc: 0.5912\n",
      "Epoch 7/20\n",
      "478/478 [==============================] - 2s 3ms/step - loss: 0.6616 - accuracy: 0.5450 - precision: 0.6767 - recall: 0.4459 - auc: 0.5947 - val_loss: 0.6733 - val_accuracy: 0.5730 - val_precision: 0.6254 - val_recall: 0.6735 - val_auc: 0.5889\n",
      "Epoch 8/20\n",
      "478/478 [==============================] - 2s 3ms/step - loss: 0.6576 - accuracy: 0.5488 - precision: 0.6844 - recall: 0.4441 - auc: 0.6089 - val_loss: 0.7027 - val_accuracy: 0.5952 - val_precision: 0.5996 - val_recall: 0.9266 - val_auc: 0.5722\n",
      "Epoch 9/20\n",
      "478/478 [==============================] - 2s 4ms/step - loss: 0.6559 - accuracy: 0.5574 - precision: 0.6836 - recall: 0.4724 - auc: 0.6113 - val_loss: 0.6717 - val_accuracy: 0.5736 - val_precision: 0.6362 - val_recall: 0.6328 - val_auc: 0.5883\n",
      "Epoch 10/20\n",
      "478/478 [==============================] - 2s 4ms/step - loss: 0.6542 - accuracy: 0.5592 - precision: 0.6859 - recall: 0.4738 - auc: 0.6168 - val_loss: 0.6691 - val_accuracy: 0.5369 - val_precision: 0.6562 - val_recall: 0.4377 - val_auc: 0.5838\n",
      "Epoch 11/20\n",
      "478/478 [==============================] - 2s 4ms/step - loss: 0.6500 - accuracy: 0.5656 - precision: 0.6912 - recall: 0.4837 - auc: 0.6234 - val_loss: 0.6787 - val_accuracy: 0.5717 - val_precision: 0.6263 - val_recall: 0.6639 - val_auc: 0.5739\n",
      "Epoch 12/20\n",
      "478/478 [==============================] - 2s 3ms/step - loss: 0.6463 - accuracy: 0.5710 - precision: 0.6954 - recall: 0.4925 - auc: 0.6327 - val_loss: 0.6828 - val_accuracy: 0.5471 - val_precision: 0.6413 - val_recall: 0.5124 - val_auc: 0.5769\n",
      "Epoch 13/20\n",
      "478/478 [==============================] - 2s 3ms/step - loss: 0.6408 - accuracy: 0.5865 - precision: 0.7095 - recall: 0.5129 - auc: 0.6449 - val_loss: 0.6745 - val_accuracy: 0.5304 - val_precision: 0.6412 - val_recall: 0.4475 - val_auc: 0.5718\n",
      "Epoch 14/20\n",
      "478/478 [==============================] - 2s 4ms/step - loss: 0.6347 - accuracy: 0.5966 - precision: 0.7159 - recall: 0.5303 - auc: 0.6545 - val_loss: 0.6850 - val_accuracy: 0.5228 - val_precision: 0.6345 - val_recall: 0.4343 - val_auc: 0.5602\n",
      "Epoch 15/20\n",
      "478/478 [==============================] - 2s 4ms/step - loss: 0.6287 - accuracy: 0.6030 - precision: 0.7228 - recall: 0.5365 - auc: 0.6655 - val_loss: 0.6867 - val_accuracy: 0.5124 - val_precision: 0.6507 - val_recall: 0.3594 - val_auc: 0.5618\n",
      "Epoch 16/20\n",
      "478/478 [==============================] - 2s 4ms/step - loss: 0.6233 - accuracy: 0.6139 - precision: 0.7262 - recall: 0.5604 - auc: 0.6748 - val_loss: 0.6969 - val_accuracy: 0.4988 - val_precision: 0.6626 - val_recall: 0.2918 - val_auc: 0.5619\n",
      "Epoch 17/20\n",
      "478/478 [==============================] - 2s 4ms/step - loss: 0.6153 - accuracy: 0.6253 - precision: 0.7401 - recall: 0.5676 - auc: 0.6841 - val_loss: 0.7106 - val_accuracy: 0.5154 - val_precision: 0.6219 - val_recall: 0.4379 - val_auc: 0.5484\n",
      "Epoch 18/20\n",
      "478/478 [==============================] - 2s 3ms/step - loss: 0.6075 - accuracy: 0.6315 - precision: 0.7394 - recall: 0.5849 - auc: 0.6935 - val_loss: 0.7220 - val_accuracy: 0.5213 - val_precision: 0.6100 - val_recall: 0.5037 - val_auc: 0.5378\n",
      "Epoch 19/20\n",
      "478/478 [==============================] - 2s 4ms/step - loss: 0.5990 - accuracy: 0.6443 - precision: 0.7540 - recall: 0.5940 - auc: 0.7066 - val_loss: 0.7063 - val_accuracy: 0.5289 - val_precision: 0.6214 - val_recall: 0.4981 - val_auc: 0.5514\n",
      "Epoch 20/20\n",
      "478/478 [==============================] - 2s 3ms/step - loss: 0.5899 - accuracy: 0.6556 - precision: 0.7590 - recall: 0.6147 - auc: 0.7171 - val_loss: 0.7200 - val_accuracy: 0.5136 - val_precision: 0.6263 - val_recall: 0.4178 - val_auc: 0.5473\n"
     ]
    },
    {
     "name": "stderr",
     "output_type": "stream",
     "text": [
      "INFO:root:Model '0c03eef430f4878e2d1dcca4e08bbffe': Finished training.\n",
      "INFO:root:Training model '0c03eef430f4878e2d1dcca4e08bbffe' for 20 epochs with batch size 32.\n"
     ]
    },
    {
     "name": "stdout",
     "output_type": "stream",
     "text": [
      "Model saved successfully at: models/0c03eef430f4878e2d1dcca4e08bbffe/model_weights_0c03eef430f4878e2d1dcca4e08bbffe.pth\n",
      "Epoch 1/20\n",
      "478/478 [==============================] - 4s 5ms/step - loss: 0.6762 - accuracy: 0.4921 - precision: 0.6379 - recall: 0.3190 - auc: 0.5409 - val_loss: 0.6690 - val_accuracy: 0.4655 - val_precision: 0.6667 - val_recall: 0.1974 - val_auc: 0.5722\n",
      "Epoch 2/20\n",
      "478/478 [==============================] - 2s 5ms/step - loss: 0.6693 - accuracy: 0.5119 - precision: 0.6583 - recall: 0.3564 - auc: 0.5718 - val_loss: 0.6680 - val_accuracy: 0.4863 - val_precision: 0.6617 - val_recall: 0.2737 - val_auc: 0.5729\n",
      "Epoch 3/20\n",
      "478/478 [==============================] - 2s 4ms/step - loss: 0.6652 - accuracy: 0.5245 - precision: 0.6643 - recall: 0.3898 - auc: 0.5880 - val_loss: 0.6832 - val_accuracy: 0.5891 - val_precision: 0.6199 - val_recall: 0.7940 - val_auc: 0.5729\n",
      "Epoch 4/20\n",
      "478/478 [==============================] - 2s 4ms/step - loss: 0.6643 - accuracy: 0.5369 - precision: 0.6738 - recall: 0.4148 - auc: 0.5926 - val_loss: 0.6691 - val_accuracy: 0.4647 - val_precision: 0.6785 - val_recall: 0.1850 - val_auc: 0.5747\n",
      "Epoch 5/20\n",
      "478/478 [==============================] - 2s 4ms/step - loss: 0.6628 - accuracy: 0.5345 - precision: 0.6730 - recall: 0.4081 - auc: 0.5963 - val_loss: 0.6695 - val_accuracy: 0.4730 - val_precision: 0.6839 - val_recall: 0.2068 - val_auc: 0.5764\n",
      "Epoch 6/20\n",
      "478/478 [==============================] - 2s 4ms/step - loss: 0.6592 - accuracy: 0.5451 - precision: 0.6855 - recall: 0.4210 - auc: 0.6086 - val_loss: 0.6718 - val_accuracy: 0.4749 - val_precision: 0.6824 - val_recall: 0.2143 - val_auc: 0.5705\n",
      "Epoch 7/20\n",
      "478/478 [==============================] - 2s 4ms/step - loss: 0.6578 - accuracy: 0.5512 - precision: 0.6885 - recall: 0.4351 - auc: 0.6117 - val_loss: 0.6698 - val_accuracy: 0.5053 - val_precision: 0.6567 - val_recall: 0.3475 - val_auc: 0.5705\n",
      "Epoch 8/20\n",
      "478/478 [==============================] - 2s 4ms/step - loss: 0.6547 - accuracy: 0.5573 - precision: 0.6919 - recall: 0.4481 - auc: 0.6194 - val_loss: 0.6791 - val_accuracy: 0.4486 - val_precision: 0.6832 - val_recall: 0.1309 - val_auc: 0.5640\n",
      "Epoch 9/20\n",
      "478/478 [==============================] - 2s 3ms/step - loss: 0.6507 - accuracy: 0.5679 - precision: 0.7042 - recall: 0.4596 - auc: 0.6289 - val_loss: 0.6688 - val_accuracy: 0.5245 - val_precision: 0.6659 - val_recall: 0.3978 - val_auc: 0.5745\n",
      "Epoch 10/20\n",
      "478/478 [==============================] - 2s 4ms/step - loss: 0.6484 - accuracy: 0.5704 - precision: 0.7076 - recall: 0.4614 - auc: 0.6332 - val_loss: 0.6750 - val_accuracy: 0.5485 - val_precision: 0.6392 - val_recall: 0.5479 - val_auc: 0.5692\n",
      "Epoch 11/20\n",
      "478/478 [==============================] - 2s 4ms/step - loss: 0.6448 - accuracy: 0.5787 - precision: 0.7108 - recall: 0.4803 - auc: 0.6395 - val_loss: 0.6752 - val_accuracy: 0.5130 - val_precision: 0.6424 - val_recall: 0.4033 - val_auc: 0.5588\n",
      "Epoch 12/20\n",
      "478/478 [==============================] - 2s 4ms/step - loss: 0.6374 - accuracy: 0.5934 - precision: 0.7173 - recall: 0.5112 - auc: 0.6543 - val_loss: 0.6839 - val_accuracy: 0.5244 - val_precision: 0.6418 - val_recall: 0.4481 - val_auc: 0.5599\n",
      "Epoch 13/20\n",
      "478/478 [==============================] - 2s 4ms/step - loss: 0.6317 - accuracy: 0.6019 - precision: 0.7261 - recall: 0.5206 - auc: 0.6655 - val_loss: 0.6943 - val_accuracy: 0.5054 - val_precision: 0.6610 - val_recall: 0.3408 - val_auc: 0.5614\n",
      "Epoch 14/20\n",
      "478/478 [==============================] - 3s 5ms/step - loss: 0.6226 - accuracy: 0.6110 - precision: 0.7338 - recall: 0.5332 - auc: 0.6760 - val_loss: 0.6900 - val_accuracy: 0.5181 - val_precision: 0.6430 - val_recall: 0.4214 - val_auc: 0.5498\n",
      "Epoch 15/20\n",
      "478/478 [==============================] - 2s 5ms/step - loss: 0.6166 - accuracy: 0.6240 - precision: 0.7422 - recall: 0.5543 - auc: 0.6864 - val_loss: 0.7014 - val_accuracy: 0.4899 - val_precision: 0.6399 - val_recall: 0.3196 - val_auc: 0.5454\n",
      "Epoch 16/20\n",
      "478/478 [==============================] - 2s 4ms/step - loss: 0.6102 - accuracy: 0.6348 - precision: 0.7491 - recall: 0.5715 - auc: 0.6950 - val_loss: 0.7097 - val_accuracy: 0.5302 - val_precision: 0.6351 - val_recall: 0.4883 - val_auc: 0.5509\n",
      "Epoch 17/20\n",
      "478/478 [==============================] - 2s 5ms/step - loss: 0.5972 - accuracy: 0.6471 - precision: 0.7614 - recall: 0.5839 - auc: 0.7085 - val_loss: 0.7212 - val_accuracy: 0.5486 - val_precision: 0.6238 - val_recall: 0.6018 - val_auc: 0.5462\n",
      "Epoch 18/20\n",
      "478/478 [==============================] - 2s 5ms/step - loss: 0.5875 - accuracy: 0.6592 - precision: 0.7681 - recall: 0.6038 - auc: 0.7173 - val_loss: 0.7297 - val_accuracy: 0.5450 - val_precision: 0.6186 - val_recall: 0.6066 - val_auc: 0.5431\n",
      "Epoch 19/20\n",
      "478/478 [==============================] - 2s 5ms/step - loss: 0.5779 - accuracy: 0.6706 - precision: 0.7740 - recall: 0.6226 - auc: 0.7271 - val_loss: 0.7467 - val_accuracy: 0.5421 - val_precision: 0.6229 - val_recall: 0.5775 - val_auc: 0.5420\n",
      "Epoch 20/20\n",
      "478/478 [==============================] - 2s 4ms/step - loss: 0.5645 - accuracy: 0.6838 - precision: 0.7844 - recall: 0.6388 - auc: 0.7413 - val_loss: 0.7562 - val_accuracy: 0.5214 - val_precision: 0.6168 - val_recall: 0.5093 - val_auc: 0.5363\n"
     ]
    },
    {
     "name": "stderr",
     "output_type": "stream",
     "text": [
      "INFO:root:Model '0c03eef430f4878e2d1dcca4e08bbffe': Finished training.\n",
      "INFO:root:Training model '0c03eef430f4878e2d1dcca4e08bbffe' for 20 epochs with batch size 32.\n"
     ]
    },
    {
     "name": "stdout",
     "output_type": "stream",
     "text": [
      "Model saved successfully at: models/0c03eef430f4878e2d1dcca4e08bbffe/model_weights_0c03eef430f4878e2d1dcca4e08bbffe.pth\n",
      "Epoch 1/20\n",
      "478/478 [==============================] - 4s 6ms/step - loss: 0.6769 - accuracy: 0.4663 - precision: 0.6200 - recall: 0.2424 - auc: 0.5303 - val_loss: 0.6688 - val_accuracy: 0.5221 - val_precision: 0.6553 - val_recall: 0.4102 - val_auc: 0.5707\n",
      "Epoch 2/20\n",
      "478/478 [==============================] - 2s 4ms/step - loss: 0.6692 - accuracy: 0.5131 - precision: 0.6609 - recall: 0.3558 - auc: 0.5748 - val_loss: 0.6697 - val_accuracy: 0.5685 - val_precision: 0.6389 - val_recall: 0.6271 - val_auc: 0.5772\n",
      "Epoch 3/20\n",
      "478/478 [==============================] - 2s 4ms/step - loss: 0.6651 - accuracy: 0.5364 - precision: 0.6737 - recall: 0.4128 - auc: 0.5893 - val_loss: 0.6696 - val_accuracy: 0.5006 - val_precision: 0.6830 - val_recall: 0.2952 - val_auc: 0.5752\n",
      "Epoch 4/20\n",
      "478/478 [==============================] - 2s 4ms/step - loss: 0.6637 - accuracy: 0.5294 - precision: 0.6651 - recall: 0.4048 - auc: 0.5927 - val_loss: 0.6746 - val_accuracy: 0.5841 - val_precision: 0.6325 - val_recall: 0.7138 - val_auc: 0.5782\n",
      "Epoch 5/20\n",
      "478/478 [==============================] - 2s 4ms/step - loss: 0.6617 - accuracy: 0.5412 - precision: 0.6727 - recall: 0.4305 - auc: 0.5995 - val_loss: 0.6685 - val_accuracy: 0.4922 - val_precision: 0.6791 - val_recall: 0.2732 - val_auc: 0.5756\n",
      "Epoch 6/20\n",
      "478/478 [==============================] - 2s 4ms/step - loss: 0.6605 - accuracy: 0.5447 - precision: 0.6805 - recall: 0.4278 - auc: 0.6037 - val_loss: 0.6804 - val_accuracy: 0.4641 - val_precision: 0.6789 - val_recall: 0.1834 - val_auc: 0.5677\n",
      "Epoch 7/20\n",
      "478/478 [==============================] - 3s 6ms/step - loss: 0.6577 - accuracy: 0.5508 - precision: 0.6860 - recall: 0.4377 - auc: 0.6103 - val_loss: 0.6718 - val_accuracy: 0.5189 - val_precision: 0.6627 - val_recall: 0.3850 - val_auc: 0.5753\n",
      "Epoch 8/20\n",
      "478/478 [==============================] - 2s 5ms/step - loss: 0.6566 - accuracy: 0.5542 - precision: 0.6871 - recall: 0.4465 - auc: 0.6137 - val_loss: 0.6714 - val_accuracy: 0.5540 - val_precision: 0.6430 - val_recall: 0.5580 - val_auc: 0.5767\n",
      "Epoch 9/20\n",
      "478/478 [==============================] - 2s 4ms/step - loss: 0.6543 - accuracy: 0.5597 - precision: 0.6910 - recall: 0.4567 - auc: 0.6198 - val_loss: 0.6715 - val_accuracy: 0.4739 - val_precision: 0.6896 - val_recall: 0.2059 - val_auc: 0.5704\n",
      "Epoch 10/20\n",
      "478/478 [==============================] - 2s 4ms/step - loss: 0.6507 - accuracy: 0.5676 - precision: 0.7005 - recall: 0.4643 - auc: 0.6288 - val_loss: 0.6718 - val_accuracy: 0.5298 - val_precision: 0.6560 - val_recall: 0.4360 - val_auc: 0.5692\n",
      "Epoch 11/20\n",
      "478/478 [==============================] - 2s 4ms/step - loss: 0.6457 - accuracy: 0.5779 - precision: 0.7075 - recall: 0.4829 - auc: 0.6401 - val_loss: 0.6734 - val_accuracy: 0.5214 - val_precision: 0.6645 - val_recall: 0.3903 - val_auc: 0.5688\n",
      "Epoch 12/20\n",
      "478/478 [==============================] - 2s 5ms/step - loss: 0.6397 - accuracy: 0.5856 - precision: 0.7141 - recall: 0.4944 - auc: 0.6517 - val_loss: 0.6900 - val_accuracy: 0.5214 - val_precision: 0.6525 - val_recall: 0.4135 - val_auc: 0.5626\n",
      "Epoch 13/20\n",
      "478/478 [==============================] - 2s 4ms/step - loss: 0.6343 - accuracy: 0.5970 - precision: 0.7219 - recall: 0.5135 - auc: 0.6569 - val_loss: 0.6870 - val_accuracy: 0.5615 - val_precision: 0.6253 - val_recall: 0.6507 - val_auc: 0.5596\n",
      "Epoch 14/20\n",
      "478/478 [==============================] - 2s 4ms/step - loss: 0.6276 - accuracy: 0.6058 - precision: 0.7260 - recall: 0.5312 - auc: 0.6695 - val_loss: 0.6923 - val_accuracy: 0.5278 - val_precision: 0.6446 - val_recall: 0.4550 - val_auc: 0.5615\n",
      "Epoch 15/20\n",
      "478/478 [==============================] - 2s 4ms/step - loss: 0.6173 - accuracy: 0.6203 - precision: 0.7408 - recall: 0.5465 - auc: 0.6841 - val_loss: 0.7114 - val_accuracy: 0.5294 - val_precision: 0.6190 - val_recall: 0.5377 - val_auc: 0.5432\n",
      "Epoch 16/20\n",
      "478/478 [==============================] - 2s 4ms/step - loss: 0.6105 - accuracy: 0.6300 - precision: 0.7513 - recall: 0.5558 - auc: 0.6927 - val_loss: 0.7025 - val_accuracy: 0.5134 - val_precision: 0.6385 - val_recall: 0.4146 - val_auc: 0.5533\n",
      "Epoch 17/20\n",
      "478/478 [==============================] - 2s 4ms/step - loss: 0.5989 - accuracy: 0.6421 - precision: 0.7582 - recall: 0.5761 - auc: 0.7063 - val_loss: 0.7181 - val_accuracy: 0.5413 - val_precision: 0.6194 - val_recall: 0.5885 - val_auc: 0.5386\n",
      "Epoch 18/20\n",
      "478/478 [==============================] - 2s 4ms/step - loss: 0.5923 - accuracy: 0.6507 - precision: 0.7621 - recall: 0.5916 - auc: 0.7132 - val_loss: 0.7213 - val_accuracy: 0.5281 - val_precision: 0.6253 - val_recall: 0.5104 - val_auc: 0.5437\n",
      "Epoch 19/20\n",
      "478/478 [==============================] - 2s 4ms/step - loss: 0.5829 - accuracy: 0.6617 - precision: 0.7738 - recall: 0.6014 - auc: 0.7243 - val_loss: 0.7333 - val_accuracy: 0.5384 - val_precision: 0.6206 - val_recall: 0.5713 - val_auc: 0.5385\n",
      "Epoch 20/20\n",
      "478/478 [==============================] - 2s 4ms/step - loss: 0.5725 - accuracy: 0.6717 - precision: 0.7758 - recall: 0.6225 - auc: 0.7371 - val_loss: 0.7609 - val_accuracy: 0.5118 - val_precision: 0.6135 - val_recall: 0.4788 - val_auc: 0.5292\n"
     ]
    },
    {
     "name": "stderr",
     "output_type": "stream",
     "text": [
      "INFO:root:Model '0c03eef430f4878e2d1dcca4e08bbffe': Finished training.\n"
     ]
    },
    {
     "name": "stdout",
     "output_type": "stream",
     "text": [
      "Model saved successfully at: models/0c03eef430f4878e2d1dcca4e08bbffe/model_weights_0c03eef430f4878e2d1dcca4e08bbffe.pth\n"
     ]
    }
   ],
   "source": [
    "avg_metrics = cross_val_train(model_manager=model_manager, yamls=yamls, train_dataset=train_dataset, n_splits=3)"
   ]
  },
  {
   "cell_type": "code",
   "execution_count": 6,
   "id": "3437639c-6666-4c76-a827-706148a9fa7f",
   "metadata": {},
   "outputs": [],
   "source": [
    "### falta los otros f1, pr curve, pr vs thresh\n",
    "\n",
    "### logs no functiono\n",
    "\n",
    "### Se estan overwritting pero creo que chilling\n",
    "### models/0c03eef430f4878e2d1dcca4e08bbffe/model_weights_0c03eef430f4878e2d1dcca4e08bbffe.pth\n",
    "### models/0c03eef430f4878e2d1dcca4e08bbffe/model_weights_0c03eef430f4878e2d1dcca4e08bbffe.pth\n",
    "### models/0c03eef430f4878e2d1dcca4e08bbffe/model_weights_0c03eef430f4878e2d1dcca4e08bbffe.pth\n",
    "\n",
    "### remember que desp de kfold pa tune hyper params entrenas chosen model en entire train dataset and then predict on test pa get real accuracies. Maybe esto ya entonces es otro file"
   ]
  },
  {
   "cell_type": "code",
   "execution_count": null,
   "id": "43c874ea",
   "metadata": {},
   "outputs": [],
   "source": []
  },
  {
   "cell_type": "markdown",
   "id": "1a36082f",
   "metadata": {},
   "source": [
    "Get Averaged Metrics for KFold"
   ]
  },
  {
   "cell_type": "code",
   "execution_count": 27,
   "id": "e247faa6",
   "metadata": {},
   "outputs": [],
   "source": [
    "# Average Kfold Metrics"
   ]
  },
  {
   "cell_type": "markdown",
   "id": "4b0c318c",
   "metadata": {},
   "source": [
    "Launch Tensorboard"
   ]
  },
  {
   "cell_type": "code",
   "execution_count": 10,
   "id": "0f043d26",
   "metadata": {},
   "outputs": [
    {
     "name": "stderr",
     "output_type": "stream",
     "text": [
      "UsageError: Line magic function `%tensorboard` not found.\n"
     ]
    }
   ],
   "source": [
    "%tensorboard --logdir logs/fit/a141223cdff8e65162f8bbc75c6c3d96"
   ]
  }
 ],
 "metadata": {
  "kernelspec": {
   "display_name": "Python 3.8.5 ('sports-betting': venv)",
   "language": "python",
   "name": "python3"
  },
  "language_info": {
   "codemirror_mode": {
    "name": "ipython",
    "version": 3
   },
   "file_extension": ".py",
   "mimetype": "text/x-python",
   "name": "python",
   "nbconvert_exporter": "python",
   "pygments_lexer": "ipython3",
   "version": "3.8.5"
  },
  "vscode": {
   "interpreter": {
    "hash": "42d1e72f09edad5b8341e1a78b673e0aa6929e61770b700654f70887e86e86ac"
   }
  }
 },
 "nbformat": 4,
 "nbformat_minor": 5
}
