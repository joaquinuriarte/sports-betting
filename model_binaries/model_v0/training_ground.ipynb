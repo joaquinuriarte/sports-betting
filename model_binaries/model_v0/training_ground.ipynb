{
 "cells": [
  {
   "cell_type": "code",
   "execution_count": 10,
   "metadata": {},
   "outputs": [],
   "source": [
    "######## Create, Train, and Predict Models\n",
    "\n",
    "# Loads train, test, and val datasets\n",
    "# Instantiates Models\n",
    "# Trains Models\n",
    "# Predicts using Models"
   ]
  },
  {
   "cell_type": "markdown",
   "id": "6b68658b",
   "metadata": {},
   "source": [
    "Import All Required Modules"
   ]
  },
  {
   "cell_type": "code",
   "execution_count": 1,
   "id": "251a0e8a-b944-4323-8731-207322906548",
   "metadata": {
    "collapsed": true,
    "jupyter": {
     "outputs_hidden": true
    }
   },
   "outputs": [
    {
     "name": "stderr",
     "output_type": "stream",
     "text": [
      "2025-01-29 10:07:20.706772: I tensorflow/core/platform/cpu_feature_guard.cc:182] This TensorFlow binary is optimized to use available CPU instructions in performance-critical operations.\n",
      "To enable the following instructions: AVX2 FMA, in other operations, rebuild TensorFlow with the appropriate compiler flags.\n"
     ]
    }
   ],
   "source": [
    "import sys\n",
    "\n",
    "# Manually add the project root to sys.path\n",
    "sys.path.append('/Users/joaquinuriarte/Documents/GitHub/sports-betting/')\n",
    "\n",
    "# === STEP 0: Imports\n",
    "from modules.model_manager.trainer.trainer import Trainer\n",
    "from modules.model_manager.predictor.predictor import Predictor\n",
    "from modules.model_manager.factories.model_factory import ModelFactory\n",
    "from modules.model_manager.helpers.configuration_loader import ConfigurationLoader as MMConfigLoader\n",
    "from modules.model_manager.model_manager import ModelManager\n",
    "from sklearn.model_selection import KFold\n",
    "from modules.data_structures.model_dataset import ModelDataset\n",
    "from model_binaries.utils.binary_utils import save_entity, load_entity, cross_val_train, compute_f1"
   ]
  },
  {
   "cell_type": "code",
   "execution_count": 2,
   "id": "eef0ca8d-4980-4561-8348-6ba966b8a785",
   "metadata": {},
   "outputs": [],
   "source": [
    "# === STEP 1: Dependency Instantiations And Global Variable Declarations\n",
    "\n",
    "## === MODEL MANAGER\n",
    "yaml_path0 = '/Users/joaquinuriarte/Documents/GitHub/sports-betting/configs/model_v0/model_v0_000.yaml'\n",
    "yaml_paths = [yaml_path0]\n",
    "\n",
    "\n",
    "checkpoint = '/Users/joaquinuriarte/Documents/GitHub/sports-betting/models'\n",
    "trainer = Trainer(checkpoint)\n",
    "predictor = Predictor()\n",
    "model_factory = ModelFactory()\n",
    "mm_configuration_loader = MMConfigLoader()"
   ]
  },
  {
   "cell_type": "markdown",
   "id": "4a1c2254",
   "metadata": {},
   "source": [
    "Load Train into Memory"
   ]
  },
  {
   "cell_type": "code",
   "execution_count": 3,
   "id": "fce64e6e",
   "metadata": {},
   "outputs": [],
   "source": [
    "# File path to load train, test, and val datasets\n",
    "train_test_val_folder_path = \"/Users/joaquinuriarte/Documents/GitHub/sports-betting/processed_datasets/model_v0/scaler\""
   ]
  },
  {
   "cell_type": "code",
   "execution_count": 4,
   "id": "77a23c84",
   "metadata": {},
   "outputs": [],
   "source": [
    "train_dataset = load_entity(train_test_val_folder_path, \"scaled_train.pkl\")"
   ]
  },
  {
   "cell_type": "markdown",
   "id": "feff0899",
   "metadata": {},
   "source": [
    "Create and Train Models Using KFold Cross Validation"
   ]
  },
  {
   "cell_type": "code",
   "execution_count": 5,
   "id": "ad93a13b",
   "metadata": {},
   "outputs": [],
   "source": [
    "# === STEP 4: MODEL MANAGER\n",
    "yamls = [yaml_path0]\n",
    "model_manager = ModelManager(trainer, predictor, model_factory, mm_configuration_loader)"
   ]
  },
  {
   "cell_type": "code",
   "execution_count": 6,
   "id": "da8e6904",
   "metadata": {},
   "outputs": [
    {
     "name": "stderr",
     "output_type": "stream",
     "text": [
      "INFO:root:Training model '0c03eef430f4878e2d1dcca4e08bbffe' for 20 epochs with batch size 32.\n"
     ]
    },
    {
     "name": "stdout",
     "output_type": "stream",
     "text": [
      "Epoch 1/20\n",
      "478/478 [==============================] - 3s 4ms/step - loss: 0.6771 - accuracy: 0.4615 - precision: 0.6154 - recall: 0.2456 - auc: 0.5196 - val_loss: 0.6724 - val_accuracy: 0.4442 - val_precision: 0.7472 - val_recall: 0.0754 - val_auc: 0.5770\n",
      "Epoch 2/20\n",
      "478/478 [==============================] - 1s 3ms/step - loss: 0.6703 - accuracy: 0.5003 - precision: 0.6547 - recall: 0.3333 - auc: 0.5620 - val_loss: 0.6742 - val_accuracy: 0.5789 - val_precision: 0.6280 - val_recall: 0.6874 - val_auc: 0.5890\n",
      "Epoch 3/20\n",
      "478/478 [==============================] - 2s 4ms/step - loss: 0.6667 - accuracy: 0.5186 - precision: 0.6610 - recall: 0.3867 - auc: 0.5778 - val_loss: 0.6671 - val_accuracy: 0.5037 - val_precision: 0.6896 - val_recall: 0.2755 - val_auc: 0.5911\n",
      "Epoch 4/20\n",
      "478/478 [==============================] - 2s 4ms/step - loss: 0.6650 - accuracy: 0.5270 - precision: 0.6664 - recall: 0.4054 - auc: 0.5847 - val_loss: 0.6690 - val_accuracy: 0.5517 - val_precision: 0.6505 - val_recall: 0.5048 - val_auc: 0.5897\n",
      "Epoch 5/20\n",
      "478/478 [==============================] - 2s 3ms/step - loss: 0.6642 - accuracy: 0.5300 - precision: 0.6686 - recall: 0.4118 - auc: 0.5874 - val_loss: 0.6670 - val_accuracy: 0.5347 - val_precision: 0.6699 - val_recall: 0.4032 - val_auc: 0.5913\n",
      "Epoch 6/20\n",
      "478/478 [==============================] - 2s 3ms/step - loss: 0.6634 - accuracy: 0.5314 - precision: 0.6708 - recall: 0.4122 - auc: 0.5915 - val_loss: 0.6662 - val_accuracy: 0.5580 - val_precision: 0.6552 - val_recall: 0.5158 - val_auc: 0.5951\n",
      "Epoch 7/20\n",
      "478/478 [==============================] - 1s 3ms/step - loss: 0.6620 - accuracy: 0.5390 - precision: 0.6765 - recall: 0.4271 - auc: 0.5958 - val_loss: 0.6658 - val_accuracy: 0.5484 - val_precision: 0.6624 - val_recall: 0.4650 - val_auc: 0.5934\n",
      "Epoch 8/20\n",
      "478/478 [==============================] - 2s 3ms/step - loss: 0.6609 - accuracy: 0.5452 - precision: 0.6819 - recall: 0.4372 - auc: 0.5997 - val_loss: 0.6688 - val_accuracy: 0.4842 - val_precision: 0.7099 - val_recall: 0.1998 - val_auc: 0.5888\n",
      "Epoch 9/20\n",
      "478/478 [==============================] - 2s 3ms/step - loss: 0.6593 - accuracy: 0.5490 - precision: 0.6828 - recall: 0.4476 - auc: 0.6024 - val_loss: 0.6663 - val_accuracy: 0.5161 - val_precision: 0.6849 - val_recall: 0.3200 - val_auc: 0.5905\n",
      "Epoch 10/20\n",
      "478/478 [==============================] - 2s 4ms/step - loss: 0.6577 - accuracy: 0.5517 - precision: 0.6831 - recall: 0.4555 - auc: 0.6074 - val_loss: 0.6691 - val_accuracy: 0.5525 - val_precision: 0.6458 - val_recall: 0.5205 - val_auc: 0.5857\n",
      "Epoch 11/20\n",
      "478/478 [==============================] - 2s 4ms/step - loss: 0.6559 - accuracy: 0.5527 - precision: 0.6878 - recall: 0.4502 - auc: 0.6114 - val_loss: 0.6699 - val_accuracy: 0.5045 - val_precision: 0.6837 - val_recall: 0.2844 - val_auc: 0.5782\n",
      "Epoch 12/20\n",
      "478/478 [==============================] - 2s 4ms/step - loss: 0.6516 - accuracy: 0.5610 - precision: 0.6971 - recall: 0.4595 - auc: 0.6229 - val_loss: 0.6738 - val_accuracy: 0.5488 - val_precision: 0.6420 - val_recall: 0.5169 - val_auc: 0.5794\n",
      "Epoch 13/20\n",
      "478/478 [==============================] - 2s 3ms/step - loss: 0.6460 - accuracy: 0.5763 - precision: 0.7046 - recall: 0.4917 - auc: 0.6352 - val_loss: 0.6753 - val_accuracy: 0.5448 - val_precision: 0.6598 - val_recall: 0.4578 - val_auc: 0.5793\n",
      "Epoch 14/20\n",
      "478/478 [==============================] - 1s 3ms/step - loss: 0.6392 - accuracy: 0.5855 - precision: 0.7149 - recall: 0.5011 - auc: 0.6483 - val_loss: 0.6822 - val_accuracy: 0.5228 - val_precision: 0.6506 - val_recall: 0.3979 - val_auc: 0.5706\n",
      "Epoch 15/20\n",
      "478/478 [==============================] - 1s 3ms/step - loss: 0.6352 - accuracy: 0.5886 - precision: 0.7196 - recall: 0.5019 - auc: 0.6542 - val_loss: 0.6932 - val_accuracy: 0.5551 - val_precision: 0.6251 - val_recall: 0.5981 - val_auc: 0.5608\n",
      "Epoch 16/20\n",
      "478/478 [==============================] - 2s 3ms/step - loss: 0.6274 - accuracy: 0.6014 - precision: 0.7295 - recall: 0.5212 - auc: 0.6656 - val_loss: 0.7019 - val_accuracy: 0.5499 - val_precision: 0.6188 - val_recall: 0.6004 - val_auc: 0.5558\n",
      "Epoch 17/20\n",
      "478/478 [==============================] - 2s 3ms/step - loss: 0.6230 - accuracy: 0.6072 - precision: 0.7342 - recall: 0.5295 - auc: 0.6739 - val_loss: 0.6968 - val_accuracy: 0.5270 - val_precision: 0.6245 - val_recall: 0.4797 - val_auc: 0.5507\n",
      "Epoch 18/20\n",
      "478/478 [==============================] - 2s 4ms/step - loss: 0.6145 - accuracy: 0.6175 - precision: 0.7423 - recall: 0.5439 - auc: 0.6839 - val_loss: 0.7365 - val_accuracy: 0.5470 - val_precision: 0.6120 - val_recall: 0.6162 - val_auc: 0.5442\n",
      "Epoch 19/20\n",
      "478/478 [==============================] - 2s 4ms/step - loss: 0.6087 - accuracy: 0.6251 - precision: 0.7461 - recall: 0.5577 - auc: 0.6923 - val_loss: 0.7244 - val_accuracy: 0.5173 - val_precision: 0.6243 - val_recall: 0.4388 - val_auc: 0.5455\n",
      "Epoch 20/20\n",
      "478/478 [==============================] - 3s 5ms/step - loss: 0.5973 - accuracy: 0.6384 - precision: 0.7595 - recall: 0.5714 - auc: 0.7027 - val_loss: 0.7388 - val_accuracy: 0.5114 - val_precision: 0.6257 - val_recall: 0.4099 - val_auc: 0.5405\n"
     ]
    },
    {
     "name": "stderr",
     "output_type": "stream",
     "text": [
      "INFO:root:Model '0c03eef430f4878e2d1dcca4e08bbffe': Finished training.\n"
     ]
    },
    {
     "name": "stdout",
     "output_type": "stream",
     "text": [
      "Model saved successfully at: models/0c03eef430f4878e2d1dcca4e08bbffe/model_weights_0c03eef430f4878e2d1dcca4e08bbffe.pth\n"
     ]
    },
    {
     "name": "stderr",
     "output_type": "stream",
     "text": [
      "INFO:root:Training model '0c03eef430f4878e2d1dcca4e08bbffe' for 20 epochs with batch size 32.\n"
     ]
    },
    {
     "name": "stdout",
     "output_type": "stream",
     "text": [
      "Epoch 1/20\n",
      "478/478 [==============================] - 2s 3ms/step - loss: 0.6765 - accuracy: 0.4716 - precision: 0.6226 - recall: 0.2617 - auc: 0.5338 - val_loss: 0.6728 - val_accuracy: 0.4179 - val_precision: 0.6912 - val_recall: 0.0331 - val_auc: 0.5759\n",
      "Epoch 2/20\n",
      "478/478 [==============================] - 1s 3ms/step - loss: 0.6699 - accuracy: 0.5100 - precision: 0.6594 - recall: 0.3482 - auc: 0.5711 - val_loss: 0.6668 - val_accuracy: 0.5227 - val_precision: 0.6642 - val_recall: 0.3947 - val_auc: 0.5784\n",
      "Epoch 3/20\n",
      "478/478 [==============================] - 1s 3ms/step - loss: 0.6664 - accuracy: 0.5237 - precision: 0.6645 - recall: 0.3866 - auc: 0.5842 - val_loss: 0.6665 - val_accuracy: 0.5107 - val_precision: 0.6626 - val_recall: 0.3563 - val_auc: 0.5783\n",
      "Epoch 4/20\n",
      "478/478 [==============================] - 1s 3ms/step - loss: 0.6649 - accuracy: 0.5339 - precision: 0.6731 - recall: 0.4060 - auc: 0.5909 - val_loss: 0.6679 - val_accuracy: 0.4973 - val_precision: 0.6769 - val_recall: 0.2914 - val_auc: 0.5757\n",
      "Epoch 5/20\n",
      "478/478 [==============================] - 1s 3ms/step - loss: 0.6609 - accuracy: 0.5447 - precision: 0.6818 - recall: 0.4260 - auc: 0.6021 - val_loss: 0.6675 - val_accuracy: 0.5328 - val_precision: 0.6579 - val_recall: 0.4419 - val_auc: 0.5747\n",
      "Epoch 6/20\n",
      "478/478 [==============================] - 2s 4ms/step - loss: 0.6600 - accuracy: 0.5494 - precision: 0.6819 - recall: 0.4406 - auc: 0.6079 - val_loss: 0.6723 - val_accuracy: 0.4574 - val_precision: 0.6835 - val_recall: 0.1583 - val_auc: 0.5694\n",
      "Epoch 7/20\n",
      "478/478 [==============================] - 1s 3ms/step - loss: 0.6591 - accuracy: 0.5510 - precision: 0.6854 - recall: 0.4396 - auc: 0.6094 - val_loss: 0.6688 - val_accuracy: 0.5260 - val_precision: 0.6589 - val_recall: 0.4161 - val_auc: 0.5772\n",
      "Epoch 8/20\n",
      "478/478 [==============================] - 1s 3ms/step - loss: 0.6555 - accuracy: 0.5630 - precision: 0.6912 - recall: 0.4667 - auc: 0.6182 - val_loss: 0.6711 - val_accuracy: 0.5075 - val_precision: 0.6567 - val_recall: 0.3552 - val_auc: 0.5685\n",
      "Epoch 9/20\n",
      "478/478 [==============================] - 2s 3ms/step - loss: 0.6548 - accuracy: 0.5587 - precision: 0.6890 - recall: 0.4573 - auc: 0.6187 - val_loss: 0.6692 - val_accuracy: 0.5307 - val_precision: 0.6462 - val_recall: 0.4609 - val_auc: 0.5708\n",
      "Epoch 10/20\n",
      "478/478 [==============================] - 1s 3ms/step - loss: 0.6503 - accuracy: 0.5724 - precision: 0.6962 - recall: 0.4864 - auc: 0.6285 - val_loss: 0.6817 - val_accuracy: 0.4701 - val_precision: 0.6857 - val_recall: 0.1965 - val_auc: 0.5598\n",
      "Epoch 11/20\n",
      "478/478 [==============================] - 1s 3ms/step - loss: 0.6456 - accuracy: 0.5769 - precision: 0.7067 - recall: 0.4818 - auc: 0.6398 - val_loss: 0.6781 - val_accuracy: 0.5387 - val_precision: 0.6434 - val_recall: 0.4982 - val_auc: 0.5645\n",
      "Epoch 12/20\n",
      "478/478 [==============================] - 2s 4ms/step - loss: 0.6410 - accuracy: 0.5916 - precision: 0.7139 - recall: 0.5118 - auc: 0.6485 - val_loss: 0.6835 - val_accuracy: 0.5414 - val_precision: 0.6393 - val_recall: 0.5201 - val_auc: 0.5636\n",
      "Epoch 13/20\n",
      "478/478 [==============================] - 2s 4ms/step - loss: 0.6339 - accuracy: 0.6021 - precision: 0.7183 - recall: 0.5338 - auc: 0.6602 - val_loss: 0.6923 - val_accuracy: 0.5016 - val_precision: 0.6285 - val_recall: 0.3903 - val_auc: 0.5401\n",
      "Epoch 14/20\n",
      "478/478 [==============================] - 2s 3ms/step - loss: 0.6307 - accuracy: 0.6059 - precision: 0.7243 - recall: 0.5345 - auc: 0.6660 - val_loss: 0.6935 - val_accuracy: 0.4961 - val_precision: 0.6350 - val_recall: 0.3536 - val_auc: 0.5447\n",
      "Epoch 15/20\n",
      "478/478 [==============================] - 2s 3ms/step - loss: 0.6219 - accuracy: 0.6178 - precision: 0.7324 - recall: 0.5536 - auc: 0.6802 - val_loss: 0.7037 - val_accuracy: 0.4867 - val_precision: 0.6403 - val_recall: 0.3068 - val_auc: 0.5437\n",
      "Epoch 16/20\n",
      "478/478 [==============================] - 1s 3ms/step - loss: 0.6129 - accuracy: 0.6286 - precision: 0.7389 - recall: 0.5714 - auc: 0.6913 - val_loss: 0.6947 - val_accuracy: 0.5291 - val_precision: 0.6416 - val_recall: 0.4667 - val_auc: 0.5539\n",
      "Epoch 17/20\n",
      "478/478 [==============================] - 1s 3ms/step - loss: 0.6057 - accuracy: 0.6406 - precision: 0.7474 - recall: 0.5889 - auc: 0.6987 - val_loss: 0.7134 - val_accuracy: 0.5315 - val_precision: 0.6226 - val_recall: 0.5331 - val_auc: 0.5415\n",
      "Epoch 18/20\n",
      "478/478 [==============================] - 1s 3ms/step - loss: 0.5951 - accuracy: 0.6524 - precision: 0.7555 - recall: 0.6062 - auc: 0.7123 - val_loss: 0.7272 - val_accuracy: 0.5499 - val_precision: 0.6226 - val_recall: 0.6121 - val_auc: 0.5483\n",
      "Epoch 19/20\n",
      "478/478 [==============================] - 2s 3ms/step - loss: 0.5852 - accuracy: 0.6626 - precision: 0.7659 - recall: 0.6154 - auc: 0.7225 - val_loss: 0.7223 - val_accuracy: 0.5355 - val_precision: 0.6192 - val_recall: 0.5629 - val_auc: 0.5420\n",
      "Epoch 20/20\n",
      "478/478 [==============================] - 1s 3ms/step - loss: 0.5730 - accuracy: 0.6743 - precision: 0.7710 - recall: 0.6359 - auc: 0.7340 - val_loss: 0.7293 - val_accuracy: 0.5087 - val_precision: 0.6263 - val_recall: 0.4252 - val_auc: 0.5420\n"
     ]
    },
    {
     "name": "stderr",
     "output_type": "stream",
     "text": [
      "INFO:root:Model '0c03eef430f4878e2d1dcca4e08bbffe': Finished training.\n",
      "INFO:root:Training model '0c03eef430f4878e2d1dcca4e08bbffe' for 20 epochs with batch size 32.\n"
     ]
    },
    {
     "name": "stdout",
     "output_type": "stream",
     "text": [
      "Model saved successfully at: models/0c03eef430f4878e2d1dcca4e08bbffe/model_weights_0c03eef430f4878e2d1dcca4e08bbffe.pth\n",
      "Epoch 1/20\n",
      "478/478 [==============================] - 3s 4ms/step - loss: 0.6755 - accuracy: 0.4936 - precision: 0.6330 - recall: 0.3337 - auc: 0.5447 - val_loss: 0.6862 - val_accuracy: 0.4117 - val_precision: 0.6900 - val_recall: 0.0152 - val_auc: 0.5567\n",
      "Epoch 2/20\n",
      "478/478 [==============================] - 2s 4ms/step - loss: 0.6680 - accuracy: 0.5238 - precision: 0.6681 - recall: 0.3805 - auc: 0.5798 - val_loss: 0.6681 - val_accuracy: 0.4950 - val_precision: 0.6772 - val_recall: 0.2842 - val_auc: 0.5756\n",
      "Epoch 3/20\n",
      "478/478 [==============================] - 2s 4ms/step - loss: 0.6651 - accuracy: 0.5305 - precision: 0.6707 - recall: 0.3986 - auc: 0.5885 - val_loss: 0.6680 - val_accuracy: 0.5005 - val_precision: 0.6804 - val_recall: 0.2979 - val_auc: 0.5781\n",
      "Epoch 4/20\n",
      "478/478 [==============================] - 2s 3ms/step - loss: 0.6618 - accuracy: 0.5416 - precision: 0.6792 - recall: 0.4200 - auc: 0.5993 - val_loss: 0.6701 - val_accuracy: 0.5649 - val_precision: 0.6412 - val_recall: 0.6053 - val_auc: 0.5787\n",
      "Epoch 5/20\n",
      "478/478 [==============================] - 2s 3ms/step - loss: 0.6601 - accuracy: 0.5500 - precision: 0.6801 - recall: 0.4457 - auc: 0.6042 - val_loss: 0.6751 - val_accuracy: 0.4456 - val_precision: 0.6831 - val_recall: 0.1222 - val_auc: 0.5740\n",
      "Epoch 6/20\n",
      "478/478 [==============================] - 1s 3ms/step - loss: 0.6587 - accuracy: 0.5466 - precision: 0.6813 - recall: 0.4324 - auc: 0.6078 - val_loss: 0.6722 - val_accuracy: 0.5285 - val_precision: 0.6652 - val_recall: 0.4131 - val_auc: 0.5748\n",
      "Epoch 7/20\n",
      "478/478 [==============================] - 2s 3ms/step - loss: 0.6587 - accuracy: 0.5473 - precision: 0.6805 - recall: 0.4362 - auc: 0.6070 - val_loss: 0.6716 - val_accuracy: 0.5594 - val_precision: 0.6475 - val_recall: 0.5647 - val_auc: 0.5756\n",
      "Epoch 8/20\n",
      "478/478 [==============================] - 2s 4ms/step - loss: 0.6552 - accuracy: 0.5558 - precision: 0.6890 - recall: 0.4480 - auc: 0.6167 - val_loss: 0.6699 - val_accuracy: 0.5196 - val_precision: 0.6581 - val_recall: 0.3959 - val_auc: 0.5715\n",
      "Epoch 9/20\n",
      "478/478 [==============================] - 2s 4ms/step - loss: 0.6523 - accuracy: 0.5592 - precision: 0.6906 - recall: 0.4557 - auc: 0.6229 - val_loss: 0.6769 - val_accuracy: 0.5827 - val_precision: 0.6322 - val_recall: 0.7090 - val_auc: 0.5765\n",
      "Epoch 10/20\n",
      "478/478 [==============================] - 2s 3ms/step - loss: 0.6510 - accuracy: 0.5623 - precision: 0.6948 - recall: 0.4581 - auc: 0.6252 - val_loss: 0.6717 - val_accuracy: 0.5096 - val_precision: 0.6679 - val_recall: 0.3449 - val_auc: 0.5711\n",
      "Epoch 11/20\n",
      "478/478 [==============================] - 1s 3ms/step - loss: 0.6448 - accuracy: 0.5762 - precision: 0.7035 - recall: 0.4846 - auc: 0.6375 - val_loss: 0.6885 - val_accuracy: 0.5204 - val_precision: 0.6558 - val_recall: 0.4031 - val_auc: 0.5640\n",
      "Epoch 12/20\n",
      "478/478 [==============================] - 1s 3ms/step - loss: 0.6431 - accuracy: 0.5788 - precision: 0.7039 - recall: 0.4918 - auc: 0.6423 - val_loss: 0.6837 - val_accuracy: 0.4842 - val_precision: 0.6745 - val_recall: 0.2524 - val_auc: 0.5647\n",
      "Epoch 13/20\n",
      "478/478 [==============================] - 1s 3ms/step - loss: 0.6354 - accuracy: 0.5900 - precision: 0.7148 - recall: 0.5056 - auc: 0.6558 - val_loss: 0.6982 - val_accuracy: 0.5578 - val_precision: 0.6231 - val_recall: 0.6443 - val_auc: 0.5564\n",
      "Epoch 14/20\n",
      "478/478 [==============================] - 1s 3ms/step - loss: 0.6333 - accuracy: 0.5979 - precision: 0.7156 - recall: 0.5267 - auc: 0.6596 - val_loss: 0.6862 - val_accuracy: 0.5227 - val_precision: 0.6607 - val_recall: 0.4018 - val_auc: 0.5629\n",
      "Epoch 15/20\n",
      "478/478 [==============================] - 1s 3ms/step - loss: 0.6222 - accuracy: 0.6121 - precision: 0.7272 - recall: 0.5464 - auc: 0.6783 - val_loss: 0.6867 - val_accuracy: 0.5345 - val_precision: 0.6368 - val_recall: 0.5013 - val_auc: 0.5601\n",
      "Epoch 16/20\n",
      "478/478 [==============================] - 1s 3ms/step - loss: 0.6126 - accuracy: 0.6277 - precision: 0.7408 - recall: 0.5657 - auc: 0.6912 - val_loss: 0.7064 - val_accuracy: 0.5434 - val_precision: 0.6293 - val_recall: 0.5605 - val_auc: 0.5527\n",
      "Epoch 17/20\n",
      "478/478 [==============================] - 1s 3ms/step - loss: 0.6050 - accuracy: 0.6383 - precision: 0.7458 - recall: 0.5855 - auc: 0.6988 - val_loss: 0.7040 - val_accuracy: 0.5502 - val_precision: 0.6271 - val_recall: 0.5964 - val_auc: 0.5509\n",
      "Epoch 18/20\n",
      "478/478 [==============================] - 1s 3ms/step - loss: 0.5980 - accuracy: 0.6442 - precision: 0.7521 - recall: 0.5906 - auc: 0.7091 - val_loss: 0.7327 - val_accuracy: 0.5587 - val_precision: 0.6206 - val_recall: 0.6593 - val_auc: 0.5509\n",
      "Epoch 19/20\n",
      "478/478 [==============================] - 1s 3ms/step - loss: 0.5895 - accuracy: 0.6536 - precision: 0.7574 - recall: 0.6058 - auc: 0.7134 - val_loss: 0.7273 - val_accuracy: 0.5336 - val_precision: 0.6216 - val_recall: 0.5463 - val_auc: 0.5420\n",
      "Epoch 20/20\n",
      "478/478 [==============================] - 1s 3ms/step - loss: 0.5781 - accuracy: 0.6680 - precision: 0.7671 - recall: 0.6265 - auc: 0.7304 - val_loss: 0.7496 - val_accuracy: 0.5256 - val_precision: 0.6299 - val_recall: 0.4857 - val_auc: 0.5412\n"
     ]
    },
    {
     "name": "stderr",
     "output_type": "stream",
     "text": [
      "INFO:root:Model '0c03eef430f4878e2d1dcca4e08bbffe': Finished training.\n"
     ]
    },
    {
     "name": "stdout",
     "output_type": "stream",
     "text": [
      "Model saved successfully at: models/0c03eef430f4878e2d1dcca4e08bbffe/model_weights_0c03eef430f4878e2d1dcca4e08bbffe.pth\n"
     ]
    }
   ],
   "source": [
    "avg_metrics = cross_val_train(model_manager=model_manager, yamls=yamls, train_dataset=train_dataset, n_splits=3)"
   ]
  },
  {
   "cell_type": "markdown",
   "id": "1a36082f",
   "metadata": {},
   "source": [
    "Get Averaged Metrics for KFold"
   ]
  },
  {
   "cell_type": "code",
   "execution_count": 10,
   "id": "2b67caa5",
   "metadata": {},
   "outputs": [
    {
     "data": {
      "text/plain": [
       "{'loss': 0.5827763477961222,\n",
       " 'accuracy': 0.6602229277292887,\n",
       " 'precision': 0.7658493320147196,\n",
       " 'recall': 0.6112801631291708,\n",
       " 'auc': 0.722386101881663,\n",
       " 'val_loss': 0.7392456531524658,\n",
       " 'val_accuracy': 0.5152283509572347,\n",
       " 'val_precision': 0.6273205280303955,\n",
       " 'val_recall': 0.44025274117787677,\n",
       " 'val_auc': 0.5412235657374064}"
      ]
     },
     "execution_count": 10,
     "metadata": {},
     "output_type": "execute_result"
    }
   ],
   "source": [
    "avg_metrics"
   ]
  },
  {
   "cell_type": "code",
   "execution_count": 9,
   "id": "2d09be7b",
   "metadata": {},
   "outputs": [
    {
     "name": "stdout",
     "output_type": "stream",
     "text": [
      "0.5173969600556849\n"
     ]
    }
   ],
   "source": [
    "f1 = compute_f1(avg_metrics[\"val_precision\"], avg_metrics[\"val_recall\"])\n",
    "print(f1)"
   ]
  },
  {
   "cell_type": "markdown",
   "id": "4b0c318c",
   "metadata": {},
   "source": [
    "Launch Tensorboard"
   ]
  },
  {
   "cell_type": "code",
   "execution_count": null,
   "id": "0f043d26",
   "metadata": {},
   "outputs": [],
   "source": [
    "%tensorboard --logdir=./logs"
   ]
  }
 ],
 "metadata": {
  "kernelspec": {
   "display_name": "Python 3.8.5 ('sports-betting': venv)",
   "language": "python",
   "name": "python3"
  },
  "language_info": {
   "codemirror_mode": {
    "name": "ipython",
    "version": 3
   },
   "file_extension": ".py",
   "mimetype": "text/x-python",
   "name": "python",
   "nbconvert_exporter": "python",
   "pygments_lexer": "ipython3",
   "version": "3.8.5"
  },
  "vscode": {
   "interpreter": {
    "hash": "42d1e72f09edad5b8341e1a78b673e0aa6929e61770b700654f70887e86e86ac"
   }
  }
 },
 "nbformat": 4,
 "nbformat_minor": 5
}
