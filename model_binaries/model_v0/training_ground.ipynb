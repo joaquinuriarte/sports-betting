{
 "cells": [
  {
   "cell_type": "code",
   "execution_count": 10,
   "metadata": {},
   "outputs": [],
   "source": [
    "######## Create, Train, and Predict Models\n",
    "\n",
    "# Loads train, test, and val datasets\n",
    "# Instantiates Models\n",
    "# Trains Models\n",
    "# Predicts using Models"
   ]
  },
  {
   "cell_type": "markdown",
   "id": "6b68658b",
   "metadata": {},
   "source": [
    "Import All Required Modules"
   ]
  },
  {
   "cell_type": "code",
   "execution_count": 1,
   "id": "251a0e8a-b944-4323-8731-207322906548",
   "metadata": {
    "collapsed": true,
    "jupyter": {
     "outputs_hidden": true
    }
   },
   "outputs": [
    {
     "name": "stdout",
     "output_type": "stream",
     "text": [
      "# === STEP 0: Imports: Starting ...\n"
     ]
    },
    {
     "name": "stderr",
     "output_type": "stream",
     "text": [
      "2025-01-21 09:42:58.311825: I tensorflow/core/platform/cpu_feature_guard.cc:182] This TensorFlow binary is optimized to use available CPU instructions in performance-critical operations.\n",
      "To enable the following instructions: AVX2 FMA, in other operations, rebuild TensorFlow with the appropriate compiler flags.\n"
     ]
    },
    {
     "name": "stdout",
     "output_type": "stream",
     "text": [
      "# === STEP 0: Imports: Complete\n"
     ]
    }
   ],
   "source": [
    "import sys\n",
    "\n",
    "# Manually add the project root to sys.path\n",
    "sys.path.append('/Users/joaquinuriarte/Documents/GitHub/sports-betting/')\n",
    "\n",
    "# === STEP 0: Imports\n",
    "print(\"# === STEP 0: Imports: Starting ...\")\n",
    "from modules.model_manager.trainer.trainer import Trainer\n",
    "from modules.model_manager.predictor.predictor import Predictor\n",
    "from modules.model_manager.factories.model_factory import ModelFactory\n",
    "from modules.model_manager.helpers.configuration_loader import ConfigurationLoader as MMConfigLoader\n",
    "from modules.model_manager.model_manager import ModelManager\n",
    "print(\"# === STEP 0: Imports: Complete\")"
   ]
  },
  {
   "cell_type": "code",
   "execution_count": 2,
   "id": "eef0ca8d-4980-4561-8348-6ba966b8a785",
   "metadata": {},
   "outputs": [
    {
     "name": "stdout",
     "output_type": "stream",
     "text": [
      "# === STEP 1: Dependency Instantiations And Global Variable Declarations: Starting ...\n",
      "# === STEP 1: Dependency Instantiations And Global Variable Declarations: Complete\n"
     ]
    }
   ],
   "source": [
    "# === STEP 1: Dependency Instantiations And Global Variable Declarations\n",
    "print(\"# === STEP 1: Dependency Instantiations And Global Variable Declarations: Starting ...\")\n",
    "## === MODEL MANAGER\n",
    "yaml_path0 = '/Users/joaquinuriarte/Documents/GitHub/sports-betting/configs/model_v0/model_v0_000.yaml'\n",
    "yaml_path1 = '/Users/joaquinuriarte/Documents/GitHub/sports-betting/configs/model_v0/model_v0_001.yaml'\n",
    "yaml_path2 = '/Users/joaquinuriarte/Documents/GitHub/sports-betting/configs/model_v0/model_v0_002.yaml'\n",
    "yaml_path3 = '/Users/joaquinuriarte/Documents/GitHub/sports-betting/configs/model_v0/model_v0_003.yaml'\n",
    "yaml_path4 = '/Users/joaquinuriarte/Documents/GitHub/sports-betting/configs/model_v0/model_v0_004.yaml'\n",
    "yaml_path5 = '/Users/joaquinuriarte/Documents/GitHub/sports-betting/configs/model_v0/model_v0_005.yaml'\n",
    "yaml_path6 = '/Users/joaquinuriarte/Documents/GitHub/sports-betting/configs/model_v0/model_v0_006.yaml'\n",
    "yaml_path7 = '/Users/joaquinuriarte/Documents/GitHub/sports-betting/configs/model_v0/model_v0_007.yaml'\n",
    "yaml_path8 = '/Users/joaquinuriarte/Documents/GitHub/sports-betting/configs/model_v0/model_v0_008.yaml'\n",
    "yaml_path9 = '/Users/joaquinuriarte/Documents/GitHub/sports-betting/configs/model_v0/model_v0_009.yaml'\n",
    "yaml_path10 = '/Users/joaquinuriarte/Documents/GitHub/sports-betting/configs/model_v0/model_v0_010.yaml'\n",
    "yaml_path11 = '/Users/joaquinuriarte/Documents/GitHub/sports-betting/configs/model_v0/model_v0_011.yaml'\n",
    "yaml_path12 = '/Users/joaquinuriarte/Documents/GitHub/sports-betting/configs/model_v0/model_v0_012.yaml'\n",
    "yaml_path13 = '/Users/joaquinuriarte/Documents/GitHub/sports-betting/configs/model_v0/model_v0_013.yaml'\n",
    "yaml_path14 = '/Users/joaquinuriarte/Documents/GitHub/sports-betting/configs/model_v0/model_v0_014.yaml'\n",
    "yaml_path15 = '/Users/joaquinuriarte/Documents/GitHub/sports-betting/configs/model_v0/model_v0_015.yaml'\n",
    "yaml_path16 = '/Users/joaquinuriarte/Documents/GitHub/sports-betting/configs/model_v0/model_v0_016.yaml'\n",
    "yaml_path17 = '/Users/joaquinuriarte/Documents/GitHub/sports-betting/configs/model_v0/model_v0_017.yaml'\n",
    "yaml_paths = [yaml_path0, yaml_path1, yaml_path2, yaml_path3, yaml_path4, yaml_path5, yaml_path7, yaml_path8,\n",
    "yaml_path9, yaml_path11, yaml_path12, yaml_path13, yaml_path14, yaml_path15, yaml_path16, yaml_path17]\n",
    "\n",
    "\n",
    "checkpoint = '/Users/joaquinuriarte/Documents/GitHub/sports-betting/models'\n",
    "trainer = Trainer(checkpoint)\n",
    "predictor = Predictor()\n",
    "model_factory = ModelFactory()\n",
    "mm_configuration_loader = MMConfigLoader()\n",
    "print(\"# === STEP 1: Dependency Instantiations And Global Variable Declarations: Complete\")"
   ]
  },
  {
   "cell_type": "markdown",
   "id": "4a1c2254",
   "metadata": {},
   "source": [
    "Load Train, Val, and Test Datasets into Memory"
   ]
  },
  {
   "cell_type": "code",
   "execution_count": 3,
   "id": "77a23c84",
   "metadata": {},
   "outputs": [
    {
     "name": "stdout",
     "output_type": "stream",
     "text": [
      "Train dataset leaded to memory\n",
      "Val dataset leaded to memory\n"
     ]
    }
   ],
   "source": [
    "import pickle\n",
    "import os\n",
    "\n",
    "# File path to load train, test, and val datasets\n",
    "train_test_val_dataset_path = \"/Users/joaquinuriarte/Documents/GitHub/sports-betting/processed_datasets/model_v0\"\n",
    "\n",
    "train_dataset_path = train_test_val_dataset_path + \"/train.pkl\"\n",
    "val_dataset_path = train_test_val_dataset_path + \"/val.pkl\"\n",
    "# test_dataset_path = train_test_val_dataset_path + \"/test.pkl\"\n",
    "\n",
    "with open(train_dataset_path, \"rb\") as f:\n",
    "    train_dataset = pickle.load(f)\n",
    "    print(\"Train dataset leaded to memory\")\n",
    "with open(val_dataset_path, \"rb\") as f:\n",
    "    validation_dataset = pickle.load(f)\n",
    "    print(\"Val dataset leaded to memory\")\n",
    "# with open(test_dataset_path, \"rb\") as f:\n",
    "#     test_dataset = pickle.load(f)\n",
    "#     print(\"Test dataset leaded to memory\")"
   ]
  },
  {
   "cell_type": "markdown",
   "id": "feff0899",
   "metadata": {},
   "source": [
    "Create and Train Models"
   ]
  },
  {
   "cell_type": "code",
   "execution_count": 4,
   "id": "b66b2d17-0154-4ac7-b6e4-2388aaa130eb",
   "metadata": {},
   "outputs": [
    {
     "name": "stdout",
     "output_type": "stream",
     "text": [
      "# === STEP 4: MODEL MANAGER: Starting ...\n"
     ]
    }
   ],
   "source": [
    "# === STEP 4: MODEL MANAGER\n",
    "print(\"# === STEP 4: MODEL MANAGER: Starting ...\")\n",
    "model_manager = ModelManager(trainer, predictor, model_factory, mm_configuration_loader)\n",
    "models = model_manager.create_models([yaml_path17])"
   ]
  },
  {
   "cell_type": "code",
   "execution_count": 5,
   "id": "1fec0485",
   "metadata": {},
   "outputs": [
    {
     "data": {
      "text/plain": [
       "177"
      ]
     },
     "execution_count": 5,
     "metadata": {},
     "output_type": "execute_result"
    }
   ],
   "source": [
    "train_dataset.examples[0].features\n",
    "len(train_dataset.examples[0].features) # should be 177"
   ]
  },
  {
   "cell_type": "code",
   "execution_count": 6,
   "id": "3437639c-6666-4c76-a827-706148a9fa7f",
   "metadata": {},
   "outputs": [
    {
     "name": "stderr",
     "output_type": "stream",
     "text": [
      "INFO:root:Training model 'a141223cdff8e65162f8bbc75c6c3d96' for 20 epochs with batch size 32.\n"
     ]
    },
    {
     "name": "stdout",
     "output_type": "stream",
     "text": [
      "Epoch 1/20\n",
      "557/557 [==============================] - 4s 5ms/step - loss: 0.7028 - accuracy: 0.4726 - val_loss: 0.6792 - val_accuracy: 0.4108\n",
      "Epoch 2/20\n",
      "557/557 [==============================] - 2s 4ms/step - loss: 0.6813 - accuracy: 0.4782 - val_loss: 0.6702 - val_accuracy: 0.4509\n",
      "Epoch 3/20\n",
      "557/557 [==============================] - 2s 4ms/step - loss: 0.6756 - accuracy: 0.4920 - val_loss: 0.6689 - val_accuracy: 0.4485\n",
      "Epoch 4/20\n",
      "557/557 [==============================] - 2s 3ms/step - loss: 0.6727 - accuracy: 0.4937 - val_loss: 0.6690 - val_accuracy: 0.4215\n",
      "Epoch 5/20\n",
      "557/557 [==============================] - 2s 3ms/step - loss: 0.6698 - accuracy: 0.5027 - val_loss: 0.6661 - val_accuracy: 0.4954\n",
      "Epoch 6/20\n",
      "557/557 [==============================] - 2s 3ms/step - loss: 0.6680 - accuracy: 0.5128 - val_loss: 0.6696 - val_accuracy: 0.4441\n",
      "Epoch 7/20\n",
      "557/557 [==============================] - 2s 3ms/step - loss: 0.6692 - accuracy: 0.5019 - val_loss: 0.6720 - val_accuracy: 0.4152\n",
      "Epoch 8/20\n",
      "557/557 [==============================] - 2s 3ms/step - loss: 0.6679 - accuracy: 0.5146 - val_loss: 0.6679 - val_accuracy: 0.4469\n",
      "Epoch 9/20\n",
      "557/557 [==============================] - 2s 3ms/step - loss: 0.6669 - accuracy: 0.5152 - val_loss: 0.6685 - val_accuracy: 0.4462\n",
      "Epoch 10/20\n",
      "557/557 [==============================] - 2s 3ms/step - loss: 0.6660 - accuracy: 0.5151 - val_loss: 0.6666 - val_accuracy: 0.4868\n",
      "Epoch 11/20\n",
      "557/557 [==============================] - 2s 3ms/step - loss: 0.6669 - accuracy: 0.5165 - val_loss: 0.6682 - val_accuracy: 0.4370\n",
      "Epoch 12/20\n",
      "557/557 [==============================] - 2s 3ms/step - loss: 0.6656 - accuracy: 0.5191 - val_loss: 0.6687 - val_accuracy: 0.4354\n",
      "Epoch 13/20\n",
      "557/557 [==============================] - 2s 3ms/step - loss: 0.6648 - accuracy: 0.5243 - val_loss: 0.6660 - val_accuracy: 0.4763\n",
      "Epoch 14/20\n",
      "557/557 [==============================] - 2s 3ms/step - loss: 0.6643 - accuracy: 0.5293 - val_loss: 0.6669 - val_accuracy: 0.5064\n",
      "Epoch 15/20\n",
      "557/557 [==============================] - 2s 3ms/step - loss: 0.6635 - accuracy: 0.5279 - val_loss: 0.6665 - val_accuracy: 0.4532\n",
      "Epoch 16/20\n",
      "557/557 [==============================] - 2s 3ms/step - loss: 0.6640 - accuracy: 0.5282 - val_loss: 0.6652 - val_accuracy: 0.4983\n",
      "Epoch 17/20\n",
      "557/557 [==============================] - 2s 3ms/step - loss: 0.6626 - accuracy: 0.5325 - val_loss: 0.6657 - val_accuracy: 0.5153\n",
      "Epoch 18/20\n",
      "557/557 [==============================] - 2s 3ms/step - loss: 0.6639 - accuracy: 0.5357 - val_loss: 0.6650 - val_accuracy: 0.5214\n",
      "Epoch 19/20\n",
      "557/557 [==============================] - 2s 3ms/step - loss: 0.6632 - accuracy: 0.5323 - val_loss: 0.6660 - val_accuracy: 0.4766\n",
      "Epoch 20/20\n",
      "557/557 [==============================] - 2s 3ms/step - loss: 0.6633 - accuracy: 0.5412 - val_loss: 0.6653 - val_accuracy: 0.5007\n"
     ]
    },
    {
     "name": "stderr",
     "output_type": "stream",
     "text": [
      "INFO:root:Model 'a141223cdff8e65162f8bbc75c6c3d96': Finished training.\n"
     ]
    },
    {
     "name": "stdout",
     "output_type": "stream",
     "text": [
      "Model saved successfully at: models/a141223cdff8e65162f8bbc75c6c3d96/model_weights_a141223cdff8e65162f8bbc75c6c3d96.pth\n",
      "# === STEP 4: MODEL MANAGER: Complete\n"
     ]
    }
   ],
   "source": [
    "# If no val dataset, code requires to push None instead\n",
    "val_dataset = validation_dataset if validation_dataset is not None else None\n",
    "\n",
    "model_manager.train(models, [(train_dataset, val_dataset)], save_after_training=True)\n",
    "print(\"# === STEP 4: MODEL MANAGER: Complete\")"
   ]
  },
  {
   "cell_type": "code",
   "execution_count": 8,
   "id": "e247faa6",
   "metadata": {},
   "outputs": [
    {
     "name": "stdout",
     "output_type": "stream",
     "text": [
      "<modules.model_manager.implementations.tensorflow_model_v0.TensorFlowModelV0 object at 0x7fd1be42d880>\n"
     ]
    }
   ],
   "source": [
    "predictions = []\n",
    "for model in models:\n",
    "    print(model)\n",
    "    predictions.append(model.predict(validation_dataset.examples, return_target_labels=True))"
   ]
  },
  {
   "cell_type": "code",
   "execution_count": 9,
   "id": "4438f199",
   "metadata": {},
   "outputs": [
    {
     "name": "stdout",
     "output_type": "stream",
     "text": [
      "Accuracy on validation dataset: 0.6017815037987949\n",
      "1 Predictions: 3217 and total predictions: 3817\n"
     ]
    }
   ],
   "source": [
    "for df in predictions:\n",
    "    correct_predictions = (df['predictions'] == df['target_label']).sum()\n",
    "    total_predictions = len(df)\n",
    "    accuracy = correct_predictions / total_predictions\n",
    "    print(f\"Accuracy on validation dataset: {accuracy}\")\n",
    "\n",
    "    One_predictions = (df['predictions'] == 1).sum()\n",
    "    print(f\"1 Predictions: {One_predictions} and total predictions: {total_predictions}\")\n"
   ]
  },
  {
   "cell_type": "code",
   "execution_count": 10,
   "id": "0f043d26",
   "metadata": {},
   "outputs": [
    {
     "name": "stderr",
     "output_type": "stream",
     "text": [
      "UsageError: Line magic function `%tensorboard` not found.\n"
     ]
    }
   ],
   "source": [
    "%tensorboard --logdir logs/fit/a141223cdff8e65162f8bbc75c6c3d96"
   ]
  }
 ],
 "metadata": {
  "kernelspec": {
   "display_name": "Python 3.8.5 ('sports-betting': venv)",
   "language": "python",
   "name": "python3"
  },
  "language_info": {
   "codemirror_mode": {
    "name": "ipython",
    "version": 3
   },
   "file_extension": ".py",
   "mimetype": "text/x-python",
   "name": "python",
   "nbconvert_exporter": "python",
   "pygments_lexer": "ipython3",
   "version": "3.8.5"
  },
  "vscode": {
   "interpreter": {
    "hash": "42d1e72f09edad5b8341e1a78b673e0aa6929e61770b700654f70887e86e86ac"
   }
  }
 },
 "nbformat": 4,
 "nbformat_minor": 5
}
