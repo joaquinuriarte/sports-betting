{
 "cells": [
  {
   "cell_type": "code",
   "execution_count": 10,
   "metadata": {},
   "outputs": [],
   "source": [
    "######## Create, Train, and Predict Models\n",
    "\n",
    "# Loads train, test, and val datasets\n",
    "# Instantiates Models\n",
    "# Trains Models\n",
    "# Predicts using Models"
   ]
  },
  {
   "cell_type": "markdown",
   "id": "6b68658b",
   "metadata": {},
   "source": [
    "Import All Required Modules"
   ]
  },
  {
   "cell_type": "code",
   "execution_count": 1,
   "id": "251a0e8a-b944-4323-8731-207322906548",
   "metadata": {
    "collapsed": true,
    "jupyter": {
     "outputs_hidden": true
    }
   },
   "outputs": [
    {
     "name": "stderr",
     "output_type": "stream",
     "text": [
      "2025-01-31 16:53:34.506553: I tensorflow/core/platform/cpu_feature_guard.cc:182] This TensorFlow binary is optimized to use available CPU instructions in performance-critical operations.\n",
      "To enable the following instructions: AVX2 FMA, in other operations, rebuild TensorFlow with the appropriate compiler flags.\n"
     ]
    }
   ],
   "source": [
    "import sys\n",
    "\n",
    "# Manually add the project root to sys.path\n",
    "sys.path.append('/Users/joaquinuriarte/Documents/GitHub/sports-betting/')\n",
    "\n",
    "# === STEP 0: Imports\n",
    "from modules.model_manager.trainer.trainer import Trainer\n",
    "from modules.model_manager.predictor.predictor import Predictor\n",
    "from modules.model_manager.factories.model_factory import ModelFactory\n",
    "from modules.model_manager.helpers.configuration_loader import ConfigurationLoader as MMConfigLoader\n",
    "from modules.model_manager.model_manager import ModelManager\n",
    "from sklearn.model_selection import KFold\n",
    "from modules.data_structures.model_dataset import ModelDataset\n",
    "from model_binaries.utils.binary_utils import save_entity, load_entity, cross_val_train, compute_f1, graph_entity, assess_dataset_balance, evaluate_modelV01_predictions, plot_margin_distributions, swap_team_sides_in_dataset"
   ]
  },
  {
   "cell_type": "code",
   "execution_count": 2,
   "id": "eef0ca8d-4980-4561-8348-6ba966b8a785",
   "metadata": {},
   "outputs": [],
   "source": [
    "# === STEP 1: Dependency Instantiations And Global Variable Declarations\n",
    "\n",
    "## === MODEL MANAGER\n",
    "yaml_path0 = '/Users/joaquinuriarte/Documents/GitHub/sports-betting/configs/model_v1/model_v1_000.yaml'\n",
    "\n",
    "\n",
    "checkpoint = '/Users/joaquinuriarte/Documents/GitHub/sports-betting/models'\n",
    "trainer = Trainer(checkpoint)\n",
    "predictor = Predictor()\n",
    "model_factory = ModelFactory()\n",
    "mm_configuration_loader = MMConfigLoader()"
   ]
  },
  {
   "cell_type": "markdown",
   "id": "4a1c2254",
   "metadata": {},
   "source": [
    "Load Train Datasets into Memory"
   ]
  },
  {
   "cell_type": "code",
   "execution_count": 3,
   "id": "3bfa2836",
   "metadata": {},
   "outputs": [],
   "source": [
    "# File path to load train, test, and val datasets\n",
    "train_test_val_folder_path = \"/Users/joaquinuriarte/Documents/GitHub/sports-betting/processed_datasets/model_v1/scaler\""
   ]
  },
  {
   "cell_type": "markdown",
   "id": "76b2792c",
   "metadata": {},
   "source": [
    "Scale Inputs"
   ]
  },
  {
   "cell_type": "code",
   "execution_count": 4,
   "id": "77a23c84",
   "metadata": {},
   "outputs": [],
   "source": [
    "train_dataset = load_entity(train_test_val_folder_path, \"scaled_train.pkl\")\n",
    "validation_dataset = load_entity(train_test_val_folder_path, \"scaled_val.pkl\")"
   ]
  },
  {
   "cell_type": "markdown",
   "id": "993d5d4c",
   "metadata": {},
   "source": [
    "Shuffle Inputs"
   ]
  },
  {
   "cell_type": "code",
   "execution_count": 5,
   "id": "d52e9445",
   "metadata": {},
   "outputs": [],
   "source": [
    "randomized_train_dataset = swap_team_sides_in_dataset(train_dataset, team_a_prefix=\"A_\", team_b_prefix=\"B_\", label_a_name=\"final_score_A\", label_b_name=\"final_score_B\", add_home_feature=True, swap_probability=.5)\n",
    "randomized_val_dataset = swap_team_sides_in_dataset(validation_dataset, team_a_prefix=\"A_\", team_b_prefix=\"B_\", label_a_name=\"final_score_A\", label_b_name=\"final_score_B\", add_home_feature=True, swap_probability=.5)"
   ]
  },
  {
   "cell_type": "markdown",
   "id": "097369c1",
   "metadata": {},
   "source": [
    "Transform Output into Hot-Vector"
   ]
  },
  {
   "cell_type": "code",
   "execution_count": null,
   "id": "ac713a2a",
   "metadata": {},
   "outputs": [],
   "source": [
    "## Code"
   ]
  },
  {
   "cell_type": "markdown",
   "id": "9360d358",
   "metadata": {},
   "source": [
    "Load & Train on predefined trained and val datasets"
   ]
  },
  {
   "cell_type": "code",
   "execution_count": 6,
   "id": "1519f6a5",
   "metadata": {},
   "outputs": [],
   "source": [
    "# === STEP 4: MODEL MANAGER\n",
    "yamls = [yaml_path0]\n",
    "model_manager = ModelManager(trainer, predictor, model_factory, mm_configuration_loader)"
   ]
  },
  {
   "cell_type": "code",
   "execution_count": 7,
   "id": "114d1351",
   "metadata": {},
   "outputs": [],
   "source": [
    "models = model_manager.create_models(yamls)"
   ]
  },
  {
   "cell_type": "code",
   "execution_count": null,
   "id": "94cd3e75",
   "metadata": {},
   "outputs": [],
   "source": [
    "model_manager.train(models, [(randomized_train_dataset, randomized_val_dataset)], save_after_training=True)"
   ]
  },
  {
   "cell_type": "markdown",
   "id": "b9bb8d84",
   "metadata": {},
   "source": [
    "Assess Performance"
   ]
  },
  {
   "cell_type": "code",
   "execution_count": 11,
   "id": "cca30c2b",
   "metadata": {},
   "outputs": [],
   "source": [
    "predictions = models[0].predict(randomized_val_dataset.examples, return_target_labels=True)"
   ]
  },
  {
   "cell_type": "code",
   "execution_count": null,
   "id": "bbf730cb",
   "metadata": {},
   "outputs": [],
   "source": [
    "# Get all metrics for trained model on val dataset predictions\n",
    "metrics = evaluate_modelV01_predictions(predictions, \"final_score_A\", \"final_score_B\", \"target_final_score_A\", \"target_final_score_B\")\n",
    "metrics"
   ]
  },
  {
   "cell_type": "code",
   "execution_count": null,
   "id": "beec65ca",
   "metadata": {},
   "outputs": [],
   "source": [
    "plot_margin_distributions(predictions, \"final_score_A\", \"final_score_B\", \"target_final_score_A\", \"target_final_score_B\")"
   ]
  },
  {
   "cell_type": "code",
   "execution_count": null,
   "id": "47310e43",
   "metadata": {},
   "outputs": [],
   "source": [
    "# Graph distribution of predictions against labels \n",
    "graph_entity(predictions=predictions,bins=50)"
   ]
  },
  {
   "cell_type": "code",
   "execution_count": null,
   "id": "0eb20f60",
   "metadata": {},
   "outputs": [],
   "source": [
    "# Print actual predictions against labels\n",
    "predictions"
   ]
  },
  {
   "cell_type": "markdown",
   "id": "167876ad",
   "metadata": {},
   "source": [
    "Launch Tensorboard"
   ]
  },
  {
   "cell_type": "code",
   "execution_count": null,
   "id": "9dac7561",
   "metadata": {},
   "outputs": [],
   "source": [
    "%tensorboard --logdir=./logs"
   ]
  }
 ],
 "metadata": {
  "kernelspec": {
   "display_name": "Python 3.8.5 ('sports-betting': venv)",
   "language": "python",
   "name": "python3"
  },
  "language_info": {
   "codemirror_mode": {
    "name": "ipython",
    "version": 3
   },
   "file_extension": ".py",
   "mimetype": "text/x-python",
   "name": "python",
   "nbconvert_exporter": "python",
   "pygments_lexer": "ipython3",
   "version": "3.8.5"
  },
  "vscode": {
   "interpreter": {
    "hash": "42d1e72f09edad5b8341e1a78b673e0aa6929e61770b700654f70887e86e86ac"
   }
  }
 },
 "nbformat": 4,
 "nbformat_minor": 5
}
