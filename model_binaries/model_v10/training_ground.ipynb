{
 "cells": [
  {
   "cell_type": "code",
   "execution_count": 1,
   "metadata": {},
   "outputs": [],
   "source": [
    "######## Create, Train, and Predict Models\n",
    "\n",
    "# Loads train, test, and val datasets\n",
    "# Instantiates Models\n",
    "# Trains Models\n",
    "# Predicts using Models"
   ]
  },
  {
   "cell_type": "markdown",
   "id": "6b68658b",
   "metadata": {},
   "source": [
    "Import All Required Modules"
   ]
  },
  {
   "cell_type": "code",
   "execution_count": 11,
   "id": "251a0e8a-b944-4323-8731-207322906548",
   "metadata": {
    "collapsed": true,
    "jupyter": {
     "outputs_hidden": true
    }
   },
   "outputs": [],
   "source": [
    "import sys\n",
    "\n",
    "# Manually add the project root to sys.path\n",
    "sys.path.append('/Users/joaquinuriarte/Documents/GitHub/sports-betting/')\n",
    "\n",
    "# === STEP 0: Imports\n",
    "from modules.model_manager.trainer.trainer import Trainer\n",
    "from modules.model_manager.predictor.predictor import Predictor\n",
    "from modules.model_manager.factories.model_factory import ModelFactory\n",
    "from modules.model_manager.helpers.configuration_loader import ConfigurationLoader as MMConfigLoader\n",
    "from modules.model_manager.model_manager import ModelManager\n",
    "from sklearn.model_selection import KFold\n",
    "from modules.data_structures.model_dataset import ModelDataset\n",
    "from model_binaries.utils.binary_utils import save_entity, load_entity, cross_val_train, compute_f1, get_subset"
   ]
  },
  {
   "cell_type": "code",
   "execution_count": 12,
   "id": "eef0ca8d-4980-4561-8348-6ba966b8a785",
   "metadata": {},
   "outputs": [],
   "source": [
    "# === STEP 1: Dependency Instantiations And Global Variable Declarations\n",
    "\n",
    "## === MODEL MANAGER\n",
    "yaml_path0 = '/Users/joaquinuriarte/Documents/GitHub/sports-betting/configs/model_v10/model_v10_000.yaml'\n",
    "yaml_paths = [yaml_path0]\n",
    "\n",
    "\n",
    "checkpoint = '/Users/joaquinuriarte/Documents/GitHub/sports-betting/models'\n",
    "trainer = Trainer(checkpoint)\n",
    "predictor = Predictor()\n",
    "model_factory = ModelFactory()\n",
    "mm_configuration_loader = MMConfigLoader()"
   ]
  },
  {
   "cell_type": "markdown",
   "id": "4a1c2254",
   "metadata": {},
   "source": [
    "Load Train into Memory"
   ]
  },
  {
   "cell_type": "code",
   "execution_count": 3,
   "id": "fce64e6e",
   "metadata": {},
   "outputs": [],
   "source": [
    "# File path to load train, test, and val datasets\n",
    "train_test_val_folder_path = \"/Users/joaquinuriarte/Documents/GitHub/sports-betting/processed_datasets/model_v10\""
   ]
  },
  {
   "cell_type": "code",
   "execution_count": 4,
   "id": "77a23c84",
   "metadata": {},
   "outputs": [],
   "source": [
    "train_dataset = load_entity(train_test_val_folder_path, \"scaled_train.pkl\")\n",
    "val_dataset = load_entity(train_test_val_folder_path, \"scaled_val.pkl\")\n",
    "test_dataset = load_entity(train_test_val_folder_path, \"scaled_test.pkl\")"
   ]
  },
  {
   "cell_type": "markdown",
   "id": "feff0899",
   "metadata": {},
   "source": [
    "Create and Train Models"
   ]
  },
  {
   "cell_type": "code",
   "execution_count": 5,
   "id": "af8cad9f",
   "metadata": {},
   "outputs": [],
   "source": [
    "reduced_train_set = get_subset(train_dataset, 500)"
   ]
  },
  {
   "cell_type": "code",
   "execution_count": 6,
   "id": "ad93a13b",
   "metadata": {},
   "outputs": [],
   "source": [
    "# === STEP 4: MODEL MANAGER\n",
    "yamls = [yaml_path0]\n",
    "model_manager = ModelManager(trainer, predictor, model_factory, mm_configuration_loader)"
   ]
  },
  {
   "cell_type": "code",
   "execution_count": 10,
   "id": "da8e6904",
   "metadata": {},
   "outputs": [
    {
     "name": "stderr",
     "output_type": "stream",
     "text": [
      "INFO:root:Training model '5105f8d3f5191ed990dc61ad415280a1' for 50 epochs with batch size 32.\n"
     ]
    },
    {
     "name": "stdout",
     "output_type": "stream",
     "text": [
      "Epoch 1/50\n",
      "16/16 [==============================] - 3s 45ms/step - loss: 0.8645 - accuracy: 0.4640 - precision: 0.6343 - recall: 0.3524 - auc: 0.5125 - val_loss: 0.7084 - val_accuracy: 0.5373 - val_precision: 0.5638 - val_recall: 0.6922 - val_auc: 0.5285 - lr: 0.0010\n",
      "Epoch 2/50\n",
      "16/16 [==============================] - 0s 22ms/step - loss: 0.4237 - accuracy: 0.7460 - precision: 0.9476 - recall: 0.6317 - auc: 0.8546 - val_loss: 0.7026 - val_accuracy: 0.5118 - val_precision: 0.5613 - val_recall: 0.5047 - val_auc: 0.5197 - lr: 0.0010\n",
      "Epoch 3/50\n",
      "16/16 [==============================] - 0s 19ms/step - loss: 0.2878 - accuracy: 0.8740 - precision: 0.9922 - recall: 0.8063 - auc: 0.9625 - val_loss: 0.6984 - val_accuracy: 0.4705 - val_precision: 0.5387 - val_recall: 0.2441 - val_auc: 0.5114 - lr: 0.0010\n",
      "Epoch 4/50\n",
      "16/16 [==============================] - 0s 28ms/step - loss: 0.2056 - accuracy: 0.9460 - precision: 1.0000 - recall: 0.9143 - auc: 0.9802 - val_loss: 0.6999 - val_accuracy: 0.4733 - val_precision: 0.5481 - val_recall: 0.2283 - val_auc: 0.5180 - lr: 0.0010\n",
      "Epoch 5/50\n",
      "16/16 [==============================] - 0s 21ms/step - loss: 0.1507 - accuracy: 0.9760 - precision: 1.0000 - recall: 0.9619 - auc: 0.9936 - val_loss: 0.7024 - val_accuracy: 0.4859 - val_precision: 0.5675 - val_recall: 0.2649 - val_auc: 0.5205 - lr: 0.0010\n",
      "Epoch 6/50\n",
      "16/16 [==============================] - 0s 24ms/step - loss: 0.1023 - accuracy: 0.9960 - precision: 1.0000 - recall: 0.9937 - auc: 0.9984 - val_loss: 0.7085 - val_accuracy: 0.4804 - val_precision: 0.5695 - val_recall: 0.2169 - val_auc: 0.5234 - lr: 0.0010\n",
      "Epoch 7/50\n",
      "16/16 [==============================] - 0s 22ms/step - loss: 0.0799 - accuracy: 0.9940 - precision: 1.0000 - recall: 0.9905 - auc: 1.0000 - val_loss: 0.7198 - val_accuracy: 0.4760 - val_precision: 0.5609 - val_recall: 0.2076 - val_auc: 0.5239 - lr: 0.0010\n",
      "Epoch 8/50\n",
      "16/16 [==============================] - 0s 21ms/step - loss: 0.0608 - accuracy: 1.0000 - precision: 1.0000 - recall: 1.0000 - auc: 1.0000 - val_loss: 0.7313 - val_accuracy: 0.4886 - val_precision: 0.5753 - val_recall: 0.2598 - val_auc: 0.5230 - lr: 0.0010\n",
      "Epoch 9/50\n",
      "16/16 [==============================] - 0s 21ms/step - loss: 0.0575 - accuracy: 0.9960 - precision: 1.0000 - recall: 0.9937 - auc: 1.0000 - val_loss: 0.7418 - val_accuracy: 0.5012 - val_precision: 0.5837 - val_recall: 0.3171 - val_auc: 0.5246 - lr: 0.0010\n",
      "Epoch 10/50\n",
      "16/16 [==============================] - 0s 16ms/step - loss: 0.0430 - accuracy: 0.9960 - precision: 1.0000 - recall: 0.9937 - auc: 0.9968 - val_loss: 0.7588 - val_accuracy: 0.4973 - val_precision: 0.5800 - val_recall: 0.3035 - val_auc: 0.5251 - lr: 0.0010\n",
      "Epoch 11/50\n",
      "16/16 [==============================] - 0s 20ms/step - loss: 0.0328 - accuracy: 0.9980 - precision: 1.0000 - recall: 0.9968 - auc: 1.0000 - val_loss: 0.7716 - val_accuracy: 0.4957 - val_precision: 0.5786 - val_recall: 0.2978 - val_auc: 0.5246 - lr: 1.0000e-04\n",
      "Epoch 12/50\n",
      "16/16 [==============================] - 0s 21ms/step - loss: 0.0328 - accuracy: 1.0000 - precision: 1.0000 - recall: 1.0000 - auc: 1.0000 - val_loss: 0.7850 - val_accuracy: 0.4965 - val_precision: 0.5795 - val_recall: 0.2999 - val_auc: 0.5287 - lr: 1.0000e-04\n",
      "Epoch 13/50\n",
      "16/16 [==============================] - 0s 31ms/step - loss: 0.0350 - accuracy: 1.0000 - precision: 1.0000 - recall: 1.0000 - auc: 1.0000 - val_loss: 0.7983 - val_accuracy: 0.4969 - val_precision: 0.5777 - val_recall: 0.3085 - val_auc: 0.5263 - lr: 1.0000e-04\n",
      "Epoch 14/50\n",
      "16/16 [==============================] - 1s 32ms/step - loss: 0.0400 - accuracy: 1.0000 - precision: 1.0000 - recall: 1.0000 - auc: 1.0000 - val_loss: 0.8120 - val_accuracy: 0.4953 - val_precision: 0.5724 - val_recall: 0.3171 - val_auc: 0.5265 - lr: 1.0000e-04\n",
      "Epoch 15/50\n",
      "16/16 [==============================] - 0s 19ms/step - loss: 0.0388 - accuracy: 0.9980 - precision: 1.0000 - recall: 0.9968 - auc: 1.0000 - val_loss: 0.8260 - val_accuracy: 0.5012 - val_precision: 0.5781 - val_recall: 0.3364 - val_auc: 0.5259 - lr: 1.0000e-04\n",
      "Epoch 16/50\n",
      "16/16 [==============================] - 0s 24ms/step - loss: 0.0355 - accuracy: 0.9980 - precision: 1.0000 - recall: 0.9968 - auc: 0.9984 - val_loss: 0.8390 - val_accuracy: 0.5075 - val_precision: 0.5829 - val_recall: 0.3601 - val_auc: 0.5259 - lr: 1.0000e-04\n",
      "Epoch 17/50\n",
      "16/16 [==============================] - 0s 19ms/step - loss: 0.0307 - accuracy: 0.9960 - precision: 1.0000 - recall: 0.9937 - auc: 1.0000 - val_loss: 0.8527 - val_accuracy: 0.5067 - val_precision: 0.5776 - val_recall: 0.3758 - val_auc: 0.5273 - lr: 1.0000e-04\n",
      "Epoch 18/50\n",
      "16/16 [==============================] - 0s 18ms/step - loss: 0.0272 - accuracy: 1.0000 - precision: 1.0000 - recall: 1.0000 - auc: 1.0000 - val_loss: 0.8652 - val_accuracy: 0.5110 - val_precision: 0.5787 - val_recall: 0.4001 - val_auc: 0.5254 - lr: 1.0000e-05\n",
      "Epoch 19/50\n",
      "16/16 [==============================] - 0s 17ms/step - loss: 0.0291 - accuracy: 1.0000 - precision: 1.0000 - recall: 1.0000 - auc: 1.0000 - val_loss: 0.8784 - val_accuracy: 0.5063 - val_precision: 0.5688 - val_recall: 0.4145 - val_auc: 0.5251 - lr: 1.0000e-05\n",
      "Epoch 20/50\n",
      "16/16 [==============================] - 0s 17ms/step - loss: 0.0353 - accuracy: 0.9960 - precision: 1.0000 - recall: 0.9937 - auc: 1.0000 - val_loss: 0.8915 - val_accuracy: 0.5114 - val_precision: 0.5718 - val_recall: 0.4359 - val_auc: 0.5252 - lr: 1.0000e-05\n",
      "Epoch 21/50\n",
      "16/16 [==============================] - 0s 23ms/step - loss: 0.0357 - accuracy: 0.9960 - precision: 1.0000 - recall: 0.9937 - auc: 1.0000 - val_loss: 0.9055 - val_accuracy: 0.5169 - val_precision: 0.5748 - val_recall: 0.4596 - val_auc: 0.5242 - lr: 1.0000e-05\n",
      "Epoch 22/50\n",
      "16/16 [==============================] - 1s 33ms/step - loss: 0.0370 - accuracy: 0.9980 - precision: 1.0000 - recall: 0.9968 - auc: 0.9984 - val_loss: 0.9201 - val_accuracy: 0.5169 - val_precision: 0.5716 - val_recall: 0.4775 - val_auc: 0.5251 - lr: 1.0000e-05\n",
      "Epoch 23/50\n",
      "16/16 [==============================] - 0s 21ms/step - loss: 0.0328 - accuracy: 1.0000 - precision: 1.0000 - recall: 1.0000 - auc: 1.0000 - val_loss: 0.9357 - val_accuracy: 0.5196 - val_precision: 0.5717 - val_recall: 0.4968 - val_auc: 0.5253 - lr: 1.0000e-05\n",
      "Epoch 24/50\n",
      "16/16 [==============================] - 0s 15ms/step - loss: 0.0333 - accuracy: 1.0000 - precision: 1.0000 - recall: 1.0000 - auc: 1.0000 - val_loss: 0.9522 - val_accuracy: 0.5212 - val_precision: 0.5706 - val_recall: 0.5147 - val_auc: 0.5255 - lr: 1.0000e-05\n",
      "Epoch 25/50\n",
      "16/16 [==============================] - 0s 16ms/step - loss: 0.0305 - accuracy: 1.0000 - precision: 1.0000 - recall: 1.0000 - auc: 1.0000 - val_loss: 0.9682 - val_accuracy: 0.5236 - val_precision: 0.5703 - val_recall: 0.5340 - val_auc: 0.5256 - lr: 1.0000e-06\n",
      "Epoch 26/50\n",
      "16/16 [==============================] - 0s 14ms/step - loss: 0.0330 - accuracy: 0.9960 - precision: 1.0000 - recall: 0.9937 - auc: 1.0000 - val_loss: 0.9856 - val_accuracy: 0.5224 - val_precision: 0.5672 - val_recall: 0.5469 - val_auc: 0.5224 - lr: 1.0000e-06\n",
      "Epoch 27/50\n",
      "16/16 [==============================] - 0s 16ms/step - loss: 0.0342 - accuracy: 1.0000 - precision: 1.0000 - recall: 1.0000 - auc: 1.0000 - val_loss: 1.0035 - val_accuracy: 0.5255 - val_precision: 0.5681 - val_recall: 0.5641 - val_auc: 0.5234 - lr: 1.0000e-06\n",
      "Epoch 28/50\n",
      "16/16 [==============================] - 0s 15ms/step - loss: 0.0330 - accuracy: 1.0000 - precision: 1.0000 - recall: 1.0000 - auc: 1.0000 - val_loss: 1.0201 - val_accuracy: 0.5314 - val_precision: 0.5718 - val_recall: 0.5812 - val_auc: 0.5250 - lr: 1.0000e-06\n",
      "Epoch 29/50\n",
      "16/16 [==============================] - 0s 15ms/step - loss: 0.0366 - accuracy: 1.0000 - precision: 1.0000 - recall: 1.0000 - auc: 1.0000 - val_loss: 1.0362 - val_accuracy: 0.5291 - val_precision: 0.5688 - val_recall: 0.5855 - val_auc: 0.5260 - lr: 1.0000e-06\n",
      "Epoch 30/50\n",
      "16/16 [==============================] - 0s 15ms/step - loss: 0.0322 - accuracy: 0.9980 - precision: 1.0000 - recall: 0.9968 - auc: 1.0000 - val_loss: 1.0513 - val_accuracy: 0.5302 - val_precision: 0.5687 - val_recall: 0.5956 - val_auc: 0.5244 - lr: 1.0000e-06\n",
      "Epoch 31/50\n",
      "16/16 [==============================] - 0s 13ms/step - loss: 0.0260 - accuracy: 1.0000 - precision: 1.0000 - recall: 1.0000 - auc: 1.0000 - val_loss: 1.0658 - val_accuracy: 0.5310 - val_precision: 0.5685 - val_recall: 0.6027 - val_auc: 0.5231 - lr: 1.0000e-06\n",
      "Epoch 32/50\n",
      "16/16 [==============================] - 0s 14ms/step - loss: 0.0318 - accuracy: 1.0000 - precision: 1.0000 - recall: 1.0000 - auc: 1.0000 - val_loss: 1.0796 - val_accuracy: 0.5302 - val_precision: 0.5668 - val_recall: 0.6106 - val_auc: 0.5219 - lr: 1.0000e-07\n",
      "Epoch 33/50\n",
      "16/16 [==============================] - 0s 12ms/step - loss: 0.0313 - accuracy: 1.0000 - precision: 1.0000 - recall: 1.0000 - auc: 1.0000 - val_loss: 1.0933 - val_accuracy: 0.5322 - val_precision: 0.5676 - val_recall: 0.6192 - val_auc: 0.5226 - lr: 1.0000e-07\n",
      "Epoch 34/50\n",
      "16/16 [==============================] - 0s 12ms/step - loss: 0.0387 - accuracy: 0.9940 - precision: 1.0000 - recall: 0.9905 - auc: 0.9984 - val_loss: 1.1056 - val_accuracy: 0.5322 - val_precision: 0.5667 - val_recall: 0.6263 - val_auc: 0.5217 - lr: 1.0000e-07\n",
      "Epoch 35/50\n",
      "16/16 [==============================] - 0s 13ms/step - loss: 0.0312 - accuracy: 1.0000 - precision: 1.0000 - recall: 1.0000 - auc: 1.0000 - val_loss: 1.1175 - val_accuracy: 0.5346 - val_precision: 0.5681 - val_recall: 0.6328 - val_auc: 0.5198 - lr: 1.0000e-07\n",
      "Epoch 36/50\n",
      "16/16 [==============================] - 0s 13ms/step - loss: 0.0306 - accuracy: 1.0000 - precision: 1.0000 - recall: 1.0000 - auc: 1.0000 - val_loss: 1.1283 - val_accuracy: 0.5342 - val_precision: 0.5672 - val_recall: 0.6371 - val_auc: 0.5201 - lr: 1.0000e-07\n",
      "Epoch 37/50\n",
      "16/16 [==============================] - 0s 29ms/step - loss: 0.0359 - accuracy: 1.0000 - precision: 1.0000 - recall: 1.0000 - auc: 1.0000 - val_loss: 1.1389 - val_accuracy: 0.5346 - val_precision: 0.5671 - val_recall: 0.6414 - val_auc: 0.5206 - lr: 1.0000e-07\n",
      "Epoch 38/50\n",
      "16/16 [==============================] - 0s 19ms/step - loss: 0.0398 - accuracy: 0.9960 - precision: 0.9968 - recall: 0.9968 - auc: 1.0000 - val_loss: 1.1468 - val_accuracy: 0.5326 - val_precision: 0.5649 - val_recall: 0.6450 - val_auc: 0.5191 - lr: 1.0000e-07\n",
      "Epoch 39/50\n",
      "16/16 [==============================] - 0s 15ms/step - loss: 0.0307 - accuracy: 1.0000 - precision: 1.0000 - recall: 1.0000 - auc: 1.0000 - val_loss: 1.1553 - val_accuracy: 0.5353 - val_precision: 0.5666 - val_recall: 0.6514 - val_auc: 0.5209 - lr: 1.0000e-08\n",
      "Epoch 40/50\n",
      "16/16 [==============================] - 0s 25ms/step - loss: 0.0320 - accuracy: 0.9980 - precision: 1.0000 - recall: 0.9968 - auc: 1.0000 - val_loss: 1.1623 - val_accuracy: 0.5334 - val_precision: 0.5646 - val_recall: 0.6535 - val_auc: 0.5218 - lr: 1.0000e-08\n",
      "Epoch 41/50\n",
      "16/16 [==============================] - 0s 17ms/step - loss: 0.0333 - accuracy: 1.0000 - precision: 1.0000 - recall: 1.0000 - auc: 1.0000 - val_loss: 1.1694 - val_accuracy: 0.5350 - val_precision: 0.5652 - val_recall: 0.6607 - val_auc: 0.5218 - lr: 1.0000e-08\n",
      "Epoch 42/50\n",
      "16/16 [==============================] - 0s 30ms/step - loss: 0.0306 - accuracy: 1.0000 - precision: 1.0000 - recall: 1.0000 - auc: 1.0000 - val_loss: 1.1744 - val_accuracy: 0.5350 - val_precision: 0.5651 - val_recall: 0.6614 - val_auc: 0.5216 - lr: 1.0000e-08\n",
      "Epoch 43/50\n",
      "16/16 [==============================] - 0s 19ms/step - loss: 0.0374 - accuracy: 0.9920 - precision: 1.0000 - recall: 0.9873 - auc: 0.9984 - val_loss: 1.1770 - val_accuracy: 0.5369 - val_precision: 0.5665 - val_recall: 0.6643 - val_auc: 0.5219 - lr: 1.0000e-08\n",
      "Epoch 44/50\n",
      "16/16 [==============================] - 0s 16ms/step - loss: 0.0285 - accuracy: 0.9980 - precision: 1.0000 - recall: 0.9968 - auc: 1.0000 - val_loss: 1.1810 - val_accuracy: 0.5357 - val_precision: 0.5653 - val_recall: 0.6657 - val_auc: 0.5210 - lr: 1.0000e-08\n",
      "Epoch 45/50\n",
      "16/16 [==============================] - 0s 18ms/step - loss: 0.0401 - accuracy: 0.9980 - precision: 1.0000 - recall: 0.9968 - auc: 1.0000 - val_loss: 1.1871 - val_accuracy: 0.5350 - val_precision: 0.5644 - val_recall: 0.6686 - val_auc: 0.5211 - lr: 1.0000e-08\n",
      "Epoch 46/50\n",
      "16/16 [==============================] - 0s 21ms/step - loss: 0.0315 - accuracy: 1.0000 - precision: 1.0000 - recall: 1.0000 - auc: 1.0000 - val_loss: 1.1887 - val_accuracy: 0.5365 - val_precision: 0.5656 - val_recall: 0.6700 - val_auc: 0.5217 - lr: 1.0000e-09\n",
      "Epoch 47/50\n",
      "16/16 [==============================] - 0s 18ms/step - loss: 0.0389 - accuracy: 0.9940 - precision: 1.0000 - recall: 0.9905 - auc: 0.9984 - val_loss: 1.1931 - val_accuracy: 0.5353 - val_precision: 0.5645 - val_recall: 0.6700 - val_auc: 0.5217 - lr: 1.0000e-09\n",
      "Epoch 48/50\n",
      "16/16 [==============================] - 0s 23ms/step - loss: 0.0313 - accuracy: 0.9980 - precision: 1.0000 - recall: 0.9968 - auc: 1.0000 - val_loss: 1.1950 - val_accuracy: 0.5361 - val_precision: 0.5651 - val_recall: 0.6707 - val_auc: 0.5209 - lr: 1.0000e-09\n",
      "Epoch 49/50\n",
      "16/16 [==============================] - 0s 22ms/step - loss: 0.0296 - accuracy: 1.0000 - precision: 1.0000 - recall: 1.0000 - auc: 1.0000 - val_loss: 1.1974 - val_accuracy: 0.5365 - val_precision: 0.5654 - val_recall: 0.6714 - val_auc: 0.5206 - lr: 1.0000e-09\n",
      "Epoch 50/50\n",
      "16/16 [==============================] - 0s 18ms/step - loss: 0.0279 - accuracy: 1.0000 - precision: 1.0000 - recall: 1.0000 - auc: 1.0000 - val_loss: 1.1989 - val_accuracy: 0.5365 - val_precision: 0.5655 - val_recall: 0.6707 - val_auc: 0.5205 - lr: 1.0000e-09\n"
     ]
    },
    {
     "name": "stderr",
     "output_type": "stream",
     "text": [
      "INFO:root:Model '5105f8d3f5191ed990dc61ad415280a1': Finished training.\n"
     ]
    },
    {
     "name": "stdout",
     "output_type": "stream",
     "text": [
      "Model saved successfully at: models/5105f8d3f5191ed990dc61ad415280a1/model_weights_5105f8d3f5191ed990dc61ad415280a1.pth\n"
     ]
    }
   ],
   "source": [
    "models = model_manager.create_models(yamls)\n",
    "model_manager.train(models, [(reduced_train_set, val_dataset)], save_after_training=True)"
   ]
  },
  {
   "cell_type": "markdown",
   "id": "1a36082f",
   "metadata": {},
   "source": [
    "Assess"
   ]
  },
  {
   "cell_type": "markdown",
   "id": "4b0c318c",
   "metadata": {},
   "source": [
    "Launch Tensorboard"
   ]
  },
  {
   "cell_type": "code",
   "execution_count": 10,
   "id": "0f043d26",
   "metadata": {},
   "outputs": [
    {
     "name": "stderr",
     "output_type": "stream",
     "text": [
      "UsageError: Line magic function `%tensorboard` not found.\n"
     ]
    }
   ],
   "source": [
    "%tensorboard --logdir=./logs"
   ]
  }
 ],
 "metadata": {
  "kernelspec": {
   "display_name": "Python 3.8.5 ('sports-betting': venv)",
   "language": "python",
   "name": "python3"
  },
  "language_info": {
   "codemirror_mode": {
    "name": "ipython",
    "version": 3
   },
   "file_extension": ".py",
   "mimetype": "text/x-python",
   "name": "python",
   "nbconvert_exporter": "python",
   "pygments_lexer": "ipython3",
   "version": "3.8.5"
  },
  "vscode": {
   "interpreter": {
    "hash": "42d1e72f09edad5b8341e1a78b673e0aa6929e61770b700654f70887e86e86ac"
   }
  }
 },
 "nbformat": 4,
 "nbformat_minor": 5
}
