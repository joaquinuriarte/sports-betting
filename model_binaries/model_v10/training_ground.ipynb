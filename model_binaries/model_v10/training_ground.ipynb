{
 "cells": [
  {
   "cell_type": "code",
   "execution_count": 1,
   "metadata": {},
   "outputs": [],
   "source": [
    "######## Create, Train, and Predict Models\n",
    "\n",
    "# Loads train, test, and val datasets\n",
    "# Instantiates Models\n",
    "# Trains Models\n",
    "# Predicts using Models"
   ]
  },
  {
   "cell_type": "markdown",
   "id": "6b68658b",
   "metadata": {},
   "source": [
    "Import All Required Modules"
   ]
  },
  {
   "cell_type": "code",
   "execution_count": 1,
   "id": "251a0e8a-b944-4323-8731-207322906548",
   "metadata": {
    "collapsed": true,
    "jupyter": {
     "outputs_hidden": true
    }
   },
   "outputs": [
    {
     "name": "stderr",
     "output_type": "stream",
     "text": [
      "2025-02-10 07:57:26.978511: I tensorflow/core/platform/cpu_feature_guard.cc:182] This TensorFlow binary is optimized to use available CPU instructions in performance-critical operations.\n",
      "To enable the following instructions: AVX2 FMA, in other operations, rebuild TensorFlow with the appropriate compiler flags.\n"
     ]
    }
   ],
   "source": [
    "import sys\n",
    "\n",
    "# Manually add the project root to sys.path\n",
    "sys.path.append('/Users/joaquinuriarte/Documents/GitHub/sports-betting/')\n",
    "\n",
    "# === STEP 0: Imports\n",
    "from modules.model_manager.trainer.trainer import Trainer\n",
    "from modules.model_manager.predictor.predictor import Predictor\n",
    "from modules.model_manager.factories.model_factory import ModelFactory\n",
    "from modules.model_manager.helpers.configuration_loader import ConfigurationLoader as MMConfigLoader\n",
    "from modules.model_manager.model_manager import ModelManager\n",
    "from sklearn.model_selection import KFold\n",
    "from modules.data_structures.model_dataset import ModelDataset\n",
    "from model_binaries.utils.binary_utils import save_entity, load_entity, cross_val_train, compute_f1, get_subset, assess_dataset_balance"
   ]
  },
  {
   "cell_type": "code",
   "execution_count": 2,
   "id": "eef0ca8d-4980-4561-8348-6ba966b8a785",
   "metadata": {},
   "outputs": [],
   "source": [
    "# === STEP 1: Dependency Instantiations And Global Variable Declarations\n",
    "\n",
    "## === MODEL MANAGER\n",
    "yaml_path0 = '/Users/joaquinuriarte/Documents/GitHub/sports-betting/configs/model_v10/model_v10_005.yaml'\n",
    "yaml_paths = [yaml_path0]\n",
    "\n",
    "\n",
    "checkpoint = '/Users/joaquinuriarte/Documents/GitHub/sports-betting/models'\n",
    "trainer = Trainer(checkpoint)\n",
    "predictor = Predictor()\n",
    "model_factory = ModelFactory()\n",
    "mm_configuration_loader = MMConfigLoader()"
   ]
  },
  {
   "cell_type": "markdown",
   "id": "4a1c2254",
   "metadata": {},
   "source": [
    "Load Train into Memory"
   ]
  },
  {
   "cell_type": "code",
   "execution_count": 3,
   "id": "fce64e6e",
   "metadata": {},
   "outputs": [],
   "source": [
    "# File path to load train, test, and val datasets\n",
    "train_test_val_folder_path = \"/Users/joaquinuriarte/Documents/GitHub/sports-betting/processed_datasets/model_v10\""
   ]
  },
  {
   "cell_type": "code",
   "execution_count": 4,
   "id": "77a23c84",
   "metadata": {},
   "outputs": [],
   "source": [
    "train_dataset = load_entity(train_test_val_folder_path, \"scaled_train.pkl\")\n",
    "val_dataset = load_entity(train_test_val_folder_path, \"scaled_val.pkl\")\n",
    "test_dataset = load_entity(train_test_val_folder_path, \"scaled_test.pkl\")"
   ]
  },
  {
   "cell_type": "code",
   "execution_count": 5,
   "id": "488ef38c",
   "metadata": {},
   "outputs": [
    {
     "name": "stdout",
     "output_type": "stream",
     "text": [
      "\n",
      "Column: 'Team_A_Wins'\n",
      "  - Number of 1.0s: 12175 (59.76%)\n",
      "  - Number of 0.0s: 8197 (40.24%)\n"
     ]
    }
   ],
   "source": [
    "assess_dataset_balance(train_dataset, [\"Team_A_Wins\"])\n",
    "\n",
    "class_weight = {0: .84, 1: 1.24}"
   ]
  },
  {
   "cell_type": "markdown",
   "id": "feff0899",
   "metadata": {},
   "source": [
    "Create and Train Models"
   ]
  },
  {
   "cell_type": "code",
   "execution_count": 9,
   "id": "ad93a13b",
   "metadata": {},
   "outputs": [],
   "source": [
    "# === STEP 4: MODEL MANAGER\n",
    "yamls = [yaml_path0]\n",
    "model_manager = ModelManager(trainer, predictor, model_factory, mm_configuration_loader)"
   ]
  },
  {
   "cell_type": "code",
   "execution_count": 10,
   "id": "da8e6904",
   "metadata": {},
   "outputs": [
    {
     "name": "stderr",
     "output_type": "stream",
     "text": [
      "INFO:root:Training model 'ef7773b6db527f63885350a90cbe5ebc' for 20000 epochs with batch size 32.\n"
     ]
    },
    {
     "name": "stdout",
     "output_type": "stream",
     "text": [
      "Epoch 1/20000\n",
      "637/637 [==============================] - 4s 4ms/step - loss: 0.6987 - accuracy: 0.5439 - precision: 0.6183 - recall: 0.6186 - auc: 0.5351 - val_loss: 0.7157 - val_accuracy: 0.5601 - val_precision: 0.5783 - val_recall: 0.7323 - val_auc: 0.5546 - lr: 0.0010\n",
      "Epoch 2/20000\n",
      "637/637 [==============================] - 2s 3ms/step - loss: 0.6611 - accuracy: 0.5914 - precision: 0.6312 - recall: 0.7612 - auc: 0.5849 - val_loss: 0.7196 - val_accuracy: 0.5672 - val_precision: 0.5794 - val_recall: 0.7702 - val_auc: 0.5640 - lr: 0.0010\n",
      "Epoch 3/20000\n",
      "637/637 [==============================] - 2s 3ms/step - loss: 0.6552 - accuracy: 0.6060 - precision: 0.6406 - recall: 0.7763 - auc: 0.5998 - val_loss: 0.7221 - val_accuracy: 0.5715 - val_precision: 0.5799 - val_recall: 0.7953 - val_auc: 0.5615 - lr: 0.0010\n",
      "Epoch 4/20000\n",
      "637/637 [==============================] - 2s 3ms/step - loss: 0.6506 - accuracy: 0.6129 - precision: 0.6426 - recall: 0.7936 - auc: 0.6122 - val_loss: 0.7154 - val_accuracy: 0.5601 - val_precision: 0.5771 - val_recall: 0.7423 - val_auc: 0.5657 - lr: 0.0010\n",
      "Epoch 5/20000\n",
      "637/637 [==============================] - 2s 3ms/step - loss: 0.6477 - accuracy: 0.6158 - precision: 0.6506 - recall: 0.7717 - auc: 0.6220 - val_loss: 0.7222 - val_accuracy: 0.5617 - val_precision: 0.5812 - val_recall: 0.7201 - val_auc: 0.5707 - lr: 0.0010\n",
      "Epoch 6/20000\n",
      "637/637 [==============================] - 2s 3ms/step - loss: 0.6439 - accuracy: 0.6217 - precision: 0.6567 - recall: 0.7690 - auc: 0.6296 - val_loss: 0.7322 - val_accuracy: 0.5495 - val_precision: 0.5690 - val_recall: 0.7380 - val_auc: 0.5486 - lr: 0.0010\n",
      "Epoch 7/20000\n",
      "637/637 [==============================] - 2s 3ms/step - loss: 0.6368 - accuracy: 0.6286 - precision: 0.6614 - recall: 0.7754 - auc: 0.6445 - val_loss: 0.7454 - val_accuracy: 0.5479 - val_precision: 0.5685 - val_recall: 0.7309 - val_auc: 0.5500 - lr: 0.0010\n",
      "Epoch 8/20000\n",
      "637/637 [==============================] - 2s 3ms/step - loss: 0.6335 - accuracy: 0.6306 - precision: 0.6677 - recall: 0.7600 - auc: 0.6472 - val_loss: 0.7307 - val_accuracy: 0.5416 - val_precision: 0.5715 - val_recall: 0.6578 - val_auc: 0.5460 - lr: 0.0010\n",
      "Epoch 9/20000\n",
      "637/637 [==============================] - 2s 3ms/step - loss: 0.6247 - accuracy: 0.6495 - precision: 0.6827 - recall: 0.7726 - auc: 0.6667 - val_loss: 0.7442 - val_accuracy: 0.5483 - val_precision: 0.5712 - val_recall: 0.7094 - val_auc: 0.5446 - lr: 0.0010\n",
      "Epoch 10/20000\n",
      "637/637 [==============================] - 2s 3ms/step - loss: 0.6181 - accuracy: 0.6483 - precision: 0.6840 - recall: 0.7651 - auc: 0.6736 - val_loss: 0.7618 - val_accuracy: 0.5471 - val_precision: 0.5713 - val_recall: 0.6994 - val_auc: 0.5403 - lr: 0.0010\n",
      "Epoch 11/20000\n",
      "637/637 [==============================] - 2s 3ms/step - loss: 0.6107 - accuracy: 0.6564 - precision: 0.6926 - recall: 0.7644 - auc: 0.6829 - val_loss: 0.7673 - val_accuracy: 0.5330 - val_precision: 0.5642 - val_recall: 0.6543 - val_auc: 0.5279 - lr: 0.0010\n",
      "Epoch 12/20000\n",
      "637/637 [==============================] - 2s 3ms/step - loss: 0.5878 - accuracy: 0.6857 - precision: 0.7191 - recall: 0.7781 - auc: 0.7181 - val_loss: 0.7697 - val_accuracy: 0.5322 - val_precision: 0.5656 - val_recall: 0.6356 - val_auc: 0.5347 - lr: 1.0000e-04\n",
      "Epoch 13/20000\n",
      "637/637 [==============================] - 2s 4ms/step - loss: 0.5818 - accuracy: 0.6861 - precision: 0.7208 - recall: 0.7748 - auc: 0.7237 - val_loss: 0.7771 - val_accuracy: 0.5318 - val_precision: 0.5648 - val_recall: 0.6399 - val_auc: 0.5355 - lr: 1.0000e-04\n",
      "Epoch 14/20000\n",
      "637/637 [==============================] - 2s 3ms/step - loss: 0.5754 - accuracy: 0.6905 - precision: 0.7260 - recall: 0.7744 - auc: 0.7314 - val_loss: 0.7892 - val_accuracy: 0.5338 - val_precision: 0.5660 - val_recall: 0.6450 - val_auc: 0.5366 - lr: 1.0000e-04\n",
      "Epoch 15/20000\n",
      "637/637 [==============================] - 2s 3ms/step - loss: 0.5697 - accuracy: 0.6989 - precision: 0.7336 - recall: 0.7791 - auc: 0.7370 - val_loss: 0.7963 - val_accuracy: 0.5353 - val_precision: 0.5683 - val_recall: 0.6371 - val_auc: 0.5334 - lr: 1.0000e-04\n",
      "Epoch 16/20000\n",
      "637/637 [==============================] - 2s 3ms/step - loss: 0.5734 - accuracy: 0.6951 - precision: 0.7301 - recall: 0.7771 - auc: 0.7303 - val_loss: 0.7977 - val_accuracy: 0.5346 - val_precision: 0.5682 - val_recall: 0.6321 - val_auc: 0.5342 - lr: 1.0000e-04\n"
     ]
    },
    {
     "name": "stderr",
     "output_type": "stream",
     "text": [
      "INFO:root:Model 'ef7773b6db527f63885350a90cbe5ebc': Finished training.\n"
     ]
    },
    {
     "name": "stdout",
     "output_type": "stream",
     "text": [
      "Model saved successfully at: models/ef7773b6db527f63885350a90cbe5ebc/model_weights_ef7773b6db527f63885350a90cbe5ebc.pth\n"
     ]
    }
   ],
   "source": [
    "models = model_manager.create_models(yamls)\n",
    "model_manager.train(models, [(train_dataset, val_dataset)], save_after_training=True)"
   ]
  },
  {
   "cell_type": "markdown",
   "id": "1a36082f",
   "metadata": {},
   "source": [
    "Assess"
   ]
  },
  {
   "cell_type": "code",
   "execution_count": 11,
   "id": "fc5495db",
   "metadata": {},
   "outputs": [],
   "source": [
    "predictions = models[0].predict(val_dataset.examples, return_target_labels=True)"
   ]
  },
  {
   "cell_type": "code",
   "execution_count": 12,
   "id": "12d4dbda",
   "metadata": {},
   "outputs": [
    {
     "data": {
      "text/html": [
       "<div>\n",
       "<style scoped>\n",
       "    .dataframe tbody tr th:only-of-type {\n",
       "        vertical-align: middle;\n",
       "    }\n",
       "\n",
       "    .dataframe tbody tr th {\n",
       "        vertical-align: top;\n",
       "    }\n",
       "\n",
       "    .dataframe thead th {\n",
       "        text-align: right;\n",
       "    }\n",
       "</style>\n",
       "<table border=\"1\" class=\"dataframe\">\n",
       "  <thead>\n",
       "    <tr style=\"text-align: right;\">\n",
       "      <th></th>\n",
       "      <th>predictions</th>\n",
       "      <th>target_label</th>\n",
       "    </tr>\n",
       "  </thead>\n",
       "  <tbody>\n",
       "    <tr>\n",
       "      <th>0</th>\n",
       "      <td>1.0</td>\n",
       "      <td>0.0</td>\n",
       "    </tr>\n",
       "    <tr>\n",
       "      <th>1</th>\n",
       "      <td>0.0</td>\n",
       "      <td>1.0</td>\n",
       "    </tr>\n",
       "    <tr>\n",
       "      <th>2</th>\n",
       "      <td>1.0</td>\n",
       "      <td>1.0</td>\n",
       "    </tr>\n",
       "    <tr>\n",
       "      <th>3</th>\n",
       "      <td>1.0</td>\n",
       "      <td>1.0</td>\n",
       "    </tr>\n",
       "    <tr>\n",
       "      <th>4</th>\n",
       "      <td>1.0</td>\n",
       "      <td>0.0</td>\n",
       "    </tr>\n",
       "    <tr>\n",
       "      <th>...</th>\n",
       "      <td>...</td>\n",
       "      <td>...</td>\n",
       "    </tr>\n",
       "    <tr>\n",
       "      <th>2541</th>\n",
       "      <td>1.0</td>\n",
       "      <td>1.0</td>\n",
       "    </tr>\n",
       "    <tr>\n",
       "      <th>2542</th>\n",
       "      <td>1.0</td>\n",
       "      <td>0.0</td>\n",
       "    </tr>\n",
       "    <tr>\n",
       "      <th>2543</th>\n",
       "      <td>0.0</td>\n",
       "      <td>0.0</td>\n",
       "    </tr>\n",
       "    <tr>\n",
       "      <th>2544</th>\n",
       "      <td>1.0</td>\n",
       "      <td>1.0</td>\n",
       "    </tr>\n",
       "    <tr>\n",
       "      <th>2545</th>\n",
       "      <td>1.0</td>\n",
       "      <td>1.0</td>\n",
       "    </tr>\n",
       "  </tbody>\n",
       "</table>\n",
       "<p>2546 rows × 2 columns</p>\n",
       "</div>"
      ],
      "text/plain": [
       "      predictions  target_label\n",
       "0             1.0           0.0\n",
       "1             0.0           1.0\n",
       "2             1.0           1.0\n",
       "3             1.0           1.0\n",
       "4             1.0           0.0\n",
       "...           ...           ...\n",
       "2541          1.0           1.0\n",
       "2542          1.0           0.0\n",
       "2543          0.0           0.0\n",
       "2544          1.0           1.0\n",
       "2545          1.0           1.0\n",
       "\n",
       "[2546 rows x 2 columns]"
      ]
     },
     "execution_count": 12,
     "metadata": {},
     "output_type": "execute_result"
    }
   ],
   "source": [
    "predictions"
   ]
  },
  {
   "cell_type": "code",
   "execution_count": 13,
   "id": "31155f1c",
   "metadata": {},
   "outputs": [
    {
     "data": {
      "image/png": "[encoded data removed]",
      "text/plain": [
       "<Figure size 2000x1500 with 2 Axes>"
      ]
     },
     "metadata": {},
     "output_type": "display_data"
    }
   ],
   "source": [
    "%matplotlib inline\n",
    "import matplotlib.pyplot as plt\n",
    "predictions.hist(bins=50, figsize=(20,15))\n",
    "plt.show()"
   ]
  },
  {
   "cell_type": "markdown",
   "id": "4b0c318c",
   "metadata": {},
   "source": [
    "Launch Tensorboard"
   ]
  },
  {
   "cell_type": "code",
   "execution_count": 89,
   "id": "42b202ba",
   "metadata": {},
   "outputs": [
    {
     "name": "stdout",
     "output_type": "stream",
     "text": [
      "The tensorboard extension is already loaded. To reload it, use:\n",
      "  %reload_ext tensorboard\n"
     ]
    }
   ],
   "source": [
    "%load_ext tensorboard"
   ]
  },
  {
   "cell_type": "code",
   "execution_count": 114,
   "id": "b7a83c7d",
   "metadata": {},
   "outputs": [
    {
     "name": "stdout",
     "output_type": "stream",
     "text": [
      "/bin/bash: line 0: kill: (6006) - No such process\n"
     ]
    }
   ],
   "source": [
    "!kill 6006"
   ]
  },
  {
   "cell_type": "code",
   "execution_count": 112,
   "id": "a80a8532",
   "metadata": {},
   "outputs": [],
   "source": [
    "%reload_ext tensorboard"
   ]
  },
  {
   "cell_type": "code",
   "execution_count": 113,
   "id": "0f043d26",
   "metadata": {},
   "outputs": [
    {
     "data": {
      "text/plain": [
       "Reusing TensorBoard on port 6006 (pid 12220), started 8:50:27 ago. (Use '!kill 12220' to kill it.)"
      ]
     },
     "metadata": {},
     "output_type": "display_data"
    },
    {
     "data": {
      "text/html": [
       "\n",
       "      <iframe id=\"tensorboard-frame-d12a46f99d050777\" width=\"100%\" height=\"800\" frameborder=\"0\">\n",
       "      </iframe>\n",
       "      <script>\n",
       "        (function() {\n",
       "          const frame = document.getElementById(\"tensorboard-frame-d12a46f99d050777\");\n",
       "          const url = new URL(\"http://localhost\");\n",
       "          const port = 6006;\n",
       "          if (port) {\n",
       "            url.port = port;\n",
       "          }\n",
       "          frame.src = url;\n",
       "        })();\n",
       "      </script>\n",
       "    "
      ],
      "text/plain": [
       "<IPython.core.display.HTML object>"
      ]
     },
     "metadata": {},
     "output_type": "display_data"
    }
   ],
   "source": [
    "%tensorboard --logdir=./logs"
   ]
  }
 ],
 "metadata": {
  "kernelspec": {
   "display_name": "Python 3.8.5 ('sports-betting': venv)",
   "language": "python",
   "name": "python3"
  },
  "language_info": {
   "codemirror_mode": {
    "name": "ipython",
    "version": 3
   },
   "file_extension": ".py",
   "mimetype": "text/x-python",
   "name": "python",
   "nbconvert_exporter": "python",
   "pygments_lexer": "ipython3",
   "version": "3.8.5"
  },
  "vscode": {
   "interpreter": {
    "hash": "42d1e72f09edad5b8341e1a78b673e0aa6929e61770b700654f70887e86e86ac"
   }
  }
 },
 "nbformat": 4,
 "nbformat_minor": 5
}
